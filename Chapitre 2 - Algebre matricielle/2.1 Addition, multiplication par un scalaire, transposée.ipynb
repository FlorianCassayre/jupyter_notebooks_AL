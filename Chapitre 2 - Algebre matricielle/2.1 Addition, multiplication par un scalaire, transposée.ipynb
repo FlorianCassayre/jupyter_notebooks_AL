{
 "cells": [
  {
   "cell_type": "markdown",
   "metadata": {},
   "source": [
    "# **Concept(s)-clé(s) et théorie**\n",
    "\n",
    "L'*ensemble des matrices* de tailles $m\\times n$ à coefficients réels se note\n",
    "$$M_{m\\times n}(\\mathbb{R}).$$\n",
    "\n",
    "\n",
    "\n",
    "Soient deux matrices $A,B\\in M_{m\\times n}(\\mathbb{R})$ et $\\lambda\\in\\mathbb{R}$ on définit:\n",
    "\n",
    "$\\bullet \\hskip.5em A+B\\in M_{m\\times n}(\\mathbb{R})$ par\n",
    "$$(A+B)_{ij}=A_{ij}+B_{ij},$$ pour tout $1≤i≤m$ et tout $1≤j≤n$;\n",
    "\n",
    "$\\bullet \\hskip.5em\\lambda A\\in M_{m\\times n}(\\mathbb{R})$ par\n",
    "$$(\\lambda A)_{ij}=\\lambda A_{ij},$$\n",
    "pour tout $1≤i≤m$ et tout $1≤j≤n$;\n",
    "\n",
    "$\\bullet\\hskip.5em$ la transposée de $A$, notée $A^T$, par\n",
    "$$(A^T)_{ij}=A_{ji},$$\n",
    "pour tout $1≤i≤n$ et tout $1≤j≤m$. Il est important de remarquer que $A^T\\in M_{n\\times m}(\\mathbb{R})$ dans cette situation."
   ]
  },
  {
   "cell_type": "code",
   "execution_count": 1,
   "metadata": {},
   "outputs": [
    {
     "data": {
      "text/html": [
       "        <script type=\"text/javascript\">\n",
       "        window.PlotlyConfig = {MathJaxConfig: 'local'};\n",
       "        if (window.MathJax) {MathJax.Hub.Config({SVG: {font: \"STIX-Web\"}});}\n",
       "        if (typeof require !== 'undefined') {\n",
       "        require.undef(\"plotly\");\n",
       "        requirejs.config({\n",
       "            paths: {\n",
       "                'plotly': ['https://cdn.plot.ly/plotly-latest.min']\n",
       "            }\n",
       "        });\n",
       "        require(['plotly'], function(Plotly) {\n",
       "            window._Plotly = Plotly;\n",
       "        });\n",
       "        }\n",
       "        </script>\n",
       "        "
      ]
     },
     "metadata": {},
     "output_type": "display_data"
    },
    {
     "data": {
      "text/html": [
       "        <script type=\"text/javascript\">\n",
       "        window.PlotlyConfig = {MathJaxConfig: 'local'};\n",
       "        if (window.MathJax) {MathJax.Hub.Config({SVG: {font: \"STIX-Web\"}});}\n",
       "        if (typeof require !== 'undefined') {\n",
       "        require.undef(\"plotly\");\n",
       "        requirejs.config({\n",
       "            paths: {\n",
       "                'plotly': ['https://cdn.plot.ly/plotly-latest.min']\n",
       "            }\n",
       "        });\n",
       "        require(['plotly'], function(Plotly) {\n",
       "            window._Plotly = Plotly;\n",
       "        });\n",
       "        }\n",
       "        </script>\n",
       "        "
      ]
     },
     "metadata": {},
     "output_type": "display_data"
    }
   ],
   "source": [
    "import Librairie.AL_Fct as al\n",
    "import Corrections.corrections as corrections"
   ]
  },
  {
   "cell_type": "markdown",
   "metadata": {},
   "source": [
    "### **Exercice 1**\n",
    "\n",
    "Rentrer les tailles de la transposée de la matrice ci-dessous."
   ]
  },
  {
   "cell_type": "code",
   "execution_count": 2,
   "metadata": {},
   "outputs": [
    {
     "data": {
      "text/latex": [
       "$\\left(\\begin{array}{cccccc}  49 & 9 & 89 & -24 & -86 & 52 \\\\-1 & 61 & -58 & 56 & 13 & 60 \\\\88 & 61 & 33 & 55 & 37 & 95 \\\\12 & 20 & 37 & -93 & -19 & -35 \\\\2 & 15 & -91 & 56 & 46 & 25 \\\\-92 & -44 & 4 & -53 & -76 & 58 \\\\48 & -42 & 7 & -56 & 95 & 29 \\\\-52 & -84 & 24 & 93 & -3 & -97 \\\\-86 & 26 & -65 & -23 & 73 & 83  \\end{array}\\right)$"
      ],
      "text/plain": [
       "<IPython.core.display.Latex object>"
      ]
     },
     "metadata": {},
     "output_type": "display_data"
    }
   ],
   "source": [
    "A=al.randomA()"
   ]
  },
  {
   "cell_type": "code",
   "execution_count": 3,
   "metadata": {},
   "outputs": [
    {
     "data": {
      "application/vnd.jupyter.widget-view+json": {
       "model_id": "4186e811e90947b88a1a32936501e0a9",
       "version_major": 2,
       "version_minor": 0
      },
      "text/plain": [
       "IntText(value=1, description='m:')"
      ]
     },
     "metadata": {},
     "output_type": "display_data"
    },
    {
     "data": {
      "application/vnd.jupyter.widget-view+json": {
       "model_id": "41bd109dbb46417994a693b1acc06e00",
       "version_major": 2,
       "version_minor": 0
      },
      "text/plain": [
       "IntText(value=1, description='n:')"
      ]
     },
     "metadata": {},
     "output_type": "display_data"
    },
    {
     "data": {
      "application/vnd.jupyter.widget-view+json": {
       "model_id": "9db4215005dc400e82738cbd2c726eab",
       "version_major": 2,
       "version_minor": 0
      },
      "text/plain": [
       "interactive(children=(Button(description='Run Interact', style=ButtonStyle()), Output()), _dom_classes=('widge…"
      ]
     },
     "metadata": {},
     "output_type": "display_data"
    }
   ],
   "source": [
    "al.dimensionA(A.transpose())"
   ]
  },
  {
   "cell_type": "markdown",
   "metadata": {},
   "source": [
    "### **Exercice 2**\n",
    "\n",
    "Soient $A,B\\in M_{4\\times 2}(\\mathbb{R})$ données par\n",
    "$$\n",
    "A=\\begin{pmatrix}\n",
    "1 & -12 \\\\\n",
    "6 & 4\\\\\n",
    "-5 & 2\\\\\n",
    "0 & -2\n",
    "\\end{pmatrix}\\hskip2em\n",
    "B=\\begin{pmatrix}\n",
    "0 & 4\\\\\n",
    "-2 & -1\\\\\n",
    "1 & -1\\\\\n",
    "1 & 3\n",
    "\\end{pmatrix}\n",
    "$$\n",
    "\n",
    "Cocher la proposition qui est correcte."
   ]
  },
  {
   "cell_type": "code",
   "execution_count": 4,
   "metadata": {},
   "outputs": [
    {
     "data": {
      "application/vnd.jupyter.widget-view+json": {
       "model_id": "a2c4ecd05c844b3ba2aaf3c8ebcf4ce7",
       "version_major": 2,
       "version_minor": 0
      },
      "text/plain": [
       "interactive(children=(Checkbox(value=False, description='Il existe \\\\(\\\\lambda\\\\in \\\\mathbb{R}\\\\) tel que \\\\((…"
      ]
     },
     "metadata": {},
     "output_type": "display_data"
    }
   ],
   "source": [
    "corrections.Ex2Chapitre2_1()"
   ]
  },
  {
   "cell_type": "markdown",
   "metadata": {},
   "source": [
    "### **Exercice 3**\n",
    "\n",
    "Soient $A,B\\in M_{4\\times 2}(\\mathbb{R})$ données par\n",
    "$$\n",
    "A=\\begin{pmatrix}\n",
    "1 & -12 \\\\\n",
    "6 & 4\\\\\n",
    "-5 & 2\\\\\n",
    "0 & -2\n",
    "\\end{pmatrix}\\hskip2em\n",
    "B=\\begin{pmatrix}\n",
    "0 & 4\\\\\n",
    "-2 & -1\\\\\n",
    "1 & -1\\\\\n",
    "1 & 3\n",
    "\\end{pmatrix}\n",
    "$$\n",
    "\n",
    "Soit $C$ donnée par $C=(3(-2A^T) + (-2B)^T)^T$. \n",
    "\n",
    "Alors $C_{32}$vaut"
   ]
  },
  {
   "cell_type": "code",
   "execution_count": 5,
   "metadata": {},
   "outputs": [
    {
     "data": {
      "application/vnd.jupyter.widget-view+json": {
       "model_id": "6794d2bab22a4a329c79b9d93a45aaa9",
       "version_major": 2,
       "version_minor": 0
      },
      "text/plain": [
       "interactive(children=(Checkbox(value=False, description='\\\\(C_{32}\\\\) vaut -14', layout=Layout(height='30px', …"
      ]
     },
     "metadata": {},
     "output_type": "display_data"
    }
   ],
   "source": [
    "corrections.Ex3Chapitre2_1()"
   ]
  },
  {
   "cell_type": "markdown",
   "metadata": {},
   "source": [
    "[Passez au notebook du chapitre 2.2: Multiplication de matrices](./2.2%20Multiplication%20de%20matrices.ipynb)"
   ]
  }
 ],
 "metadata": {
  "kernelspec": {
   "display_name": "Python 3",
   "language": "python",
   "name": "python3"
  },
  "language_info": {
   "codemirror_mode": {
    "name": "ipython",
    "version": 3
   },
   "file_extension": ".py",
   "mimetype": "text/x-python",
   "name": "python",
   "nbconvert_exporter": "python",
   "pygments_lexer": "ipython3",
   "version": "3.7.4"
  }
 },
 "nbformat": 4,
 "nbformat_minor": 4
}
