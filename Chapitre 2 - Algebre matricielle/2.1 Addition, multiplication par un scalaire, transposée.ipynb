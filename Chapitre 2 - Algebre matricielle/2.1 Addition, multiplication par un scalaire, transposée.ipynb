{
 "cells": [
  {
   "cell_type": "markdown",
   "metadata": {},
   "source": [
    "# **Concept(s)-clé(s) et théorie**\n",
    "\n",
    "L'*ensemble des matrices* de tailles $m\\times n$ à coefficients réels se note $\\mathcal{M}_{m\\times n}(\\mathbb{R}).$\n",
    "\n",
    "On rappelle que pour une matrice $A\\in \\mathcal{M}_{m\\times n}(\\mathbb{R})$ on a $A=(a_{ij})$ avec $1\\leq i \\leq m$ et $1\\leq j\\leq n$. On utilise aussi $(A)_{ij}$ pour dénoter la composante $a_{ij}$ de la matrice $A$.\n",
    "\n",
    "\n",
    "\n",
    "Soient deux matrices $A,B\\in \\mathcal{M}_{m\\times n}(\\mathbb{R})$ et soit un scalaire $\\lambda\\in\\mathbb{R}$ on définit:\n",
    "\n",
    "$\\bullet$ l'addition $\\hskip.5em A+B\\in \\mathcal{M}_{m\\times n}(\\mathbb{R})$ par\n",
    "$$(A+B)_{ij}=a_{ij}+b_{ij},$$ pour tout $1\\leq i\\leq m$ et tout $1\\leq j \\leq n$;\n",
    "\n",
    "$\\bullet$ la multiplication par un scalaire $\\hskip.5em\\lambda A\\in \\mathcal{M}_{m\\times n}(\\mathbb{R})$ par\n",
    "$$(\\lambda A)_{ij}=\\lambda a_{ij},$$\n",
    "pour tout $1\\leq i\\leq m$ et tout $1\\leq j \\leq n$;\n",
    "\n",
    "\n",
    "\n",
    "On peut définir la transposée de $A$, que l'on note $A^T$, par\n",
    "$$(A^T)_{ij}=a_{ji},$$\n",
    "pour tout $1\\leq i\\leq m$ et tout $1\\leq j \\leq n$. On remarque que $A^T\\in \\mathcal{M}_{n\\times m}(\\mathbb{R})$ dans cette situation."
   ]
  },
  {
   "cell_type": "code",
   "execution_count": 1,
   "metadata": {},
   "outputs": [
    {
     "data": {
      "text/html": [
       "        <script type=\"text/javascript\">\n",
       "        window.PlotlyConfig = {MathJaxConfig: 'local'};\n",
       "        if (window.MathJax) {MathJax.Hub.Config({SVG: {font: \"STIX-Web\"}});}\n",
       "        if (typeof require !== 'undefined') {\n",
       "        require.undef(\"plotly\");\n",
       "        requirejs.config({\n",
       "            paths: {\n",
       "                'plotly': ['https://cdn.plot.ly/plotly-latest.min']\n",
       "            }\n",
       "        });\n",
       "        require(['plotly'], function(Plotly) {\n",
       "            window._Plotly = Plotly;\n",
       "        });\n",
       "        }\n",
       "        </script>\n",
       "        "
      ]
     },
     "metadata": {},
     "output_type": "display_data"
    },
    {
     "data": {
      "text/html": [
       "        <script type=\"text/javascript\">\n",
       "        window.PlotlyConfig = {MathJaxConfig: 'local'};\n",
       "        if (window.MathJax) {MathJax.Hub.Config({SVG: {font: \"STIX-Web\"}});}\n",
       "        if (typeof require !== 'undefined') {\n",
       "        require.undef(\"plotly\");\n",
       "        requirejs.config({\n",
       "            paths: {\n",
       "                'plotly': ['https://cdn.plot.ly/plotly-latest.min']\n",
       "            }\n",
       "        });\n",
       "        require(['plotly'], function(Plotly) {\n",
       "            window._Plotly = Plotly;\n",
       "        });\n",
       "        }\n",
       "        </script>\n",
       "        "
      ]
     },
     "metadata": {},
     "output_type": "display_data"
    }
   ],
   "source": [
    "import Librairie.AL_Fct as al\n",
    "import Corrections.corrections as corrections"
   ]
  },
  {
   "cell_type": "markdown",
   "metadata": {},
   "source": [
    "### **Exercice 1**\n",
    "\n",
    "Trouver la dimension de la **Transposée de la matrice** donnée ci-dessous en remplissant les deux champs dans lesquels vous pouvez rentrer une valeur pour $m$ et $n$. \n",
    "\n",
    "Vérifier en cliquant sur **Run Interact**"
   ]
  },
  {
   "cell_type": "code",
   "execution_count": 2,
   "metadata": {},
   "outputs": [
    {
     "data": {
      "text/latex": [
       "$\\left(\\begin{array}{cccccc}  5 & 2 & 18 & 35 & 23 & 93 \\\\-24 & -71 & -38 & 58 & -28 & 68  \\end{array}\\right)$"
      ],
      "text/plain": [
       "<IPython.core.display.Latex object>"
      ]
     },
     "metadata": {},
     "output_type": "display_data"
    }
   ],
   "source": [
    "A=al.randomA()"
   ]
  },
  {
   "cell_type": "code",
   "execution_count": 3,
   "metadata": {},
   "outputs": [
    {
     "data": {
      "application/vnd.jupyter.widget-view+json": {
       "model_id": "43d1984827e048348f76def503c8831d",
       "version_major": 2,
       "version_minor": 0
      },
      "text/plain": [
       "IntText(value=1, description='m:')"
      ]
     },
     "metadata": {},
     "output_type": "display_data"
    },
    {
     "data": {
      "application/vnd.jupyter.widget-view+json": {
       "model_id": "af17da56fdad4ba4b872a2b1a2883915",
       "version_major": 2,
       "version_minor": 0
      },
      "text/plain": [
       "IntText(value=1, description='n:')"
      ]
     },
     "metadata": {},
     "output_type": "display_data"
    },
    {
     "data": {
      "application/vnd.jupyter.widget-view+json": {
       "model_id": "2f502e8cf0544c6e9c0ba213ad6c27f1",
       "version_major": 2,
       "version_minor": 0
      },
      "text/plain": [
       "interactive(children=(Button(description='Run Interact', style=ButtonStyle()), Output()), _dom_classes=('widge…"
      ]
     },
     "metadata": {},
     "output_type": "display_data"
    }
   ],
   "source": [
    "al.dimensionA(A.transpose())"
   ]
  },
  {
   "cell_type": "markdown",
   "metadata": {},
   "source": [
    "### **Exercice 2**\n",
    "\n",
    "Soient $A,B\\in \\mathcal{M}_{4\\times 2}(\\mathbb{R})$ données par\n",
    "$$\n",
    "A=\\begin{pmatrix}\n",
    "1 & -12 \\\\\n",
    "6 & 4\\\\\n",
    "-5 & 2\\\\\n",
    "0 & -2\n",
    "\\end{pmatrix}\\hskip2em\n",
    "B=\\begin{pmatrix}\n",
    "0 & 4\\\\\n",
    "-2 & -1\\\\\n",
    "1 & -1\\\\\n",
    "1 & 3\n",
    "\\end{pmatrix}\n",
    "$$\n",
    "\n",
    "Cocher la proposition qui est correcte."
   ]
  },
  {
   "cell_type": "code",
   "execution_count": null,
   "metadata": {},
   "outputs": [],
   "source": [
    "corrections.Ex2Chapitre2_1()"
   ]
  },
  {
   "cell_type": "markdown",
   "metadata": {},
   "source": [
    "### **Exercice 3**\n",
    "\n",
    "Soient $A,B\\in \\mathcal{M}_{4\\times 2}(\\mathbb{R})$ données par\n",
    "$$\n",
    "A=\\begin{pmatrix}\n",
    "1 & -12 \\\\\n",
    "6 & 4\\\\\n",
    "-5 & 2\\\\\n",
    "0 & -2\n",
    "\\end{pmatrix}\\hskip2em\n",
    "B=\\begin{pmatrix}\n",
    "0 & 4\\\\\n",
    "-2 & -1\\\\\n",
    "1 & -1\\\\\n",
    "1 & 3\n",
    "\\end{pmatrix}\n",
    "$$\n",
    "\n",
    "Soit $C$ donnée par $C=(3(-2A^T) + (-2B)^T)^T$. \n",
    "\n",
    "Alors $C_{32}$vaut"
   ]
  },
  {
   "cell_type": "code",
   "execution_count": null,
   "metadata": {},
   "outputs": [],
   "source": [
    "corrections.Ex3Chapitre2_1()"
   ]
  },
  {
   "cell_type": "markdown",
   "metadata": {},
   "source": [
    "[Passez au notebook du chapitre 2.2: Multiplication de matrices](./2.2%20Multiplication%20de%20matrices.ipynb)"
   ]
  }
 ],
 "metadata": {
  "kernelspec": {
   "display_name": "Python 3",
   "language": "python",
   "name": "python3"
  },
  "language_info": {
   "codemirror_mode": {
    "name": "ipython",
    "version": 3
   },
   "file_extension": ".py",
   "mimetype": "text/x-python",
   "name": "python",
   "nbconvert_exporter": "python",
   "pygments_lexer": "ipython3",
   "version": "3.6.9"
  }
 },
 "nbformat": 4,
 "nbformat_minor": 4
}
