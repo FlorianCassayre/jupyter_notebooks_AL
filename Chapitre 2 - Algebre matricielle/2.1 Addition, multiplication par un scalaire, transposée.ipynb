{
 "cells": [
  {
   "cell_type": "markdown",
   "metadata": {},
   "source": [
    "# **Concept(s)-clé(s) et théorie**\n",
    "\n",
    "L'*ensemble des matrices* de tailles $m\\times n$ à coefficients réels se note\n",
    "$$M_{m\\times n}(\\mathbb{R}).$$\n",
    "\n",
    "\n",
    "\n",
    "Soient deux matrices $A,B\\in M_{m\\times n}(\\mathbb{R})$ et $\\lambda\\in\\mathbb{R}$ on définit:\n",
    "\n",
    "$\\bullet \\hskip.5em A+B\\in M_{m\\times n}(\\mathbb{R})$ par\n",
    "$$(A+B)_{ij}=A_{ij}+B_{ij},$$ pour tout $1≤i≤m$ et tout $1≤j≤n$;\n",
    "\n",
    "$\\bullet \\hskip.5em\\lambda A\\in M_{m\\times n}(\\mathbb{R})$ par\n",
    "$$(\\lambda A)_{ij}=\\lambda A_{ij},$$\n",
    "pour tout $1≤i≤m$ et tout $1≤j≤n$;\n",
    "\n",
    "$\\bullet\\hskip.5em$ la transposée de $A$, notée $A^T$, par\n",
    "$$(A^T)_{ij}=A_{ji},$$\n",
    "pour tout $1≤i≤n$ et tout $1≤j≤m$. Il est important de remarquer que $A^T\\in M_{n\\times m}(\\mathbb{R})$ dans cette situation."
   ]
  },
  {
   "cell_type": "code",
   "execution_count": null,
   "metadata": {},
   "outputs": [],
   "source": [
    "import Librairie.AL_Fct as al\n",
    "import Corrections.corrections as corrections"
   ]
  },
  {
   "cell_type": "markdown",
   "metadata": {},
   "source": [
    "### **Exercice 1**\n",
    "\n",
    "Rentrer les tailles de la transposée de la matrice ci-dessous."
   ]
  },
  {
   "cell_type": "code",
   "execution_count": null,
   "metadata": {},
   "outputs": [],
   "source": [
    "A=al.randomA()"
   ]
  },
  {
   "cell_type": "code",
   "execution_count": null,
   "metadata": {},
   "outputs": [],
   "source": [
    "al.dimensionA(A.transpose())"
   ]
  },
  {
   "cell_type": "markdown",
   "metadata": {},
   "source": [
    "### **Exercice 2**\n",
    "\n",
    "Soient $A,B\\in M_{4\\times 2}(\\mathbb{R})$ données par\n",
    "$$\n",
    "A=\\begin{bmatrix}\n",
    "1 & -12 \\\\\n",
    "6 & 4\\\\\n",
    "-5 & 2\\\\\n",
    "0 & -2\n",
    "\\end{bmatrix}\\hskip2em\n",
    "B=\\begin{bmatrix}\n",
    "0 & 4\\\\\n",
    "-2 & -1\\\\\n",
    "1 & -1\\\\\n",
    "1 & 3\n",
    "\\end{bmatrix}\n",
    "$$\n",
    "\n",
    "Cocher la proposition qui est correcte."
   ]
  },
  {
   "cell_type": "code",
   "execution_count": null,
   "metadata": {},
   "outputs": [],
   "source": [
    "corrections.Ex2Chapitre2_1()"
   ]
  },
  {
   "cell_type": "markdown",
   "metadata": {},
   "source": [
    "### **Exercice 3**\n",
    "\n",
    "Soient $A,B\\in M_{4\\times 2}(\\mathbb{R})$ données par\n",
    "$$\n",
    "A=\\begin{bmatrix}\n",
    "1 & -12 \\\\\n",
    "6 & 4\\\\\n",
    "-5 & 2\\\\\n",
    "0 & -2\n",
    "\\end{bmatrix}\\hskip2em\n",
    "B=\\begin{bmatrix}\n",
    "0 & 4\\\\\n",
    "-2 & -1\\\\\n",
    "1 & -1\\\\\n",
    "1 & 3\n",
    "\\end{bmatrix}\n",
    "$$\n",
    "\n",
    "Soit $C$ donnée par $C=(3(-2A^T) + (-2B)^T)^T$. \n",
    "\n",
    "Alors $C_{32}$vaut"
   ]
  },
  {
   "cell_type": "code",
   "execution_count": null,
   "metadata": {},
   "outputs": [],
   "source": [
    "corrections.Ex3Chapitre2_1()"
   ]
  },
  {
   "cell_type": "markdown",
   "metadata": {},
   "source": [
    "[Passez au notebook du chapitre 2.2: Multiplication de matrices](./2.2%20Multiplication%20de%20matrices.ipynb)"
   ]
  }
 ],
 "metadata": {
  "kernelspec": {
   "display_name": "Python 3",
   "language": "python",
   "name": "python3"
  },
  "language_info": {
   "codemirror_mode": {
    "name": "ipython",
    "version": 3
   },
   "file_extension": ".py",
   "mimetype": "text/x-python",
   "name": "python",
   "nbconvert_exporter": "python",
   "pygments_lexer": "ipython3",
   "version": "3.7.4"
  }
 },
 "nbformat": 4,
 "nbformat_minor": 4
}
