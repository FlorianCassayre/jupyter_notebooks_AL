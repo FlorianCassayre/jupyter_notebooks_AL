{
 "cells": [
  {
   "cell_type": "markdown",
   "metadata": {},
   "source": [
    "# **Concept(s)-clé(s) et théorie**\n",
    "\n",
    "L'*ensemble des matrices* de tailles $m\\times n$ à coefficients réels se note\n",
    "$$M_{m\\times n}(\\mathbb{R}).$$\n",
    "\n",
    "\n",
    "\n",
    "Soient deux matrices $A,B\\in M_{m\\times n}(\\mathbb{R})$ et$\\lambda\\in\\mathbb{R}$ on définit:\n",
    "\n",
    "$\\bullet \\hskip.5em A+B\\in M_{m\\times n}(\\mathbb{R})$ par\n",
    "$$(A+B)_{ij}=A_{ij}+B_{ij},$$ pour tout $1≤i≤m$ et tout $1≤j≤n$;\n",
    "\n",
    "$\\bullet \\hskip.5em\\lambda A\\in M_{m\\times n}(\\mathbb{R})$ par\n",
    "$$(\\lambda A)_{ij}=\\lambda A_{ij},$$\n",
    "pour tout $1≤i≤m$ et tout $1≤j≤n$;\n",
    "\n",
    "$\\bullet\\hskip.5em$ la transposée de $A$, notée $A^T$, par\n",
    "$$(A^T)_{ij}=A_{ji},$$\n",
    "pour tout $1≤i≤n$ et tout $1≤j≤m$. Il est important de remarquer que $A^T\\in M_{n\\times m}(\\mathbb{R})$ dans cette situation."
   ]
  },
  {
   "cell_type": "code",
   "execution_count": null,
   "metadata": {},
   "outputs": [],
   "source": [
    "import AL_Fct as al"
   ]
  },
  {
   "cell_type": "markdown",
   "metadata": {},
   "source": [
    "### **Exercice 1**\n",
    "\n",
    "Rentrer les tailles de la transposée de la matrice ci-dessous."
   ]
  },
  {
   "cell_type": "code",
   "execution_count": null,
   "metadata": {},
   "outputs": [],
   "source": [
    "A=al.randomA()"
   ]
  },
  {
   "cell_type": "code",
   "execution_count": null,
   "metadata": {},
   "outputs": [],
   "source": [
    "al.dimensionA(A.transpose())"
   ]
  },
  {
   "cell_type": "markdown",
   "metadata": {},
   "source": [
    "### **Exercice 2**\n",
    "\n",
    "Soient $A,B\\in M_{4\\times 2}(\\mathbb{R})$ données par\n",
    "$$\n",
    "A=\\begin{pmatrix}\n",
    "1 & -12 \\\\\n",
    "6 & 4\\\\\n",
    "-5 & 2\\\\\n",
    "0 & -2\n",
    "\\end{pmatrix}\\hskip2em\n",
    "B=\\begin{pmatrix}\n",
    "0 & 4\\\\\n",
    "-2 & -1\\\\\n",
    "1 & -1\\\\\n",
    "1 & 3\n",
    "\\end{pmatrix}\n",
    "$$\n",
    "\n",
    "Cocher la proposition qui est correcte."
   ]
  },
  {
   "cell_type": "code",
   "execution_count": null,
   "metadata": {},
   "outputs": [],
   "source": [
    "from IPython.display import display, Latex\n",
    "from ipywidgets import Button, HBox, VBox,Layout\n",
    "import ipywidgets as widgets\n",
    " # OK PUT in AL_FCT\n",
    "\n",
    "a=widgets.Checkbox(\n",
    "    value=False,\n",
    "    description=r'Il existe \\(\\lambda\\in \\mathbb{R}\\) tel que \\((A-\\lambda B)^T\\) soit échelonnée réduite',\n",
    "    disabled=False,\n",
    "    layout=Layout(width='80%', height='30px')\n",
    ")\n",
    "b=widgets.Checkbox(\n",
    "    value=False,\n",
    "    description=r'Il existe \\(\\lambda\\in \\mathbb{R}\\) tel que \\((A-\\lambda B)^T\\) soit échelonnée (mais pas réduite)',\n",
    "    disabled=False,\n",
    "    layout=Layout(width='80%', height='30px')\n",
    "\n",
    ")\n",
    "c=widgets.Checkbox(\n",
    "    value=False,\n",
    "    description=r\"Il n'existe pas de \\(\\lambda\\in \\mathbb{R}\\) tel que \\((A-\\lambda B)^T\\) soit échelonnée\",\n",
    "    disabled=False,\n",
    "    layout=Layout(width='80%', height='30px')\n",
    ")\n",
    "def correction(a,b,c): \n",
    "    if  a and not(c) and not(b):\n",
    "        display(Latex(\"C'est correct! Pour $\\lambda=-3$ La matrice échelonnée réduite est\"))\n",
    "        A=[[1,0,-2,3],[0,1,-1,7]]\n",
    "        al.printA(np.asmatrix(A))\n",
    "    else:\n",
    "        print(\"C'est faux.\")\n",
    "\n",
    "out=interact_manual(correction,a=a,b=b,c=c)\n",
    "    "
   ]
  },
  {
   "cell_type": "markdown",
   "metadata": {},
   "source": [
    "### **Exercice 2**\n",
    "\n",
    "Soient $A,B\\in M_{4\\times 2}(\\mathbb{R})$ données par\n",
    "$$\n",
    "A=\\begin{pmatrix}\n",
    "1 & -12 \\\\\n",
    "6 & 4\\\\\n",
    "-5 & 2\\\\\n",
    "0 & -2\n",
    "\\end{pmatrix}\\hskip2em\n",
    "B=\\begin{pmatrix}\n",
    "0 & 4\\\\\n",
    "-2 & -1\\\\\n",
    "1 & -1\\\\\n",
    "1 & 3\n",
    "\\end{pmatrix}\n",
    "$$\n",
    "\n",
    "Soit $C$ donnée par $C=(3(-2A^T) + (-2B)^T)^T$. \n",
    "\n",
    "Alors $c_{32}$vaut"
   ]
  },
  {
   "cell_type": "code",
   "execution_count": null,
   "metadata": {},
   "outputs": [],
   "source": [
    "from IPython.display import display, Latex\n",
    "from ipywidgets import Button, HBox, VBox,Layout\n",
    "import ipywidgets as widgets\n",
    " # OK PUT in AL_FCT\n",
    "\n",
    "a=widgets.Checkbox(\n",
    "    value=False,\n",
    "    description=r'\\(c_{32}\\) vaut -14',\n",
    "    disabled=False,\n",
    "    layout=Layout(width='80%', height='30px')\n",
    ")\n",
    "b=widgets.Checkbox(\n",
    "    value=False,\n",
    "    description=r'\\(c_{32}\\) vaut 14',\n",
    "    disabled=False,\n",
    "    layout=Layout(width='80%', height='30px')\n",
    "\n",
    ")\n",
    "c=widgets.Checkbox(\n",
    "    value=False,\n",
    "    description=r'\\(c_{32}\\) vaut -10',\n",
    "    disabled=False,\n",
    "    layout=Layout(width='80%', height='30px')\n",
    ")\n",
    "d=widgets.Checkbox(\n",
    "    value=False,\n",
    "    description=r\"\\(c_{32}\\) n'existe pas\",\n",
    "    disabled=False,\n",
    "    layout=Layout(width='80%', height='30px')\n",
    ")\n",
    "def correction(a,b,c,d): \n",
    "    if  c and not(a) and not(b) and not(d):\n",
    "        display(Latex(\"C'est correct! La matrice C vaut\"))\n",
    "        A=[[-6,64],[-32,-22],[28,-10],[-2,6]]\n",
    "        al.printA(np.asmatrix(A))\n",
    "    else:\n",
    "        print(\"C'est faux.\")\n",
    "\n",
    "out=interact_manual(correction,a=a,b=b,c=c, d=d)\n",
    "    "
   ]
  }
 ],
 "metadata": {
  "kernelspec": {
   "display_name": "Python 3",
   "language": "python",
   "name": "python3"
  },
  "language_info": {
   "codemirror_mode": {
    "name": "ipython",
    "version": 3
   },
   "file_extension": ".py",
   "mimetype": "text/x-python",
   "name": "python",
   "nbconvert_exporter": "python",
   "pygments_lexer": "ipython3",
   "version": "3.6.8"
  }
 },
 "nbformat": 4,
 "nbformat_minor": 4
}
