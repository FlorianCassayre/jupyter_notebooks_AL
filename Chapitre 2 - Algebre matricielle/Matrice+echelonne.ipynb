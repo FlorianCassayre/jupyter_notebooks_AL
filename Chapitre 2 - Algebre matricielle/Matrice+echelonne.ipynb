{
 "cells": [
  {
   "cell_type": "markdown",
   "metadata": {},
   "source": [
    "# Matrices"
   ]
  },
  {
   "cell_type": "markdown",
   "metadata": {},
   "source": [
    "Une matrice est une collection rectangulaire de nombre. On dit qu'une matrice est de taille $m\\times n$ si elle a $m$ lignes et $n$ colonnes.\n",
    "\n",
    "Par exemple, la matrice suivante est $3 \\times 4$\n",
    "\n",
    "$$A = \\left(\\begin{array}{cccc}\n",
    "  1 & -0.3 & 4\\sqrt{2} & 0 \\\\ \n",
    "  0 & -\\frac12 & 0 & 7 \\\\\n",
    "  7 & 0 & 1 & -6.1\n",
    "\\end{array} \\right)$$ \n",
    "\n",
    "$$\\vec v \\in \\mathbb R^2 \\text{ or } \\mathbf v$$\n",
    "\n"
   ]
  },
  {
   "cell_type": "code",
   "execution_count": 1,
   "metadata": {},
   "outputs": [
    {
     "data": {
      "text/latex": [
       "$\\phi$"
      ],
      "text/plain": [
       "<IPython.core.display.Latex object>"
      ]
     },
     "metadata": {},
     "output_type": "display_data"
    }
   ],
   "source": [
    "# prepare for printing matrices in markdown\n",
    "from IPython.display import display, Markdown, Latex\n",
    "\n",
    "display(Latex('$\\phi$'))\n"
   ]
  },
  {
   "cell_type": "markdown",
   "metadata": {},
   "source": [
    "Here it the tex code {{tex}}"
   ]
  },
  {
   "cell_type": "code",
   "execution_count": 2,
   "metadata": {},
   "outputs": [
    {
     "data": {
      "text/latex": [
       "$\\left(\\begin{array}{ccc}  1 & 2 & 3 \\\\3 & 4 & 5  \\end{array}\\right)$"
      ],
      "text/plain": [
       "<IPython.core.display.Latex object>"
      ]
     },
     "metadata": {},
     "output_type": "display_data"
    }
   ],
   "source": [
    "# define the matrix above\n",
    "\n",
    "import numpy as np\n",
    "\n",
    "def printA(A) :\n",
    "    texApre = '$\\\\left(\\\\begin{array}{'\n",
    "    texA = ''\n",
    "    for i in np.asarray(A) :\n",
    "        texALigne = ''\n",
    "        texALigne = texALigne + str(i[0])\n",
    "        if texA == '' :\n",
    "            texApre = texApre + 'c'\n",
    "        for j in i[1:] :\n",
    "            if texA == '' :\n",
    "                texApre = texApre + 'c'\n",
    "            texALigne = texALigne + ' & ' + str(j)\n",
    "        texALigne = texALigne + ' \\\\\\\\'\n",
    "        texA = texA + texALigne\n",
    "    texA = texApre + '}  ' + texA[:-2] + ' \\\\end{array}\\\\right)$'\n",
    "    \n",
    "    # print(texA)\n",
    "    display(Latex(texA))\n",
    "# done printing\n",
    "    \n",
    "\n",
    "A_array = np.array([[1, 2, 3], [3, 4, 5]])\n",
    "A = np.asmatrix(A_array)\n",
    "del A_array\n",
    "\n",
    "#printA(A+A)\n",
    "#printA(np.matmul(np.transpose(A),A))\n",
    "\n",
    "printA(A)\n",
    "\n",
    "\n"
   ]
  },
  {
   "cell_type": "code",
   "execution_count": null,
   "metadata": {},
   "outputs": [],
   "source": []
  },
  {
   "cell_type": "markdown",
   "metadata": {},
   "source": [
    "## Opérations sur les lignes"
   ]
  },
  {
   "cell_type": "code",
   "execution_count": null,
   "metadata": {},
   "outputs": [],
   "source": []
  },
  {
   "cell_type": "code",
   "execution_count": null,
   "metadata": {},
   "outputs": [],
   "source": []
  },
  {
   "cell_type": "code",
   "execution_count": null,
   "metadata": {},
   "outputs": [],
   "source": []
  },
  {
   "cell_type": "code",
   "execution_count": null,
   "metadata": {},
   "outputs": [],
   "source": []
  },
  {
   "cell_type": "code",
   "execution_count": null,
   "metadata": {},
   "outputs": [],
   "source": []
  }
 ],
 "metadata": {
  "kernelspec": {
   "display_name": "Python 3",
   "language": "python",
   "name": "python3"
  },
  "language_info": {
   "codemirror_mode": {
    "name": "ipython",
    "version": 3
   },
   "file_extension": ".py",
   "mimetype": "text/x-python",
   "name": "python",
   "nbconvert_exporter": "python",
   "pygments_lexer": "ipython3",
   "version": "3.7.1"
  }
 },
 "nbformat": 4,
 "nbformat_minor": 2
}
