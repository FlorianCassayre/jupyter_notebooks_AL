{
 "cells": [
  {
   "cell_type": "markdown",
   "metadata": {},
   "source": [
    "# **Concept(s)-clé(s) et théorie**\n",
    "\n",
    "## PREMIER CRITÈRE D'INVERSIBILITÉ \n",
    "Une matrice $A \\in M_{n \\times n}(\\mathbb{R})$ est inversible si et seulement si le système homogène $Ax=0$ possède une solution unique, à savoir, la solution triviale.\n",
    "\n",
    "## COROLLAIRE DU PREMIER CRITÈRE D'INVERSIBILITÉ \n",
    "Soit $A \\in M_{n \\times n}(\\mathbb{R})$ alors les deux affirmations suivantes sont vérifiées.\n",
    "\n",
    "1. La matrice $A$ est inversible si et seulement s'il existe $B \\in M_{n \\times n}(\\mathbb{R})$ telle que $BA = I_n$.\n",
    "2. La matrice $A$ est inversible si et seulement s'il existe $C \\in M_{n \\times n}(\\mathbb{R})$ telle que $AC = I_n$.\n",
    "\n",
    "## RAPPEL: ALGORITHME POUR TROUVER L'INVERSE D'UNE MATRICE DONNÉE\n",
    "Soit $A \\in M_{n \\times n}(\\mathbb{R})$ une matrice carrée. Afin de déterminer si $A$ est inversible et de calculer son inverse (lorsque c'est possible), on procède comme suit :\n",
    "\n",
    "1. Ecrire les matrices $A$ et $I_n$ l'une à côté de l'autre, formant ainsi une nouvelle matrice de taille $n \\times 2n$\n",
    "2. Opérer sur les lignes de cette matrice ainsi obtenue, afin de réduire le côté gauche à $I_n$\n",
    "3. Si l'on y arrive, alors $A$ est inversible et son inverse $A^{-1}$ est donnée par la matrice à droite."
   ]
  },
  {
   "cell_type": "code",
   "execution_count": null,
   "metadata": {},
   "outputs": [],
   "source": [
    "import Librairie.AL_Fct as al\n",
    "import Corrections.corrections as corrections\n",
    "from ipywidgets import interact_manual\n",
    "import plotly as py\n",
    "import plotly.graph_objs as go\n",
    "from ipywidgets import interactive, HBox, VBox, widgets, interact, FloatSlider"
   ]
  },
  {
   "cell_type": "markdown",
   "metadata": {},
   "source": [
    "### EXERCICE 1\n",
    "Considérez le système linéaire générique $Ax=b$ avec $A \\in \\mathbb{R}^{n \\times n}$ et $b \\in \\mathbb{R}^n$; marquez celles des déclarations suivantes qui pourraient être vraies pour certaines valeurs de $A$ et $b$."
   ]
  },
  {
   "cell_type": "code",
   "execution_count": null,
   "metadata": {},
   "outputs": [],
   "source": [
    "corrections.Ex1Chapitre2_6_7()"
   ]
  },
  {
   "cell_type": "markdown",
   "metadata": {},
   "source": [
    "## EXERCICE 2 ##\n",
    "Mark those of the following matrices which are invertible.\n",
    "\\begin{equation}\n",
    "A_1 = \n",
    "\\begin{bmatrix}\n",
    "2 & 0 & 1\\\\\n",
    "0 & 6 & 4 \\\\\n",
    "2 & 2 & 1\n",
    "\\end{bmatrix}; \\qquad A_2 = \n",
    "\\begin{bmatrix}\n",
    "3 & -7 & 0\\\\\n",
    "1 & 0 & 1\\\\\n",
    "-5 & 35/3 & 0\n",
    "\\end{bmatrix}; \\qquad A_3 = \n",
    "\\begin{bmatrix}\n",
    "2 & 1 & -1\\\\\\\n",
    "2 & -5 & 4\\\\\n",
    "6 & -3 & 2\n",
    "\\end{bmatrix}\n",
    "\\end{equation}"
   ]
  },
  {
   "cell_type": "code",
   "execution_count": null,
   "metadata": {},
   "outputs": [],
   "source": [
    "corrections.Ex2Chapitre2_6_7()"
   ]
  },
  {
   "cell_type": "markdown",
   "metadata": {},
   "source": [
    "**Vous pouvez vous aider à déterminer si les matrices suivantes sont inversibles ou non en exécutant les cellules suivantes et en calculant manuellement leurs inverses (éventuelles)**"
   ]
  },
  {
   "cell_type": "code",
   "execution_count": null,
   "metadata": {},
   "outputs": [],
   "source": [
    "A=[[2,0,1], [0,6,4], [2,2,1]]\n",
    "I=[[1,0,0],[0,1,0],[0,0,1]]\n",
    "print('Vous allez échelonner la matrice augmenteé avec la matrice identité')\n",
    "al.printA(A,I)\n",
    "[i,j,r,alpha]= al.manualEch(A,I)\n",
    "m=np.concatenate((A,I), axis=1)\n",
    "MatriceList=[A]\n",
    "RhSList=[I]\n",
    "print('\\033[1mExecutez la ligne suivante pour effectuer l\\'opération choisie \\033[0m')"
   ]
  },
  {
   "cell_type": "code",
   "execution_count": null,
   "metadata": {},
   "outputs": [],
   "source": [
    "m=al.echelonnage(i,j,r,alpha,A,m,MatriceList,RhSList)"
   ]
  },
  {
   "cell_type": "markdown",
   "metadata": {},
   "source": [
    "## EXERCISE 3 ##\n",
    "Considéz le système linéaire générique $Ax = b$, avec:\n",
    "\\begin{equation}\n",
    "A = \n",
    "\\begin{bmatrix}\n",
    "2 & -\\alpha\\\\\n",
    "\\beta & -4 \\\\\n",
    "\\end{bmatrix}; \\qquad b = \n",
    "\\begin{bmatrix}\n",
    "1\\\\\n",
    "-2\\\\\n",
    "\\end{bmatrix}\n",
    "\\end{equation}\n",
    "Identifiez les valeurs des paramètres $\\alpha$ et $\\beta$ pour lesquels $A$ n'est pas inversible et marquez celles des déclarations suivantes qui sont correctes."
   ]
  },
  {
   "cell_type": "code",
   "execution_count": null,
   "metadata": {},
   "outputs": [],
   "source": [
    "corrections.Ex3Chapitre2_6_7()"
   ]
  },
  {
   "cell_type": "markdown",
   "metadata": {},
   "source": [
    "**HINT: you can run the following interactive cell to better visualize the parametrized system**"
   ]
  },
  {
   "cell_type": "code",
   "execution_count": null,
   "metadata": {},
   "outputs": [],
   "source": [
    "np.seterr(divide='ignore', invalid='ignore')\n",
    "\n",
    "A=[[2, 0], [0, -4]] # we initialize the problem. The values of alpha and beta are fixed\n",
    "b=[1, -2]\n",
    "\n",
    "m=len(A)\n",
    "MatCoeff = [A[i]+[b[i]]for i in range(m)] #becomes augmented matrix\n",
    "MatCoeff=np.array(MatCoeff)\n",
    "data=[]\n",
    "x=np.linspace(-15,15,101)\n",
    "y=np.linspace(-10,10,101)\n",
    "MatCoeff=np.array(MatCoeff)\n",
    "for i in range(len(MatCoeff)):\n",
    "    trace=go.Scatter(x=x,  y= (MatCoeff[i,2]-MatCoeff[i,0]*x)/MatCoeff[i,1], name='d) Droite %d'%(i+1))\n",
    "    data.append(trace)\n",
    "    \n",
    "f=go.FigureWidget(data=data,\n",
    "    layout=go.Layout(xaxis=dict(\n",
    "        range=[-15, 15]\n",
    "    ),\n",
    "    yaxis=dict(\n",
    "        range=[-10, 10]\n",
    "    ) )                  \n",
    ")\n",
    "\n",
    "def update_y(alpha, beta):\n",
    "    MatCoeff= [[2, -alpha, 1],[beta, -4, -2]]\n",
    "    MatCoeff=np.array(MatCoeff)\n",
    "    if MatCoeff[0,1] == 0:\n",
    "        MatCoeff[0,1] += 1e-3\n",
    "    f.data[0].y = (MatCoeff[0,2]-MatCoeff[0,0]*x)/MatCoeff[0,1]\n",
    "    if MatCoeff[1,1] == 0:\n",
    "        MatCoeff[1,1] += 1e-3\n",
    "    f.data[1].y=(MatCoeff[1,2]-MatCoeff[1,0]*x)/MatCoeff[1,1]\n",
    "\n",
    "freq_slider = interactive(update_y, alpha=(-20, 20, 1/2), beta=(-20, 20, 1/2))\n",
    "\n",
    "vb = VBox((f, freq_slider))\n",
    "vb.layout.align_items = 'center'\n",
    "vb"
   ]
  },
  {
   "cell_type": "markdown",
   "metadata": {},
   "source": [
    "## EXERCISE 4\n",
    "\n",
    "Consider the following matrices:\n",
    "\\begin{equation}\n",
    "A = \n",
    "\\begin{bmatrix}\n",
    "0.5 & a & 1\\\\\n",
    "0 & 2 & -1\\\\\n",
    "-2 & 1 & b\n",
    "\\end{bmatrix}; \\qquad B = \n",
    "\\begin{bmatrix}\n",
    "-6 & -2 & -2\\\\\n",
    "4 & 2 & 1\\\\\n",
    "8 & 3 & 2\n",
    "\\end{bmatrix}\n",
    "\\end{equation}\n",
    "Find the vlaues of the parameters $a$ and $b$ for which $A$ and $B$ are one the inverse of the other."
   ]
  },
  {
   "cell_type": "code",
   "execution_count": null,
   "metadata": {},
   "outputs": [],
   "source": [
    "corrections.Ex4Chapitre2_6_7()"
   ]
  },
  {
   "cell_type": "markdown",
   "metadata": {},
   "source": [
    "[Passez au notebook 2.8-2.9: Décomposition LU (existance et algorithm)](2.8-2.9%20Décomposition%20LU%20(existance%20et%20algorithm).ipynb)"
   ]
  }
 ],
 "metadata": {
  "kernelspec": {
   "display_name": "Python 3",
   "language": "python",
   "name": "python3"
  },
  "language_info": {
   "codemirror_mode": {
    "name": "ipython",
    "version": 3
   },
   "file_extension": ".py",
   "mimetype": "text/x-python",
   "name": "python",
   "nbconvert_exporter": "python",
   "pygments_lexer": "ipython3",
   "version": "3.7.4"
  }
 },
 "nbformat": 4,
 "nbformat_minor": 2
}
