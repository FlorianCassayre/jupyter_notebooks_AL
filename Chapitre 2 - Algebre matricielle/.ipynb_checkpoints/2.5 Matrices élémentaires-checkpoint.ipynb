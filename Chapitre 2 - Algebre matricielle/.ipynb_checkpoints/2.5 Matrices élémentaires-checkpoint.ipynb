{
 "cells": [
  {
   "cell_type": "markdown",
   "metadata": {},
   "source": [
    "# **Concept(s)-clé(s) et théorie**\n",
    "\n",
    "Une matrice élémentaire (de taille $n \\times n$) est une matrice obtenue en effectuant une (et une seule) opération élémentaire, de type (I), (II) ou (III), sur les lignes de la matrice $I_n.$ Concrétement, on adoptera les notations suivantes.\n",
    "\n",
    "1. La matrice $T_{ij}$ est la matrice obtenue en échangeant les lignes $i$ et $j$ de $I_n.$\n",
    "2. La matrice $D_r(\\lambda)$ est la matrice obtenue en multipliant la $r$-ème ligne de $I_n$ par $\\lambda \\in \\mathbb{R}.$\n",
    "3. La matrice $L_{rs}(\\lambda)$ est la matrice obtenue en ajoutant $\\lambda$ fois la ligne $s$ à la ligne $r$ de $I_n.$"
   ]
  },
  {
   "cell_type": "code",
   "execution_count": 13,
   "metadata": {},
   "outputs": [
    {
     "ename": "ImportError",
     "evalue": "cannot import name 'multi_dot_three'",
     "output_type": "error",
     "traceback": [
      "\u001b[0;31m---------------------------------------------------------------------------\u001b[0m",
      "\u001b[0;31mImportError\u001b[0m                               Traceback (most recent call last)",
      "\u001b[0;32m<ipython-input-13-22695286218d>\u001b[0m in \u001b[0;36m<module>\u001b[0;34m\u001b[0m\n\u001b[1;32m      2\u001b[0m \u001b[0;32mimport\u001b[0m \u001b[0mnumpy\u001b[0m \u001b[0;32mas\u001b[0m \u001b[0mnp\u001b[0m\u001b[0;34m\u001b[0m\u001b[0;34m\u001b[0m\u001b[0m\n\u001b[1;32m      3\u001b[0m \u001b[0;32mfrom\u001b[0m \u001b[0mnumpy\u001b[0m\u001b[0;34m.\u001b[0m\u001b[0mlinalg\u001b[0m \u001b[0;32mimport\u001b[0m \u001b[0;34m*\u001b[0m\u001b[0;34m\u001b[0m\u001b[0;34m\u001b[0m\u001b[0m\n\u001b[0;32m----> 4\u001b[0;31m \u001b[0;32mfrom\u001b[0m \u001b[0mnumpy\u001b[0m\u001b[0;34m.\u001b[0m\u001b[0mlinalg\u001b[0m \u001b[0;32mimport\u001b[0m \u001b[0mmulti_dot_three\u001b[0m\u001b[0;34m\u001b[0m\u001b[0;34m\u001b[0m\u001b[0m\n\u001b[0m\u001b[1;32m      5\u001b[0m \u001b[0;32mfrom\u001b[0m \u001b[0mipywidgets\u001b[0m \u001b[0;32mimport\u001b[0m \u001b[0minteract_manual\u001b[0m\u001b[0;34m\u001b[0m\u001b[0;34m\u001b[0m\u001b[0m\n",
      "\u001b[0;31mImportError\u001b[0m: cannot import name 'multi_dot_three'"
     ]
    }
   ],
   "source": [
    "import AL_Fct as al\n",
    "import numpy as np\n",
    "from numpy.linalg import *\n",
    "from numpy.linalg import multi_dot\n",
    "from ipywidgets import interact_manual"
   ]
  },
  {
   "cell_type": "markdown",
   "metadata": {},
   "source": [
    "Soient les deux matrices élémentaires ci-dessous.\n",
    "$$\n",
    "E_1=\\begin{pmatrix}\n",
    "1 & 0 & 0 & 0\\\\\n",
    "0 & 1 & 0 & -6 \\\\\n",
    "0 & 0 & 1 &0 \\\\\n",
    "0 & 0 & 0 & 1\n",
    "\\end{pmatrix}\\hspace{3cm}\n",
    "E_2=\\begin{pmatrix}\n",
    "0 & 0 & 1 & 0\\\\\n",
    "0 & 1 & 0 & 0 \\\\\n",
    "1 & 0 & 0 &0 \\\\\n",
    "0 & 0 & 0& 1\n",
    "\\end{pmatrix}\n",
    "$$\n",
    "Laquelle des affirmations ci-dessous est correcte?\n"
   ]
  },
  {
   "cell_type": "code",
   "execution_count": 17,
   "metadata": {},
   "outputs": [
    {
     "data": {
      "application/vnd.jupyter.widget-view+json": {
       "model_id": "931a1887a6a94966bd983255086cbfea",
       "version_major": 2,
       "version_minor": 0
      },
      "text/plain": [
       "interactive(children=(Checkbox(value=False, description='\\\\(E_1E_2\\\\) multiplie la ligne 4 par -6 et échange l…"
      ]
     },
     "metadata": {},
     "output_type": "display_data"
    }
   ],
   "source": [
    "from IPython.display import display, Latex\n",
    "from ipywidgets import Button, HBox, VBox,Layout\n",
    "import ipywidgets as widgets\n",
    " # OK PUT in AL_FCT\n",
    "\n",
    "a=widgets.Checkbox(\n",
    "    value=False,\n",
    "    description=r'\\(E_1E_2\\) multiplie la ligne 4 par -6 et échange les lignes 2 et 3',\n",
    "    disabled=False,\n",
    "    layout=Layout(width='80%', height='40px')\n",
    ")\n",
    "b=widgets.Checkbox(\n",
    "    value=False,\n",
    "    description=r'\\(E_1E_2\\) ajoute 6 fois la ligne 4 à la ligne 2 et échange les lignes 1 et 3',\n",
    "    disabled=False,\n",
    "    layout=Layout(width='80%', height='40px')\n",
    "\n",
    ")\n",
    "c=widgets.Checkbox(\n",
    "    value=False,\n",
    "    description=r'\\(E_1E_2\\) échange les lignes 1 et 3 et ajoute -6 fois la ligne 4 à la ligne 2',\n",
    "    disabled=False,\n",
    "   layout=Layout(width='80%', height='40px')\n",
    ")\n",
    "d=widgets.Checkbox(\n",
    "    value=False,\n",
    "    description=r\"\\(E_1E_2\\) ajoute -6 fois la ligne 4 à la ligne 2 et échange les lignes 1 et 2\",\n",
    "    disabled=False,\n",
    "    layout=Layout(width='80%', height='40px')\n",
    ")\n",
    "def correction(a,b,c,d): \n",
    "    if c and not(a) and not(d) and not(b):\n",
    "        print(\"C'est correct! Par exemple, si on applique le produit à la matrice ci-dessous\")\n",
    "        A=np.asmatrix([[1, -1,0,0], [0, 0 ,0,1], [1,2,1,2],[1,0,0,1]])\n",
    "        B=np.asmatrix([[1,0,0,0],[0,1,0,-6],[0,0,1,0],[0,0,0,1]])\n",
    "        C=np.asmatrix([[0,0,1,0],[0,1,0,0],[1,0,0,0],[0,0,0,1]])\n",
    "        al.printA(A)\n",
    "        print(\"on obtient\")\n",
    "        al.printA(np.linalg.multi_dot([B,C,A]))\n",
    "    else:\n",
    "        print(\"C'est faux.\")\n",
    "\n",
    "out=interact_manual(correction,a=a,b=b,c=c,d=d)\n",
    "    "
   ]
  },
  {
   "cell_type": "markdown",
   "metadata": {},
   "source": [
    "Donner l'inverse de $E_1E_2$"
   ]
  },
  {
   "cell_type": "code",
   "execution_count": 18,
   "metadata": {},
   "outputs": [],
   "source": [
    "inverse=[[1,0,0,0],[0,1,0,0],[0,0,1,0],[0,0,0,1]]"
   ]
  },
  {
   "cell_type": "code",
   "execution_count": 23,
   "metadata": {},
   "outputs": [
    {
     "name": "stdout",
     "output_type": "stream",
     "text": [
      "[[1 0 0 0]\n",
      " [0 1 0 0]\n",
      " [0 0 1 0]\n",
      " [0 0 0 1]]\n"
     ]
    }
   ],
   "source": [
    "if inverse==[[0,0,1,0],[0,1,0,6],[1,0,0,0],[0,0,0,1]]:\n",
    "    print(\"C'est correct!\")"
   ]
  },
  {
   "cell_type": "markdown",
   "metadata": {},
   "source": [
    "Soient $A$ et $B$ les deux matrices ci-dessous. \n",
    "\n",
    "$$\n",
    "A=\\begin{pmatrix}\n",
    "-2 &1& 4\\\\\n",
    "1 & 0 & 2\\\\\n",
    "-1 & -\\dfrac{1}{2} & 3\n",
    "\\end{pmatrix}, \\hspace{2em}\n",
    "B=\\begin{pmatrix}\n",
    "-1 & -\\dfrac{1}{2} & 3 \\\\\n",
    "5 & -2 & -6\\\\\n",
    "-10 & 5 & 20\n",
    "\\end{pmatrix}\n",
    "$$"
   ]
  },
  {
   "cell_type": "code",
   "execution_count": null,
   "metadata": {},
   "outputs": [],
   "source": [
    "A=[[-2,1,4],[1,0,2],[-1, -1/2 , 3]]\n",
    "B=[[-1, -1/2, 3],[5, -2, -6],[-10,5,20]]"
   ]
  },
  {
   "cell_type": "markdown",
   "metadata": {},
   "source": [
    "On passe de la matrice $A$ à la matrice $B$ à l'aide de trois matrices élémentaires $T_{ij}$, $D_{r}(\\lambda)$ et $L_{rs}(\\lambda)$\n",
    "$$\n",
    "L_{rs}(\\lambda) \\cdot  D_{r}(\\lambda)\\cdot T_{ij}\\cdot A =B\n",
    "$$\n",
    "\n",
    "Trouver les trois matrices."
   ]
  },
  {
   "cell_type": "code",
   "execution_count": null,
   "metadata": {},
   "outputs": [],
   "source": [
    "T=[[1,0,0],[0,1,0],[0,0,1]]\n",
    "D=[[5,0,0],[0,1,0],[0,0,1]]\n",
    "L=[[1,0,0],[0,1,0],[0,0,1]]"
   ]
  },
  {
   "cell_type": "code",
   "execution_count": null,
   "metadata": {},
   "outputs": [],
   "source": [
    "#OK put in the al_FCt file\n",
    "if ~(B-np.linalg.multi_dot([L,D,T,A])).any():\n",
    "    print(\"C'est correct!\")\n",
    "else :\n",
    "    str='Il faut entrer la/les matrice(s) '\n",
    "    if (np.asmatrix(T)-np.asmatrix([[0,0,1],[0,1,0],[1,0,0]])).any():\n",
    "        str=str+ ' T '\n",
    "    if (np.asmatrix(D)-np.asmatrix([[5,0,0],[0,1,0],[0,0,1]])).any():\n",
    "        str=str+ ' D '\n",
    "    if L!=[[1,0,0],[-2,1,0],[0,0,1]]:\n",
    "        str=str+ ' L '\n",
    "    str=str + 'à nouveau. Le produit des matrices entrées vaut'\n",
    "    print(str)\n",
    "    al.printA(np.linalg.multi_dot([L,D,T,A]))\n",
    "    \n"
   ]
  },
  {
   "cell_type": "code",
   "execution_count": null,
   "metadata": {},
   "outputs": [],
   "source": []
  },
  {
   "cell_type": "code",
   "execution_count": null,
   "metadata": {},
   "outputs": [],
   "source": []
  }
 ],
 "metadata": {
  "kernelspec": {
   "display_name": "Python 3",
   "language": "python",
   "name": "python3"
  },
  "language_info": {
   "codemirror_mode": {
    "name": "ipython",
    "version": 3
   },
   "file_extension": ".py",
   "mimetype": "text/x-python",
   "name": "python",
   "nbconvert_exporter": "python",
   "pygments_lexer": "ipython3",
   "version": "3.6.8"
  }
 },
 "nbformat": 4,
 "nbformat_minor": 2
}
