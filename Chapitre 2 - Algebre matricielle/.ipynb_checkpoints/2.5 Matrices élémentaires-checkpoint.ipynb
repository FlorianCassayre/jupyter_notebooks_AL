{
 "cells": [
  {
   "cell_type": "markdown",
   "metadata": {},
   "source": [
    "# **Concept(s)-clé(s) et théorie**\n",
    "\n",
    "Une matrice élémentaire (de taille $n \\times n$) est une matrice obtenue en effectuant une (et une seule) opération élémentaire, de type (I), (II) ou (III), sur les lignes de la matrice $I_n.$ Concrétement, on adoptera les notations suivantes.\n",
    "\n",
    "1. La matrice $T_{ij}$ est la matrice obtenue en échangeant les lignes $i$ et $j$ de $I_n.$\n",
    "2. La matrice $D_r(\\lambda)$ est la matrice obtenue en multipliant la $r$-ème ligne de $I_n$ par $\\lambda \\in \\mathbb{R}.$\n",
    "3. La matrice $L_{rs}(\\lambda)$ est la matrice obtenue en ajoutant $\\lambda$ fois la ligne $s$ à la ligne $r$ de $I_n.$"
   ]
  },
  {
   "cell_type": "code",
   "execution_count": null,
   "metadata": {},
   "outputs": [],
   "source": [
    "import AL_Fct as al\n",
    "import numpy as np\n",
    "from numpy.linalg import *\n",
    "from numpy.linalg import multi_dot"
   ]
  },
  {
   "cell_type": "markdown",
   "metadata": {},
   "source": [
    "Soient $A$ et $B$ les deux matrices ci-dessous. \n",
    "\n",
    "$$\n",
    "A=\\begin{pmatrix}\n",
    "-2 &1& 4\\\\\n",
    "1 & 0 & 2\\\\\n",
    "-1 & -\\dfrac{1}{2} & 3\n",
    "\\end{pmatrix}, \\hspace{2em}\n",
    "B=\\begin{pmatrix}\n",
    "-1 & -\\dfrac{1}{2} & 3 \\\\\n",
    "5 & -2 & -6\\\\\n",
    "-10 & 5 & 20\n",
    "\\end{pmatrix}\n",
    "$$"
   ]
  },
  {
   "cell_type": "code",
   "execution_count": null,
   "metadata": {},
   "outputs": [],
   "source": [
    "A=[[-2,1,4],[1,0,2],[-1, -1/2 , 3]]\n",
    "B=[[-1, -1/2, 3],[5, -2, -6],[-10,5,20]]"
   ]
  },
  {
   "cell_type": "markdown",
   "metadata": {},
   "source": [
    "On passe de la matrice $A$ à la matrice $B$ à l'aide de trois matrices élémentaires $T_{ij}$, $D_{r}(\\lambda)$ et $L_{rs}(\\lambda)$\n",
    "$$\n",
    "L_{rs}(\\lambda) \\cdot  D_{r}(\\lambda)\\cdot T_{ij}\\cdot A =B\n",
    "$$\n",
    "\n",
    "Trouver les trois matrices."
   ]
  },
  {
   "cell_type": "code",
   "execution_count": null,
   "metadata": {},
   "outputs": [],
   "source": [
    "T=[[1,0,0],[0,1,0],[0,0,1]]\n",
    "D=[[5,0,0],[0,1,0],[0,0,1]]\n",
    "L=[[1,0,0],[0,1,0],[0,0,1]]"
   ]
  },
  {
   "cell_type": "code",
   "execution_count": null,
   "metadata": {},
   "outputs": [],
   "source": [
    "#OK put in the al_FCt file\n",
    "if ~(B-np.linalg.multi_dot([L,D,T,A])).any():\n",
    "    print(\"C'est correct!\")\n",
    "else :\n",
    "    str='Il faut entrer la/les matrice(s) '\n",
    "    if (np.asmatrix(T)-np.asmatrix([[0,0,1],[0,1,0],[1,0,0]])).any():\n",
    "        str=str+ ' T '\n",
    "    if (np.asmatrix(D)-np.asmatrix([[5,0,0],[0,1,0],[0,0,1]])).any():\n",
    "        str=str+ ' D '\n",
    "    if L!=[[1,0,0],[-2,1,0],[0,0,1]]:\n",
    "        str=str+ ' L '\n",
    "    str=str + 'à nouveau. Le produit des matrices entrées vaut'\n",
    "    print(str)\n",
    "    al.printA(np.linalg.multi_dot([L,D,T,A]))\n",
    "    \n"
   ]
  },
  {
   "cell_type": "code",
   "execution_count": null,
   "metadata": {},
   "outputs": [],
   "source": [
    "a=np.asmatrix([1,1])\n",
    "b=np.asmatrix([1,1])\n",
    "print(a-b)\n",
    "~(a-b).any()"
   ]
  },
  {
   "cell_type": "code",
   "execution_count": null,
   "metadata": {},
   "outputs": [],
   "source": []
  }
 ],
 "metadata": {
  "kernelspec": {
   "display_name": "Python 3",
   "language": "python",
   "name": "python3"
  },
  "language_info": {
   "codemirror_mode": {
    "name": "ipython",
    "version": 3
   },
   "file_extension": ".py",
   "mimetype": "text/x-python",
   "name": "python",
   "nbconvert_exporter": "python",
   "pygments_lexer": "ipython3",
   "version": "3.6.8"
  }
 },
 "nbformat": 4,
 "nbformat_minor": 2
}
