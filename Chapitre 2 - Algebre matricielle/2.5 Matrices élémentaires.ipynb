{
 "cells": [
  {
   "cell_type": "markdown",
   "metadata": {},
   "source": [
    "# **Concept(s)-clé(s) et théorie**\n",
    "\n",
    "Une matrice élémentaire (de taille $n \\times n$) est une matrice obtenue en effectuant une (et une seule) opération élémentaire, de type (I), (II) ou (III), sur les lignes de la matrice $I_n.$ Concrétement, on adoptera les notations suivantes.\n",
    "\n",
    "1. La matrice $T_{ij}$ est la matrice obtenue en échangeant les lignes $i$ et $j$ de $I_n.$\n",
    "2. La matrice $D_r(\\lambda)$ est la matrice obtenue en multipliant la $r$-ème ligne de $I_n$ par $\\lambda \\in \\mathbb{R}.$\n",
    "3. La matrice $L_{rs}(\\lambda)$ est la matrice obtenue en ajoutant $\\lambda$ fois la ligne $s$ à la ligne $r$ de $I_n.$"
   ]
  },
  {
   "cell_type": "code",
   "execution_count": 2,
   "metadata": {},
   "outputs": [
    {
     "data": {
      "text/html": [
       "        <script type=\"text/javascript\">\n",
       "        window.PlotlyConfig = {MathJaxConfig: 'local'};\n",
       "        if (window.MathJax) {MathJax.Hub.Config({SVG: {font: \"STIX-Web\"}});}\n",
       "        if (typeof require !== 'undefined') {\n",
       "        require.undef(\"plotly\");\n",
       "        requirejs.config({\n",
       "            paths: {\n",
       "                'plotly': ['https://cdn.plot.ly/plotly-latest.min']\n",
       "            }\n",
       "        });\n",
       "        require(['plotly'], function(Plotly) {\n",
       "            window._Plotly = Plotly;\n",
       "        });\n",
       "        }\n",
       "        </script>\n",
       "        "
      ]
     },
     "metadata": {},
     "output_type": "display_data"
    }
   ],
   "source": [
    "import Librairie.AL_Fct as al\n",
    "import numpy as np\n",
    "from numpy.linalg import *\n",
    "from numpy.linalg import multi_dot\n",
    "from ipywidgets import interact_manual"
   ]
  },
  {
   "cell_type": "markdown",
   "metadata": {},
   "source": [
    "Soient les deux matrices élémentaires ci-dessous.\n",
    "$$\n",
    "E_1=\\begin{pmatrix}\n",
    "1 & 0 & 0 & 0\\\\\n",
    "0 & 1 & 0 & -6 \\\\\n",
    "0 & 0 & 1 &0 \\\\\n",
    "0 & 0 & 0 & 1\n",
    "\\end{pmatrix}\\hspace{3cm}\n",
    "E_2=\\begin{pmatrix}\n",
    "0 & 0 & 1 & 0\\\\\n",
    "0 & 1 & 0 & 0 \\\\\n",
    "1 & 0 & 0 &0 \\\\\n",
    "0 & 0 & 0& 1\n",
    "\\end{pmatrix}\n",
    "$$\n",
    "Laquelle des affirmations ci-dessous est correcte?\n"
   ]
  },
  {
   "cell_type": "code",
   "execution_count": null,
   "metadata": {},
   "outputs": [],
   "source": [
    "from IPython.display import display, Latex\n",
    "from ipywidgets import Button, HBox, VBox,Layout\n",
    "import ipywidgets as widgets\n",
    " # OK PUT in AL_FCT\n",
    "\n",
    "a=widgets.Checkbox(\n",
    "    value=False,\n",
    "    description=r'\\(E_1E_2\\) multiplie la ligne 4 par -6 et échange les lignes 2 et 3',\n",
    "    disabled=False,\n",
    "    layout=Layout(width='80%', height='40px')\n",
    ")\n",
    "b=widgets.Checkbox(\n",
    "    value=False,\n",
    "    description=r'\\(E_1E_2\\) ajoute 6 fois la ligne 4 à la ligne 2 et échange les lignes 1 et 3',\n",
    "    disabled=False,\n",
    "    layout=Layout(width='80%', height='40px')\n",
    "\n",
    ")\n",
    "c=widgets.Checkbox(\n",
    "    value=False,\n",
    "    description=r'\\(E_1E_2\\) échange les lignes 1 et 3 et ajoute -6 fois la ligne 4 à la ligne 2',\n",
    "    disabled=False,\n",
    "   layout=Layout(width='80%', height='40px')\n",
    ")\n",
    "d=widgets.Checkbox(\n",
    "    value=False,\n",
    "    description=r\"\\(E_1E_2\\) ajoute -6 fois la ligne 4 à la ligne 2 et échange les lignes 1 et 2\",\n",
    "    disabled=False,\n",
    "    layout=Layout(width='80%', height='40px')\n",
    ")\n",
    "def correction(a,b,c,d): \n",
    "    if c and not(a) and not(d) and not(b):\n",
    "        print(\"C'est correct! Par exemple, si on applique le produit à la matrice ci-dessous\")\n",
    "        A=np.asmatrix([[1, -1,0,0], [0, 0 ,0,1], [1,2,1,2],[1,0,0,1]])\n",
    "        B=np.asmatrix([[1,0,0,0],[0,1,0,-6],[0,0,1,0],[0,0,0,1]])\n",
    "        C=np.asmatrix([[0,0,1,0],[0,1,0,0],[1,0,0,0],[0,0,0,1]])\n",
    "        al.printA(A)\n",
    "        print(\"on obtient\")\n",
    "        al.printA(np.linalg.multi_dot([B,C,A]))\n",
    "    else:\n",
    "        print(\"C'est faux.\")\n",
    "\n",
    "out=interact_manual(correction,a=a,b=b,c=c,d=d)\n",
    "    "
   ]
  },
  {
   "cell_type": "markdown",
   "metadata": {},
   "source": [
    "Donner l'inverse de $E_1E_2$"
   ]
  },
  {
   "cell_type": "code",
   "execution_count": null,
   "metadata": {},
   "outputs": [],
   "source": [
    "inverse=[[1,0,0,0],[0,1,0,0],[0,0,1,0],[0,0,0,1]]"
   ]
  },
  {
   "cell_type": "code",
   "execution_count": null,
   "metadata": {},
   "outputs": [],
   "source": [
    "if inverse==[[0,0,1,0],[0,1,0,6],[1,0,0,0],[0,0,0,1]]:\n",
    "    print(\"C'est correct!\")"
   ]
  },
  {
   "cell_type": "markdown",
   "metadata": {},
   "source": [
    "Soient $A$ et $B$ les deux matrices ci-dessous. \n",
    "\n",
    "$$\n",
    "A=\\begin{pmatrix}\n",
    "-2 &1& 4\\\\\n",
    "1 & 0 & 2\\\\\n",
    "-1 & -\\dfrac{1}{2} & 3\n",
    "\\end{pmatrix}, \\hspace{2em}\n",
    "B=\\begin{pmatrix}\n",
    "-1 & -\\dfrac{1}{2} & 3 \\\\\n",
    "5 & -2 & -6\\\\\n",
    "-10 & 5 & 20\n",
    "\\end{pmatrix}\n",
    "$$"
   ]
  },
  {
   "cell_type": "code",
   "execution_count": null,
   "metadata": {},
   "outputs": [],
   "source": [
    "A=[[-2,1,4],[1,0,2],[-1, -1/2 , 3]]\n",
    "B=[[-1, -1/2, 3],[5, -2, -6],[-10,5,20]]"
   ]
  },
  {
   "cell_type": "markdown",
   "metadata": {},
   "source": [
    "On passe de la matrice $A$ à la matrice $B$ à l'aide de trois matrices élémentaires $T_{ij}$, $D_{r}(\\lambda)$ et $L_{rs}(\\lambda)$\n",
    "$$\n",
    "L_{rs}(\\lambda) \\cdot  D_{r}(\\lambda)\\cdot T_{ij}\\cdot A =B\n",
    "$$\n",
    "\n",
    "Trouver les trois matrices."
   ]
  },
  {
   "cell_type": "code",
   "execution_count": null,
   "metadata": {},
   "outputs": [],
   "source": [
    "T=[[1,0,0],[0,1,0],[0,0,1]]\n",
    "D=[[5,0,0],[0,1,0],[0,0,1]]\n",
    "L=[[1,0,0],[0,1,0],[0,0,1]]"
   ]
  },
  {
   "cell_type": "code",
   "execution_count": null,
   "metadata": {},
   "outputs": [],
   "source": [
    "#OK put in the al_FCt file\n",
    "if ~(B-np.linalg.multi_dot([L,D,T,A])).any():\n",
    "    print(\"C'est correct!\")\n",
    "else :\n",
    "    str='Il faut entrer la/les matrice(s) '\n",
    "    if (np.asmatrix(T)-np.asmatrix([[0,0,1],[0,1,0],[1,0,0]])).any():\n",
    "        str=str+ ' T '\n",
    "    if (np.asmatrix(D)-np.asmatrix([[5,0,0],[0,1,0],[0,0,1]])).any():\n",
    "        str=str+ ' D '\n",
    "    if L!=[[1,0,0],[-2,1,0],[0,0,1]]:\n",
    "        str=str+ ' L '\n",
    "    str=str + 'à nouveau. Le produit des matrices entrées vaut'\n",
    "    print(str)\n",
    "    al.printA(np.linalg.multi_dot([L,D,T,A]))\n",
    "    \n"
   ]
  },
  {
   "cell_type": "code",
   "execution_count": null,
   "metadata": {},
   "outputs": [],
   "source": []
  },
  {
   "cell_type": "code",
   "execution_count": null,
   "metadata": {},
   "outputs": [],
   "source": []
  }
 ],
 "metadata": {
  "kernelspec": {
   "display_name": "Python 3",
   "language": "python",
   "name": "python3"
  },
  "language_info": {
   "codemirror_mode": {
    "name": "ipython",
    "version": 3
   },
   "file_extension": ".py",
   "mimetype": "text/x-python",
   "name": "python",
   "nbconvert_exporter": "python",
   "pygments_lexer": "ipython3",
   "version": "3.7.4"
  }
 },
 "nbformat": 4,
 "nbformat_minor": 2
}
