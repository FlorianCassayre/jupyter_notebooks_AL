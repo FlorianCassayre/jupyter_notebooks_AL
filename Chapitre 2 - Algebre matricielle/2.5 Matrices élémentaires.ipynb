{
 "cells": [
  {
   "cell_type": "markdown",
   "metadata": {},
   "source": [
    "# **Concept(s)-clé(s) et théorie**\n",
    "\n",
    "## Rappel\n",
    "\n",
    "Etant donné une matrice générique $A \\in \\mathcal{M}_{m \\times n}(\\mathbb{R})$, nous définissons les opérations élémentaires de type:\n",
    "* (I): échanger deux lignes de matrice A\n",
    "* (II): multiplier une ligne de matrice A par un scalaire\n",
    "* (III): ajouter à une ligne de matrice A le multiple d'une autre ligne de la même matrice\n",
    "\n",
    "## Définition\n",
    "Une matrice élémentaire (de taille $n \\times n$) est une matrice obtenue en effectuant une (et une seule) opération élémentaire, de type (I), (II) ou (III), sur les lignes de la matrice $I_n$ (i.e. la matrice d'identité de taille $n \\times n$). Concrétement, on adoptera les notations suivantes:\n",
    "\n",
    "* (I) La matrice $T_{ij}$ est la matrice obtenue en échangeant les lignes $i$ et $j$ de $I_n$.\n",
    "* (II) La matrice $D_r(\\lambda)$ est la matrice obtenue en multipliant la $r$-ème ligne de $I_n$ par $\\lambda \\in \\mathbb{R}$.\n",
    "* (III) La matrice $L_{rs}(\\lambda)$ est la matrice obtenue en ajoutant $\\lambda$ fois la ligne $s$ à la ligne $r$ de $I_n$.\n",
    "\n",
    "## Théorème\n",
    "Soient $A \\in \\mathcal{M}_{m \\times n}(\\mathbb{R})$ une matrice arbitraire et $E \\in \\mathcal{M}_{m \\times m}(\\mathbb{R})$ une matrice élémentaire de type (I), (II) ou (III). Alors $EA$  est la matrice obtenue en effectuant sur les lignes de  $A$ l'opération de type (I), (II) ou (III), qui définit la matrice $E$.\n",
    "\n",
    "## Corollaire\n",
    "Les matrices élémentaires sont inversibles. On a en effet:\n",
    "* (I): $T_{ij}^{-1} = T_{ji} = T_{ij}$\n",
    "* (II): $D_r(\\lambda)^{-1} = D_r(\\lambda^{-1})$\n",
    "* (III): $L_{rs}(\\lambda)^{-1} = L_{rs}(-\\lambda)$"
   ]
  },
  {
   "cell_type": "code",
   "execution_count": null,
   "metadata": {},
   "outputs": [],
   "source": [
    "import Librairie.AL_Fct as al\n",
    "import Corrections.corrections as corrections\n",
    "import numpy as np\n",
    "from numpy.linalg import *\n",
    "from ipywidgets import interact_manual"
   ]
  },
  {
   "cell_type": "markdown",
   "metadata": {},
   "source": [
    "## Exercice 1\n",
    "Soient les deux matrices élémentaires ci-dessous.\n",
    "$$\n",
    "E_1=\\begin{pmatrix}\n",
    "1 & 0 & 0 & 0\\\\\n",
    "0 & 1 & 0 & -6 \\\\\n",
    "0 & 0 & 1 &0 \\\\\n",
    "0 & 0 & 0 & 1\n",
    "\\end{pmatrix}\\hspace{3cm}\n",
    "E_2=\\begin{pmatrix}\n",
    "0 & 0 & 1 & 0\\\\\n",
    "0 & 1 & 0 & 0 \\\\\n",
    "1 & 0 & 0 &0 \\\\\n",
    "0 & 0 & 0& 1\n",
    "\\end{pmatrix}\n",
    "$$\n",
    "**ÉTAPE 1**: Laquelle des affirmations ci-dessous est correcte?\n"
   ]
  },
  {
   "cell_type": "code",
   "execution_count": null,
   "metadata": {},
   "outputs": [],
   "source": [
    "corrections.Ex1aChapitre2_5()"
   ]
  },
  {
   "cell_type": "markdown",
   "metadata": {},
   "source": [
    "**ÉTAPE 2**: Donner l'inverse de $E_1E_2$\n",
    "\n",
    "**Aide** \n",
    "Considérez deux matrices inversibles $A, B \\in M_{n \\times n}(\\mathbb{R})$; alors $$(AB)^{- 1}=B^{- 1}A^{- 1}$$\n",
    "\n",
    "*Observation*: Inverser l'effet de $n$ opérations élémentaires consécutives consiste à appliquer l'inverse de chaque opération, de la dernière à la première."
   ]
  },
  {
   "cell_type": "code",
   "execution_count": null,
   "metadata": {},
   "outputs": [],
   "source": [
    "print('Insérez ici la valeur de la matrice inverse')\n",
    "inverse= [[1,0,0,0],[0,1,0,0],[0,0,1,0],[0,0,0,1]]\n",
    "corrections.Ex1bChapitre2_5(inverse)"
   ]
  },
  {
   "cell_type": "markdown",
   "metadata": {},
   "source": [
    "## Exercice 2\n",
    "Soient $A$ et $B$ les deux matrices ci-dessous. \n",
    "\n",
    "$$\n",
    "A=\\begin{pmatrix}\n",
    "-2 &1& 4\\\\\n",
    "1 & 0 & 2\\\\\n",
    "-1 & -\\dfrac{1}{2} & 3\n",
    "\\end{pmatrix}, \\hspace{2em}\n",
    "B=\\begin{pmatrix}\n",
    "-1 & -\\dfrac{1}{2} & 3 \\\\\n",
    "5 & 2 & -10\\\\\n",
    "-10 & 5 & 20\n",
    "\\end{pmatrix}\n",
    "$$"
   ]
  },
  {
   "cell_type": "code",
   "execution_count": null,
   "metadata": {},
   "outputs": [],
   "source": [
    "A=[[-2,1,4],[1,0,2],[-1, -1/2 , 3]]\n",
    "B=[[-1, -1/2, 3],[5, 2, -10],[-10,5,20]]"
   ]
  },
  {
   "cell_type": "markdown",
   "metadata": {},
   "source": [
    "On passe de la matrice $A$ à la matrice $B$ à l'aide de trois matrices élémentaires $T_{ij}$, $D_{r}(\\lambda)$ et $L_{rs}(\\lambda)$\n",
    "$$\n",
    "L_{rs}(\\lambda) \\cdot  D_{r}(\\lambda)\\cdot T_{ij}\\cdot A =B\n",
    "$$\n",
    "\n",
    "**ÉTAPE 1**: Trouvez les 3 matrices et insérez-les ci-dessous."
   ]
  },
  {
   "cell_type": "code",
   "execution_count": null,
   "metadata": {},
   "outputs": [],
   "source": [
    "T=[[1,0,0],[0,1,0],[0,0,1]]\n",
    "D=[[1,0,0],[0,1,0],[0,0,1]]\n",
    "L=[[1,0,0],[0,1,0],[0,0,1]]"
   ]
  },
  {
   "cell_type": "code",
   "execution_count": null,
   "metadata": {},
   "outputs": [],
   "source": [
    "corrections.Ex2aChapitre2_5(A, B, T, D, L)"
   ]
  },
  {
   "cell_type": "markdown",
   "metadata": {},
   "source": [
    "**ÉTAPE 2**: Donner l'inverse de $L_{rs}(\\lambda) \\cdot  D_{r}(\\lambda)\\cdot T_{ij}$"
   ]
  },
  {
   "cell_type": "code",
   "execution_count": null,
   "metadata": {},
   "outputs": [],
   "source": [
    "print('Insérez ici la valeur de la matrice inverse')\n",
    "inverse= [[1,0,0],[0,1,0],[0,0,1]]\n",
    "corrections.Ex2bChapitre2_5(inverse)"
   ]
  },
  {
   "cell_type": "markdown",
   "metadata": {},
   "source": [
    "[Passez au notebook 2.6-7: Critéres d'inversibilité](2.6-2.7%20Critères%20d'inversibilité.ipynb)"
   ]
  }
 ],
 "metadata": {
  "kernelspec": {
   "display_name": "Python 3",
   "language": "python",
   "name": "python3"
  },
  "language_info": {
   "codemirror_mode": {
    "name": "ipython",
    "version": 3
   },
   "file_extension": ".py",
   "mimetype": "text/x-python",
   "name": "python",
   "nbconvert_exporter": "python",
   "pygments_lexer": "ipython3",
   "version": "3.7.4"
  }
 },
 "nbformat": 4,
 "nbformat_minor": 2
}
