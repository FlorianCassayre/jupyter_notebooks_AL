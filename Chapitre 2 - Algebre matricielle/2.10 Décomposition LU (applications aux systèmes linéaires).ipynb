{
 "cells": [
  {
   "cell_type": "markdown",
   "metadata": {},
   "source": [
    "# Concept(s)-clé(s) et théorie\n",
    "\n",
    "## APPLICATION DE LA DÉCOMPOSITION  AUX SYSTÈMES LINÉAIRES \n",
    "Soit un système $Ax=b$ d'équations linéaires aux inconnues $x_1, \\dots, x_n$ et supposons que $A=LU$ où $L$ est triangulaire inférieure et $U$ triangulaire supérieure. Alors on résout le système de la manière suivante :\n",
    "\n",
    "1. Poser $Y = [y_1, y_2, \\dots, y_n]^T$\n",
    "2. Résoudre le système $LY=b$\n",
    "3. Résoudre le sytème $Ux=y$"
   ]
  },
  {
   "cell_type": "code",
   "execution_count": null,
   "metadata": {},
   "outputs": [],
   "source": [
    "import Librairie.AL_Fct as al\n",
    "import Corrections.corrections as corrections\n",
    "from ipywidgets import interact_manual\n",
    "import numpy as np"
   ]
  },
  {
   "cell_type": "markdown",
   "metadata": {},
   "source": [
    "## Exercise 1\n",
    "\n",
    "Consider the linear system $Ax=b$, with $A$ and $b$ given by:\n",
    "\n",
    "\\begin{equation}\n",
    "A =\n",
    "\\begin{bmatrix}\n",
    "1 & -1 & 0 \\\\\n",
    "2 & 0 & 1 \\\\\n",
    "1 & 1 & 1 \n",
    "\\end{bmatrix}\n",
    "\\qquad b = \n",
    "\\begin{bmatrix}\n",
    "2 \\\\\n",
    "1 \\\\\n",
    "-1 \n",
    "\\end{bmatrix}\n",
    "\\end{equation}\n",
    "\n",
    "**Without computing any LU decomposition or explicitely solving the system**, which of the following statements are clearly correct? [Run the next cell]"
   ]
  },
  {
   "cell_type": "code",
   "execution_count": null,
   "metadata": {},
   "outputs": [],
   "source": [
    "corrections.Ex1Chapitre2_10()"
   ]
  },
  {
   "cell_type": "markdown",
   "metadata": {},
   "source": [
    "## Exercise 2 \n",
    "\n",
    "Given a linear system, compute the LU decomposition of A and solve"
   ]
  },
  {
   "cell_type": "markdown",
   "metadata": {},
   "source": [
    "## Exercise 3\n",
    "\n",
    "Show when factorization is useful --> example of problem that requires the solution of the same LS multiple times, but with the same matrix!"
   ]
  }
 ],
 "metadata": {
  "kernelspec": {
   "display_name": "Python 3",
   "language": "python",
   "name": "python3"
  },
  "language_info": {
   "codemirror_mode": {
    "name": "ipython",
    "version": 3
   },
   "file_extension": ".py",
   "mimetype": "text/x-python",
   "name": "python",
   "nbconvert_exporter": "python",
   "pygments_lexer": "ipython3",
   "version": "3.7.4"
  }
 },
 "nbformat": 4,
 "nbformat_minor": 4
}
