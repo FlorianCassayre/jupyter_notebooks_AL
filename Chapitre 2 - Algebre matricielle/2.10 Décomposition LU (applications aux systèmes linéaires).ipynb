{
 "cells": [
  {
   "cell_type": "markdown",
   "metadata": {},
   "source": [
    "# Concept(s)-clé(s) et théorie\n",
    "\n",
    "## APPLICATION DE LA DÉCOMPOSITION  AUX SYSTÈMES LINÉAIRES \n",
    "Soit un système $Ax=b$ d'équations linéaires aux inconnues $x_1, \\dots, x_n$ et supposons que $A=LU$ où $L$ est triangulaire inférieure et $U$ triangulaire supérieure. Alors on résout le système de la manière suivante :\n",
    "\n",
    "1. Poser $Y = [y_1, y_2, \\dots, y_n]^T$\n",
    "2. Résoudre le système $LY=b$  avec la méthode de substitution en avant\n",
    "3. Résoudre le sytème $Ux=y$ avec la méthode de substitution en arrière"
   ]
  },
  {
   "cell_type": "code",
   "execution_count": null,
   "metadata": {},
   "outputs": [],
   "source": [
    "import Librairie.AL_Fct as al\n",
    "import Corrections.corrections as corrections\n",
    "from ipywidgets import interact_manual\n",
    "import numpy as np"
   ]
  },
  {
   "cell_type": "markdown",
   "metadata": {},
   "source": [
    "## Exercise 1\n",
    "\n",
    "Consider the linear system $Ax=b$, with $A$ and $b$ given by:\n",
    "\n",
    "\\begin{equation}\n",
    "A =\n",
    "\\begin{bmatrix}\n",
    "1 & -1 & 0 \\\\\n",
    "2 & 0 & 1 \\\\\n",
    "1 & 1 & 1 \n",
    "\\end{bmatrix}\n",
    "\\qquad b = \n",
    "\\begin{bmatrix}\n",
    "2 \\\\\n",
    "1 \\\\\n",
    "-1 \n",
    "\\end{bmatrix}\n",
    "\\end{equation}\n",
    "\n",
    "**Without computing any LU decomposition or explicitely solving the system**, which of the following statements are clearly correct? [Run the next cell]"
   ]
  },
  {
   "cell_type": "code",
   "execution_count": null,
   "metadata": {},
   "outputs": [],
   "source": [
    "corrections.Ex1Chapitre2_10()"
   ]
  },
  {
   "cell_type": "markdown",
   "metadata": {},
   "source": [
    "## Exercise 2 \n",
    "\n",
    "Consider the linear system $Ax=b$ with $A \\in \\mathbb{R}^{4 \\times 4}$ and $b \\in \\mathbb{R}^{4}$ given by:\n",
    "\n",
    "\\begin{equation}\n",
    "A = \n",
    "\\begin{bmatrix}\n",
    "1 & 0 & -1 & -2 \\\\\n",
    "0 & -2 & -2 & 1 \\\\\n",
    "1 & 2 & 2 & 1 \\\\\n",
    "0 & 1 & 1 & -1\n",
    "\\end{bmatrix}\n",
    "\\qquad b = \n",
    "\\begin{bmatrix}\n",
    "1 \\\\\n",
    "-2 \\\\\n",
    "1 \\\\\n",
    "0\n",
    "\\end{bmatrix}\n",
    "\\end{equation}\n",
    "\n",
    "Taking advantage of LU decomposition, solve the linear system."
   ]
  },
  {
   "cell_type": "code",
   "execution_count": null,
   "metadata": {},
   "outputs": [],
   "source": [
    "A=[[1,0,-1,-2], [0,-2,-2,1], [1,2,2,1], [0,1,1,-1]]\n",
    "b = [[1], [-2], [1], [0]]\n",
    "print('Vous allez échelonner la matrice A')\n",
    "al.printA(A)\n",
    "[i,j,r,alpha]= al.manualEch(A)\n",
    "LList = [np.eye(4)]\n",
    "UList=[np.array(A).astype(float)]\n",
    "print('\\033[1mExecutez la ligne suivante pour effectuer l\\'opération choisie \\033[0m')"
   ]
  },
  {
   "cell_type": "code",
   "execution_count": null,
   "metadata": {},
   "outputs": [],
   "source": [
    "m=al.LU_interactive(i,j,r,alpha, LList, UList)"
   ]
  },
  {
   "cell_type": "markdown",
   "metadata": {},
   "source": [
    "**Insert the values of the temporary variable y and of the system solution x in the following cell**"
   ]
  },
  {
   "cell_type": "code",
   "execution_count": null,
   "metadata": {},
   "outputs": [],
   "source": [
    "y = [[1], [-2], [-2], [-1]]   # temporary variable\n",
    "x = [[-5], [12], [-10], [2]]  # system solution\n",
    "\n",
    "corrections.Ex2Chapitre2_10(LList[-1], UList[-1], b, x, y)"
   ]
  },
  {
   "cell_type": "markdown",
   "metadata": {},
   "source": [
    "## Exercice 3\n",
    "\n",
    "Same as 2, but with under-determined system --> give options"
   ]
  },
  {
   "cell_type": "markdown",
   "metadata": {},
   "source": [
    "## Example 1\n",
    "\n",
    "Show when factorization is useful --> example of problem that requires the solution of the same LS multiple times, but with the same matrix!"
   ]
  }
 ],
 "metadata": {
  "kernelspec": {
   "display_name": "Python 3",
   "language": "python",
   "name": "python3"
  },
  "language_info": {
   "codemirror_mode": {
    "name": "ipython",
    "version": 3
   },
   "file_extension": ".py",
   "mimetype": "text/x-python",
   "name": "python",
   "nbconvert_exporter": "python",
   "pygments_lexer": "ipython3",
   "version": "3.7.4"
  }
 },
 "nbformat": 4,
 "nbformat_minor": 4
}
