{
 "cells": [
  {
   "cell_type": "markdown",
   "metadata": {},
   "source": [
    "# **Concept(s)-clé(s) et théorie**\n",
    "\n",
    "### DÉFINITION 1 :\n",
    "On dit qu'une matrice $A$ est *carrée* si elle est de taille $n\\times n$ pour un certain entier $n\\in \\mathbb{N}^*,$ c'est-à-dire si elle possède le même nombre de lignes et de colonnes. \n",
    "\n",
    "Une matrice est dite *inversible* s'il existe une matrice $B\\in \\mathcal{M}_{n\\times n}(\\mathbb{R})$ telle que: \n",
    "\\begin{equation*}\n",
    "AB=I_n=BA\n",
    "\\end{equation*}\n",
    "où $I_n$ représente la matrice d'identité avec $n$ lignes et $n$ colonnes. Dans ce cas, on dit que $B$ est l'*inverse* de la matrice $A$. On note l'inverse de $A$ par $A^{-1}$.\n",
    "\n",
    "**Remarque** Une matrice inversible est forcément carrée car les produits matriciels $AB$ et $BA$ existent et sont égaux (ils valent $I_n$). Pour la définition du produit matriciel, voir [2.2 Multiplication de matrices](./2.2%Multiplication%de%matrices.ipynb).\n",
    "\n",
    "---\n",
    "### DÉFINITION 2 :\n",
    "Soit $A$ une matrice de taille $m\\times n$ à coefficients réels. La *diagonale principale* de $A$ est la \"ligne oblique\" formée des composantes $(i,i)$ de $A.$\n",
    "\n",
    "---\n",
    "### DÉFINITION 3 :\n",
    "On dit d'une matrice $A=(a_{ij})\\in \\mathcal{M}_{m\\times n}(\\mathbb{R})$ qu'elle est:\n",
    "\n",
    "$\\bullet$ *triangulaire supérieure*  si $a_{ij}=0$ pour tout $i>j$;\n",
    "\n",
    "$\\bullet$ *triangulaire inférieure*  si $a_{ij}=0$ pour tout $i<j$;\n",
    "\n",
    "$\\bullet$ *diagonale* si elle est carrée (i.e. $m=n$) et $a_{ij}=0$ pour tous $1\\leq i,j \\leq n$ tels que $i\\neq j;$\n",
    "\n",
    "$\\bullet$ *symétrique* si elle est carrée et $a_{ij}=a_{ji}$ pour tous $i,j,$ i.e. $A=A^T.$"
   ]
  },
  {
   "cell_type": "code",
   "execution_count": null,
   "metadata": {},
   "outputs": [],
   "source": [
    "import Librairie.AL_Fct as al\n",
    "import Corrections.corrections as corrections\n",
    "import numpy as np\n",
    "from numpy.linalg import *"
   ]
  },
  {
   "cell_type": "markdown",
   "metadata": {},
   "source": [
    "### **Exercice 1**\n",
    "\n",
    "Soit $A$ la matrice\n",
    "$$\n",
    "A=\\begin{pmatrix}\n",
    "-2 & 4/3 & -1\\\\\n",
    "0 & 3 & -5\\\\\n",
    "1/2 & 1 & 1/2\n",
    "\\end{pmatrix}.\n",
    "$$\n",
    "\n",
    "Trouver une matrice $B$ et une matrice $C$ telles que:\n",
    "1. $A + B$ soit diagonale\n",
    "2. $A + C$ soit symétrique mais non diagonale\n"
   ]
  },
  {
   "cell_type": "code",
   "execution_count": null,
   "metadata": {},
   "outputs": [],
   "source": [
    "# Reportez ici le matrices B et C\n",
    "A=[[-2, 4/3,-1],[0,3,-5],[1/2,1,1/2]]\n",
    "B=[[0,0,0],[0,0,0],[0,0,0]]\n",
    "C=[[0,0,0],[0,0,0],[0,0,0]]"
   ]
  },
  {
   "cell_type": "code",
   "execution_count": null,
   "metadata": {},
   "outputs": [],
   "source": [
    "print('La matrice B entrée est:')\n",
    "al.printA(B)\n",
    "print('La matrice C entrée est:')\n",
    "al.printA(C)"
   ]
  },
  {
   "cell_type": "code",
   "execution_count": null,
   "metadata": {},
   "outputs": [],
   "source": [
    "corrections.Ex1Chapitre2_3(A,B,C)"
   ]
  },
  {
   "cell_type": "markdown",
   "metadata": {},
   "source": [
    "### **Exemple 1**\n",
    "\n",
    "Soit $A$ la matrice carrée $3\\times 3$ donnée par\n",
    "$$\n",
    "A=\\begin{pmatrix}\n",
    "1 & 2 & 3\\\\\n",
    "0 & -1 & 0\\\\\n",
    "0 & 2 & 3\n",
    "\\end{pmatrix}\n",
    "$$\n",
    "\n",
    "Nous allons trouver l'inverse de $A$ en appliquant des oéprations élémentaires à la matrice $(A|I)$ (il s'agit de la matrice $A$ augmentée de la matrice $I$, où $I$ est la matrice identité de la même dimension que $A$). Les opérations élémentaires que nous appliquons à $(A|I)$ sont les suivantes:\n",
    "1. $L_1-L_3$\n",
    "2. $(-1)L_2$\n",
    "3. $L_3-2L_2$\n",
    "4. $\\dfrac{1}{3}L_3$\n",
    "\n",
    "où $L_i$ représente la i-ème ligne de la matrice $(A|I)$. En particulier, nous allons transformer $(A|I)$ en la nouvelle matrice augmentée $(I|\\tilde{A})$. À la place de $A$ nous aurons l'identité $I$ et, en même temps, à la place de $I$ nous aurons une matrice $\\tilde{A}$ de taille $n\\times n$. Cette matrice $\\tilde{A}$ est enfait l'inverse de $A$. Nous avons le schéma suivant\n",
    "$$\n",
    "(A|I) \\sim \\quad \\stackrel{\\text{op. élémentaires}}{\\ldots\\ldots\\ldots}  \\quad\\sim (I|A^{-1})\n",
    "$$\n",
    "\n",
    "**Remarque** Cet algorithme n'est rien d'autre que l'algorithme de Gauss expliqué dans le chapitre [](). La forme échelonnée réduite de la matrice $A$ sera l'identité $I$. Il s'agira d'une des propriétés des matrices inversibles. Nous pouvons donc reformuler l'algorithme ci-dessus de la manière suivante: appliquer à $(A|I)$ des opérations élémentaires jusqu'à obtenir la forme échelonnée de la matrice $A$ à gauche. L'inverse de la matrice $A$ sera la matirce obtenue à droite. "
   ]
  },
  {
   "cell_type": "code",
   "execution_count": null,
   "metadata": {},
   "outputs": [],
   "source": [
    "A=[[1,2,3],[0,-1,0],[0,2,3]]\n",
    "I=[[1,0,0],[0,1,0],[0,0,1]]\n",
    "\n",
    "print(\"Appliquer les opérations élémentaires données pour obtenir l'identité à gauche (la forme échelonnée de A).\\n\"\n",
    "      \"L'inverse de A se trouvera alors à droite, la où il y avait\" \n",
    "      \"à l'origine la matrice identité I.\")\n",
    "al.printA(A,I)\n",
    "[i,j,r,alpha]= al.manualEch(A,I)\n",
    "m=np.concatenate((A,I), axis=1)\n",
    "MatriceList=[A]\n",
    "RhSList=[I]\n"
   ]
  },
  {
   "cell_type": "code",
   "execution_count": null,
   "metadata": {},
   "outputs": [],
   "source": [
    "m=al.echelonnage(i,j,r,alpha,A,m,MatriceList,RhSList)"
   ]
  },
  {
   "cell_type": "code",
   "execution_count": null,
   "metadata": {},
   "outputs": [],
   "source": [
    "print('La matrice inverse de A est donnée par: ' )\n",
    "al.printA(inv(A))\n",
    "print('Le produit entre A et son inverse est en effet égal à: ')\n",
    "I=np.dot(A,inv(A))\n",
    "al.printA(I)"
   ]
  },
  {
   "cell_type": "markdown",
   "metadata": {},
   "source": [
    "### **Exercice 2**\n",
    "\n",
    "Soit $A$ la matrice ci-dessous\n",
    "$$\n",
    "A=\\begin{pmatrix}\n",
    "-1 & 0 & 0 \\\\\n",
    "3 & \\dfrac{1}{2} & 0 \\\\\n",
    "1 & 2 & 1 \n",
    "\\end{pmatrix}.\n",
    "$$\n",
    "\n",
    "Laquelle des affirmations ci-dessous est correcte?\n"
   ]
  },
  {
   "cell_type": "code",
   "execution_count": null,
   "metadata": {},
   "outputs": [],
   "source": [
    "corrections.Ex2Chapitre2_3()"
   ]
  },
  {
   "cell_type": "markdown",
   "metadata": {},
   "source": [
    "[Passez au notebook 2.4: Systèmes d'équations et matrices](2.4%20Systèmes%20d'équations%20et%20matrices.ipynb)"
   ]
  }
 ],
 "metadata": {
  "kernelspec": {
   "display_name": "Python 3",
   "language": "python",
   "name": "python3"
  },
  "language_info": {
   "codemirror_mode": {
    "name": "ipython",
    "version": 3
   },
   "file_extension": ".py",
   "mimetype": "text/x-python",
   "name": "python",
   "nbconvert_exporter": "python",
   "pygments_lexer": "ipython3",
   "version": "3.6.9"
  }
 },
 "nbformat": 4,
 "nbformat_minor": 4
}
