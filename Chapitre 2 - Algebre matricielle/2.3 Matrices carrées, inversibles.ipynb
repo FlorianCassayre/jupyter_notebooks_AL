{
 "cells": [
  {
   "cell_type": "markdown",
   "metadata": {},
   "source": [
    "# **Concept(s)-clé(s) et théorie**\n",
    "\n",
    "### DÉFINITION 1 :\n",
    "On dit qu'une matrice $A$ est *carrée* si elle est de taille $n\\times n$ pour un certain entier $n\\in \\mathbb{N}^*,$ c'est-à-dire si elle possède le même nombre de lignes et de colonnes. Aussi, une telle matrice est dite *inversible* s'il existe une matrice $B\\in M_{n\\times n}(\\mathbb{R})$ telle que: \n",
    "\\begin{equation*}\n",
    "AB=I_n=BA\n",
    "\\end{equation*}\n",
    "où $I_n$ représente la matrice d'identité avec $n$ lignes et $n$ colonnes. Dans ce cas, on dit que $B$ est l'*inverse* de la matrice $A$.\n",
    "\n",
    "---\n",
    "### DÉFINITION 2 :\n",
    "Soit $A$ une matrice de taille $m\\times n$ à coefficients réels. La *diagonale principale* de $A$ est la \"ligne oblique\" formée des composantes $(i,i)$ de $A.$\n",
    "\n",
    "---\n",
    "### DÉFINITION 3 :\n",
    "On dit d'une matrice $A=(a_{ij})\\in M_{m\\times n}(\\mathbb{R})$) qu'elle est:\n",
    "\n",
    "$\\bullet$ *triangulaire supérieure*  si $a_{ij}=0$ pour tout $i>j$;\n",
    "\n",
    "$\\bullet$ *triangulaire inférieure*  si $a_{ij}=0$ pour tout $i<j$;\n",
    "\n",
    "$\\bullet$ *diagonale* si elle est carrée (i.e. $m=n$) et $a_{ij}=0$ pour tous $1\\leq i,j \\leq n$ tels que $i\\neq j;$\n",
    "\n",
    "$\\bullet$ *symétrique* si elle est carrée et $a_{ij}=a_{ji}$ pour tous $i,j,$ i.e. $A=A^T.$"
   ]
  },
  {
   "cell_type": "code",
   "execution_count": 1,
   "metadata": {},
   "outputs": [
    {
     "data": {
      "text/html": [
       "        <script type=\"text/javascript\">\n",
       "        window.PlotlyConfig = {MathJaxConfig: 'local'};\n",
       "        if (window.MathJax) {MathJax.Hub.Config({SVG: {font: \"STIX-Web\"}});}\n",
       "        if (typeof require !== 'undefined') {\n",
       "        require.undef(\"plotly\");\n",
       "        requirejs.config({\n",
       "            paths: {\n",
       "                'plotly': ['https://cdn.plot.ly/plotly-latest.min']\n",
       "            }\n",
       "        });\n",
       "        require(['plotly'], function(Plotly) {\n",
       "            window._Plotly = Plotly;\n",
       "        });\n",
       "        }\n",
       "        </script>\n",
       "        "
      ]
     },
     "metadata": {},
     "output_type": "display_data"
    },
    {
     "data": {
      "text/html": [
       "        <script type=\"text/javascript\">\n",
       "        window.PlotlyConfig = {MathJaxConfig: 'local'};\n",
       "        if (window.MathJax) {MathJax.Hub.Config({SVG: {font: \"STIX-Web\"}});}\n",
       "        if (typeof require !== 'undefined') {\n",
       "        require.undef(\"plotly\");\n",
       "        requirejs.config({\n",
       "            paths: {\n",
       "                'plotly': ['https://cdn.plot.ly/plotly-latest.min']\n",
       "            }\n",
       "        });\n",
       "        require(['plotly'], function(Plotly) {\n",
       "            window._Plotly = Plotly;\n",
       "        });\n",
       "        }\n",
       "        </script>\n",
       "        "
      ]
     },
     "metadata": {},
     "output_type": "display_data"
    }
   ],
   "source": [
    "import Librairie.AL_Fct as al\n",
    "import Corrections.corrections as corrections\n",
    "import numpy as np\n",
    "from numpy.linalg import *"
   ]
  },
  {
   "cell_type": "markdown",
   "metadata": {},
   "source": [
    "### **Exercice 1**\n",
    "\n",
    "Soit $A$ la matrice\n",
    "$$\n",
    "A=\\begin{bmatrix}\n",
    "-2 & 4/3 & -1\\\\\n",
    "0 & 3 & -5\\\\\n",
    "1/2 & 1 & 1/2\n",
    "\\end{bmatrix}.\n",
    "$$\n",
    "\n",
    "Trouver une matrice $B$ et une matrice $C$ telles que:\n",
    "1. $A + B$ soit diagonale\n",
    "2. $A + C$ soit symétrique mais non diagonale\n"
   ]
  },
  {
   "cell_type": "code",
   "execution_count": null,
   "metadata": {},
   "outputs": [],
   "source": [
    "# Reportez ici le matrices B et C\n",
    "A=[[-2, 4/3,-1],[0,3,-5],[1/2,1,1/2]]\n",
    "B=[[0,0,0],[0,0,0],[0,0,0]]\n",
    "C=[[0,0,0],[0,0,0],[0,0,0]]"
   ]
  },
  {
   "cell_type": "code",
   "execution_count": null,
   "metadata": {},
   "outputs": [],
   "source": [
    "print('La matrice B entrée est:')\n",
    "al.printA(B)\n",
    "print('La matrice C entrée est:')\n",
    "al.printA(C)"
   ]
  },
  {
   "cell_type": "code",
   "execution_count": null,
   "metadata": {},
   "outputs": [],
   "source": [
    "corrections.Ex1Chapitre2_3(A,B,C)"
   ]
  },
  {
   "cell_type": "markdown",
   "metadata": {},
   "source": [
    "### **Exemple 1**\n",
    "\n",
    "Soit $A$ la matrice carrée $3\\times 3$ donnée par\n",
    "$$\n",
    "A=\\begin{bmatrix}\n",
    "1 & 2 & 3\\\\\n",
    "0 & -1 & 0\\\\\n",
    "0 & 2 & 3\n",
    "\\end{bmatrix}\n",
    "$$\n",
    "\n",
    "Nous allons trouver l'inverse de $A$ en appliquant à la matrice $A|I$ (étant $I$ la matrice d'identité de la même dimension de $A$) les opérations élémentaires suivantes:\n",
    "1. $L_1-L_3$\n",
    "2. $(-1)L_2$\n",
    "3. $L_3-2L_2$\n",
    "4. $\\dfrac{1}{3}L_3$\n",
    "\n",
    "où $L_i$ représente la i-ème ligne de la matrice $A|I$. En particulier, nous obtiendrons la forme échelonnée réduite de $A$ à la place de $A$ et, en même temps, nous trouverons l'expression de la inverse de $A$ à la place de $I$."
   ]
  },
  {
   "cell_type": "code",
   "execution_count": null,
   "metadata": {},
   "outputs": [],
   "source": [
    "A=[[1,2,3],[0,-1,0],[0,2,3]]\n",
    "I=[[1,0,0],[0,1,0],[0,0,1]]\n",
    "\n",
    "print(\"Appliquer l'opération élémentaire précitée pour obtenir la forme échelonnée reduit\" \n",
    "      \"de la matrice A; alors vous pouvez lire l'expression de l'inverse de A où il y avait\" \n",
    "      \"à l'origine la matrice d'identité I.\")\n",
    "al.printA(A,I)\n",
    "[i,j,r,alpha]= al.manualEch(A,I)\n",
    "m=np.concatenate((A,I), axis=1)\n",
    "MatriceList=[A]\n",
    "RhSList=[I]"
   ]
  },
  {
   "cell_type": "code",
   "execution_count": null,
   "metadata": {},
   "outputs": [],
   "source": [
    "m=al.echelonnage(i,j,r,alpha,A,m,MatriceList,RhSList)"
   ]
  },
  {
   "cell_type": "code",
   "execution_count": null,
   "metadata": {},
   "outputs": [],
   "source": [
    "print('La matrice inverse de A est donnée par: ' )\n",
    "al.printA(inv(A))\n",
    "print('Le produit entre A et son inverse est en effet égal à: ')\n",
    "I=np.dot(A,inv(A))\n",
    "al.printA(I)"
   ]
  },
  {
   "cell_type": "markdown",
   "metadata": {},
   "source": [
    "### **Exercice 2**\n",
    "\n",
    "Soit $A$ la matrice ci-dessous\n",
    "$$\n",
    "A=\\begin{bmatrix}\n",
    "-1 & 0 & 0 \\\\\n",
    "3 & \\dfrac{1}{2} & 0 \\\\\n",
    "1 & 2 & 1 \n",
    "\\end{bmatrix}.\n",
    "$$\n",
    "\n",
    "Laquelle des affirmations ci-dessous est correcte?\n"
   ]
  },
  {
   "cell_type": "code",
   "execution_count": 3,
   "metadata": {},
   "outputs": [
    {
     "data": {
      "application/vnd.jupyter.widget-view+json": {
       "model_id": "56005b6712f84d55b4810da796178f66",
       "version_major": 2,
       "version_minor": 0
      },
      "text/plain": [
       "interactive(children=(Checkbox(value=False, description='$(A^{-1})^T$ et $(A^T)^{-1}$ sont triangulaires supér…"
      ]
     },
     "metadata": {},
     "output_type": "display_data"
    }
   ],
   "source": [
    "corrections.Ex2Chapitre2_3()"
   ]
  },
  {
   "cell_type": "markdown",
   "metadata": {},
   "source": [
    "[Passez au notebook 2.4: Systèmes d'équations et matrices](2.4%20Systèmes%20d'équations%20et%20matrices.ipynb)"
   ]
  }
 ],
 "metadata": {
  "kernelspec": {
   "display_name": "Python 3",
   "language": "python",
   "name": "python3"
  },
  "language_info": {
   "codemirror_mode": {
    "name": "ipython",
    "version": 3
   },
   "file_extension": ".py",
   "mimetype": "text/x-python",
   "name": "python",
   "nbconvert_exporter": "python",
   "pygments_lexer": "ipython3",
   "version": "3.7.4"
  }
 },
 "nbformat": 4,
 "nbformat_minor": 2
}
