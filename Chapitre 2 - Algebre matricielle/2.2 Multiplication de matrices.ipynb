{
 "cells": [
  {
   "cell_type": "markdown",
   "metadata": {},
   "source": [
    "# **Concept(s)-clé(s) et théorie**\n",
    "\n",
    "Soient $A\\in M_{m\\times p}(\\mathbb{R})$ et $B\\in M_{p\\times n}(\\mathbb{R}).$ On définit *le produit* $A\\cdot B \\in M_{m\\times n}(\\mathbb{R})$ comme étant la matrice satisfaisant \n",
    "$$\n",
    "(A\\cdot B)_{ij}=\\sum_{k=1}^p{A_{ik}B_{kj}},\n",
    "$$\n",
    "\n",
    "ceci pour tout $1\\leq i \\leq m$ et tout $1\\leq j\\leq n.$"
   ]
  },
  {
   "cell_type": "code",
   "execution_count": 1,
   "metadata": {},
   "outputs": [
    {
     "data": {
      "text/html": [
       "        <script type=\"text/javascript\">\n",
       "        window.PlotlyConfig = {MathJaxConfig: 'local'};\n",
       "        if (window.MathJax) {MathJax.Hub.Config({SVG: {font: \"STIX-Web\"}});}\n",
       "        if (typeof require !== 'undefined') {\n",
       "        require.undef(\"plotly\");\n",
       "        requirejs.config({\n",
       "            paths: {\n",
       "                'plotly': ['https://cdn.plot.ly/plotly-latest.min']\n",
       "            }\n",
       "        });\n",
       "        require(['plotly'], function(Plotly) {\n",
       "            window._Plotly = Plotly;\n",
       "        });\n",
       "        }\n",
       "        </script>\n",
       "        "
      ]
     },
     "metadata": {},
     "output_type": "display_data"
    },
    {
     "data": {
      "text/html": [
       "        <script type=\"text/javascript\">\n",
       "        window.PlotlyConfig = {MathJaxConfig: 'local'};\n",
       "        if (window.MathJax) {MathJax.Hub.Config({SVG: {font: \"STIX-Web\"}});}\n",
       "        if (typeof require !== 'undefined') {\n",
       "        require.undef(\"plotly\");\n",
       "        requirejs.config({\n",
       "            paths: {\n",
       "                'plotly': ['https://cdn.plot.ly/plotly-latest.min']\n",
       "            }\n",
       "        });\n",
       "        require(['plotly'], function(Plotly) {\n",
       "            window._Plotly = Plotly;\n",
       "        });\n",
       "        }\n",
       "        </script>\n",
       "        "
      ]
     },
     "metadata": {},
     "output_type": "display_data"
    }
   ],
   "source": [
    "import Librairie.AL_Fct as al\n",
    "import Corrections.corrections as corrections"
   ]
  },
  {
   "cell_type": "markdown",
   "metadata": {},
   "source": [
    "### **Exercice 1**\n",
    "Soient $A$ et $B$ données par\n",
    "$$\n",
    "A=\\begin{bmatrix}\n",
    "1 & 2 \\\\\n",
    "3 & -1\\\\\n",
    "2 & 0\\\\\n",
    "\\end{bmatrix}\\hskip2em\n",
    "B=\\begin{bmatrix}\n",
    "-1 & 2\\\\\n",
    "0 & 3\\\\\n",
    "\\end{bmatrix}\n",
    "$$\n",
    "\n",
    "Alors:"
   ]
  },
  {
   "cell_type": "code",
   "execution_count": null,
   "metadata": {},
   "outputs": [],
   "source": [
    "corrections.Ex1Chapitre2_2()    "
   ]
  },
  {
   "cell_type": "markdown",
   "metadata": {},
   "source": [
    "### **Exercice 2**\n",
    "\n",
    "Soient $A$ et $B$ données par\n",
    "$$\n",
    "A=\\begin{bmatrix}\n",
    "5 & 2  &-2\\\\\n",
    "3 & -1 & 0\n",
    "\\end{bmatrix}\\hskip2em\n",
    "B=\\begin{bmatrix}\n",
    "2 \\\\\n",
    "0\\\\\n",
    "-2\n",
    "\\end{bmatrix}\n",
    "$$\n",
    "\n",
    "Alors: "
   ]
  },
  {
   "cell_type": "code",
   "execution_count": null,
   "metadata": {},
   "outputs": [],
   "source": [
    "corrections.Ex2Chapitre2_2()"
   ]
  },
  {
   "cell_type": "markdown",
   "metadata": {},
   "source": [
    "## Exercice 3\n",
    "\n",
    "Soient $A$ et $B$ deux matrices de taille $2\\times 2$ données par\n",
    "\n",
    "$$\n",
    "A=\\begin{bmatrix}\n",
    "-1 & 2 \\\\\n",
    "5 & -2\n",
    "\\end{bmatrix}\\hspace{2em}\n",
    "B=\\begin{bmatrix}\n",
    "-1 & 1 \\\\\n",
    "a & b\n",
    "\\end{bmatrix}\n",
    "$$\n",
    "\n",
    "Trouver les valeurs de $a$ et $b$ - si elles existentent - telles que\n",
    "$$\n",
    "AB=BA\n",
    "$$"
   ]
  },
  {
   "cell_type": "code",
   "execution_count": 2,
   "metadata": {},
   "outputs": [
    {
     "data": {
      "text/latex": [
       "Insert the values of a and b as floating point numbers"
      ],
      "text/plain": [
       "<IPython.core.display.Latex object>"
      ]
     },
     "metadata": {},
     "output_type": "display_data"
    },
    {
     "data": {
      "application/vnd.jupyter.widget-view+json": {
       "model_id": "8e959a52307c4f5d888166cffd3021c2",
       "version_major": 2,
       "version_minor": 0
      },
      "text/plain": [
       "FloatText(value=0.0, description='a:', step=0.1)"
      ]
     },
     "metadata": {},
     "output_type": "display_data"
    },
    {
     "data": {
      "application/vnd.jupyter.widget-view+json": {
       "model_id": "9d76ced0d2d54c26bd742253f924012e",
       "version_major": 2,
       "version_minor": 0
      },
      "text/plain": [
       "FloatText(value=0.0, description='b:', step=0.1)"
      ]
     },
     "metadata": {},
     "output_type": "display_data"
    },
    {
     "data": {
      "application/vnd.jupyter.widget-view+json": {
       "model_id": "27b75cb69a9d4aeba95c0594692fb47c",
       "version_major": 2,
       "version_minor": 0
      },
      "text/plain": [
       "interactive(children=(Button(description='Run Interact', style=ButtonStyle()), Output()), _dom_classes=('widge…"
      ]
     },
     "metadata": {},
     "output_type": "display_data"
    }
   ],
   "source": [
    "corrections.Ex3Chapitre2_2()"
   ]
  },
  {
   "cell_type": "markdown",
   "metadata": {},
   "source": [
    "[Passez au notebook du chapitre 2.3: Matrices carées, inversibles](./2.3%20Matrices%20carrées%2C%20inversibles.ipynb)"
   ]
  }
 ],
 "metadata": {
  "kernelspec": {
   "display_name": "Python 3",
   "language": "python",
   "name": "python3"
  },
  "language_info": {
   "codemirror_mode": {
    "name": "ipython",
    "version": 3
   },
   "file_extension": ".py",
   "mimetype": "text/x-python",
   "name": "python",
   "nbconvert_exporter": "python",
   "pygments_lexer": "ipython3",
   "version": "3.7.4"
  }
 },
 "nbformat": 4,
 "nbformat_minor": 2
}
