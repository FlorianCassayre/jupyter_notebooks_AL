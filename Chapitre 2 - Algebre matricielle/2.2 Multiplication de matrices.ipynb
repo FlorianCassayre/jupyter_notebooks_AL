{
 "cells": [
  {
   "cell_type": "markdown",
   "metadata": {},
   "source": [
    "# **Concept(s)-clé(s) et théorie**\n",
    "\n",
    "Soient $A\\in \\mathcal{M}_{m\\times p}(\\mathbb{R})$ et $B\\in \\mathcal{M}_{p\\times n}(\\mathbb{R}).$ On définit *le produit matriciel* $A B \\in \\mathcal{M}_{m\\times n}(\\mathbb{R})$ comme étant la matrice satisfaisant \n",
    "$$\n",
    "(A B)_{ij}=\\sum_{k=1}^p{a_{ik}b_{kj}},\n",
    "$$\n",
    "\n",
    "ceci pour tout $1\\leq i \\leq m$ et tout $1\\leq j\\leq n.$\n",
    "\n",
    "**Remarque** On remarque que les matrices $A$ et $B$ sont de la taille $m\\times \\color{red}p$ et $\\color{red}p\\times n$ respectivement. Ceci veut dire que le nombre de colonnes de $A$ ($\\color{red}p$ colonnes) est égal au nombre de lignes de $B$ ($\\color{red}p$ lignes). Sans cette condition, le produit matriciel n'existe pas!"
   ]
  },
  {
   "cell_type": "code",
   "execution_count": null,
   "metadata": {},
   "outputs": [],
   "source": [
    "import Librairie.AL_Fct as al\n",
    "import Corrections.corrections as corrections"
   ]
  },
  {
   "cell_type": "markdown",
   "metadata": {},
   "source": [
    "### **Exercice 1**\n",
    "Soient $A$ et $B$ données par\n",
    "$$\n",
    "A=\\begin{pmatrix}\n",
    "1 & 2 \\\\\n",
    "3 & -1\\\\\n",
    "2 & 0\\\\\n",
    "\\end{pmatrix}\\hskip2em\n",
    "B=\\begin{pmatrix}\n",
    "-1 & 2\\\\\n",
    "0 & 3\\\\\n",
    "\\end{pmatrix}\n",
    "$$\n",
    "\n",
    "Alors le produit matriciel $AB$ vaut: "
   ]
  },
  {
   "cell_type": "code",
   "execution_count": 1,
   "metadata": {},
   "outputs": [
    {
     "ename": "NameError",
     "evalue": "name 'corrections' is not defined",
     "output_type": "error",
     "traceback": [
      "\u001b[0;31m---------------------------------------------------------------------------\u001b[0m",
      "\u001b[0;31mNameError\u001b[0m                                 Traceback (most recent call last)",
      "\u001b[0;32m<ipython-input-1-b0d2a8bb2d3c>\u001b[0m in \u001b[0;36m<module>\u001b[0;34m\u001b[0m\n\u001b[0;32m----> 1\u001b[0;31m \u001b[0mcorrections\u001b[0m\u001b[0;34m.\u001b[0m\u001b[0mEx1Chapitre2_2\u001b[0m\u001b[0;34m(\u001b[0m\u001b[0;34m)\u001b[0m\u001b[0;34m\u001b[0m\u001b[0;34m\u001b[0m\u001b[0m\n\u001b[0m\u001b[1;32m      2\u001b[0m \u001b[0;31m#Here : modif in corrections remove Le produit AB vaut and leave AB=... with round parenthesis and no dots to avoid confusion with dot product.\u001b[0m\u001b[0;34m\u001b[0m\u001b[0;34m\u001b[0m\u001b[0;34m\u001b[0m\u001b[0m\n\u001b[1;32m      3\u001b[0m \u001b[0;31m#Also Le produit AB n'est pas défini\u001b[0m\u001b[0;34m\u001b[0m\u001b[0;34m\u001b[0m\u001b[0;34m\u001b[0m\u001b[0m\n",
      "\u001b[0;31mNameError\u001b[0m: name 'corrections' is not defined"
     ]
    }
   ],
   "source": [
    "corrections.Ex1Chapitre2_2()  "
   ]
  },
  {
   "cell_type": "markdown",
   "metadata": {},
   "source": [
    "### **Exercice 2**\n",
    "\n",
    "Soient $A$ et $B$ données par\n",
    "$$\n",
    "A=\\begin{pmatrix}\n",
    "5 & 2  &-2\\\\\n",
    "3 & -1 & 0\n",
    "\\end{pmatrix}\\hskip2em\n",
    "B=\\begin{pmatrix}\n",
    "2 \\\\\n",
    "0\\\\\n",
    "-2\n",
    "\\end{pmatrix}\n",
    "$$\n",
    "\n",
    "Alors:"
   ]
  },
  {
   "cell_type": "code",
   "execution_count": null,
   "metadata": {},
   "outputs": [],
   "source": [
    "corrections.Ex2Chapitre2_2()"
   ]
  },
  {
   "cell_type": "markdown",
   "metadata": {},
   "source": [
    "## Exercice 3\n",
    "\n",
    "Soient $A$ et $B$ deux matrices de taille $2\\times 2$ données par\n",
    "\n",
    "$$\n",
    "A=\\begin{pmatrix}\n",
    "-1 & 2 \\\\\n",
    "5 & -2\n",
    "\\end{pmatrix}\\hspace{2em}\n",
    "B=\\begin{pmatrix}\n",
    "-1 & 1 \\\\\n",
    "a & b\n",
    "\\end{pmatrix}\n",
    "$$\n",
    "\n",
    "Trouver les valeurs de $a$ et $b$ - si elles existentent - telles que\n",
    "$$\n",
    "AB=BA\n",
    "$$"
   ]
  },
  {
   "cell_type": "code",
   "execution_count": null,
   "metadata": {},
   "outputs": [],
   "source": [
    "corrections.Ex3Chapitre2_2()"
   ]
  },
  {
   "cell_type": "markdown",
   "metadata": {},
   "source": [
    "[Passez au notebook du chapitre 2.3: Matrices carées, inversibles](./2.3%20Matrices%20carrées%2C%20inversibles.ipynb)"
   ]
  }
 ],
 "metadata": {
  "kernelspec": {
   "display_name": "Python 3",
   "language": "python",
   "name": "python3"
  },
  "language_info": {
   "codemirror_mode": {
    "name": "ipython",
    "version": 3
   },
   "file_extension": ".py",
   "mimetype": "text/x-python",
   "name": "python",
   "nbconvert_exporter": "python",
   "pygments_lexer": "ipython3",
   "version": "3.7.4"
  }
 },
 "nbformat": 4,
 "nbformat_minor": 4
}
