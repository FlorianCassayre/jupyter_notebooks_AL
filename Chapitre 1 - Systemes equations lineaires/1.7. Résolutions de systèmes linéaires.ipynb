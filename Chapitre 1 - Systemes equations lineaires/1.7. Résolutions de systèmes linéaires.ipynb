{
 "cells": [
  {
   "cell_type": "markdown",
   "metadata": {},
   "source": [
    "# Concept(s)-clé(s) et théorie\n",
    "\n",
    "DÉFINITION 1 :\n",
    "Soit $B$ une matrice échelonnée. Alors les inconnues (du système linéaire associé) dont la colonne correspondante ne possède pas de pivot sont appelées les inconnues libres. Les inconnues dont la colonne correspondante possède un pivot sont appelées les inconnues principales.\n",
    "\n",
    "MÉTHODE DE RÉSOLUTION DE SYSTÈMES LINÉAIRES :\n",
    "Soit $S$ un système linéaire à $n$ inconnues. Afin de trouver l'ensemble des solutions de $S$, on procède comme suit :\n",
    "\n",
    "1. Poser A la matrice augmentée du système.\n",
    "2. Utiliser la méthode d'élimination de Gauss afin de transformer A en une matrice échelonnée B.\n",
    "3. Si la matrice B possède une ligne de la forme $(0\\, 0 \\,⋯ \\,0 \\,|\\, c )$ avec $c\\neq 0$, alors le système ne possède aucune solution.\n",
    "4. S'il existe n pivots, aucun dans la dernière colonne, alors il existe une unique solution.\n",
    "5. S'il existe moins de n pivots, aucun dans la dernière colonne, alors il existe un nombre infini de solutions.\n",
    "\n"
   ]
  },
  {
   "cell_type": "code",
   "execution_count": null,
   "metadata": {},
   "outputs": [],
   "source": [
    "import AL_Fct as al\n",
    "import numpy as np\n",
    "import ipywidgets as widgets\n",
    "import random\n",
    "\n",
    "from ipywidgets import interact, interactive, fixed, interact_manual, Layout"
   ]
  },
  {
   "cell_type": "markdown",
   "metadata": {},
   "source": [
    "### **EXERCICE 1**\n",
    "\n",
    "Trouver la solution du système en échelonnant la matrice augmentée correspondante\n",
    "\n",
    "$$\n",
    "\\begin{cases}\n",
    "-2x_1 + \\dfrac{2}{3}x_2 -x_3&=0\\\\\n",
    "x_1 -2x_2 + x_3&=2\\\\\n",
    "x_2 -5 x_3&=-3\n",
    "\\end{cases}\n",
    "$$\n"
   ]
  },
  {
   "cell_type": "code",
   "execution_count": null,
   "metadata": {},
   "outputs": [],
   "source": [
    "A=[[-2,2/3,-1],[1,-2,1],[0,1,-5]]\n",
    "b=[[0],[2], [-3]]\n",
    "print('Vous allez échelonner la matrice')\n",
    "al.printA(A,b)\n",
    "[i,j,r,alpha]= al.manualEch(A,b)\n",
    "m=np.concatenate((A,b), axis=1)\n",
    "MatriceList=[A]\n",
    "RhSList=[b]"
   ]
  },
  {
   "cell_type": "code",
   "execution_count": null,
   "metadata": {},
   "outputs": [],
   "source": [
    "m=al.echelonnage(i,j,r,alpha,A,m,MatriceList,RhSList)"
   ]
  },
  {
   "cell_type": "markdown",
   "metadata": {},
   "source": [
    "### **Exercice 2**\n",
    "\n",
    "Soient les 4 systèmes ci-dessous. À l'aide de l'algorithme de Gauss, déterminer ceux qui sont consitants et inconsisitants. \n",
    "\n",
    "$$\n",
    "a) \\begin{cases}\n",
    "-2x_1 + 8x_2&=0\\\\\n",
    "\\dfrac{1}{2}x_1 -2 &=0\n",
    "\\end{cases}\\hskip1.2em\n",
    "b)\\begin{cases}\n",
    "x_1 + 3 x_2 &=-1\\\\\n",
    "-2x_1 -6 x_2&=-2\n",
    "\\end{cases}\\hskip1.2em\n",
    "c) \\begin{cases}\n",
    "x_1 -2x_3&=3\\\\\n",
    "2x_2 +x_3&=0\\\\\n",
    "-x_1 + x_2 + 2x_3&=2\n",
    "\\end{cases}\\hskip1.2em\n",
    "d) \\begin{cases}\n",
    "x_1 + x_2 + x_3&=1\\\\\n",
    "-x_1 + x_2 + x_3 &=-1\\\\\n",
    "-x_2 -x_3&=0\n",
    "\\end{cases}\n",
    "$$"
   ]
  },
  {
   "cell_type": "code",
   "execution_count": null,
   "metadata": {},
   "outputs": [],
   "source": [
    "A=[[-2,8],[1/2,-2]]\n",
    "b=[[0],[0]]"
   ]
  },
  {
   "cell_type": "code",
   "execution_count": null,
   "metadata": {},
   "outputs": [],
   "source": [
    "print('Vous allez échelonner la matrice')\n",
    "al.printA(A,b)\n",
    "[i,j,r,alpha]= al.manualEch(A,b)\n",
    "m=np.concatenate((A,b), axis=1)\n",
    "MatriceList=[A]\n",
    "RhSList=[b]"
   ]
  },
  {
   "cell_type": "code",
   "execution_count": null,
   "metadata": {},
   "outputs": [],
   "source": [
    "m=al.echelonnage(i,j,r,alpha,A,m,MatriceList,RhSList)"
   ]
  },
  {
   "cell_type": "code",
   "execution_count": null,
   "metadata": {},
   "outputs": [],
   "source": [
    "\n",
    "print(\"Cliquer sur CTRL pour sélectionner plusieurs réponses\")\n",
    "inc=widgets.SelectMultiple(\n",
    "        options=['a)', 'b)', 'c)', 'd)'],\n",
    "        description='Incompatibles:',\n",
    "        #layout=Layout(width='auto'),\n",
    "        disabled=False,\n",
    "    )\n",
    "comp=widgets.SelectMultiple(\n",
    "        options=['a)', 'b)', 'c)', 'd)'],\n",
    "        description='Compatibles:',\n",
    "        disabled=False\n",
    "    )\n",
    "\n",
    "def correction(inc,c): \n",
    "    if 'a)' in c and 'c)' in c and 'd)' in c and 'b)' in inc:\n",
    "        print(\"C'est correct!\")\n",
    "    else:\n",
    "        print(\"C'est faux. Veuillez rentrer d'autres valeurs\")\n",
    "\n",
    "out=interact_manual(correction,inc=inc,c=comp)\n",
    "    \n"
   ]
  },
  {
   "cell_type": "markdown",
   "metadata": {},
   "source": [
    "# Concept(s)-clé(s) et théorie\n",
    "\n",
    "Solution homogène, solution particulière.\n",
    "Pour les systèmes compatibles, donner la solution du système sous forme paramétrique vectorielle\n",
    "$$\n",
    "s=p + t v\n",
    "$$ou $p$ est une solution particulière et $tv$ est un représentant des solutions de $Ax=0$\n",
    "\n",
    "Pour des systèmes compatibles.\n",
    "En 2 dimensions, l'ensemble de solution(s) peut être un point, une droite ou le plan tout entier.\n",
    "En 3 dimensions, l'ensemble de solution(s) peut être un point, une droite, un plan ou l'espace tout entier. "
   ]
  },
  {
   "cell_type": "markdown",
   "metadata": {},
   "source": [
    "Pour les systèmes de l'exercice 2, donner la nature des solutions. Un graphe s'affichera avec les solutions.\n",
    "$$\n",
    "a) \\begin{cases}\n",
    "-2x_1 + 8x_2&=0\\\\\n",
    "\\dfrac{1}{2}x_1 -2 &=0\n",
    "\\end{cases}\\hskip1.2em\n",
    "b)\\begin{cases}\n",
    "x_1 + 3 x_2 &=-1\\\\\n",
    "-2x_1 -6 x_2&=-2\n",
    "\\end{cases}\\hskip1.2em\n",
    "c) \\begin{cases}\n",
    "x_1 -2x_3&=3\\\\\n",
    "2x_2 +x_3&=0\\\\\n",
    "-x_1 + x_2 + 2x_3&=2\n",
    "\\end{cases}\\hskip1.2em\n",
    "d) \\begin{cases}\n",
    "x_1 + x_2 + x_3&=1\\\\\n",
    "-x_1 + x_2 + x_3 &=-1\\\\\n",
    "-x_2 -x_3&=0\n",
    "\\end{cases}\n",
    "$$"
   ]
  },
  {
   "cell_type": "code",
   "execution_count": null,
   "metadata": {},
   "outputs": [],
   "source": [
    "al.Ex3Chapitre1_7()"
   ]
  },
  {
   "cell_type": "markdown",
   "metadata": {},
   "source": [
    "**Vérification des exercices**\n",
    "\n",
    "À l'aide des cases ci-dessous, vous pouvez vérifier vos exercices. "
   ]
  },
  {
   "cell_type": "code",
   "execution_count": null,
   "metadata": {},
   "outputs": [],
   "source": [
    "A=[[3, 5, -4], [-3, -2 ,4], [6, 1 ,-8]]\n",
    "b=[[0],[0],[0]]"
   ]
  },
  {
   "cell_type": "code",
   "execution_count": null,
   "metadata": {},
   "outputs": [],
   "source": [
    "print('Vous allez échelonner la matrice')\n",
    "al.printA(A,b)\n",
    "[i,j,r,alpha]= al.manualEch(A,b)\n",
    "m=np.concatenate((A,b), axis=1)\n",
    "MatriceList=[A]\n",
    "RhSList=[b]"
   ]
  },
  {
   "cell_type": "code",
   "execution_count": null,
   "metadata": {},
   "outputs": [],
   "source": [
    "m=al.echelonnage(i,j,r,alpha,A,m,MatriceList,RhSList)"
   ]
  },
  {
   "cell_type": "code",
   "execution_count": null,
   "metadata": {},
   "outputs": [],
   "source": [
    "v=[[4/3],[0],[2]]\n",
    "\n",
    "\n",
    "fig=al.drawLine([[0],[0],[0]], v)"
   ]
  }
 ],
 "metadata": {
  "kernelspec": {
   "display_name": "Python 3",
   "language": "python",
   "name": "python3"
  },
  "language_info": {
   "codemirror_mode": {
    "name": "ipython",
    "version": 3
   },
   "file_extension": ".py",
   "mimetype": "text/x-python",
   "name": "python",
   "nbconvert_exporter": "python",
   "pygments_lexer": "ipython3",
   "version": "3.6.8"
  }
 },
 "nbformat": 4,
 "nbformat_minor": 2
}
