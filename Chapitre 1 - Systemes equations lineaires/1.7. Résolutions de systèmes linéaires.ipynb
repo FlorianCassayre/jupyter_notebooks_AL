{
 "cells": [
  {
   "cell_type": "markdown",
   "metadata": {},
   "source": [
    "# Concept(s)-clé(s) et théorie\n",
    "\n",
    "DÉFINITION 1 :\n",
    "Soit $B$ une matrice échelonnée. Alors les inconnues (du système linéaire associé) dont la colonne correspondante ne possède pas de pivot sont appelées les inconnues libres. Les inconnues dont la colonne correspondante possède un pivot sont appelées les inconnues principales.\n",
    "\n",
    "MÉTHODE DE RÉSOLUTION DE SYSTÈMES LINÉAIRES :\n",
    "Soit $S$ un système linéaire à $n$ inconnues. Afin de trouver l'ensemble des solutions de $S$, on procède comme suit :\n",
    "\n",
    "1. Poser A la matrice augmentée du système.\n",
    "2. Utiliser la méthode d'élimination de Gauss afin de transformer A en une matrice échelonnée B.\n",
    "3. Si la matrice B possède une ligne de la forme $(0\\, 0 \\,⋯ \\,0 \\,|\\, c )$ avec $c\\neq 0$, alors le système ne possède aucune solution.\n",
    "4. S'il existe n pivots, aucun dans la dernière colonne, alors il existe une unique solution.\n",
    "5. S'il existe moins de n pivots, aucun dans la dernière colonne, alors il existe un nombre infini de solutions.\n",
    "\n"
   ]
  },
  {
   "cell_type": "markdown",
   "metadata": {},
   "source": [
    "### **EXERCICE 1**\n",
    "\n",
    "Trouver la solution du système en échelonnant la matrice augmentée correspondante\n",
    "\n",
    "$$\n",
    "\\begin{cases}\n",
    "-3x_1 + \\dfrac{1}{3}x_2 -x_3&=0\\\\\n",
    "x_1 -4x_2 + x_3&=2\\\\\n",
    "x_2 -5 x_3&=-2\n",
    "\\end{cases}\n",
    "$$\n"
   ]
  },
  {
   "cell_type": "code",
   "execution_count": null,
   "metadata": {},
   "outputs": [],
   "source": [
    "A=[[-2,2/3,-1],[1,-2,1],[0,1,-5]]\n",
    "b=[[0],[2], [-3]]\n",
    "print('Vous allez échelonner la matrice')\n",
    "al.printAAug(A,b)\n",
    "[i,j,r,alpha]= al.manualEch(A,b)\n",
    "m=np.concatenate((A,b), axis=1)\n",
    "MatriceList=[A]\n",
    "RhSList=[b]"
   ]
  },
  {
   "cell_type": "code",
   "execution_count": null,
   "metadata": {},
   "outputs": [],
   "source": [
    "al.echelonnage(i,j,r,alpha,m,MatriceList,RhSList)"
   ]
  },
  {
   "cell_type": "markdown",
   "metadata": {},
   "source": []
  }
 ],
 "metadata": {
  "kernelspec": {
   "display_name": "Python 3",
   "language": "python",
   "name": "python3"
  },
  "language_info": {
   "codemirror_mode": {
    "name": "ipython",
    "version": 3
   },
   "file_extension": ".py",
   "mimetype": "text/x-python",
   "name": "python",
   "nbconvert_exporter": "python",
   "pygments_lexer": "ipython3",
   "version": "3.6.8"
  }
 },
 "nbformat": 4,
 "nbformat_minor": 2
}
