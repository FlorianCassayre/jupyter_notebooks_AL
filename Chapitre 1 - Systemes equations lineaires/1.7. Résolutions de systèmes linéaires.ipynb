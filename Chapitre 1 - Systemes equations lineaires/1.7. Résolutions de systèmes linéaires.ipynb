{
 "cells": [
  {
   "cell_type": "markdown",
   "metadata": {},
   "source": [
    "# Concept(s)-clé(s) et théorie\n",
    "\n",
    "DÉFINITION 1 :\n",
    "Soit $B$ une matrice échelonnée. Alors les inconnues (du système linéaire associé) dont la colonne correspondante ne possède pas de pivot sont appelées les inconnues libres. Les inconnues dont la colonne correspondante possède un pivot sont appelées les inconnues principales.\n",
    "\n",
    "MÉTHODE DE RÉSOLUTION DE SYSTÈMES LINÉAIRES :\n",
    "Soit $S$ un système linéaire à $n$ inconnues. Afin de trouver l'ensemble des solutions de $S$, on procède comme suit :\n",
    "\n",
    "1. Poser A la matrice augmentée du système.\n",
    "2. Utiliser la méthode d'élimination de Gauss afin de transformer A en une matrice échelonnée B.\n",
    "3. Si la matrice B possède une ligne de la forme $(0\\, 0 \\,⋯ \\,0 \\,|\\, c )$ avec $c\\neq 0$, alors le système ne possède aucune solution.\n",
    "4. S'il existe n pivots, aucun dans la dernière colonne, alors il existe une unique solution.\n",
    "5. S'il existe moins de n pivots, aucun dans la dernière colonne, alors il existe un nombre infini de solutions.\n",
    "\n"
   ]
  },
  {
   "cell_type": "code",
   "execution_count": 1,
   "metadata": {},
   "outputs": [
    {
     "data": {
      "text/html": [
       "        <script type=\"text/javascript\">\n",
       "        window.PlotlyConfig = {MathJaxConfig: 'local'};\n",
       "        if (window.MathJax) {MathJax.Hub.Config({SVG: {font: \"STIX-Web\"}});}\n",
       "        if (typeof require !== 'undefined') {\n",
       "        require.undef(\"plotly\");\n",
       "        requirejs.config({\n",
       "            paths: {\n",
       "                'plotly': ['https://cdn.plot.ly/plotly-latest.min']\n",
       "            }\n",
       "        });\n",
       "        require(['plotly'], function(Plotly) {\n",
       "            window._Plotly = Plotly;\n",
       "        });\n",
       "        }\n",
       "        </script>\n",
       "        "
      ]
     },
     "metadata": {},
     "output_type": "display_data"
    }
   ],
   "source": [
    "import AL_Fct as al\n",
    "import numpy as np\n",
    "import ipywidgets as widgets\n",
    "import random\n",
    "\n",
    "from ipywidgets import interact, interactive, fixed, interact_manual, Layout"
   ]
  },
  {
   "cell_type": "markdown",
   "metadata": {},
   "source": [
    "### **EXERCICE 1**\n",
    "\n",
    "Trouver la solution du système en échelonnant la matrice augmentée correspondante\n",
    "\n",
    "$$\n",
    "\\begin{cases}\n",
    "-2x_1 + \\dfrac{2}{3}x_2 -x_3&=0\\\\\n",
    "x_1 -2x_2 + x_3&=2\\\\\n",
    "x_2 -5 x_3&=-3\n",
    "\\end{cases}\n",
    "$$\n"
   ]
  },
  {
   "cell_type": "code",
   "execution_count": 2,
   "metadata": {},
   "outputs": [
    {
     "name": "stdout",
     "output_type": "stream",
     "text": [
      "Vous allez échelonner la matrice\n"
     ]
    },
    {
     "data": {
      "text/latex": [
       "$\\left(\\begin{array}{ccc| cc}  -2 & 0.667 & -1 & 0 \\\\1 & -2 & 1 & 2 \\\\0 & 1 & -5 & -3  \\end{array}\\right)$"
      ],
      "text/plain": [
       "<IPython.core.display.Latex object>"
      ]
     },
     "metadata": {},
     "output_type": "display_data"
    },
    {
     "name": "stdout",
     "output_type": "stream",
     "text": [
      "Régler les paramètres et évaluer la cellule suivante\n",
      "Répéter cela jusqu'à obtenir une forme échelonnée réduite\n"
     ]
    },
    {
     "data": {
      "application/vnd.jupyter.widget-view+json": {
       "model_id": "9d029ab04f444e25a89cc9154ef7a41b",
       "version_major": 2,
       "version_minor": 0
      },
      "text/plain": [
       "RadioButtons(description='Opération:', options=('Eij', 'Ei(alpha)', 'Eij(alpha)'), value='Eij')"
      ]
     },
     "metadata": {},
     "output_type": "display_data"
    },
    {
     "data": {
      "application/vnd.jupyter.widget-view+json": {
       "model_id": "10a48015e4cd4dd28f306fadf91cc7e1",
       "version_major": 2,
       "version_minor": 0
      },
      "text/plain": [
       "BoundedIntText(value=1, description='Ligne i:', max=3, min=1)"
      ]
     },
     "metadata": {},
     "output_type": "display_data"
    },
    {
     "data": {
      "application/vnd.jupyter.widget-view+json": {
       "model_id": "2445a03596174c3da60f5f7042c730e9",
       "version_major": 2,
       "version_minor": 0
      },
      "text/plain": [
       "BoundedIntText(value=1, description='Ligne j:', max=3, min=1)"
      ]
     },
     "metadata": {},
     "output_type": "display_data"
    },
    {
     "data": {
      "application/vnd.jupyter.widget-view+json": {
       "model_id": "5901c5f7c117404ca407650674c09564",
       "version_major": 2,
       "version_minor": 0
      },
      "text/plain": [
       "Text(value='1', description='Coeff. alpha:')"
      ]
     },
     "metadata": {},
     "output_type": "display_data"
    }
   ],
   "source": [
    "A=[[-2,2/3,-1],[1,-2,1],[0,1,-5]]\n",
    "b=[[0],[2], [-3]]\n",
    "print('Vous allez échelonner la matrice')\n",
    "al.printA(A,b)\n",
    "[i,j,r,alpha]= al.manualEch(A,b)\n",
    "m=np.concatenate((A,b), axis=1)\n",
    "MatriceList=[A]\n",
    "RhSList=[b]"
   ]
  },
  {
   "cell_type": "code",
   "execution_count": 3,
   "metadata": {},
   "outputs": [
    {
     "data": {
      "text/latex": [
       "$\\left(\\begin{array}{ccc| cc}  -2 & 0.667 & -1 & 0 \\\\1 & -2 & 1 & 2 \\\\0 & 1 & -5 & -3  \\end{array}\\right)\\quad \\sim \\quad\\left(\\begin{array}{ccc| cc}  -2 & 0.667 & -1 & 0 \\\\1 & -2 & 1 & 2 \\\\0 & 1 & -5 & -3  \\end{array}\\right)$"
      ],
      "text/plain": [
       "<IPython.core.display.Latex object>"
      ]
     },
     "metadata": {},
     "output_type": "display_data"
    }
   ],
   "source": [
    "m=al.echelonnage(i,j,r,alpha,A,m,MatriceList,RhSList)"
   ]
  },
  {
   "cell_type": "markdown",
   "metadata": {},
   "source": [
    "### **Exercice 2**\n",
    "\n",
    "Soient les 4 systèmes ci-dessous. À l'aide de l'algorithme de Gauss, déterminer ceux qui sont consitants et inconsisitants. \n",
    "\n",
    "$$\n",
    "a) \\begin{cases}\n",
    "-2x_1 + 8x_2&=0\\\\\n",
    "\\dfrac{1}{2}x_1 -2 &=0\n",
    "\\end{cases}\\hskip1.2em\n",
    "b)\\begin{cases}\n",
    "x_1 + 3 x_2 &=-1\\\\\n",
    "-2x_1 -6 x_2&=-2\n",
    "\\end{cases}\\hskip1.2em\n",
    "c) \\begin{cases}\n",
    "x_1 -2x_3&=3\\\\\n",
    "2x_2 +x_3&=0\\\\\n",
    "-x_1 + x_2 + 2x_3&=2\n",
    "\\end{cases}\\hskip1.2em\n",
    "d) \\begin{cases}\n",
    "x_1 + x_2 + x_3&=1\\\\\n",
    "-x_1 + x_2 + x_3 &=-1\\\\\n",
    "-x_2 -x_3&=0\n",
    "\\end{cases}\n",
    "$$"
   ]
  },
  {
   "cell_type": "code",
   "execution_count": 4,
   "metadata": {},
   "outputs": [],
   "source": [
    "A=[[-2,8],[1/2,-2]]\n",
    "b=[[0],[0]]"
   ]
  },
  {
   "cell_type": "code",
   "execution_count": 5,
   "metadata": {},
   "outputs": [
    {
     "name": "stdout",
     "output_type": "stream",
     "text": [
      "Vous allez échelonner la matrice\n"
     ]
    },
    {
     "data": {
      "text/latex": [
       "$\\left(\\begin{array}{cc| cc}  -2 & 8 & 0 \\\\0.5 & -2 & 0  \\end{array}\\right)$"
      ],
      "text/plain": [
       "<IPython.core.display.Latex object>"
      ]
     },
     "metadata": {},
     "output_type": "display_data"
    },
    {
     "name": "stdout",
     "output_type": "stream",
     "text": [
      "Régler les paramètres et évaluer la cellule suivante\n",
      "Répéter cela jusqu'à obtenir une forme échelonnée réduite\n"
     ]
    },
    {
     "data": {
      "application/vnd.jupyter.widget-view+json": {
       "model_id": "489f16d9c2814340ac8aa188a1ef7c28",
       "version_major": 2,
       "version_minor": 0
      },
      "text/plain": [
       "RadioButtons(description='Opération:', options=('Eij', 'Ei(alpha)', 'Eij(alpha)'), value='Eij')"
      ]
     },
     "metadata": {},
     "output_type": "display_data"
    },
    {
     "data": {
      "application/vnd.jupyter.widget-view+json": {
       "model_id": "c0b65010df9e4b58949c3a8c2760806f",
       "version_major": 2,
       "version_minor": 0
      },
      "text/plain": [
       "BoundedIntText(value=1, description='Ligne i:', max=2, min=1)"
      ]
     },
     "metadata": {},
     "output_type": "display_data"
    },
    {
     "data": {
      "application/vnd.jupyter.widget-view+json": {
       "model_id": "ec2a9b99d109444b81bb48b19dd5a838",
       "version_major": 2,
       "version_minor": 0
      },
      "text/plain": [
       "BoundedIntText(value=1, description='Ligne j:', max=2, min=1)"
      ]
     },
     "metadata": {},
     "output_type": "display_data"
    },
    {
     "data": {
      "application/vnd.jupyter.widget-view+json": {
       "model_id": "e5eec10705dd4e52b5e6c3c0c9cb81ef",
       "version_major": 2,
       "version_minor": 0
      },
      "text/plain": [
       "Text(value='1', description='Coeff. alpha:')"
      ]
     },
     "metadata": {},
     "output_type": "display_data"
    }
   ],
   "source": [
    "print('Vous allez échelonner la matrice')\n",
    "al.printA(A,b)\n",
    "[i,j,r,alpha]= al.manualEch(A,b)\n",
    "m=np.concatenate((A,b), axis=1)\n",
    "MatriceList=[A]\n",
    "RhSList=[b]"
   ]
  },
  {
   "cell_type": "code",
   "execution_count": 6,
   "metadata": {},
   "outputs": [
    {
     "data": {
      "text/latex": [
       "$\\left(\\begin{array}{cc| cc}  -2 & 8 & 0 \\\\0.5 & -2 & 0  \\end{array}\\right)\\quad \\sim \\quad\\left(\\begin{array}{cc| cc}  -2 & 8 & 0 \\\\0.5 & -2 & 0  \\end{array}\\right)$"
      ],
      "text/plain": [
       "<IPython.core.display.Latex object>"
      ]
     },
     "metadata": {},
     "output_type": "display_data"
    }
   ],
   "source": [
    "m=al.echelonnage(i,j,r,alpha,A,m,MatriceList,RhSList)"
   ]
  },
  {
   "cell_type": "code",
   "execution_count": 13,
   "metadata": {},
   "outputs": [
    {
     "name": "stdout",
     "output_type": "stream",
     "text": [
      "Cliquer sur CTRL pour sélectionner plusieurs réponses\n"
     ]
    },
    {
     "data": {
      "application/vnd.jupyter.widget-view+json": {
       "model_id": "74da07a8d7c84845862a42e9f2a32307",
       "version_major": 2,
       "version_minor": 0
      },
      "text/plain": [
       "interactive(children=(SelectMultiple(description='Incompatibles:', options=('a)', 'b)', 'c)', 'd)'), value=())…"
      ]
     },
     "metadata": {},
     "output_type": "display_data"
    }
   ],
   "source": [
    "\n",
    "print(\"Cliquer sur CTRL pour sélectionner plusieurs réponses\")\n",
    "inc=widgets.SelectMultiple(\n",
    "        options=['a)', 'b)', 'c)', 'd)'],\n",
    "        description='Incompatibles:',\n",
    "        #layout=Layout(width='auto'),\n",
    "        disabled=False,\n",
    "    )\n",
    "comp=widgets.SelectMultiple(\n",
    "        options=['a)', 'b)', 'c)', 'd)'],\n",
    "        description='Compatibles:',\n",
    "        disabled=False\n",
    "    )\n",
    "\n",
    "def correction(inc,c): \n",
    "    if 'a)' in c and 'c)' in c and 'd)' in c and 'b)' in inc:\n",
    "        print(\"C'est correct!\")\n",
    "    else:\n",
    "        print(\"C'est faux. Veuillez rentrer d'autres valeurs\")\n",
    "\n",
    "out=interact_manual(correction,inc=inc,c=comp)\n",
    "    \n"
   ]
  },
  {
   "cell_type": "markdown",
   "metadata": {},
   "source": [
    "# Concept(s)-clé(s) et théorie\n",
    "\n",
    "Solution homogène, solution particulière.\n",
    "Pour les systèmes compatibles, donner la solution du système sous forme paramétrique vectorielle\n",
    "$$\n",
    "s=p + t v\n",
    "$$ou $p$ est une solution particulière et $tv$ est un représentant des solutions de $Ax=0$\n",
    "\n",
    "Pour des systèmes compatibles.\n",
    "En 2 dimensions, l'ensemble de solution(s) peut être un point, une droite ou le plan tout entier.\n",
    "En 3 dimensions, l'ensemble de solution(s) peut être un point, une droite, un plan ou l'espace tout entier. "
   ]
  },
  {
   "cell_type": "markdown",
   "metadata": {},
   "source": [
    "Pour les systèmes de l'exercice 2, donner la nature des solutions. Un graphe s'affichera avec les solutions.\n",
    "$$\n",
    "a) \\begin{cases}\n",
    "-2x_1 + 8x_2&=0\\\\\n",
    "\\dfrac{1}{2}x_1 -2 &=0\n",
    "\\end{cases}\\hskip1.2em\n",
    "b)\\begin{cases}\n",
    "x_1 + 3 x_2 &=-1\\\\\n",
    "-2x_1 -6 x_2&=-2\n",
    "\\end{cases}\\hskip1.2em\n",
    "c) \\begin{cases}\n",
    "x_1 -2x_3&=3\\\\\n",
    "2x_2 +x_3&=0\\\\\n",
    "-x_1 + x_2 + 2x_3&=2\n",
    "\\end{cases}\\hskip1.2em\n",
    "d) \\begin{cases}\n",
    "x_1 + x_2 + x_3&=1\\\\\n",
    "-x_1 + x_2 + x_3 &=-1\\\\\n",
    "-x_2 -x_3&=0\n",
    "\\end{cases}\n",
    "$$"
   ]
  },
  {
   "cell_type": "code",
   "execution_count": 9,
   "metadata": {},
   "outputs": [
    {
     "data": {
      "application/vnd.jupyter.widget-view+json": {
       "model_id": "d7189487c8f04d8e92042dc6fabd43a8",
       "version_major": 2,
       "version_minor": 0
      },
      "text/plain": [
       "interactive(children=(Select(description='Système a):', options=('Point', 'Droite', 'Plan', 'Incompatible'), v…"
      ]
     },
     "metadata": {},
     "output_type": "display_data"
    }
   ],
   "source": [
    "al.Ex3Chapitre1_7()"
   ]
  },
  {
   "cell_type": "markdown",
   "metadata": {},
   "source": [
    "**Vérification des exercices**\n",
    "\n",
    "À l'aide des cases ci-dessous, vous pouvez vérifier vos exercices. "
   ]
  },
  {
   "cell_type": "code",
   "execution_count": 10,
   "metadata": {},
   "outputs": [],
   "source": [
    "A=[[3, 5, -4], [-3, -2 ,4], [6, 1 ,-8]]\n",
    "b=[[0],[0],[0]]"
   ]
  },
  {
   "cell_type": "code",
   "execution_count": 11,
   "metadata": {},
   "outputs": [
    {
     "name": "stdout",
     "output_type": "stream",
     "text": [
      "Vous allez échelonner la matrice\n"
     ]
    },
    {
     "data": {
      "text/latex": [
       "$\\left(\\begin{array}{ccc| cc}  3 & 5 & -4 & 0 \\\\-3 & -2 & 4 & 0 \\\\6 & 1 & -8 & 0  \\end{array}\\right)$"
      ],
      "text/plain": [
       "<IPython.core.display.Latex object>"
      ]
     },
     "metadata": {},
     "output_type": "display_data"
    },
    {
     "name": "stdout",
     "output_type": "stream",
     "text": [
      "Régler les paramètres et évaluer la cellule suivante\n",
      "Répéter cela jusqu'à obtenir une forme échelonnée réduite\n"
     ]
    },
    {
     "data": {
      "application/vnd.jupyter.widget-view+json": {
       "model_id": "b93838e839b84641afaf4854b01ae827",
       "version_major": 2,
       "version_minor": 0
      },
      "text/plain": [
       "RadioButtons(description='Opération:', options=('Eij', 'Ei(alpha)', 'Eij(alpha)'), value='Eij')"
      ]
     },
     "metadata": {},
     "output_type": "display_data"
    },
    {
     "data": {
      "application/vnd.jupyter.widget-view+json": {
       "model_id": "ab22d4a74e884245afe940a1cea0f8c1",
       "version_major": 2,
       "version_minor": 0
      },
      "text/plain": [
       "BoundedIntText(value=1, description='Ligne i:', max=3, min=1)"
      ]
     },
     "metadata": {},
     "output_type": "display_data"
    },
    {
     "data": {
      "application/vnd.jupyter.widget-view+json": {
       "model_id": "94fcac6c258941debb7f563e16810632",
       "version_major": 2,
       "version_minor": 0
      },
      "text/plain": [
       "BoundedIntText(value=1, description='Ligne j:', max=3, min=1)"
      ]
     },
     "metadata": {},
     "output_type": "display_data"
    },
    {
     "data": {
      "application/vnd.jupyter.widget-view+json": {
       "model_id": "99cb2d3e85d44fa886bdaae28471ecb2",
       "version_major": 2,
       "version_minor": 0
      },
      "text/plain": [
       "Text(value='1', description='Coeff. alpha:')"
      ]
     },
     "metadata": {},
     "output_type": "display_data"
    }
   ],
   "source": [
    "print('Vous allez échelonner la matrice')\n",
    "al.printA(A,b)\n",
    "[i,j,r,alpha]= al.manualEch(A,b)\n",
    "m=np.concatenate((A,b), axis=1)\n",
    "MatriceList=[A]\n",
    "RhSList=[b]"
   ]
  },
  {
   "cell_type": "code",
   "execution_count": 12,
   "metadata": {},
   "outputs": [
    {
     "data": {
      "text/latex": [
       "$\\left(\\begin{array}{ccc| cc}  3 & 5 & -4 & 0 \\\\-3 & -2 & 4 & 0 \\\\6 & 1 & -8 & 0  \\end{array}\\right)\\quad \\sim \\quad\\left(\\begin{array}{ccc| cc}  3 & 5 & -4 & 0 \\\\-3 & -2 & 4 & 0 \\\\6 & 1 & -8 & 0  \\end{array}\\right)$"
      ],
      "text/plain": [
       "<IPython.core.display.Latex object>"
      ]
     },
     "metadata": {},
     "output_type": "display_data"
    }
   ],
   "source": [
    "m=al.echelonnage(i,j,r,alpha,A,m,MatriceList,RhSList)"
   ]
  },
  {
   "cell_type": "code",
   "execution_count": 12,
   "metadata": {},
   "outputs": [
    {
     "data": {
      "application/vnd.plotly.v1+json": {
       "config": {
        "linkText": "Export to plot.ly",
        "plotlyServerURL": "https://plot.ly",
        "showLink": false
       },
       "data": [
        {
         "colorscale": [
          [
           0,
           "rgb(51, 214, 255)"
          ],
          [
           0.1,
           "rgb(51, 214, 255)"
          ],
          [
           0.2,
           "rgb(51, 214, 255)"
          ],
          [
           0.3,
           "rgb(51, 214, 255)"
          ],
          [
           0.4,
           "rgb(51, 214, 255)"
          ],
          [
           0.5,
           "rgb(51, 214, 255)"
          ],
          [
           0.6,
           "rgb(51, 214, 255)"
          ],
          [
           0.7,
           "rgb(51, 214, 255)"
          ],
          [
           0.8,
           "rgb(51, 214, 255)"
          ],
          [
           0.9,
           "rgb(51, 214, 255)"
          ],
          [
           1,
           "rgb(51, 214, 255)"
          ]
         ],
         "hoverinfo": "none",
         "showscale": false,
         "sizemode": "absolute",
         "sizeref": 1,
         "type": "cone",
         "u": [
          1.3333333333333333
         ],
         "uid": "5d708c70-a811-4895-9103-d425400335ec",
         "v": [
          0
         ],
         "w": [
          2
         ],
         "x": [
          1
         ],
         "y": [
          0
         ],
         "z": [
          1.8
         ]
        },
        {
         "marker": {
          "size": 5
         },
         "name": "Origine",
         "showlegend": false,
         "type": "scatter3d",
         "uid": "b5658c3c-815b-4bdd-a93b-9923964e05c0",
         "x": [
          0,
          0,
          0,
          0,
          0,
          0,
          0,
          0,
          0,
          0,
          0,
          0,
          0,
          0,
          0,
          0,
          0,
          0,
          0,
          0,
          0,
          0,
          0,
          0,
          0,
          0,
          0,
          0,
          0,
          0,
          0,
          0,
          0,
          0,
          0,
          0,
          0,
          0,
          0,
          0,
          0,
          0,
          0,
          0,
          0,
          0,
          0,
          0,
          0,
          0,
          0
         ],
         "y": [
          0,
          0,
          0,
          0,
          0,
          0,
          0,
          0,
          0,
          0,
          0,
          0,
          0,
          0,
          0,
          0,
          0,
          0,
          0,
          0,
          0,
          0,
          0,
          0,
          0,
          0,
          0,
          0,
          0,
          0,
          0,
          0,
          0,
          0,
          0,
          0,
          0,
          0,
          0,
          0,
          0,
          0,
          0,
          0,
          0,
          0,
          0,
          0,
          0,
          0,
          0
         ],
         "z": [
          0,
          0,
          0,
          0,
          0,
          0,
          0,
          0,
          0,
          0,
          0,
          0,
          0,
          0,
          0,
          0,
          0,
          0,
          0,
          0,
          0,
          0,
          0,
          0,
          0,
          0,
          0,
          0,
          0,
          0,
          0,
          0,
          0,
          0,
          0,
          0,
          0,
          0,
          0,
          0,
          0,
          0,
          0,
          0,
          0,
          0,
          0,
          0,
          0,
          0,
          0
         ]
        },
        {
         "hoverinfo": "none",
         "line": {
          "color": "rgb(51, 214, 255)",
          "dash": "solid",
          "width": 5
         },
         "mode": "lines",
         "name": "Vecteur directeur",
         "type": "scatter3d",
         "uid": "2ae7a7ac-069a-44a4-b27b-d1d4ccbf73e2",
         "x": [
          0,
          0.14814814814814814,
          0.2962962962962963,
          0.4444444444444444,
          0.5925925925925926,
          0.7407407407407407,
          0.8888888888888888,
          1.0370370370370368,
          1.1851851851851851,
          1.3333333333333333
         ],
         "y": [
          0,
          0,
          0,
          0,
          0,
          0,
          0,
          0,
          0,
          0
         ],
         "z": [
          0,
          0.2222222222222222,
          0.4444444444444444,
          0.6666666666666666,
          0.8888888888888888,
          1.1111111111111112,
          1.3333333333333333,
          1.5555555555555554,
          1.7777777777777777,
          2
         ]
        },
        {
         "mode": "lines",
         "name": "Droite",
         "type": "scatter3d",
         "uid": "aab3090c-4b47-4103-bf67-8edd2d5cdc0e",
         "x": [
          -6.666666666666666,
          -6.3999999999999995,
          -6.133333333333333,
          -5.866666666666667,
          -5.6,
          -5.333333333333333,
          -5.066666666666666,
          -4.799999999999999,
          -4.533333333333333,
          -4.266666666666667,
          -4,
          -3.733333333333333,
          -3.466666666666666,
          -3.1999999999999997,
          -2.9333333333333327,
          -2.6666666666666665,
          -2.3999999999999995,
          -2.133333333333333,
          -1.8666666666666665,
          -1.5999999999999996,
          -1.3333333333333333,
          -1.0666666666666664,
          -0.7999999999999995,
          -0.5333333333333325,
          -0.2666666666666657,
          0,
          0.2666666666666669,
          0.5333333333333338,
          0.8000000000000007,
          1.0666666666666675,
          1.3333333333333333,
          1.6,
          1.8666666666666671,
          2.1333333333333337,
          2.400000000000001,
          2.6666666666666665,
          2.9333333333333336,
          3.2,
          3.4666666666666672,
          3.7333333333333343,
          4,
          4.2666666666666675,
          4.533333333333333,
          4.799999999999999,
          5.066666666666667,
          5.333333333333333,
          5.600000000000001,
          5.866666666666667,
          6.133333333333335,
          6.4,
          6.666666666666666
         ],
         "y": [
          0,
          0,
          0,
          0,
          0,
          0,
          0,
          0,
          0,
          0,
          0,
          0,
          0,
          0,
          0,
          0,
          0,
          0,
          0,
          0,
          0,
          0,
          0,
          0,
          0,
          0,
          0,
          0,
          0,
          0,
          0,
          0,
          0,
          0,
          0,
          0,
          0,
          0,
          0,
          0,
          0,
          0,
          0,
          0,
          0,
          0,
          0,
          0,
          0,
          0,
          0
         ],
         "z": [
          -10,
          -9.6,
          -9.2,
          -8.8,
          -8.4,
          -8,
          -7.6,
          -7.199999999999999,
          -6.8,
          -6.4,
          -6,
          -5.6,
          -5.199999999999999,
          -4.8,
          -4.3999999999999995,
          -4,
          -3.5999999999999996,
          -3.1999999999999993,
          -2.8,
          -2.3999999999999995,
          -2,
          -1.5999999999999996,
          -1.1999999999999993,
          -0.7999999999999989,
          -0.3999999999999986,
          0,
          0.40000000000000036,
          0.8000000000000007,
          1.200000000000001,
          1.6000000000000014,
          2,
          2.4000000000000004,
          2.8000000000000007,
          3.200000000000001,
          3.6000000000000014,
          4,
          4.4,
          4.800000000000001,
          5.200000000000001,
          5.600000000000001,
          6,
          6.400000000000002,
          6.800000000000001,
          7.199999999999999,
          7.600000000000001,
          8,
          8.400000000000002,
          8.8,
          9.200000000000003,
          9.600000000000001,
          10
         ]
        }
       ],
       "layout": {
        "autosize": true,
        "scene": {
         "aspectmode": "auto",
         "aspectratio": {
          "x": 1,
          "y": 1,
          "z": 1
         },
         "camera": {
          "eye": {
           "x": -0.76,
           "y": 1.8,
           "z": 0.92
          }
         }
        },
        "template": {
         "data": {
          "bar": [
           {
            "error_x": {
             "color": "#2a3f5f"
            },
            "error_y": {
             "color": "#2a3f5f"
            },
            "marker": {
             "line": {
              "color": "#E5ECF6",
              "width": 0.5
             }
            },
            "type": "bar"
           }
          ],
          "barpolar": [
           {
            "marker": {
             "line": {
              "color": "#E5ECF6",
              "width": 0.5
             }
            },
            "type": "barpolar"
           }
          ],
          "carpet": [
           {
            "aaxis": {
             "endlinecolor": "#2a3f5f",
             "gridcolor": "white",
             "linecolor": "white",
             "minorgridcolor": "white",
             "startlinecolor": "#2a3f5f"
            },
            "baxis": {
             "endlinecolor": "#2a3f5f",
             "gridcolor": "white",
             "linecolor": "white",
             "minorgridcolor": "white",
             "startlinecolor": "#2a3f5f"
            },
            "type": "carpet"
           }
          ],
          "choropleth": [
           {
            "colorbar": {
             "outlinewidth": 0,
             "ticks": ""
            },
            "type": "choropleth"
           }
          ],
          "contour": [
           {
            "colorbar": {
             "outlinewidth": 0,
             "ticks": ""
            },
            "colorscale": [
             [
              0,
              "#0d0887"
             ],
             [
              0.1111111111111111,
              "#46039f"
             ],
             [
              0.2222222222222222,
              "#7201a8"
             ],
             [
              0.3333333333333333,
              "#9c179e"
             ],
             [
              0.4444444444444444,
              "#bd3786"
             ],
             [
              0.5555555555555556,
              "#d8576b"
             ],
             [
              0.6666666666666666,
              "#ed7953"
             ],
             [
              0.7777777777777778,
              "#fb9f3a"
             ],
             [
              0.8888888888888888,
              "#fdca26"
             ],
             [
              1,
              "#f0f921"
             ]
            ],
            "type": "contour"
           }
          ],
          "contourcarpet": [
           {
            "colorbar": {
             "outlinewidth": 0,
             "ticks": ""
            },
            "type": "contourcarpet"
           }
          ],
          "heatmap": [
           {
            "colorbar": {
             "outlinewidth": 0,
             "ticks": ""
            },
            "colorscale": [
             [
              0,
              "#0d0887"
             ],
             [
              0.1111111111111111,
              "#46039f"
             ],
             [
              0.2222222222222222,
              "#7201a8"
             ],
             [
              0.3333333333333333,
              "#9c179e"
             ],
             [
              0.4444444444444444,
              "#bd3786"
             ],
             [
              0.5555555555555556,
              "#d8576b"
             ],
             [
              0.6666666666666666,
              "#ed7953"
             ],
             [
              0.7777777777777778,
              "#fb9f3a"
             ],
             [
              0.8888888888888888,
              "#fdca26"
             ],
             [
              1,
              "#f0f921"
             ]
            ],
            "type": "heatmap"
           }
          ],
          "heatmapgl": [
           {
            "colorbar": {
             "outlinewidth": 0,
             "ticks": ""
            },
            "colorscale": [
             [
              0,
              "#0d0887"
             ],
             [
              0.1111111111111111,
              "#46039f"
             ],
             [
              0.2222222222222222,
              "#7201a8"
             ],
             [
              0.3333333333333333,
              "#9c179e"
             ],
             [
              0.4444444444444444,
              "#bd3786"
             ],
             [
              0.5555555555555556,
              "#d8576b"
             ],
             [
              0.6666666666666666,
              "#ed7953"
             ],
             [
              0.7777777777777778,
              "#fb9f3a"
             ],
             [
              0.8888888888888888,
              "#fdca26"
             ],
             [
              1,
              "#f0f921"
             ]
            ],
            "type": "heatmapgl"
           }
          ],
          "histogram": [
           {
            "marker": {
             "colorbar": {
              "outlinewidth": 0,
              "ticks": ""
             }
            },
            "type": "histogram"
           }
          ],
          "histogram2d": [
           {
            "colorbar": {
             "outlinewidth": 0,
             "ticks": ""
            },
            "colorscale": [
             [
              0,
              "#0d0887"
             ],
             [
              0.1111111111111111,
              "#46039f"
             ],
             [
              0.2222222222222222,
              "#7201a8"
             ],
             [
              0.3333333333333333,
              "#9c179e"
             ],
             [
              0.4444444444444444,
              "#bd3786"
             ],
             [
              0.5555555555555556,
              "#d8576b"
             ],
             [
              0.6666666666666666,
              "#ed7953"
             ],
             [
              0.7777777777777778,
              "#fb9f3a"
             ],
             [
              0.8888888888888888,
              "#fdca26"
             ],
             [
              1,
              "#f0f921"
             ]
            ],
            "type": "histogram2d"
           }
          ],
          "histogram2dcontour": [
           {
            "colorbar": {
             "outlinewidth": 0,
             "ticks": ""
            },
            "colorscale": [
             [
              0,
              "#0d0887"
             ],
             [
              0.1111111111111111,
              "#46039f"
             ],
             [
              0.2222222222222222,
              "#7201a8"
             ],
             [
              0.3333333333333333,
              "#9c179e"
             ],
             [
              0.4444444444444444,
              "#bd3786"
             ],
             [
              0.5555555555555556,
              "#d8576b"
             ],
             [
              0.6666666666666666,
              "#ed7953"
             ],
             [
              0.7777777777777778,
              "#fb9f3a"
             ],
             [
              0.8888888888888888,
              "#fdca26"
             ],
             [
              1,
              "#f0f921"
             ]
            ],
            "type": "histogram2dcontour"
           }
          ],
          "mesh3d": [
           {
            "colorbar": {
             "outlinewidth": 0,
             "ticks": ""
            },
            "type": "mesh3d"
           }
          ],
          "parcoords": [
           {
            "line": {
             "colorbar": {
              "outlinewidth": 0,
              "ticks": ""
             }
            },
            "type": "parcoords"
           }
          ],
          "scatter": [
           {
            "marker": {
             "colorbar": {
              "outlinewidth": 0,
              "ticks": ""
             }
            },
            "type": "scatter"
           }
          ],
          "scatter3d": [
           {
            "line": {
             "colorbar": {
              "outlinewidth": 0,
              "ticks": ""
             }
            },
            "marker": {
             "colorbar": {
              "outlinewidth": 0,
              "ticks": ""
             }
            },
            "type": "scatter3d"
           }
          ],
          "scattercarpet": [
           {
            "marker": {
             "colorbar": {
              "outlinewidth": 0,
              "ticks": ""
             }
            },
            "type": "scattercarpet"
           }
          ],
          "scattergeo": [
           {
            "marker": {
             "colorbar": {
              "outlinewidth": 0,
              "ticks": ""
             }
            },
            "type": "scattergeo"
           }
          ],
          "scattergl": [
           {
            "marker": {
             "colorbar": {
              "outlinewidth": 0,
              "ticks": ""
             }
            },
            "type": "scattergl"
           }
          ],
          "scattermapbox": [
           {
            "marker": {
             "colorbar": {
              "outlinewidth": 0,
              "ticks": ""
             }
            },
            "type": "scattermapbox"
           }
          ],
          "scatterpolar": [
           {
            "marker": {
             "colorbar": {
              "outlinewidth": 0,
              "ticks": ""
             }
            },
            "type": "scatterpolar"
           }
          ],
          "scatterpolargl": [
           {
            "marker": {
             "colorbar": {
              "outlinewidth": 0,
              "ticks": ""
             }
            },
            "type": "scatterpolargl"
           }
          ],
          "scatterternary": [
           {
            "marker": {
             "colorbar": {
              "outlinewidth": 0,
              "ticks": ""
             }
            },
            "type": "scatterternary"
           }
          ],
          "surface": [
           {
            "colorbar": {
             "outlinewidth": 0,
             "ticks": ""
            },
            "colorscale": [
             [
              0,
              "#0d0887"
             ],
             [
              0.1111111111111111,
              "#46039f"
             ],
             [
              0.2222222222222222,
              "#7201a8"
             ],
             [
              0.3333333333333333,
              "#9c179e"
             ],
             [
              0.4444444444444444,
              "#bd3786"
             ],
             [
              0.5555555555555556,
              "#d8576b"
             ],
             [
              0.6666666666666666,
              "#ed7953"
             ],
             [
              0.7777777777777778,
              "#fb9f3a"
             ],
             [
              0.8888888888888888,
              "#fdca26"
             ],
             [
              1,
              "#f0f921"
             ]
            ],
            "type": "surface"
           }
          ],
          "table": [
           {
            "cells": {
             "fill": {
              "color": "#EBF0F8"
             },
             "line": {
              "color": "white"
             }
            },
            "header": {
             "fill": {
              "color": "#C8D4E3"
             },
             "line": {
              "color": "white"
             }
            },
            "type": "table"
           }
          ]
         },
         "layout": {
          "annotationdefaults": {
           "arrowcolor": "#2a3f5f",
           "arrowhead": 0,
           "arrowwidth": 1
          },
          "colorscale": {
           "diverging": [
            [
             0,
             "#8e0152"
            ],
            [
             0.1,
             "#c51b7d"
            ],
            [
             0.2,
             "#de77ae"
            ],
            [
             0.3,
             "#f1b6da"
            ],
            [
             0.4,
             "#fde0ef"
            ],
            [
             0.5,
             "#f7f7f7"
            ],
            [
             0.6,
             "#e6f5d0"
            ],
            [
             0.7,
             "#b8e186"
            ],
            [
             0.8,
             "#7fbc41"
            ],
            [
             0.9,
             "#4d9221"
            ],
            [
             1,
             "#276419"
            ]
           ],
           "sequential": [
            [
             0,
             "#0d0887"
            ],
            [
             0.1111111111111111,
             "#46039f"
            ],
            [
             0.2222222222222222,
             "#7201a8"
            ],
            [
             0.3333333333333333,
             "#9c179e"
            ],
            [
             0.4444444444444444,
             "#bd3786"
            ],
            [
             0.5555555555555556,
             "#d8576b"
            ],
            [
             0.6666666666666666,
             "#ed7953"
            ],
            [
             0.7777777777777778,
             "#fb9f3a"
            ],
            [
             0.8888888888888888,
             "#fdca26"
            ],
            [
             1,
             "#f0f921"
            ]
           ],
           "sequentialminus": [
            [
             0,
             "#0d0887"
            ],
            [
             0.1111111111111111,
             "#46039f"
            ],
            [
             0.2222222222222222,
             "#7201a8"
            ],
            [
             0.3333333333333333,
             "#9c179e"
            ],
            [
             0.4444444444444444,
             "#bd3786"
            ],
            [
             0.5555555555555556,
             "#d8576b"
            ],
            [
             0.6666666666666666,
             "#ed7953"
            ],
            [
             0.7777777777777778,
             "#fb9f3a"
            ],
            [
             0.8888888888888888,
             "#fdca26"
            ],
            [
             1,
             "#f0f921"
            ]
           ]
          },
          "colorway": [
           "#636efa",
           "#EF553B",
           "#00cc96",
           "#ab63fa",
           "#FFA15A",
           "#19d3f3",
           "#FF6692",
           "#B6E880",
           "#FF97FF",
           "#FECB52"
          ],
          "font": {
           "color": "#2a3f5f"
          },
          "geo": {
           "bgcolor": "white",
           "lakecolor": "white",
           "landcolor": "#E5ECF6",
           "showlakes": true,
           "showland": true,
           "subunitcolor": "white"
          },
          "hoverlabel": {
           "align": "left"
          },
          "hovermode": "closest",
          "mapbox": {
           "style": "light"
          },
          "paper_bgcolor": "white",
          "plot_bgcolor": "#E5ECF6",
          "polar": {
           "angularaxis": {
            "gridcolor": "white",
            "linecolor": "white",
            "ticks": ""
           },
           "bgcolor": "#E5ECF6",
           "radialaxis": {
            "gridcolor": "white",
            "linecolor": "white",
            "ticks": ""
           }
          },
          "scene": {
           "xaxis": {
            "backgroundcolor": "#E5ECF6",
            "gridcolor": "white",
            "gridwidth": 2,
            "linecolor": "white",
            "showbackground": true,
            "ticks": "",
            "zerolinecolor": "white"
           },
           "yaxis": {
            "backgroundcolor": "#E5ECF6",
            "gridcolor": "white",
            "gridwidth": 2,
            "linecolor": "white",
            "showbackground": true,
            "ticks": "",
            "zerolinecolor": "white"
           },
           "zaxis": {
            "backgroundcolor": "#E5ECF6",
            "gridcolor": "white",
            "gridwidth": 2,
            "linecolor": "white",
            "showbackground": true,
            "ticks": "",
            "zerolinecolor": "white"
           }
          },
          "shapedefaults": {
           "line": {
            "color": "#2a3f5f"
           }
          },
          "ternary": {
           "aaxis": {
            "gridcolor": "white",
            "linecolor": "white",
            "ticks": ""
           },
           "baxis": {
            "gridcolor": "white",
            "linecolor": "white",
            "ticks": ""
           },
           "bgcolor": "#E5ECF6",
           "caxis": {
            "gridcolor": "white",
            "linecolor": "white",
            "ticks": ""
           }
          },
          "title": {
           "x": 0.05
          },
          "xaxis": {
           "automargin": true,
           "gridcolor": "white",
           "linecolor": "white",
           "ticks": "",
           "zerolinecolor": "white",
           "zerolinewidth": 2
          },
          "yaxis": {
           "automargin": true,
           "gridcolor": "white",
           "linecolor": "white",
           "ticks": "",
           "zerolinecolor": "white",
           "zerolinewidth": 2
          }
         }
        }
       }
      },
      "image/png": "[encoded data removed]",
      "text/html": [
       "<div>\n",
       "        \n",
       "        \n",
       "            <div id=\"56b4c41d-7991-446e-9239-206762089d74\" class=\"plotly-graph-div\" style=\"height:525px; width:100%;\"></div>\n",
       "            <script type=\"text/javascript\">\n",
       "                require([\"plotly\"], function(Plotly) {\n",
       "                    window.PLOTLYENV=window.PLOTLYENV || {};\n",
       "                    \n",
       "                if (document.getElementById(\"56b4c41d-7991-446e-9239-206762089d74\")) {\n",
       "                    Plotly.newPlot(\n",
       "                        '56b4c41d-7991-446e-9239-206762089d74',\n",
       "                        [{\"colorscale\": [[0.0, \"rgb(51, 214, 255)\"], [0.1, \"rgb(51, 214, 255)\"], [0.2, \"rgb(51, 214, 255)\"], [0.3, \"rgb(51, 214, 255)\"], [0.4, \"rgb(51, 214, 255)\"], [0.5, \"rgb(51, 214, 255)\"], [0.6, \"rgb(51, 214, 255)\"], [0.7, \"rgb(51, 214, 255)\"], [0.8, \"rgb(51, 214, 255)\"], [0.9, \"rgb(51, 214, 255)\"], [1.0, \"rgb(51, 214, 255)\"]], \"hoverinfo\": \"none\", \"showscale\": false, \"sizemode\": \"absolute\", \"sizeref\": 1, \"type\": \"cone\", \"u\": [1.3333333333333333], \"uid\": \"5d708c70-a811-4895-9103-d425400335ec\", \"v\": [0], \"w\": [2], \"x\": [1], \"y\": [0.0], \"z\": [1.8]}, {\"marker\": {\"size\": 5}, \"name\": \"Origine\", \"showlegend\": false, \"type\": \"scatter3d\", \"uid\": \"b5658c3c-815b-4bdd-a93b-9923964e05c0\", \"x\": [-0.0, -0.0, -0.0, -0.0, -0.0, -0.0, -0.0, -0.0, -0.0, -0.0, -0.0, -0.0, -0.0, -0.0, -0.0, -0.0, -0.0, -0.0, -0.0, -0.0, -0.0, -0.0, -0.0, -0.0, -0.0, 0.0, 0.0, 0.0, 0.0, 0.0, 0.0, 0.0, 0.0, 0.0, 0.0, 0.0, 0.0, 0.0, 0.0, 0.0, 0.0, 0.0, 0.0, 0.0, 0.0, 0.0, 0.0, 0.0, 0.0, 0.0, 0.0], \"y\": [-0.0, -0.0, -0.0, -0.0, -0.0, -0.0, -0.0, -0.0, -0.0, -0.0, -0.0, -0.0, -0.0, -0.0, -0.0, -0.0, -0.0, -0.0, -0.0, -0.0, -0.0, -0.0, -0.0, -0.0, -0.0, 0.0, 0.0, 0.0, 0.0, 0.0, 0.0, 0.0, 0.0, 0.0, 0.0, 0.0, 0.0, 0.0, 0.0, 0.0, 0.0, 0.0, 0.0, 0.0, 0.0, 0.0, 0.0, 0.0, 0.0, 0.0, 0.0], \"z\": [-0.0, -0.0, -0.0, -0.0, -0.0, -0.0, -0.0, -0.0, -0.0, -0.0, -0.0, -0.0, -0.0, -0.0, -0.0, -0.0, -0.0, -0.0, -0.0, -0.0, -0.0, -0.0, -0.0, -0.0, -0.0, 0.0, 0.0, 0.0, 0.0, 0.0, 0.0, 0.0, 0.0, 0.0, 0.0, 0.0, 0.0, 0.0, 0.0, 0.0, 0.0, 0.0, 0.0, 0.0, 0.0, 0.0, 0.0, 0.0, 0.0, 0.0, 0.0]}, {\"hoverinfo\": \"none\", \"line\": {\"color\": \"rgb(51, 214, 255)\", \"dash\": \"solid\", \"width\": 5}, \"mode\": \"lines\", \"name\": \"Vecteur directeur\", \"type\": \"scatter3d\", \"uid\": \"2ae7a7ac-069a-44a4-b27b-d1d4ccbf73e2\", \"x\": [0.0, 0.14814814814814814, 0.2962962962962963, 0.4444444444444444, 0.5925925925925926, 0.7407407407407407, 0.8888888888888888, 1.0370370370370368, 1.1851851851851851, 1.3333333333333333], \"y\": [0.0, 0.0, 0.0, 0.0, 0.0, 0.0, 0.0, 0.0, 0.0, 0.0], \"z\": [0.0, 0.2222222222222222, 0.4444444444444444, 0.6666666666666666, 0.8888888888888888, 1.1111111111111112, 1.3333333333333333, 1.5555555555555554, 1.7777777777777777, 2.0]}, {\"mode\": \"lines\", \"name\": \"Droite\", \"type\": \"scatter3d\", \"uid\": \"aab3090c-4b47-4103-bf67-8edd2d5cdc0e\", \"x\": [-6.666666666666666, -6.3999999999999995, -6.133333333333333, -5.866666666666667, -5.6, -5.333333333333333, -5.066666666666666, -4.799999999999999, -4.533333333333333, -4.266666666666667, -4.0, -3.733333333333333, -3.466666666666666, -3.1999999999999997, -2.9333333333333327, -2.6666666666666665, -2.3999999999999995, -2.133333333333333, -1.8666666666666665, -1.5999999999999996, -1.3333333333333333, -1.0666666666666664, -0.7999999999999995, -0.5333333333333325, -0.2666666666666657, 0.0, 0.2666666666666669, 0.5333333333333338, 0.8000000000000007, 1.0666666666666675, 1.3333333333333333, 1.6, 1.8666666666666671, 2.1333333333333337, 2.400000000000001, 2.6666666666666665, 2.9333333333333336, 3.2, 3.4666666666666672, 3.7333333333333343, 4.0, 4.2666666666666675, 4.533333333333333, 4.799999999999999, 5.066666666666667, 5.333333333333333, 5.600000000000001, 5.866666666666667, 6.133333333333335, 6.4, 6.666666666666666], \"y\": [0.0, 0.0, 0.0, 0.0, 0.0, 0.0, 0.0, 0.0, 0.0, 0.0, 0.0, 0.0, 0.0, 0.0, 0.0, 0.0, 0.0, 0.0, 0.0, 0.0, 0.0, 0.0, 0.0, 0.0, 0.0, 0.0, 0.0, 0.0, 0.0, 0.0, 0.0, 0.0, 0.0, 0.0, 0.0, 0.0, 0.0, 0.0, 0.0, 0.0, 0.0, 0.0, 0.0, 0.0, 0.0, 0.0, 0.0, 0.0, 0.0, 0.0, 0.0], \"z\": [-10.0, -9.6, -9.2, -8.8, -8.4, -8.0, -7.6, -7.199999999999999, -6.8, -6.4, -6.0, -5.6, -5.199999999999999, -4.8, -4.3999999999999995, -4.0, -3.5999999999999996, -3.1999999999999993, -2.8, -2.3999999999999995, -2.0, -1.5999999999999996, -1.1999999999999993, -0.7999999999999989, -0.3999999999999986, 0.0, 0.40000000000000036, 0.8000000000000007, 1.200000000000001, 1.6000000000000014, 2.0, 2.4000000000000004, 2.8000000000000007, 3.200000000000001, 3.6000000000000014, 4.0, 4.4, 4.800000000000001, 5.200000000000001, 5.600000000000001, 6.0, 6.400000000000002, 6.800000000000001, 7.199999999999999, 7.600000000000001, 8.0, 8.400000000000002, 8.8, 9.200000000000003, 9.600000000000001, 10.0]}],\n",
       "                        {\"scene\": {\"camera\": {\"eye\": {\"x\": -0.76, \"y\": 1.8, \"z\": 0.92}}}, \"template\": {\"data\": {\"bar\": [{\"error_x\": {\"color\": \"#2a3f5f\"}, \"error_y\": {\"color\": \"#2a3f5f\"}, \"marker\": {\"line\": {\"color\": \"#E5ECF6\", \"width\": 0.5}}, \"type\": \"bar\"}], \"barpolar\": [{\"marker\": {\"line\": {\"color\": \"#E5ECF6\", \"width\": 0.5}}, \"type\": \"barpolar\"}], \"carpet\": [{\"aaxis\": {\"endlinecolor\": \"#2a3f5f\", \"gridcolor\": \"white\", \"linecolor\": \"white\", \"minorgridcolor\": \"white\", \"startlinecolor\": \"#2a3f5f\"}, \"baxis\": {\"endlinecolor\": \"#2a3f5f\", \"gridcolor\": \"white\", \"linecolor\": \"white\", \"minorgridcolor\": \"white\", \"startlinecolor\": \"#2a3f5f\"}, \"type\": \"carpet\"}], \"choropleth\": [{\"colorbar\": {\"outlinewidth\": 0, \"ticks\": \"\"}, \"type\": \"choropleth\"}], \"contour\": [{\"colorbar\": {\"outlinewidth\": 0, \"ticks\": \"\"}, \"colorscale\": [[0.0, \"#0d0887\"], [0.1111111111111111, \"#46039f\"], [0.2222222222222222, \"#7201a8\"], [0.3333333333333333, \"#9c179e\"], [0.4444444444444444, \"#bd3786\"], [0.5555555555555556, \"#d8576b\"], [0.6666666666666666, \"#ed7953\"], [0.7777777777777778, \"#fb9f3a\"], [0.8888888888888888, \"#fdca26\"], [1.0, \"#f0f921\"]], \"type\": \"contour\"}], \"contourcarpet\": [{\"colorbar\": {\"outlinewidth\": 0, \"ticks\": \"\"}, \"type\": \"contourcarpet\"}], \"heatmap\": [{\"colorbar\": {\"outlinewidth\": 0, \"ticks\": \"\"}, \"colorscale\": [[0.0, \"#0d0887\"], [0.1111111111111111, \"#46039f\"], [0.2222222222222222, \"#7201a8\"], [0.3333333333333333, \"#9c179e\"], [0.4444444444444444, \"#bd3786\"], [0.5555555555555556, \"#d8576b\"], [0.6666666666666666, \"#ed7953\"], [0.7777777777777778, \"#fb9f3a\"], [0.8888888888888888, \"#fdca26\"], [1.0, \"#f0f921\"]], \"type\": \"heatmap\"}], \"heatmapgl\": [{\"colorbar\": {\"outlinewidth\": 0, \"ticks\": \"\"}, \"colorscale\": [[0.0, \"#0d0887\"], [0.1111111111111111, \"#46039f\"], [0.2222222222222222, \"#7201a8\"], [0.3333333333333333, \"#9c179e\"], [0.4444444444444444, \"#bd3786\"], [0.5555555555555556, \"#d8576b\"], [0.6666666666666666, \"#ed7953\"], [0.7777777777777778, \"#fb9f3a\"], [0.8888888888888888, \"#fdca26\"], [1.0, \"#f0f921\"]], \"type\": \"heatmapgl\"}], \"histogram\": [{\"marker\": {\"colorbar\": {\"outlinewidth\": 0, \"ticks\": \"\"}}, \"type\": \"histogram\"}], \"histogram2d\": [{\"colorbar\": {\"outlinewidth\": 0, \"ticks\": \"\"}, \"colorscale\": [[0.0, \"#0d0887\"], [0.1111111111111111, \"#46039f\"], [0.2222222222222222, \"#7201a8\"], [0.3333333333333333, \"#9c179e\"], [0.4444444444444444, \"#bd3786\"], [0.5555555555555556, \"#d8576b\"], [0.6666666666666666, \"#ed7953\"], [0.7777777777777778, \"#fb9f3a\"], [0.8888888888888888, \"#fdca26\"], [1.0, \"#f0f921\"]], \"type\": \"histogram2d\"}], \"histogram2dcontour\": [{\"colorbar\": {\"outlinewidth\": 0, \"ticks\": \"\"}, \"colorscale\": [[0.0, \"#0d0887\"], [0.1111111111111111, \"#46039f\"], [0.2222222222222222, \"#7201a8\"], [0.3333333333333333, \"#9c179e\"], [0.4444444444444444, \"#bd3786\"], [0.5555555555555556, \"#d8576b\"], [0.6666666666666666, \"#ed7953\"], [0.7777777777777778, \"#fb9f3a\"], [0.8888888888888888, \"#fdca26\"], [1.0, \"#f0f921\"]], \"type\": \"histogram2dcontour\"}], \"mesh3d\": [{\"colorbar\": {\"outlinewidth\": 0, \"ticks\": \"\"}, \"type\": \"mesh3d\"}], \"parcoords\": [{\"line\": {\"colorbar\": {\"outlinewidth\": 0, \"ticks\": \"\"}}, \"type\": \"parcoords\"}], \"scatter\": [{\"marker\": {\"colorbar\": {\"outlinewidth\": 0, \"ticks\": \"\"}}, \"type\": \"scatter\"}], \"scatter3d\": [{\"line\": {\"colorbar\": {\"outlinewidth\": 0, \"ticks\": \"\"}}, \"marker\": {\"colorbar\": {\"outlinewidth\": 0, \"ticks\": \"\"}}, \"type\": \"scatter3d\"}], \"scattercarpet\": [{\"marker\": {\"colorbar\": {\"outlinewidth\": 0, \"ticks\": \"\"}}, \"type\": \"scattercarpet\"}], \"scattergeo\": [{\"marker\": {\"colorbar\": {\"outlinewidth\": 0, \"ticks\": \"\"}}, \"type\": \"scattergeo\"}], \"scattergl\": [{\"marker\": {\"colorbar\": {\"outlinewidth\": 0, \"ticks\": \"\"}}, \"type\": \"scattergl\"}], \"scattermapbox\": [{\"marker\": {\"colorbar\": {\"outlinewidth\": 0, \"ticks\": \"\"}}, \"type\": \"scattermapbox\"}], \"scatterpolar\": [{\"marker\": {\"colorbar\": {\"outlinewidth\": 0, \"ticks\": \"\"}}, \"type\": \"scatterpolar\"}], \"scatterpolargl\": [{\"marker\": {\"colorbar\": {\"outlinewidth\": 0, \"ticks\": \"\"}}, \"type\": \"scatterpolargl\"}], \"scatterternary\": [{\"marker\": {\"colorbar\": {\"outlinewidth\": 0, \"ticks\": \"\"}}, \"type\": \"scatterternary\"}], \"surface\": [{\"colorbar\": {\"outlinewidth\": 0, \"ticks\": \"\"}, \"colorscale\": [[0.0, \"#0d0887\"], [0.1111111111111111, \"#46039f\"], [0.2222222222222222, \"#7201a8\"], [0.3333333333333333, \"#9c179e\"], [0.4444444444444444, \"#bd3786\"], [0.5555555555555556, \"#d8576b\"], [0.6666666666666666, \"#ed7953\"], [0.7777777777777778, \"#fb9f3a\"], [0.8888888888888888, \"#fdca26\"], [1.0, \"#f0f921\"]], \"type\": \"surface\"}], \"table\": [{\"cells\": {\"fill\": {\"color\": \"#EBF0F8\"}, \"line\": {\"color\": \"white\"}}, \"header\": {\"fill\": {\"color\": \"#C8D4E3\"}, \"line\": {\"color\": \"white\"}}, \"type\": \"table\"}]}, \"layout\": {\"annotationdefaults\": {\"arrowcolor\": \"#2a3f5f\", \"arrowhead\": 0, \"arrowwidth\": 1}, \"colorscale\": {\"diverging\": [[0, \"#8e0152\"], [0.1, \"#c51b7d\"], [0.2, \"#de77ae\"], [0.3, \"#f1b6da\"], [0.4, \"#fde0ef\"], [0.5, \"#f7f7f7\"], [0.6, \"#e6f5d0\"], [0.7, \"#b8e186\"], [0.8, \"#7fbc41\"], [0.9, \"#4d9221\"], [1, \"#276419\"]], \"sequential\": [[0.0, \"#0d0887\"], [0.1111111111111111, \"#46039f\"], [0.2222222222222222, \"#7201a8\"], [0.3333333333333333, \"#9c179e\"], [0.4444444444444444, \"#bd3786\"], [0.5555555555555556, \"#d8576b\"], [0.6666666666666666, \"#ed7953\"], [0.7777777777777778, \"#fb9f3a\"], [0.8888888888888888, \"#fdca26\"], [1.0, \"#f0f921\"]], \"sequentialminus\": [[0.0, \"#0d0887\"], [0.1111111111111111, \"#46039f\"], [0.2222222222222222, \"#7201a8\"], [0.3333333333333333, \"#9c179e\"], [0.4444444444444444, \"#bd3786\"], [0.5555555555555556, \"#d8576b\"], [0.6666666666666666, \"#ed7953\"], [0.7777777777777778, \"#fb9f3a\"], [0.8888888888888888, \"#fdca26\"], [1.0, \"#f0f921\"]]}, \"colorway\": [\"#636efa\", \"#EF553B\", \"#00cc96\", \"#ab63fa\", \"#FFA15A\", \"#19d3f3\", \"#FF6692\", \"#B6E880\", \"#FF97FF\", \"#FECB52\"], \"font\": {\"color\": \"#2a3f5f\"}, \"geo\": {\"bgcolor\": \"white\", \"lakecolor\": \"white\", \"landcolor\": \"#E5ECF6\", \"showlakes\": true, \"showland\": true, \"subunitcolor\": \"white\"}, \"hoverlabel\": {\"align\": \"left\"}, \"hovermode\": \"closest\", \"mapbox\": {\"style\": \"light\"}, \"paper_bgcolor\": \"white\", \"plot_bgcolor\": \"#E5ECF6\", \"polar\": {\"angularaxis\": {\"gridcolor\": \"white\", \"linecolor\": \"white\", \"ticks\": \"\"}, \"bgcolor\": \"#E5ECF6\", \"radialaxis\": {\"gridcolor\": \"white\", \"linecolor\": \"white\", \"ticks\": \"\"}}, \"scene\": {\"xaxis\": {\"backgroundcolor\": \"#E5ECF6\", \"gridcolor\": \"white\", \"gridwidth\": 2, \"linecolor\": \"white\", \"showbackground\": true, \"ticks\": \"\", \"zerolinecolor\": \"white\"}, \"yaxis\": {\"backgroundcolor\": \"#E5ECF6\", \"gridcolor\": \"white\", \"gridwidth\": 2, \"linecolor\": \"white\", \"showbackground\": true, \"ticks\": \"\", \"zerolinecolor\": \"white\"}, \"zaxis\": {\"backgroundcolor\": \"#E5ECF6\", \"gridcolor\": \"white\", \"gridwidth\": 2, \"linecolor\": \"white\", \"showbackground\": true, \"ticks\": \"\", \"zerolinecolor\": \"white\"}}, \"shapedefaults\": {\"line\": {\"color\": \"#2a3f5f\"}}, \"ternary\": {\"aaxis\": {\"gridcolor\": \"white\", \"linecolor\": \"white\", \"ticks\": \"\"}, \"baxis\": {\"gridcolor\": \"white\", \"linecolor\": \"white\", \"ticks\": \"\"}, \"bgcolor\": \"#E5ECF6\", \"caxis\": {\"gridcolor\": \"white\", \"linecolor\": \"white\", \"ticks\": \"\"}}, \"title\": {\"x\": 0.05}, \"xaxis\": {\"automargin\": true, \"gridcolor\": \"white\", \"linecolor\": \"white\", \"ticks\": \"\", \"zerolinecolor\": \"white\", \"zerolinewidth\": 2}, \"yaxis\": {\"automargin\": true, \"gridcolor\": \"white\", \"linecolor\": \"white\", \"ticks\": \"\", \"zerolinecolor\": \"white\", \"zerolinewidth\": 2}}}},\n",
       "                        {\"responsive\": true}\n",
       "                    ).then(function(){\n",
       "                            \n",
       "var gd = document.getElementById('56b4c41d-7991-446e-9239-206762089d74');\n",
       "var x = new MutationObserver(function (mutations, observer) {{\n",
       "        var display = window.getComputedStyle(gd).display;\n",
       "        if (!display || display === 'none') {{\n",
       "            console.log([gd, 'removed!']);\n",
       "            Plotly.purge(gd);\n",
       "            observer.disconnect();\n",
       "        }}\n",
       "}});\n",
       "\n",
       "// Listen for the removal of the full notebook cells\n",
       "var notebookContainer = gd.closest('#notebook-container');\n",
       "if (notebookContainer) {{\n",
       "    x.observe(notebookContainer, {childList: true});\n",
       "}}\n",
       "\n",
       "// Listen for the clearing of the current output cell\n",
       "var outputEl = gd.closest('.output');\n",
       "if (outputEl) {{\n",
       "    x.observe(outputEl, {childList: true});\n",
       "}}\n",
       "\n",
       "                        })\n",
       "                };\n",
       "                });\n",
       "            </script>\n",
       "        </div>"
      ]
     },
     "metadata": {},
     "output_type": "display_data"
    }
   ],
   "source": [
    "v=[[4/3],[0],[2]]\n",
    "\n",
    "\n",
    "fig=al.drawLine([[0],[0],[0]], v)"
   ]
  }
 ],
 "metadata": {
  "kernelspec": {
   "display_name": "Python 3",
   "language": "python",
   "name": "python3"
  },
  "language_info": {
   "codemirror_mode": {
    "name": "ipython",
    "version": 3
   },
   "file_extension": ".py",
   "mimetype": "text/x-python",
   "name": "python",
   "nbconvert_exporter": "python",
   "pygments_lexer": "ipython3",
   "version": "3.6.8"
  }
 },
 "nbformat": 4,
 "nbformat_minor": 2
}
