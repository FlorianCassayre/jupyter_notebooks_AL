{
 "cells": [
  {
   "cell_type": "markdown",
   "metadata": {},
   "source": [
    "# Concept(s)-clé(s) et théorie\n",
    "\n",
    "#### DÉFINITION :\n",
    "Soit $B$ une matrice échelonnée. Alors les inconnues (du système linéaire associé) dont la colonne correspondante ne possède pas de pivot sont appelées les **inconnues libres**. Les inconnues dont la colonne correspondante possède un pivot sont appelées les **inconnues principales**.\n",
    "\n",
    "#### MÉTHODE DE RÉSOLUTION DE SYSTÈMES LINÉAIRES :\n",
    "Soit $S$ un système linéaire à $n$ inconnues. Afin de trouver l'ensemble des solutions de $S$, on procède comme suit :\n",
    "\n",
    "1. Poser A la matrice augmentée du système.\n",
    "2. Utiliser la méthode d'élimination de Gauss afin de transformer A en une matrice échelonnée B.\n",
    "3. Si la matrice B possède une ligne de la forme $(0\\, 0 \\,⋯ \\,0 \\,|\\, c )$ avec $c\\neq 0$, alors le système ne possède aucune solution.\n",
    "4. S'il existe $n$ pivots, aucun dans la dernière colonne, alors il existe une unique solution.\n",
    "5. S'il existe moins de $n$ pivots, aucun dans la dernière colonne, alors il existe un nombre infini de solutions.\n",
    "\n"
   ]
  },
  {
   "cell_type": "code",
   "execution_count": 1,
   "metadata": {},
   "outputs": [
    {
     "data": {
      "text/html": [
       "        <script type=\"text/javascript\">\n",
       "        window.PlotlyConfig = {MathJaxConfig: 'local'};\n",
       "        if (window.MathJax) {MathJax.Hub.Config({SVG: {font: \"STIX-Web\"}});}\n",
       "        if (typeof require !== 'undefined') {\n",
       "        require.undef(\"plotly\");\n",
       "        requirejs.config({\n",
       "            paths: {\n",
       "                'plotly': ['https://cdn.plot.ly/plotly-latest.min']\n",
       "            }\n",
       "        });\n",
       "        require(['plotly'], function(Plotly) {\n",
       "            window._Plotly = Plotly;\n",
       "        });\n",
       "        }\n",
       "        </script>\n",
       "        "
      ]
     },
     "metadata": {},
     "output_type": "display_data"
    },
    {
     "data": {
      "text/html": [
       "        <script type=\"text/javascript\">\n",
       "        window.PlotlyConfig = {MathJaxConfig: 'local'};\n",
       "        if (window.MathJax) {MathJax.Hub.Config({SVG: {font: \"STIX-Web\"}});}\n",
       "        if (typeof require !== 'undefined') {\n",
       "        require.undef(\"plotly\");\n",
       "        requirejs.config({\n",
       "            paths: {\n",
       "                'plotly': ['https://cdn.plot.ly/plotly-latest.min']\n",
       "            }\n",
       "        });\n",
       "        require(['plotly'], function(Plotly) {\n",
       "            window._Plotly = Plotly;\n",
       "        });\n",
       "        }\n",
       "        </script>\n",
       "        "
      ]
     },
     "metadata": {},
     "output_type": "display_data"
    }
   ],
   "source": [
    "import Librairie.AL_Fct as al\n",
    "import Corrections.corrections as corrections\n",
    "import numpy as np\n",
    "import ipywidgets as widgets\n",
    "\n",
    "from ipywidgets import interact, interactive, fixed, interact_manual, Layout"
   ]
  },
  {
   "cell_type": "markdown",
   "metadata": {},
   "source": [
    "### **EXERCICE 1**\n",
    "\n",
    "Trouver la solution du système en échelonnant la matrice augmentée correspondante\n",
    "\n",
    "$$\n",
    "\\begin{cases}\n",
    "-2x_1 + \\dfrac{2}{3}x_2 -x_3&=0\\\\\n",
    "x_1 -2x_2 + x_3&=2\\\\\n",
    "x_2 -5 x_3&=-3\n",
    "\\end{cases}\n",
    "$$\n"
   ]
  },
  {
   "cell_type": "code",
   "execution_count": 2,
   "metadata": {},
   "outputs": [
    {
     "name": "stdout",
     "output_type": "stream",
     "text": [
      "Vous allez échelonner la matrice\n"
     ]
    },
    {
     "data": {
      "text/latex": [
       "$\\left(\\begin{array}{ccc| cc}  1 & 1 & 1 & 1 \\\\1 & 1 & 1 & 1 \\\\1 & 1 & 1 & 1  \\end{array}\\right)$"
      ],
      "text/plain": [
       "<IPython.core.display.Latex object>"
      ]
     },
     "metadata": {},
     "output_type": "display_data"
    },
    {
     "name": "stdout",
     "output_type": "stream",
     "text": [
      "Régler les paramètres et évaluer la cellule suivante\n",
      "Répéter cela jusqu'à obtenir une forme échelonnée réduite\n"
     ]
    },
    {
     "data": {
      "application/vnd.jupyter.widget-view+json": {
       "model_id": "b560a50f133049bea28f2b5ea3b17a3f",
       "version_major": 2,
       "version_minor": 0
      },
      "text/plain": [
       "RadioButtons(description='Opération:', options=('Eij', 'Ei(alpha)', 'Eij(alpha)', 'Revert'), value='Eij')"
      ]
     },
     "metadata": {},
     "output_type": "display_data"
    },
    {
     "data": {
      "application/vnd.jupyter.widget-view+json": {
       "model_id": "0faf303e3da34db487062e5cbd0a22f0",
       "version_major": 2,
       "version_minor": 0
      },
      "text/plain": [
       "BoundedIntText(value=1, description='Ligne i:', max=3, min=1)"
      ]
     },
     "metadata": {},
     "output_type": "display_data"
    },
    {
     "data": {
      "application/vnd.jupyter.widget-view+json": {
       "model_id": "d0cb9c4d596549c4a5070f8b381d2c85",
       "version_major": 2,
       "version_minor": 0
      },
      "text/plain": [
       "BoundedIntText(value=1, description='Ligne j:', max=3, min=1)"
      ]
     },
     "metadata": {},
     "output_type": "display_data"
    },
    {
     "data": {
      "application/vnd.jupyter.widget-view+json": {
       "model_id": "b73551f173554ef2ba40ce217240a64b",
       "version_major": 2,
       "version_minor": 0
      },
      "text/plain": [
       "Text(value='1', description='Coeff. alpha:')"
      ]
     },
     "metadata": {},
     "output_type": "display_data"
    }
   ],
   "source": [
    "A=[[1,1,1], [1,1,1], [1,1,1]]\n",
    "b=[[1], [1], [1]]\n",
    "print('Vous allez échelonner la matrice')\n",
    "al.printA(A,b)\n",
    "[i,j,r,alpha]= al.manualEch(A,b)\n",
    "m=np.concatenate((A,b), axis=1)\n",
    "MatriceList=[A]\n",
    "RhSList=[b]"
   ]
  },
  {
   "cell_type": "code",
   "execution_count": 3,
   "metadata": {},
   "outputs": [
    {
     "data": {
      "text/latex": [
       "$\\left(\\begin{array}{ccc| cc}  1 & 1 & 1 & 1 \\\\1 & 1 & 1 & 1 \\\\1 & 1 & 1 & 1  \\end{array}\\right)\\quad \\sim \\quad\\left(\\begin{array}{ccc| cc}  1 & 1 & 1 & 1 \\\\1 & 1 & 1 & 1 \\\\1 & 1 & 1 & 1  \\end{array}\\right)$"
      ],
      "text/plain": [
       "<IPython.core.display.Latex object>"
      ]
     },
     "metadata": {},
     "output_type": "display_data"
    }
   ],
   "source": [
    "m=al.echelonnage(i,j,r,alpha,A,m,MatriceList,RhSList)"
   ]
  },
  {
   "cell_type": "markdown",
   "metadata": {},
   "source": [
    "### **Exercice 2**\n",
    "\n",
    "Soient les 4 systèmes ci-dessous. À l'aide du méthode d'élimination de Gauss, déterminez celles qui admettent au moins une solution (nommée compatible) et celles qui n'admettent aucune solution (nommée imcompatible).\n",
    "\n",
    "\n",
    "\n",
    "$$\n",
    "a) \\begin{cases}\n",
    "-2x_1 + 8x_2&=0\\\\\n",
    "\\dfrac{1}{2}x_1 -2 &=0\n",
    "\\end{cases}\\hskip1.2em\n",
    "b)\\begin{cases}\n",
    "x_1 + 3 x_2 &=-1\\\\\n",
    "-2x_1 -6 x_2&=-2\n",
    "\\end{cases}\\hskip1.2em\n",
    "c) \\begin{cases}\n",
    "x_1 -2x_3&=3\\\\\n",
    "2x_2 +x_3&=0\\\\\n",
    "-x_1 + x_2 + 2x_3&=2\n",
    "\\end{cases}\\hskip1.2em\n",
    "d) \\begin{cases}\n",
    "x_1 + x_2 + x_3&=1\\\\\n",
    "-x_1 + x_2 + x_3 &=-1\\\\\n",
    "-x_2 -x_3&=0\n",
    "\\end{cases}\n",
    "$$"
   ]
  },
  {
   "cell_type": "code",
   "execution_count": null,
   "metadata": {},
   "outputs": [],
   "source": [
    "A=[[1,1], [1,1], [1,1]]\n",
    "b=[[1],[1],[1]]"
   ]
  },
  {
   "cell_type": "code",
   "execution_count": null,
   "metadata": {},
   "outputs": [],
   "source": [
    "print('Vous allez échelonner la matrice')\n",
    "al.printA(A,b)\n",
    "[i,j,r,alpha]= al.manualEch(A,b)\n",
    "m=np.concatenate((A,b), axis=1)\n",
    "MatriceList=[A]\n",
    "RhSList=[b]"
   ]
  },
  {
   "cell_type": "code",
   "execution_count": null,
   "metadata": {},
   "outputs": [],
   "source": [
    "m=al.echelonnage(i,j,r,alpha,A,m,MatriceList,RhSList)"
   ]
  },
  {
   "cell_type": "code",
   "execution_count": 4,
   "metadata": {},
   "outputs": [
    {
     "name": "stdout",
     "output_type": "stream",
     "text": [
      "Cliquer sur CTRL pour sélectionner plusieurs réponses\n"
     ]
    },
    {
     "data": {
      "application/vnd.jupyter.widget-view+json": {
       "model_id": "e25e590de5ef4b9c910bfdbca03dde2f",
       "version_major": 2,
       "version_minor": 0
      },
      "text/plain": [
       "interactive(children=(SelectMultiple(description='Incompatibles:', layout=Layout(height='90px', width='15%'), …"
      ]
     },
     "metadata": {},
     "output_type": "display_data"
    }
   ],
   "source": [
    "corrections.Ex2Chapitre1_7()"
   ]
  },
  {
   "cell_type": "markdown",
   "metadata": {},
   "source": [
    "# Concept(s)-clé(s) et théorie\n",
    "\n",
    "#### Solution homogène et solution particulière\n",
    "Pour les systèmes linéaires compatibles, la solution $s$ peut être donnée sous forme paramétrique vectorielle comme suit:\n",
    "$$\n",
    "s=p + t v\n",
    "$$où $ p $ est une **solution particulière** au système linéaire, tandis que $ tv $ (avec $t \\in \\mathcal{R}$) est une solution au système homogène $ Ax = 0 $ (en effet appelé **solution homogène**).\n",
    "\n",
    "En 2 dimensions, l'ensemble des solutions peut être un point (si la seule solution homogène est $ v = 0 $), une ligne droite (si l'ensemble des solutions homogènes se situe sur une droite du plan 2D) ou le plan entier (si chaque vecteur 2D est une solution au système homogène).\n",
    "  \n",
    "En 3 dimensions, l'ensemble des solutions peut être un point (si la seule solution homogène est $ v = 0 $), une ligne droite (si l'ensemble des solutions homogènes se trouve sur une droite dans l'espace 3D) , le plan entier (si l'ensemble des solutions hoogènes se trouve dans un plan de l'espace 3D) ou tout l'espace 3D (si chaque vecteur 3D est une solution au système homogène)."
   ]
  },
  {
   "cell_type": "markdown",
   "metadata": {},
   "source": [
    "Pour les systèmes de l'exercice 2, donner la nature des solutions. Un graphe s'affichera avec les solutions.\n",
    "$$\n",
    "a) \\begin{cases}\n",
    "-2x_1 + 8x_2&=0\\\\\n",
    "\\dfrac{1}{2}x_1 -2 &=0\n",
    "\\end{cases}\\hskip1.2em\n",
    "b)\\begin{cases}\n",
    "x_1 + 3 x_2 &=-1\\\\\n",
    "-2x_1 -6 x_2&=-2\n",
    "\\end{cases}\\hskip1.2em\n",
    "c) \\begin{cases}\n",
    "x_1 -2x_3&=3\\\\\n",
    "2x_2 +x_3&=0\\\\\n",
    "-x_1 + x_2 + 2x_3&=2\n",
    "\\end{cases}\\hskip1.2em\n",
    "d) \\begin{cases}\n",
    "x_1 + x_2 + x_3&=1\\\\\n",
    "-x_1 + x_2 + x_3 &=-1\\\\\n",
    "-x_2 -x_3&=0\n",
    "\\end{cases}\n",
    "$$"
   ]
  },
  {
   "cell_type": "code",
   "execution_count": 5,
   "metadata": {},
   "outputs": [
    {
     "data": {
      "application/vnd.jupyter.widget-view+json": {
       "model_id": "44c522e375484f8d9b8a5968be88fa83",
       "version_major": 2,
       "version_minor": 0
      },
      "text/plain": [
       "interactive(children=(Select(description='Système a):', options=('Point', 'Droite', 'Plan', 'Incompatible'), v…"
      ]
     },
     "metadata": {},
     "output_type": "display_data"
    }
   ],
   "source": [
    "corrections.Ex3Chapitre1_7()"
   ]
  }
 ],
 "metadata": {
  "kernelspec": {
   "display_name": "Python 3",
   "language": "python",
   "name": "python3"
  },
  "language_info": {
   "codemirror_mode": {
    "name": "ipython",
    "version": 3
   },
   "file_extension": ".py",
   "mimetype": "text/x-python",
   "name": "python",
   "nbconvert_exporter": "python",
   "pygments_lexer": "ipython3",
   "version": "3.7.4"
  }
 },
 "nbformat": 4,
 "nbformat_minor": 4
}
