{
 "cells": [
  {
   "cell_type": "markdown",
   "metadata": {},
   "source": [
    "$\\bf{Concept(s)-clé(s)}$\n",
    "\n",
    "DÉFINITION 1 :\n",
    "\n",
    "Une équation linéaire aux inconnues $x_1,\\ldots,x_n$ à coefficients réels est une équation de la forme $$a_1x_1+a_2x_2+\\cdots+a_nx_n=b,$$ où $a_1,a_2,\\ldots,a_n,b\\in \\mathbb{R}.$\n",
    "\n",
    "DÉFINITION 2 :\n",
    "\n",
    "On appelle système d'équations linéaires  (ou simplement système linéaire) une famille d'équations linéaires aux inconnues $x_1,\\ldots,x_n$ à coefficients réels de la forme  \n",
    "$$S=\\left\\{\\begin{array}{ccccccc}\n",
    "a_{11}x_1 &+a_{12}x_2 & + &\\cdots &+a_{1n}x_n &= &b_1 \\\\\n",
    "a_{21}x_1 &+a_{22}x_2 & + &\\cdots &+a_{2n}x_n &= &b_2 \\\\\n",
    "\\vdots    &           &         &           &\\vdots & \\vdots &\\vdots \\\\\n",
    "a_{m1}x_1 &+a_{m2}x_2 & + &\\cdots &+a_{mn}x_n &= &b_m\n",
    "\\end{array},\\right. $$\n",
    "où $a_{ij},b_i\\in \\mathbb{R}$ pour tout $1\\leq i\\leq m$ et tout $1\\leq j\\leq n.$ Aussi, on dit qu'une suite ordonnée de $n$ nombres réels $\\alpha=(\\alpha_1,\\ldots,\\alpha_n)$ est une solution du système linéaire $S$ si toutes les égalités du système sont vérifiées lorsque l'on remplace $x_j$ par $\\alpha_j,$ ceci pout tout $1\\leq j\\leq n.$"
   ]
  },
  {
   "cell_type": "code",
   "execution_count": 1,
   "metadata": {},
   "outputs": [],
   "source": [
    "import AL_Fct as al\n",
    "import numpy as np\n",
    "import matplotlib.pyplot as plt\n",
    "\n",
    "from IPython.core.magic import register_cell_magic\n",
    "from IPython.display import HTML, display\n",
    "\n",
    "@register_cell_magic\n",
    "def bgc(color, cell=None):\n",
    "    script = (\n",
    "        \"var cell = this.closest('.jp-CodeCell');\"\n",
    "        \"var editor = cell.querySelector('.jp-Editor');\"\n",
    "        \"editor.style.background='{}';\"\n",
    "        \"this.parentNode.removeChild(this)\"\n",
    "    ).format(color)\n",
    "\n",
    "    display(HTML('<img src onerror=\"{}\">'.format(script)))"
   ]
  },
  {
   "cell_type": "markdown",
   "metadata": {},
   "source": [
    "EXEMPLE 1:\n",
    "\n",
    "Dans ce premier exemple nous nous familiarisons avec les équations et les ensembles de solutions. \n",
    "\n",
    "Les cellules ci-dessous nous permettent, par exemple, d'entrer l'équation \n",
    "$$3x_1 + 2x_2=7$$\n",
    "\n",
    "Elles donnent ensuite une solution $$ \\alpha=(\\alpha_1, \\ldots , \\alpha_n)$$ à l'équation entrée."
   ]
  },
  {
   "cell_type": "code",
   "execution_count": 2,
   "metadata": {},
   "outputs": [
    {
     "data": {
      "text/html": [
       "<img src onerror=\"var cell = this.closest('.jp-CodeCell');var editor = cell.querySelector('.jp-Editor');editor.style.background='seashell';this.parentNode.removeChild(this)\">"
      ],
      "text/plain": [
       "<IPython.core.display.HTML object>"
      ]
     },
     "metadata": {},
     "output_type": "display_data"
    }
   ],
   "source": [
    "bgc('seashell')\n",
    "\n",
    "n = 2 # n est le nombre de variables dans l'équation\n",
    "\n",
    "coefficients = [3,1,7] # coefficients=[a1, a2, ..., an, b] est un vecteur avec les n+1 coefficients de l'équation\n",
    "\n"
   ]
  },
  {
   "cell_type": "markdown",
   "metadata": {},
   "source": [
    "Votre équation est"
   ]
  },
  {
   "cell_type": "code",
   "execution_count": 3,
   "metadata": {},
   "outputs": [
    {
     "data": {
      "text/latex": [
       "$3x_1 + 1x_2=7$"
      ],
      "text/plain": [
       "<IPython.core.display.Latex object>"
      ]
     },
     "metadata": {},
     "output_type": "display_data"
    }
   ],
   "source": [
    "al.printEq(n, coefficients)"
   ]
  },
  {
   "cell_type": "markdown",
   "metadata": {},
   "source": [
    "Pour rentrer la solution on utilise la syntaxe suivante\n",
    "$$\\rm{solution}=[\\alpha_1, \\alpha_2, \\ldots, \\alpha_n]$$"
   ]
  },
  {
   "cell_type": "code",
   "execution_count": 4,
   "metadata": {},
   "outputs": [
    {
     "data": {
      "text/html": [
       "<img src onerror=\"var cell = this.closest('.jp-CodeCell');var editor = cell.querySelector('.jp-Editor');editor.style.background='seashell';this.parentNode.removeChild(this)\">"
      ],
      "text/plain": [
       "<IPython.core.display.HTML object>"
      ]
     },
     "metadata": {},
     "output_type": "display_data"
    }
   ],
   "source": [
    "bgc('seashell')\n",
    "\n",
    "solution = [1,2] # solution=[s1,...,sn] est un vecteur\n"
   ]
  },
  {
   "cell_type": "code",
   "execution_count": 5,
   "metadata": {},
   "outputs": [
    {
     "name": "stdout",
     "output_type": "stream",
     "text": [
      "La suite entrée n'est pas une solution de l'équation 1\n"
     ]
    }
   ],
   "source": [
    "isSol = [al.SolOfEq(solution, coefficients,1)]"
   ]
  },
  {
   "cell_type": "markdown",
   "metadata": {},
   "source": [
    "EXERCICE 1:\n",
    "\n",
    "Enter l'équation $$ \\frac{2}{5}x_1 -4x_2 + x_3 = 8$$ et donner une solution $$\\alpha=(\\alpha_1, \\alpha_2, \\alpha_3).$$\n",
    "\n",
    "Vous pouvez aussi adapter le code à l'équation de votre choix."
   ]
  },
  {
   "cell_type": "code",
   "execution_count": 6,
   "metadata": {},
   "outputs": [
    {
     "data": {
      "text/html": [
       "<img src onerror=\"var cell = this.closest('.jp-CodeCell');var editor = cell.querySelector('.jp-Editor');editor.style.background='seashell';this.parentNode.removeChild(this)\">"
      ],
      "text/plain": [
       "<IPython.core.display.HTML object>"
      ]
     },
     "metadata": {},
     "output_type": "display_data"
    }
   ],
   "source": [
    "bgc('seashell')\n",
    "\n",
    "#Par défaut, les valeurs sont fixées à 1\n",
    "n = 1\n",
    "\n",
    "coefficients = [1,1] # coefficients=[a_1, a_2, ..., b]\n",
    "solution = [1] "
   ]
  },
  {
   "cell_type": "code",
   "execution_count": 7,
   "metadata": {},
   "outputs": [
    {
     "data": {
      "text/latex": [
       "$1x_1=1$"
      ],
      "text/plain": [
       "<IPython.core.display.Latex object>"
      ]
     },
     "metadata": {},
     "output_type": "display_data"
    },
    {
     "name": "stdout",
     "output_type": "stream",
     "text": [
      "La suite entrée est une solution de l'équation 1\n"
     ]
    },
    {
     "data": {
      "text/plain": [
       "True"
      ]
     },
     "execution_count": 7,
     "metadata": {},
     "output_type": "execute_result"
    }
   ],
   "source": [
    "al.printEq(n, coefficients)\n",
    "al.SolOfEq(solution, coefficients,1)"
   ]
  },
  {
   "cell_type": "markdown",
   "metadata": {},
   "source": [
    "EXEMPLE 2:\n",
    "\n",
    "Dans cet exercice nous nous familiarisonns avec les systèmes d'équations. La partie ci-dessous vous demande de rentrer un système d'équation en suivant les notations de la définition 1.\n",
    "\n",
    "Essayer, par exemple, d'entrer le système d'équations\n",
    "$$\\begin{cases}\n",
    "x_1 &-3 x_2 &&=4\\\\\n",
    "-x_1 & + 4 x_2&&= 5\n",
    "\\end{cases}\n",
    "$$"
   ]
  },
  {
   "cell_type": "code",
   "execution_count": 8,
   "metadata": {},
   "outputs": [
    {
     "data": {
      "text/html": [
       "<img src onerror=\"var cell = this.closest('.jp-CodeCell');var editor = cell.querySelector('.jp-Editor');editor.style.background='seashell';this.parentNode.removeChild(this)\">"
      ],
      "text/plain": [
       "<IPython.core.display.HTML object>"
      ]
     },
     "metadata": {},
     "output_type": "display_data"
    }
   ],
   "source": [
    "bgc('seashell')\n",
    "\n",
    "n = 2\n",
    "m = 2\n",
    "MatriceCoeff = [ [1, -3,4] , [-1,4,5] ] # MatriceCoeff=[ [a_11, a_12, b_1], [a_21, a_22,  b_2] ] "
   ]
  },
  {
   "cell_type": "markdown",
   "metadata": {},
   "source": [
    "Votre système est "
   ]
  },
  {
   "cell_type": "code",
   "execution_count": 9,
   "metadata": {},
   "outputs": [
    {
     "data": {
      "text/latex": [
       "$\\begin{cases}1x_1 + -3x_2=4\\\\-1x_1 + 4x_2=5\\\\\\end{cases}$"
      ],
      "text/plain": [
       "<IPython.core.display.Latex object>"
      ]
     },
     "metadata": {},
     "output_type": "display_data"
    }
   ],
   "source": [
    "al.printSyst(m,n, MatriceCoeff)"
   ]
  },
  {
   "cell_type": "code",
   "execution_count": 10,
   "metadata": {},
   "outputs": [
    {
     "data": {
      "text/html": [
       "<img src onerror=\"var cell = this.closest('.jp-CodeCell');var editor = cell.querySelector('.jp-Editor');editor.style.background='seashell';this.parentNode.removeChild(this)\">"
      ],
      "text/plain": [
       "<IPython.core.display.HTML object>"
      ]
     },
     "metadata": {},
     "output_type": "display_data"
    }
   ],
   "source": [
    "bgc('seashell')\n",
    "\n",
    "solution = [31,9]"
   ]
  },
  {
   "cell_type": "code",
   "execution_count": 11,
   "metadata": {},
   "outputs": [
    {
     "name": "stdout",
     "output_type": "stream",
     "text": [
      "La suite entrée est une solution de l'équation 1\n",
      "La suite entrée est une solution de l'équation 2\n",
      "C'est une solution du système\n"
     ]
    }
   ],
   "source": [
    "al.SolOfSyst(solution, MatriceCoeff,m)"
   ]
  },
  {
   "cell_type": "markdown",
   "metadata": {},
   "source": [
    "EXERCICE 2:\n",
    "   \n",
    "Entrer le système suivant et donner une solution du système.\n",
    "\n",
    "$$\\begin{cases}\n",
    "&2x_1 -3 x_2   + x_3&&=-5\\\\\n",
    "&-\\dfrac{1}{3}x_1  +  x_3&&= 2\\\\\n",
    "&x_1 + 4x_2 -x_3 &&=0\n",
    "\\end{cases}\n",
    "$$\n",
    "\n",
    "Vous pouvez aussi adapter le code à l'équation de votre choix."
   ]
  },
  {
   "cell_type": "code",
   "execution_count": 12,
   "metadata": {},
   "outputs": [
    {
     "data": {
      "text/html": [
       "<img src onerror=\"var cell = this.closest('.jp-CodeCell');var editor = cell.querySelector('.jp-Editor');editor.style.background='seashell';this.parentNode.removeChild(this)\">"
      ],
      "text/plain": [
       "<IPython.core.display.HTML object>"
      ]
     },
     "metadata": {},
     "output_type": "display_data"
    }
   ],
   "source": [
    "bgc('seashell')\n",
    "#Par défaut, les valeurs sont fixées à 1 (et m à 2)\n",
    "n = 1\n",
    "m = 2\n",
    "MatriceCoeff = [[1,1], [1,1]]\n",
    "\n",
    "solution=[1]\n"
   ]
  },
  {
   "cell_type": "code",
   "execution_count": 13,
   "metadata": {},
   "outputs": [
    {
     "data": {
      "text/latex": [
       "$\\begin{cases}1x_1=1\\\\1x_1=1\\\\\\end{cases}$"
      ],
      "text/plain": [
       "<IPython.core.display.Latex object>"
      ]
     },
     "metadata": {},
     "output_type": "display_data"
    },
    {
     "name": "stdout",
     "output_type": "stream",
     "text": [
      "La suite entrée est une solution de l'équation 1\n",
      "La suite entrée est une solution de l'équation 2\n",
      "C'est une solution du système\n"
     ]
    }
   ],
   "source": [
    "al.printSyst(m,n, MatriceCoeff)\n",
    "al.SolOfSyst(solution, MatriceCoeff,m)"
   ]
  },
  {
   "cell_type": "markdown",
   "metadata": {},
   "source": []
  }
 ],
 "metadata": {
  "kernelspec": {
   "display_name": "Python 3",
   "language": "python",
   "name": "python3"
  },
  "language_info": {
   "codemirror_mode": {
    "name": "ipython",
    "version": 3
   },
   "file_extension": ".py",
   "mimetype": "text/x-python",
   "name": "python",
   "nbconvert_exporter": "python",
   "pygments_lexer": "ipython3",
   "version": "3.7.1"
  }
 },
 "nbformat": 4,
 "nbformat_minor": 2
}
