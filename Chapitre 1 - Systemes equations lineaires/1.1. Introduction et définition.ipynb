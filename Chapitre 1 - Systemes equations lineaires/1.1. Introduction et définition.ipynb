{
 "cells": [
  {
   "cell_type": "markdown",
   "metadata": {},
   "source": [
    "$\\textbf{Concept(s)-clé(s) et théorie}$\n",
    "\n",
    "DÉFINITION 1 :\n",
    "\n",
    "Une équation linéaire aux inconnues $x_1,\\ldots,x_n$ à coefficients réels est une équation de la forme $$a_1x_1+a_2x_2+\\cdots+a_nx_n=b,$$ où $a_1,a_2,\\ldots,a_n,b\\in \\mathbb{R}.$\n",
    "\n",
    "DÉFINITION 2 :\n",
    "\n",
    "On appelle système d'équations linéaires  (ou simplement système linéaire) une famille d'équations linéaires aux inconnues $x_1,\\ldots,x_n$ à coefficients réels de la forme  \n",
    "$$S=\\left\\{\\begin{array}{ccccccc}\n",
    "a_{11}x_1 &+a_{12}x_2 & + &\\cdots &+a_{1n}x_n &= &b_1 \\\\\n",
    "a_{21}x_1 &+a_{22}x_2 & + &\\cdots &+a_{2n}x_n &= &b_2 \\\\\n",
    "\\vdots    &           &         &           &\\vdots & \\vdots &\\vdots \\\\\n",
    "a_{m1}x_1 &+a_{m2}x_2 & + &\\cdots &+a_{mn}x_n &= &b_m\n",
    "\\end{array},\\right. $$\n",
    "où $a_{ij},b_i\\in \\mathbb{R}$ pour tout $1\\leq i\\leq m$ et tout $1\\leq j\\leq n.$ Aussi, on dit qu'une suite ordonnée de $n$ nombres réels $\\alpha=(\\alpha_1,\\ldots,\\alpha_n)$ est une solution du système linéaire $S$ si toutes les égalités du système sont vérifiées lorsque l'on remplace $x_j$ par $\\alpha_j,$ ceci pout tout $1\\leq j\\leq n.$"
   ]
  },
  {
   "cell_type": "code",
   "execution_count": 1,
   "metadata": {},
   "outputs": [
    {
     "data": {
      "text/html": [
       "        <script type=\"text/javascript\">\n",
       "        window.PlotlyConfig = {MathJaxConfig: 'local'};\n",
       "        if (window.MathJax) {MathJax.Hub.Config({SVG: {font: \"STIX-Web\"}});}\n",
       "        if (typeof require !== 'undefined') {\n",
       "        require.undef(\"plotly\");\n",
       "        requirejs.config({\n",
       "            paths: {\n",
       "                'plotly': ['https://cdn.plot.ly/plotly-latest.min']\n",
       "            }\n",
       "        });\n",
       "        require(['plotly'], function(Plotly) {\n",
       "            window._Plotly = Plotly;\n",
       "        });\n",
       "        }\n",
       "        </script>\n",
       "        "
      ]
     },
     "metadata": {},
     "output_type": "display_data"
    }
   ],
   "source": [
    "import AL_Fct as al\n",
    "from IPython.core.magic import register_cell_magic\n",
    "from IPython.display import HTML, display\n",
    "import numpy as np\n"
   ]
  },
  {
   "cell_type": "markdown",
   "metadata": {},
   "source": [
    "EXEMPLE 1:\n",
    "\n",
    "Dans ce premier exemple nous nous familiarisons avec les équations et les ensembles de solutions. \n",
    "\n",
    "Les cellules ci-dessous nous permettent, par exemple, d'entrer l'équation \n",
    "$$3x_1 + 2x_2=7$$\n",
    "\n",
    "Elles donnent ensuite une solution $$ \\alpha=(\\alpha_1, \\ldots , \\alpha_n)$$ à l'équation entrée."
   ]
  },
  {
   "cell_type": "code",
   "execution_count": 9,
   "metadata": {},
   "outputs": [
    {
     "data": {
      "text/html": [
       "<img src onerror=\"var cell = this.closest('.jp-CodeCell');var editor = cell.querySelector('.jp-Editor');editor.style.background='seashell';this.parentNode.removeChild(this)\">"
      ],
      "text/plain": [
       "<IPython.core.display.HTML object>"
      ]
     },
     "metadata": {},
     "output_type": "display_data"
    }
   ],
   "source": [
    "al.bgc('seashell')\n",
    "\n",
    "coefficients = [1,1] # coefficients=[a1, a2, ..., an] est un vecteur avec les n coefficients de l'équation\n",
    "b=[1] # b=[b1, b2, ..., bm] est un vecteur avec les m termes de droite de l'équation\n"
   ]
  },
  {
   "cell_type": "markdown",
   "metadata": {},
   "source": [
    "Votre équation est"
   ]
  },
  {
   "cell_type": "code",
   "execution_count": 10,
   "metadata": {},
   "outputs": [
    {
     "data": {
      "text/latex": [
       "$1x_1 + 1x_2=1$"
      ],
      "text/plain": [
       "<IPython.core.display.Latex object>"
      ]
     },
     "metadata": {},
     "output_type": "display_data"
    }
   ],
   "source": [
    "al.printEq(coefficients,b)"
   ]
  },
  {
   "cell_type": "markdown",
   "metadata": {},
   "source": [
    "Pour rentrer la solution on utilise la syntaxe suivante\n",
    "$$\\rm{solution}=[\\alpha_1, \\alpha_2, \\ldots, \\alpha_n]$$"
   ]
  },
  {
   "cell_type": "code",
   "execution_count": 11,
   "metadata": {},
   "outputs": [
    {
     "data": {
      "text/html": [
       "<img src onerror=\"var cell = this.closest('.jp-CodeCell');var editor = cell.querySelector('.jp-Editor');editor.style.background='seashell';this.parentNode.removeChild(this)\">"
      ],
      "text/plain": [
       "<IPython.core.display.HTML object>"
      ]
     },
     "metadata": {},
     "output_type": "display_data"
    }
   ],
   "source": [
    "al.bgc('seashell')\n",
    "\n",
    "solution = [1,2] # solution=[s1,...,sn] est un vecteur\n"
   ]
  },
  {
   "cell_type": "code",
   "execution_count": 12,
   "metadata": {},
   "outputs": [
    {
     "name": "stdout",
     "output_type": "stream",
     "text": [
      "La suite entrée n'est pas une solution de l'équation 1\n"
     ]
    }
   ],
   "source": [
    "isSol = [al.SolOfEq(solution, coefficients+b,1)]"
   ]
  },
  {
   "cell_type": "markdown",
   "metadata": {},
   "source": [
    "EXERCICE 1:\n",
    "\n",
    "Enter l'équation $$ \\frac{2}{5}x_1 -4x_2 + x_3 = 8$$ et donner une solution $$\\alpha=(\\alpha_1, \\alpha_2, \\alpha_3).$$\n",
    "\n",
    "Vous pouvez aussi adapter le code à l'équation de votre choix."
   ]
  },
  {
   "cell_type": "code",
   "execution_count": 13,
   "metadata": {},
   "outputs": [
    {
     "data": {
      "text/html": [
       "<img src onerror=\"var cell = this.closest('.jp-CodeCell');var editor = cell.querySelector('.jp-Editor');editor.style.background='seashell';this.parentNode.removeChild(this)\">"
      ],
      "text/plain": [
       "<IPython.core.display.HTML object>"
      ]
     },
     "metadata": {},
     "output_type": "display_data"
    }
   ],
   "source": [
    "al.bgc('seashell')\n",
    "\n",
    "#Par défaut, les valeurs sont fixées à 1\n",
    "coefficients = [1] # coefficients=[a_1, a_2, ..., an]\n",
    "b=[1]\n",
    "solution = [1] "
   ]
  },
  {
   "cell_type": "code",
   "execution_count": 14,
   "metadata": {},
   "outputs": [
    {
     "data": {
      "text/latex": [
       "$1x_1=1$"
      ],
      "text/plain": [
       "<IPython.core.display.Latex object>"
      ]
     },
     "metadata": {},
     "output_type": "display_data"
    },
    {
     "name": "stdout",
     "output_type": "stream",
     "text": [
      "La suite entrée est une solution de l'équation 1\n"
     ]
    }
   ],
   "source": [
    "al.printEq(coefficients,b)\n",
    "isSol=[al.SolOfEq(solution, coefficients+b,1)]"
   ]
  },
  {
   "cell_type": "markdown",
   "metadata": {},
   "source": [
    "EXEMPLE 2:\n",
    "\n",
    "Dans cet exercice nous nous familiarisonns avec les systèmes d'équations. La partie ci-dessous vous demande de rentrer un système d'équation en suivant les notations de la définition 1.\n",
    "\n",
    "Essayer, par exemple, d'entrer le système d'équations\n",
    "$$\\begin{cases}\n",
    "x_1 &-3 x_2 &&=4\\\\\n",
    "-x_1 & + 4 x_2&&= 5\n",
    "\\end{cases}\n",
    "$$"
   ]
  },
  {
   "cell_type": "code",
   "execution_count": 15,
   "metadata": {},
   "outputs": [
    {
     "data": {
      "text/html": [
       "<img src onerror=\"var cell = this.closest('.jp-CodeCell');var editor = cell.querySelector('.jp-Editor');editor.style.background='seashell';this.parentNode.removeChild(this)\">"
      ],
      "text/plain": [
       "<IPython.core.display.HTML object>"
      ]
     },
     "metadata": {},
     "output_type": "display_data"
    }
   ],
   "source": [
    "al.bgc('seashell')\n",
    "\n",
    "coefficients = [ [1, -3], [-1, 4]] # MatriceCoeff=[ [a_11, a_12], [a_21, a_22] ]\n",
    "b=[4,5] #b=[b1, b2]"
   ]
  },
  {
   "cell_type": "markdown",
   "metadata": {},
   "source": [
    "Votre système est "
   ]
  },
  {
   "cell_type": "code",
   "execution_count": 16,
   "metadata": {},
   "outputs": [
    {
     "data": {
      "text/latex": [
       "$\\begin{cases}1x_1 + -3x_2=4\\\\-1x_1 + 4x_2=5\\\\\\end{cases}$"
      ],
      "text/plain": [
       "<IPython.core.display.Latex object>"
      ]
     },
     "metadata": {},
     "output_type": "display_data"
    }
   ],
   "source": [
    "al.printSyst(coefficients,b)"
   ]
  },
  {
   "cell_type": "code",
   "execution_count": 18,
   "metadata": {},
   "outputs": [
    {
     "data": {
      "text/html": [
       "<img src onerror=\"var cell = this.closest('.jp-CodeCell');var editor = cell.querySelector('.jp-Editor');editor.style.background='seashell';this.parentNode.removeChild(this)\">"
      ],
      "text/plain": [
       "<IPython.core.display.HTML object>"
      ]
     },
     "metadata": {},
     "output_type": "display_data"
    }
   ],
   "source": [
    "al.bgc('seashell')\n",
    "\n",
    "solution = [31,9]"
   ]
  },
  {
   "cell_type": "code",
   "execution_count": 20,
   "metadata": {},
   "outputs": [
    {
     "name": "stdout",
     "output_type": "stream",
     "text": [
      "La suite entrée est une solution de l'équation 1\n",
      "La suite entrée est une solution de l'équation 2\n",
      "C'est une solution du système\n"
     ]
    }
   ],
   "source": [
    "al.SolOfSyst(solution, coefficients,b)"
   ]
  },
  {
   "cell_type": "markdown",
   "metadata": {},
   "source": [
    "EXERCICE 2:\n",
    "   \n",
    "Entrer le système suivant et donner une solution du système.\n",
    "\n",
    "$$\\begin{cases}\n",
    "&2x_1 -3 x_2   + x_3&&=-5\\\\\n",
    "&-\\dfrac{1}{3}x_1  +  x_3&&= 2\\\\\n",
    "&x_1 + 4x_2 -x_3 &&=0\n",
    "\\end{cases}\n",
    "$$\n",
    "\n",
    "Vous pouvez aussi adapter le code à l'équation de votre choix."
   ]
  },
  {
   "cell_type": "code",
   "execution_count": 21,
   "metadata": {},
   "outputs": [
    {
     "data": {
      "text/html": [
       "<img src onerror=\"var cell = this.closest('.jp-CodeCell');var editor = cell.querySelector('.jp-Editor');editor.style.background='seashell';this.parentNode.removeChild(this)\">"
      ],
      "text/plain": [
       "<IPython.core.display.HTML object>"
      ]
     },
     "metadata": {},
     "output_type": "display_data"
    }
   ],
   "source": [
    "al.bgc('seashell')\n",
    "#Par défaut, les valeurs sont fixées à 1 (et m à 2)\n",
    "\n",
    "coefficients = [[1,1,1], [1,1,1],[1,1,1]]\n",
    "b=[1,1,1]\n",
    "solution=[1,1,1]\n"
   ]
  },
  {
   "cell_type": "code",
   "execution_count": 22,
   "metadata": {},
   "outputs": [
    {
     "data": {
      "text/latex": [
       "$\\begin{cases}1x_1 + 1x_2 + 1x_3=1\\\\1x_1 + 1x_2 + 1x_3=1\\\\1x_1 + 1x_2 + 1x_3=1\\\\\\end{cases}$"
      ],
      "text/plain": [
       "<IPython.core.display.Latex object>"
      ]
     },
     "metadata": {},
     "output_type": "display_data"
    },
    {
     "name": "stdout",
     "output_type": "stream",
     "text": [
      "La suite entrée n'est pas une solution de l'équation 1\n",
      "La suite entrée n'est pas une solution de l'équation 2\n",
      "La suite entrée n'est pas une solution de l'équation 3\n",
      "Ce n'est pas une solution du système\n"
     ]
    }
   ],
   "source": [
    "al.printSyst(coefficients,b)\n",
    "al.SolOfSyst(solution, coefficients,b)"
   ]
  }
 ],
 "metadata": {
  "kernelspec": {
   "display_name": "Python 3",
   "language": "python",
   "name": "python3"
  },
  "language_info": {
   "codemirror_mode": {
    "name": "ipython",
    "version": 3
   },
   "file_extension": ".py",
   "mimetype": "text/x-python",
   "name": "python",
   "nbconvert_exporter": "python",
   "pygments_lexer": "ipython3",
   "version": "3.6.7"
  }
 },
 "nbformat": 4,
 "nbformat_minor": 2
}
