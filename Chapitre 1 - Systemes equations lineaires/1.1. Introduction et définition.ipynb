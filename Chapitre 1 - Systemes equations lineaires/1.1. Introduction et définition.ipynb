{
 "cells": [
  {
   "cell_type": "markdown",
   "metadata": {},
   "source": [
    "$\\bf{Concept(s)-clé(s)}$\n",
    "\n",
    "DÉFINITION 1 :\n",
    "\n",
    "Une équation linéaire aux inconnues $x_1,\\ldots,x_n$ à coefficients réels est une équation de la forme $$a_1x_1+a_2x_2+\\cdots+a_nx_n=b,$$ où $a_1,a_2,\\ldots,a_n,b\\in \\mathbb{R}.$\n",
    "\n",
    "DÉFINITION 2 :\n",
    "\n",
    "On appelle système d'équations linéaires  (ou simplement système linéaire) une famille d'équations linéaires aux inconnues $x_1,\\ldots,x_n$ à coefficients réels de la forme  \n",
    "$$S=\\left\\{\\begin{array}{ccccccc}\n",
    "a_{11}x_1 &+a_{12}x_2 & + &\\cdots &+a_{1n}x_n &= &b_1 \\\\\n",
    "a_{21}x_1 &+a_{22}x_2 & + &\\cdots &+a_{2n}x_n &= &b_2 \\\\\n",
    "\\vdots    &           &         &           &\\vdots & \\vdots &\\vdots \\\\\n",
    "a_{m1}x_1 &+a_{m2}x_2 & + &\\cdots &+a_{mn}x_n &= &b_m\n",
    "\\end{array},\\right. $$\n",
    "où $a_{ij},b_i\\in \\mathbb{R}$ pour tout $1\\leq i\\leq m$ et tout $1\\leq j\\leq n.$ Aussi, on dit qu'une suite ordonnée de $n$ nombres réels $\\alpha=(\\alpha_1,\\ldots,\\alpha_n)$ est une solution du système linéaire $S$ si toutes les égalités du système sont vérifiées lorsque l'on remplace $x_j$ par $\\alpha_j,$ ceci pout tout $1\\leq j\\leq n.$"
   ]
  },
  {
   "cell_type": "code",
   "execution_count": null,
   "metadata": {},
   "outputs": [],
   "source": [
    "import AL_Fct as al\n",
    "import numpy as np\n",
    "import matplotlib.pyplot as plt\n"
   ]
  },
  {
   "cell_type": "markdown",
   "metadata": {},
   "source": [
    "EXERCICE 1:\n",
    "\n",
    "Dans ce premier exerice nous nous familiarisons avec les équations et les ensembles de solutions. \n",
    "La partie ci-dessous vous demande de rentrer équation en suivant les notations de la définition 1. \n",
    "\n",
    "Essayer, par exemple, d'entrer l'équation \n",
    "$$3x_1 + x_2=7$$\n",
    "\n",
    "Donner ensuite une solution $$ \\alpha=(\\alpha_1, \\ldots , \\alpha_n)$$ à l'équation entrée."
   ]
  },
  {
   "cell_type": "code",
   "execution_count": null,
   "metadata": {},
   "outputs": [
    {
     "name": "stdout",
     "output_type": "stream",
     "text": [
      "Entrez le nombre de variables n=\n"
     ]
    }
   ],
   "source": [
    "print(\"Entrez le nombre de variables n=\") \n",
    "n=input()\n",
    "n=al.EnterInt(n)\n",
    "\n",
    "print(\"Votre équation est de la forme\")\n",
    "al.printEq(n, '')\n",
    "\n",
    "print(\"Entrez les \", n+1,\" coefficients de l'équations sous le format a1, a2, ..., b\")\n",
    "entry=input()\n",
    "coeff=al.EnterListReal(n,entry)\n",
    "\n",
    "print(\"Votre equation est\")\n",
    "al.printEq(n, coeff)\n"
   ]
  },
  {
   "cell_type": "code",
   "execution_count": null,
   "metadata": {},
   "outputs": [],
   "source": [
    "print(\"Entrez la solution sous la forme d'une suite de \", n,\" nombres réels\")\n",
    "entry=input()\n",
    "sol=al.EnterListReal(n-1,entry)\n",
    "\n",
    "sol=np.asarray(sol[0:len(sol)])\n",
    "isSol=[al.SolOfEq(sol, coeff,1)]"
   ]
  },
  {
   "cell_type": "markdown",
   "metadata": {},
   "source": [
    "EXERCICE 2:\n",
    "\n",
    "Dans cet exercice nous nous familiarisonns avec les systèmes d'équations. La partie ci-dessous vous demande de rentrer un système d'équation en suivant les notations de la définition 1.\n",
    "\n",
    "Essayer, par exemple, d'entrer le système d'équations\n",
    "$$\\begin{cases}\n",
    "x_1 &-3 x_2 &&=4\\\\\n",
    "-x_1 & + 4 x_2&&= 5\n",
    "\\end{cases}\n",
    "$$"
   ]
  },
  {
   "cell_type": "code",
   "execution_count": null,
   "metadata": {},
   "outputs": [],
   "source": [
    "print(\"Entrez le nombre de variables n=\") \n",
    "n=input()\n",
    "n=al.EnterInt(n)\n",
    "print(\"Entrez le nombre d'équations m=\") \n",
    "m=input()\n",
    "m=al.EnterInt(m)\n",
    "print(\"Votre système est de la forme\")\n",
    "al.printSyst(m,n, '')\n",
    "\n",
    "\n",
    "\n",
    "MatCoeff=[[0] * n for i in range(m) ]\n",
    "for i in range(1,m+1):\n",
    "    print(\"Entrez les \", n+1,\" coefficients de l'équation\", i)\n",
    "    entry=input()\n",
    "    MatCoeff[i-1]=al.EnterListReal(n,entry)\n",
    "MatCoeff=np.array(MatCoeff)\n",
    "print(\"Votre système est de la forme\")\n",
    "al.printSyst(m,n, MatCoeff)\n",
    "\n",
    "print(\"Entrez la solution sous la forme d'une suite de \", n,\" nombres réels\")\n",
    "entry=input()\n",
    "sol=al.EnterListReal(n-1,entry)\n",
    "\n",
    "sol=np.asarray(sol[0:len(sol)])\n",
    "isSol=[al.SolOfEq(sol, MatCoeff[i,:],i+1) for i in range(0,m)]\n",
    "if all(isSol[i]==True for i in range(len(isSol))):\n",
    "    print(\"C'est une solution du système\")\n",
    "else:\n",
    "    print(\"Ce n'est pas une solution du système\")\n",
    "\n",
    "\n"
   ]
  },
  {
   "cell_type": "markdown",
   "metadata": {},
   "source": [
    "EXERCICE 3:\n",
    "\n",
    "Dans cet exercice, nous allons travailler avec un système de $2$ inconnues, $2$ équations:\n",
    "$$\n",
    "\\begin{cases}\n",
    "a_{11}x_1 + a_{12}x_2=b_1\\\\\n",
    "a_{21}x_1 + a_{22}x_2=b_2.\n",
    "\\end{cases}\n",
    "$$\n",
    "\n",
    "Entrer un système de votre choix, vous verrez les graphes (ici des droites) et pourrez proposer une solution.\n"
   ]
  },
  {
   "cell_type": "code",
   "execution_count": null,
   "metadata": {},
   "outputs": [],
   "source": [
    "n=2\n",
    "m=2\n",
    "MatCoeff=[[0] * n for i in range(m) ]\n",
    "for i in range(1,m+1):\n",
    "    print(\"Entrez les \", n+1,\" coefficients de l'équation\", i)\n",
    "    entry=input()\n",
    "    MatCoeff[i-1]=al.EnterListReal(n,entry)\n",
    "MatCoeff=np.array(MatCoeff)\n",
    "print(\"Votre système est de la forme\")\n",
    "al.printSyst(m,n, MatCoeff)\n",
    "\n",
    "#Graph\n",
    "al.Plot2DSys(-7,7,200,MatCoeff)\n",
    "plt.show()\n",
    "\n",
    "print(\"Entrez la solution sous la forme d'une suite de \", n,\" nombres réels\")\n",
    "entry=input()\n",
    "sol=al.EnterListReal(n-1,entry)\n",
    "\n",
    "sol=np.asarray(sol[0:len(sol)])\n",
    "isSol=[al.SolOfEq(sol, MatCoeff[i,:],i+1) for i in range(0,m)]\n",
    "if all(isSol[i]==True for i in range(len(isSol))):\n",
    "    print(\"C'est une solution du système\")\n",
    "else:\n",
    "    print(\"Ce n'est pas une solution du système\")"
   ]
  },
  {
   "cell_type": "code",
   "execution_count": null,
   "metadata": {},
   "outputs": [],
   "source": []
  },
  {
   "cell_type": "markdown",
   "metadata": {},
   "source": []
  },
  {
   "cell_type": "code",
   "execution_count": null,
   "metadata": {},
   "outputs": [],
   "source": []
  },
  {
   "cell_type": "code",
   "execution_count": null,
   "metadata": {},
   "outputs": [],
   "source": []
  },
  {
   "cell_type": "code",
   "execution_count": null,
   "metadata": {},
   "outputs": [],
   "source": []
  }
 ],
 "metadata": {
  "kernelspec": {
   "display_name": "Python 3",
   "language": "python",
   "name": "python3"
  },
  "language_info": {
   "codemirror_mode": {
    "name": "ipython",
    "version": 3
   },
   "file_extension": ".py",
   "mimetype": "text/x-python",
   "name": "python",
   "nbconvert_exporter": "python",
   "pygments_lexer": "ipython3",
   "version": "3.7.1"
  }
 },
 "nbformat": 4,
 "nbformat_minor": 2
}
