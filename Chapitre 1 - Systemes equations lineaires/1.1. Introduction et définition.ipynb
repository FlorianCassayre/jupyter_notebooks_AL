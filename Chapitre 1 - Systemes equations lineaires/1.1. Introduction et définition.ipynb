{
 "cells": [
  {
   "cell_type": "markdown",
   "metadata": {},
   "source": [
    "# Concept(s)-clé(s) et théorie\n",
    "\n",
    "### DÉFINITION 1 :\n",
    "\n",
    "Une *équation linéaire* aux inconnues $x_1,\\ldots,x_n$ à coefficients réels est une équation de la forme\n",
    "\n",
    "$$a_1x_1+a_2x_2+\\cdots+a_nx_n=b,$$ \n",
    "où $a_1,a_2,\\ldots,a_n,b\\in \\mathbb{R}.$\n",
    " \n",
    "---\n",
    "### DÉFINITION 2 :\n",
    "\n",
    "On appelle *système d'équations linéaires*  (ou simplement système linéaire) une famille d'équations linéaires aux inconnues $x_1,\\ldots,x_n$ à coefficients réels de la forme  \n",
    "\n",
    "$$S=\\left\\{\\begin{array}{ccccccc}\n",
    "a_{11}x_1 &+a_{12}x_2 & + &\\cdots &+a_{1n}x_n &= &b_1 \\\\\n",
    "a_{21}x_1 &+a_{22}x_2 & + &\\cdots &+a_{2n}x_n &= &b_2 \\\\\n",
    "\\vdots    &           &         &           &\\vdots & \\vdots &\\vdots \\\\\n",
    "a_{m1}x_1 &+a_{m2}x_2 & + &\\cdots &+a_{mn}x_n &= &b_m\n",
    "\\end{array},\\right. $$\n",
    "\n",
    "où $a_{ij},b_i\\in \\mathbb{R}$ pour tout $1\\leq i\\leq m$ et tout $1\\leq j\\leq n.$ \n",
    "\n",
    "Aussi, on dit qu'une suite ordonnée de $n$ nombres réels $\\alpha=(\\alpha_1,\\ldots,\\alpha_n)$ est une *solution du système linéaire* $S$ si toutes les égalités du système sont vérifiées lorsque l'on remplace $x_j$ par $\\alpha_j,$ ceci pout tout $1\\leq j\\leq n.$"
   ]
  },
  {
   "cell_type": "code",
   "execution_count": 3,
   "metadata": {},
   "outputs": [],
   "source": [
    "import Librairie.AL_Fct as al\n",
    "#from IPython.core.magic import register_cell_magic\n",
    "#from IPython.display import HTML, display\n",
    "#import numpy as np"
   ]
  },
  {
   "cell_type": "markdown",
   "metadata": {},
   "source": [
    "### EXEMPLE 1\n",
    "\n",
    "Dans ce premier exemple nous nous familiarisons avec les équations et les ensembles de solutions. Soit  \n",
    "$$ \n",
    "a_{1}x_{1} + a_{2}x_{2} + \\ldots a_{n}x_{n}=b_1.\n",
    "$$  \n",
    "On utilise *la syntaxe suivante pour définir les coefficients* de l'équation \n",
    "\n",
    "$$\n",
    "\\begin{align*}\n",
    "A&=[a_1, a_2, \\ldots, a_n]\\\\\n",
    "b&=[b_1].\n",
    "\\end{align*}\n",
    "$$\n",
    "\n",
    "---\n",
    "Dans la case ci-dessous, entrer les coefficients de l'équation \n",
    "$$3x_1 + 2x_2=7$$\n",
    "\n"
   ]
  },
  {
   "cell_type": "code",
   "execution_count": 2,
   "metadata": {},
   "outputs": [
    {
     "data": {
      "text/html": [
       "<img src onerror=\"var cell = this.closest('.jp-CodeCell');var editor = cell.querySelector('.jp-Editor');editor.style.background='seashell';this.parentNode.removeChild(this)\">"
      ],
      "text/plain": [
       "<IPython.core.display.HTML object>"
      ]
     },
     "metadata": {},
     "output_type": "display_data"
    }
   ],
   "source": [
    "al.bgc('seashell')\n",
    "#Toutes les valeurs sont initialisées à 1\n",
    "\n",
    "A = [1] \n",
    "b = [1]\n"
   ]
  },
  {
   "cell_type": "code",
   "execution_count": 3,
   "metadata": {},
   "outputs": [
    {
     "data": {
      "text/latex": [
       "$1x_1=1$"
      ],
      "text/plain": [
       "<IPython.core.display.Latex object>"
      ]
     },
     "metadata": {},
     "output_type": "display_data"
    }
   ],
   "source": [
    "al.printEq(A,b)"
   ]
  },
  {
   "cell_type": "markdown",
   "metadata": {},
   "source": [
    "On utilise *la syntaxe suivante pour entrer une solution* d'une équation\n",
    "$$\\rm{alpha}=[\\alpha_1, \\alpha_2, \\ldots, \\alpha_n]$$"
   ]
  },
  {
   "cell_type": "code",
   "execution_count": 4,
   "metadata": {},
   "outputs": [
    {
     "data": {
      "text/html": [
       "<img src onerror=\"var cell = this.closest('.jp-CodeCell');var editor = cell.querySelector('.jp-Editor');editor.style.background='seashell';this.parentNode.removeChild(this)\">"
      ],
      "text/plain": [
       "<IPython.core.display.HTML object>"
      ]
     },
     "metadata": {},
     "output_type": "display_data"
    }
   ],
   "source": [
    "al.bgc('seashell')\n",
    "#Toutes les valeurs sont initialisées à 1\n",
    "\n",
    "alpha = [1] #solution"
   ]
  },
  {
   "cell_type": "code",
   "execution_count": 5,
   "metadata": {},
   "outputs": [
    {
     "name": "stdout",
     "output_type": "stream",
     "text": [
      "La suite entrée est une solution de l'équation 1\n"
     ]
    }
   ],
   "source": [
    "isSol = [al.SolOfEq(alpha, A+b,1)]"
   ]
  },
  {
   "cell_type": "markdown",
   "metadata": {},
   "source": [
    "### **EXERCICE 1**\n",
    "\n",
    "Enter l'équation $$ \\frac{2}{5}x_1 -4x_2 + x_3 = 8$$ et donner une solution $$\\alpha=(\\alpha_1, \\alpha_2, \\alpha_3).$$\n",
    "\n",
    "Vous pouvez aussi adapter le code à l'équation de votre choix."
   ]
  },
  {
   "cell_type": "code",
   "execution_count": 6,
   "metadata": {},
   "outputs": [
    {
     "data": {
      "text/html": [
       "<img src onerror=\"var cell = this.closest('.jp-CodeCell');var editor = cell.querySelector('.jp-Editor');editor.style.background='seashell';this.parentNode.removeChild(this)\">"
      ],
      "text/plain": [
       "<IPython.core.display.HTML object>"
      ]
     },
     "metadata": {},
     "output_type": "display_data"
    }
   ],
   "source": [
    "al.bgc('seashell')\n",
    "\n",
    "#Par défaut, les valeurs sont fixées à 1\n",
    "\n",
    "A = [1] \n",
    "b =[1]\n",
    "alpha = [1] #solution "
   ]
  },
  {
   "cell_type": "code",
   "execution_count": 7,
   "metadata": {},
   "outputs": [
    {
     "data": {
      "text/latex": [
       "$1x_1=1$"
      ],
      "text/plain": [
       "<IPython.core.display.Latex object>"
      ]
     },
     "metadata": {},
     "output_type": "display_data"
    },
    {
     "name": "stdout",
     "output_type": "stream",
     "text": [
      "La suite entrée est une solution de l'équation 1\n"
     ]
    }
   ],
   "source": [
    "al.printEq(A,b)\n",
    "isSol=[al.SolOfEq(alpha, A+b,1)]"
   ]
  },
  {
   "cell_type": "markdown",
   "metadata": {},
   "source": [
    "### EXEMPLE 2\n",
    "\n",
    "Dans cet exercice nous nous familiarisonns avec les systèmes d'équations. La partie ci-dessous vous demande de rentrer un système d'équation. \n",
    "\n",
    "Soit\n",
    "$$S=\\left\\{\\begin{array}{ccccccc}\n",
    "a_{11}x_1 &+a_{12}x_2 & + &\\cdots &+a_{1n}x_n &= &b_1 \\\\\n",
    "a_{21}x_1 &+a_{22}x_2 & + &\\cdots &+a_{2n}x_n &= &b_2 \\\\\n",
    "\\vdots    &           &         &           &\\vdots & \\vdots &\\vdots \\\\\n",
    "a_{m1}x_1 &+a_{m2}x_2 & + &\\cdots &+a_{mn}x_n &= &b_m\n",
    "\\end{array},\\right. $$\n",
    "\n",
    "On utilise *la syntaxe suivante pour entrer les coefficients du système*\n",
    "\n",
    "$$\n",
    "\\begin{align*}\n",
    "A&=\\quad [\\quad [ a_{11} , a_{12}, \\ldots, a_{1n} ], \\quad [ a_{21}, a_{22}, \\ldots, a_{2n}]\\quad, \\ldots , \\quad[a_{m1}, a_{m2}, \\ldots, a_{mn}]\\quad]\\\\\n",
    "b&=\\quad [\\quad b_1, b_2, \\ldots, b_m \\quad]\n",
    "\\end{align*}$$\n",
    "\n",
    "---\n",
    "Essayer d'entrer le système d'équations ci-dessous\n",
    "\n",
    "$$\\begin{cases}\n",
    "x_1 &-3 x_2 &&=4\\\\\n",
    "-x_1 & + 4 x_2&&= 5\n",
    "\\end{cases}\n",
    "$$"
   ]
  },
  {
   "cell_type": "code",
   "execution_count": 8,
   "metadata": {},
   "outputs": [
    {
     "data": {
      "text/html": [
       "<img src onerror=\"var cell = this.closest('.jp-CodeCell');var editor = cell.querySelector('.jp-Editor');editor.style.background='seashell';this.parentNode.removeChild(this)\">"
      ],
      "text/plain": [
       "<IPython.core.display.HTML object>"
      ]
     },
     "metadata": {},
     "output_type": "display_data"
    }
   ],
   "source": [
    "al.bgc('seashell')\n",
    "\n",
    "#Par défaut, les valeurs sont fixées à 1\n",
    "\n",
    "A = [ [1, 1], [1, 1]] \n",
    "b=[1,1] \n",
    "alpha = [1,1] #solution"
   ]
  },
  {
   "cell_type": "code",
   "execution_count": 9,
   "metadata": {},
   "outputs": [
    {
     "data": {
      "text/latex": [
       "$\\begin{cases}1x_1 + 1x_2=1\\\\1x_1 + 1x_2=1\\\\\\end{cases}$"
      ],
      "text/plain": [
       "<IPython.core.display.Latex object>"
      ]
     },
     "metadata": {},
     "output_type": "display_data"
    }
   ],
   "source": [
    "al.printSyst(A,b)"
   ]
  },
  {
   "cell_type": "code",
   "execution_count": 10,
   "metadata": {},
   "outputs": [
    {
     "name": "stdout",
     "output_type": "stream",
     "text": [
      "La suite entrée n'est pas une solution de l'équation 1\n",
      "La suite entrée n'est pas une solution de l'équation 2\n",
      "Ce n'est pas une solution du système\n"
     ]
    }
   ],
   "source": [
    "al.SolOfSyst(alpha, A,b)"
   ]
  },
  {
   "cell_type": "markdown",
   "metadata": {},
   "source": [
    "### **EXERCICE 2**\n",
    "   \n",
    "Entrer le système suivant et donner une solution du système.\n",
    "\n",
    "$$\\begin{cases}\n",
    "&2x_1 -3 x_2   + x_3&&=-5\\\\\n",
    "&-\\dfrac{1}{3}x_1  +  x_3&&= 2\\\\\n",
    "&x_1 + 4x_2 -x_3 &&=0\n",
    "\\end{cases}\n",
    "$$\n",
    "\n",
    "Vous pouvez aussi adapter le code à l'équation de votre choix."
   ]
  },
  {
   "cell_type": "code",
   "execution_count": 11,
   "metadata": {},
   "outputs": [
    {
     "data": {
      "text/html": [
       "<img src onerror=\"var cell = this.closest('.jp-CodeCell');var editor = cell.querySelector('.jp-Editor');editor.style.background='seashell';this.parentNode.removeChild(this)\">"
      ],
      "text/plain": [
       "<IPython.core.display.HTML object>"
      ]
     },
     "metadata": {},
     "output_type": "display_data"
    }
   ],
   "source": [
    "al.bgc('seashell')\n",
    "#Par défaut, les valeurs sont fixées à 1\n",
    "\n",
    "A = [[1,1,1], [1,1,1], [1,1,1]]\n",
    "b =[1,1,1]\n",
    "alpha =[1,1,1] #solution\n"
   ]
  },
  {
   "cell_type": "code",
   "execution_count": 12,
   "metadata": {},
   "outputs": [
    {
     "data": {
      "text/latex": [
       "$\\begin{cases}1x_1 + 1x_2 + 1x_3=1\\\\1x_1 + 1x_2 + 1x_3=1\\\\1x_1 + 1x_2 + 1x_3=1\\\\\\end{cases}$"
      ],
      "text/plain": [
       "<IPython.core.display.Latex object>"
      ]
     },
     "metadata": {},
     "output_type": "display_data"
    },
    {
     "name": "stdout",
     "output_type": "stream",
     "text": [
      "La suite entrée n'est pas une solution de l'équation 1\n",
      "La suite entrée n'est pas une solution de l'équation 2\n",
      "La suite entrée n'est pas une solution de l'équation 3\n",
      "Ce n'est pas une solution du système\n"
     ]
    }
   ],
   "source": [
    "al.printSyst(A,b)\n",
    "al.SolOfSyst(alpha, A,b)"
   ]
  },
  {
   "cell_type": "markdown",
   "metadata": {},
   "source": [
    "[Passez au notebook du chapitre 1.2: Nombre de solutions d'un système](./1.2.%20Nombre%20de%20solution%20d'un%20système.ipynb)"
   ]
  },
  {
   "cell_type": "code",
   "execution_count": 2,
   "metadata": {},
   "outputs": [],
   "source": [
    "b=al.np.array([1,2,3])"
   ]
  },
  {
   "cell_type": "code",
   "execution_count": null,
   "metadata": {},
   "outputs": [],
   "source": []
  }
 ],
 "metadata": {
  "kernelspec": {
   "display_name": "Python 3",
   "language": "python",
   "name": "python3"
  },
  "language_info": {
   "codemirror_mode": {
    "name": "ipython",
    "version": 3
   },
   "file_extension": ".py",
   "mimetype": "text/x-python",
   "name": "python",
   "nbconvert_exporter": "python",
   "pygments_lexer": "ipython3",
   "version": "3.6.8"
  }
 },
 "nbformat": 4,
 "nbformat_minor": 4
}
