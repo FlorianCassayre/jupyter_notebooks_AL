{
 "cells": [
  {
   "cell_type": "markdown",
   "metadata": {},
   "source": [
    "# Concept(s)-clé(s) et théorie\n",
    "\n",
    "La **méthode d'élimination de Gauss** est un algorithme central en algèbre linéaire qui consiste à appliquer une séquence appropriée d'opérations élémentaires à une matrice (voir [Notebook du chapitre 1.3-4: Notation Matricielle](./1.3-4.%20Notation%20Matricielle.ipynb)) jusqu'à ce qu'il soit réduit à une forme triangulaire supérieure. La structure de la méthode d'élimination de Gauss est la suivante:\n",
    "![title](./gauss_elimination.png)\n",
    "Considérez donc le système linéaire $$Ax = b$$ étant $A$ la matrice des coefficients dans $\\mathcal{R}^{n\\times n}$ et $b$ le terme de vecteur de droite dans $\\mathcal{R}^n$; en appliquant la méthode d'élimination de Gauss à la matrice augmentée $A|b$ on obtient:\n",
    "$$\\begin{align*}\n",
    "\\text{Système Original} \\quad A|b \\quad & \\Leftrightarrow \\quad \\text{Système Triangulaire Supérieur} \\quad \\tilde{A}|\\tilde{b} \\quad & \\Leftrightarrow \\quad \\text{Système Réduit} \\quad I|\\hat{b}\\\\\n",
    "\\left(\\begin{array}{cccc|c}\n",
    "a_{11} & a_{12} & \\dots & a_{1n} & b_1\\\\\n",
    "a_{21} & a_{22} & \\dots & a_{2n} & b_2\\\\\n",
    "\\vdots & \\vdots & \\ddots & \\vdots & \\vdots \\\\\n",
    "a_{n1} & a_{n2} & \\dots & a_{nn} & b_n\n",
    "\\end{array}\\right) \\quad & \\Leftrightarrow \\quad  \\left(\\begin{array}{cccc|c}\n",
    "\\tilde{a}_{11} & \\tilde{a}_{12} & \\dots & \\tilde{a}_{1n} & \\tilde{b}_1\\\\\n",
    "0 & \\tilde{a}_{22} & \\dots & \\tilde{a}_{2n} & \\tilde{b}_2\\\\\n",
    "\\vdots & \\vdots & \\ddots & \\vdots & \\vdots \\\\\n",
    "0 & 0 & \\dots & \\tilde{a}_{nn} & \\tilde{b}_n\n",
    "\\end{array}\\right) \\quad & \\Leftrightarrow \\quad \\left(\\begin{array}{cccc|c}\n",
    "1 & 0 & \\dots & 0 & \\hat{b}_1\\\\\n",
    "0 & 1 & \\dots & 0 & \\hat{b}_2\\\\\n",
    "\\vdots & \\vdots & \\ddots & \\vdots & \\vdots \\\\\n",
    "0 & 0 & \\dots & 1 & \\hat{b}_n\n",
    "\\end{array}\\right)\\\\\n",
    "\\end{align*}\n",
    "$$\n",
    "\n",
    "Il est immédiat de remarquer que le système linéaire résultant est équivalent à celui d'origine (puisque seules des opérations matricielles élémentaires ont été utilisées!), mais beaucoup plus facile et plus rapide à résoudre, en procédant à reculons de la dernière équation à la première. La matrice résultante est dite **échelonnée**. De plus, il est possible de réduire additionnellement la matrice (via des opérations élémentaires) jusqu'à ce qu'elle coïncide avec la matrice d'identité $I$; ce processus est appelé **réduction matricielle** (ou élimination de Gauss-Jordan) et rend le système linéaire résultant trivial à résoudre car sa solution coïncide simplement avec le terme de vecteur de droite $\\hat{b}$."
   ]
  },
  {
   "cell_type": "code",
   "execution_count": null,
   "metadata": {},
   "outputs": [],
   "source": [
    "import Librairie.AL_Fct as al\n",
    "import numpy as np\n",
    "import ipywidgets as widgets\n",
    "import random\n",
    "\n",
    "from ipywidgets import interact, interactive, fixed, interact_manual"
   ]
  },
  {
   "cell_type": "markdown",
   "metadata": {},
   "source": [
    "### **Exercice 1**\n",
    "\n",
    "À l'aide des opérations élémentaires, échelonner et réduire les matrices ci-dessous.\n",
    "\n",
    "$$\n",
    "\\begin{pmatrix}\n",
    "2 & -1\\\\\n",
    "1 &2\n",
    "\\end{pmatrix}\\hskip2em\n",
    "\\begin{pmatrix}\n",
    "\\dfrac{1}{2} & 3 & 0\\\\\n",
    "2 & -4 & 6\\\\\n",
    "1 & 3 &-1\n",
    "\\end{pmatrix}\\hskip2em\n",
    "\\begin{pmatrix}\n",
    "1 & 0 &1\\\\\n",
    "0 & 1 & -1\\\\\n",
    "1 & 1 &-1\n",
    "\\end{pmatrix}\n",
    "$$"
   ]
  },
  {
   "cell_type": "code",
   "execution_count": null,
   "metadata": {},
   "outputs": [],
   "source": [
    "A=[[1,1], [1,1], [1,1]]"
   ]
  },
  {
   "cell_type": "code",
   "execution_count": null,
   "metadata": {},
   "outputs": [],
   "source": [
    "print('Vous allez échelonner la matrice')\n",
    "al.printA(A)\n",
    "[i,j,r,alpha]= al.manualEch(A)\n",
    "MatriceList=[np.array(A)]\n",
    "m=np.array(A)\n",
    "print('\\033[1mExecutez la ligne suivante pour effectuer l\\'opération choisie \\033[0m')"
   ]
  },
  {
   "cell_type": "code",
   "execution_count": null,
   "metadata": {},
   "outputs": [],
   "source": [
    "m=al.echelonnage(i, j, r, alpha, A, m, MatriceList)"
   ]
  },
  {
   "cell_type": "markdown",
   "metadata": {},
   "source": [
    "### **Exercice 2**\n",
    "\n",
    "À l'aide des opérations élémentaires, échelonner et réduire les matrices (augmentée) ci-dessous.\n",
    "\n",
    "$$A=\n",
    "\\begin{pmatrix}\n",
    "2 & -1\\\\\n",
    "1 &2\n",
    "\\end{pmatrix}\\hskip1em\n",
    "b=\n",
    "\\begin{pmatrix}\n",
    "1\\\\\n",
    "2\n",
    "\\end{pmatrix}\\hskip4em\n",
    "A=\n",
    "\\begin{pmatrix}\n",
    "\\dfrac{1}{2} & 3 & 0\\\\\n",
    "2 & -4 & 6\\\\\n",
    "1 & 3 &-1\n",
    "\\end{pmatrix}\\hskip1em\n",
    "b=\n",
    "\\begin{pmatrix}\n",
    "1\\\\\n",
    "2\\\\\n",
    "-1\n",
    "\\end{pmatrix}\\hskip4em\n",
    "A=\n",
    "\\begin{pmatrix}\n",
    "1 & 0 &1\\\\\n",
    "0 & 1 & -1\\\\\n",
    "1 & 1 &-1\n",
    "\\end{pmatrix}\\hskip1em\n",
    "b=\n",
    "\\begin{pmatrix}\n",
    "1\\\\\n",
    "0\\\\\n",
    "-1\n",
    "\\end{pmatrix}\n",
    "$$"
   ]
  },
  {
   "cell_type": "code",
   "execution_count": null,
   "metadata": {},
   "outputs": [],
   "source": [
    "A=[[1,1,1], [1,1,1],[1,1,1]]\n",
    "b =[[1], [1], [1]]"
   ]
  },
  {
   "cell_type": "code",
   "execution_count": null,
   "metadata": {},
   "outputs": [],
   "source": [
    "print('Vous allez échelonner la matrice augmenteé')\n",
    "al.printAAug(A,b)\n",
    "[i,j,r,alpha]= al.manualEch(A)\n",
    "MatriceList=[np.array(A)]\n",
    "RHSList = [np.array(b)]\n",
    "m=np.concatenate((A,b), axis=1)\n",
    "print('\\033[1mExecutez la ligne suivante pour effectuer l\\'opération choisie \\033[0m')"
   ]
  },
  {
   "cell_type": "code",
   "execution_count": null,
   "metadata": {},
   "outputs": [],
   "source": [
    "m=al.echelonnage(i, j, r, alpha, A, m, MatriceList, RHSList)"
   ]
  },
  {
   "cell_type": "markdown",
   "metadata": {},
   "source": [
    "### **VERIFICATION**\n",
    "À l'aide des cellules ci-dessous, vous pouvez entrer la matrice (des coefficients ou augmentée) de votre choix et obtenir une forme échelonnée et sa forme échelonnée réduite.\n",
    "\n",
    "Pour **les formes échelonnées** on utilise la syntaxe suivante\n",
    "\n",
    "1. Pour la matrice $A$ : al.echelonMat('E', A)\n",
    "2. Pour la matrice augmentée $(A | b)$ : al.echelonMat('E', A, b)\n",
    "\n",
    "Pour obenir **les formes échelonnées réduites** mettez 'ER' au lieu de 'E'"
   ]
  },
  {
   "cell_type": "code",
   "execution_count": null,
   "metadata": {},
   "outputs": [],
   "source": [
    "A=[[2,1,1], [1,-1,1], [1,4,5]]\n",
    "b=[[1], [3], [1]]"
   ]
  },
  {
   "cell_type": "code",
   "execution_count": null,
   "metadata": {},
   "outputs": [],
   "source": [
    "M=al.echelonMat('ER',A,b)"
   ]
  },
  {
   "cell_type": "markdown",
   "metadata": {},
   "source": [
    "[Passez au notebook du chapitre 1.7: Résolutions de système linéarires](./1.7.%20Résolutions%20de%20systèmes%20linéaires.ipynb)"
   ]
  }
 ],
 "metadata": {
  "kernelspec": {
   "display_name": "Python 3",
   "language": "python",
   "name": "python3"
  },
  "language_info": {
   "codemirror_mode": {
    "name": "ipython",
    "version": 3
   },
   "file_extension": ".py",
   "mimetype": "text/x-python",
   "name": "python",
   "nbconvert_exporter": "python",
   "pygments_lexer": "ipython3",
   "version": "3.7.4"
  }
 },
 "nbformat": 4,
 "nbformat_minor": 4
}
