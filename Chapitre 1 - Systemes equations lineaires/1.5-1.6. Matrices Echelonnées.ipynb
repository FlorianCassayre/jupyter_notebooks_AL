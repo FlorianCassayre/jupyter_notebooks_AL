{
 "cells": [
  {
   "cell_type": "markdown",
   "metadata": {},
   "source": [
    "# Concept(s)-clé(s) et théorie\n"
   ]
  },
  {
   "cell_type": "code",
   "execution_count": 1,
   "metadata": {},
   "outputs": [
    {
     "data": {
      "text/html": [
       "        <script type=\"text/javascript\">\n",
       "        window.PlotlyConfig = {MathJaxConfig: 'local'};\n",
       "        if (window.MathJax) {MathJax.Hub.Config({SVG: {font: \"STIX-Web\"}});}\n",
       "        if (typeof require !== 'undefined') {\n",
       "        require.undef(\"plotly\");\n",
       "        requirejs.config({\n",
       "            paths: {\n",
       "                'plotly': ['https://cdn.plot.ly/plotly-latest.min']\n",
       "            }\n",
       "        });\n",
       "        require(['plotly'], function(Plotly) {\n",
       "            window._Plotly = Plotly;\n",
       "        });\n",
       "        }\n",
       "        </script>\n",
       "        "
      ]
     },
     "metadata": {},
     "output_type": "display_data"
    }
   ],
   "source": [
    "import AL_Fct as al\n",
    "import numpy as np\n",
    "import ipywidgets as widgets\n",
    "import random\n",
    "\n",
    "from ipywidgets import interact, interactive, fixed, interact_manual"
   ]
  },
  {
   "cell_type": "markdown",
   "metadata": {},
   "source": [
    "### **Exercice 1**\n",
    "\n",
    "À l'aide des opérations élémentaires, échelonner et réduire les matrices ci-dessous.\n",
    "\n",
    "$$\n",
    "\\begin{pmatrix}\n",
    "2 & -1\\\\\n",
    "1 &2\n",
    "\\end{pmatrix}\\hskip2em\n",
    "\\begin{pmatrix}\n",
    "\\dfrac{1}{2} & 3 & 0\\\\\n",
    "2 & -4 & 6\\\\\n",
    "1 & 3 &-1\n",
    "\\end{pmatrix}\\hskip2em\n",
    "\\begin{pmatrix}\n",
    "1 & 0 &1\\\\\n",
    "0 & 1 & -1\\\\\n",
    "1 & 1 &-1\n",
    "\\end{pmatrix}\n",
    "$$"
   ]
  },
  {
   "cell_type": "code",
   "execution_count": 2,
   "metadata": {},
   "outputs": [],
   "source": [
    "A=[[2,-1], [1,2]]"
   ]
  },
  {
   "cell_type": "code",
   "execution_count": 3,
   "metadata": {},
   "outputs": [
    {
     "name": "stdout",
     "output_type": "stream",
     "text": [
      "Vous allez échelonner la matrice\n"
     ]
    },
    {
     "data": {
      "text/latex": [
       "$\\left(\\begin{array}{cc}  2 & -1 \\\\1 & 2  \\end{array}\\right)$"
      ],
      "text/plain": [
       "<IPython.core.display.Latex object>"
      ]
     },
     "metadata": {},
     "output_type": "display_data"
    },
    {
     "name": "stdout",
     "output_type": "stream",
     "text": [
      "Régler les paramètres et évaluer la cellule suivante\n",
      "Répéter cela jusqu'à obtenir une forme échelonnée réduite\n"
     ]
    },
    {
     "data": {
      "application/vnd.jupyter.widget-view+json": {
       "model_id": "5e4982af966c4d97b6b4280a632a83b4",
       "version_major": 2,
       "version_minor": 0
      },
      "text/plain": [
       "RadioButtons(description='Opération:', options=('Eij', 'Ei(alpha)', 'Eij(alpha)'), value='Eij')"
      ]
     },
     "metadata": {},
     "output_type": "display_data"
    },
    {
     "data": {
      "application/vnd.jupyter.widget-view+json": {
       "model_id": "0dc990ae718d4fdcab87226f80c44454",
       "version_major": 2,
       "version_minor": 0
      },
      "text/plain": [
       "BoundedIntText(value=1, description='Ligne i:', max=2, min=1)"
      ]
     },
     "metadata": {},
     "output_type": "display_data"
    },
    {
     "data": {
      "application/vnd.jupyter.widget-view+json": {
       "model_id": "b7e1d990dc554c8ca4c26aa4380d4249",
       "version_major": 2,
       "version_minor": 0
      },
      "text/plain": [
       "BoundedIntText(value=1, description='Ligne j:', max=2, min=1)"
      ]
     },
     "metadata": {},
     "output_type": "display_data"
    },
    {
     "data": {
      "application/vnd.jupyter.widget-view+json": {
       "model_id": "0848180fc30f4762b08d0f84c61f68ff",
       "version_major": 2,
       "version_minor": 0
      },
      "text/plain": [
       "Text(value='1', description='Coeff. alpha:')"
      ]
     },
     "metadata": {},
     "output_type": "display_data"
    }
   ],
   "source": [
    "print('Vous allez échelonner la matrice')\n",
    "al.printA(A)\n",
    "[i,j,r,alpha]= al.manualEch(A)\n",
    "MatriceList=[A]\n",
    "m=np.matrix(A)"
   ]
  },
  {
   "cell_type": "code",
   "execution_count": 4,
   "metadata": {},
   "outputs": [
    {
     "data": {
      "text/latex": [
       "$\\left(\\begin{array}{cc}  2 & -1 \\\\1 & 2  \\end{array}\\right)\\quad \\sim \\quad\\left(\\begin{array}{cc}  2 & -1 \\\\1 & 2  \\end{array}\\right)$"
      ],
      "text/plain": [
       "<IPython.core.display.Latex object>"
      ]
     },
     "metadata": {},
     "output_type": "display_data"
    }
   ],
   "source": [
    "al.echelonnage(i,j,r,alpha,A,m,MatriceList)"
   ]
  },
  {
   "cell_type": "markdown",
   "metadata": {},
   "source": [
    "### **VERIFICATION**\n",
    "À l'aide des cellules ci-dessous, vous pouvez entrer la matrice (des coefficients ou augmentée) de votre choix et obtenir une forme échelonnée et sa forme échelonnée réduite.\n",
    "\n",
    "Pour **les formes échelonnées** on utilise la syntaxe suivante\n",
    "\n",
    "1. Pour la matrice $A$ : al.echelonMat('E', A)\n",
    "2. Pour la matrice augmentée $(A | b)$ : al.echelonMat('E', A, b)\n",
    "\n",
    "Pour obenir **les formes échelonnées réduites** mettez 'ER' au lieu de 'E'"
   ]
  },
  {
   "cell_type": "code",
   "execution_count": 5,
   "metadata": {},
   "outputs": [],
   "source": [
    "import AL_Fct as al\n",
    "import numpy as np\n",
    "import ipywidgets as widgets\n",
    "import random\n",
    "A=[[1,2,3,4], [5,6,7,8], [9,10,11,12]]\n",
    "b=[[-1],[-2],[-3]]"
   ]
  },
  {
   "cell_type": "code",
   "execution_count": 6,
   "metadata": {},
   "outputs": [
    {
     "name": "stdout",
     "output_type": "stream",
     "text": [
      "[[ 1.  2.  3.  4. -1.]\n",
      " [ 5.  6.  7.  8. -2.]\n",
      " [ 9. 10. 11. 12. -3.]]\n",
      "La matrice est sous la forme échelonnée\n"
     ]
    },
    {
     "data": {
      "text/latex": [
       "$\\left(\\begin{array}{cccc| cc}  1 & 2 & 3 & 4 & -1 \\\\5 & 6 & 7 & 8 & -2 \\\\9 & 10 & 11 & 12 & -3  \\end{array}\\right)\\quad \\sim \\quad\\left(\\begin{array}{cccc| cc}  1 & 2 & 3 & 4 & -1 \\\\0 & 1 & 2 & 3 & -0.75 \\\\0 & 0 & 0 & 0 & 0  \\end{array}\\right)$"
      ],
      "text/plain": [
       "<IPython.core.display.Latex object>"
      ]
     },
     "metadata": {},
     "output_type": "display_data"
    },
    {
     "name": "stdout",
     "output_type": "stream",
     "text": [
      "La matrice est sous la forme échelonnée réduite\n"
     ]
    },
    {
     "data": {
      "text/latex": [
       "$\\left(\\begin{array}{cccc| cc}  1 & 2 & 3 & 4 & -1 \\\\5 & 6 & 7 & 8 & -2 \\\\9 & 10 & 11 & 12 & -3  \\end{array}\\right)\\quad \\sim \\quad\\left(\\begin{array}{cccc| cc}  1 & 0 & -1 & -2 & 0.5 \\\\0 & 1 & 2 & 3 & -0.75 \\\\0 & 0 & 0 & 0 & 0  \\end{array}\\right)$"
      ],
      "text/plain": [
       "<IPython.core.display.Latex object>"
      ]
     },
     "metadata": {},
     "output_type": "display_data"
    },
    {
     "data": {
      "text/latex": [
       "$\\left(\\begin{array}{cccc| cc}  1 & 2 & 3 & 4 & -1 \\\\5 & 6 & 7 & 8 & -2 \\\\9 & 10 & 11 & 12 & -3  \\end{array}\\right)$"
      ],
      "text/plain": [
       "<IPython.core.display.Latex object>"
      ]
     },
     "metadata": {},
     "output_type": "display_data"
    }
   ],
   "source": [
    "M=al.echelonMat('ER',A,b)"
   ]
  },
  {
   "cell_type": "code",
   "execution_count": null,
   "metadata": {},
   "outputs": [],
   "source": []
  }
 ],
 "metadata": {
  "kernelspec": {
   "display_name": "Python 3",
   "language": "python",
   "name": "python3"
  },
  "language_info": {
   "codemirror_mode": {
    "name": "ipython",
    "version": 3
   },
   "file_extension": ".py",
   "mimetype": "text/x-python",
   "name": "python",
   "nbconvert_exporter": "python",
   "pygments_lexer": "ipython3",
   "version": "3.6.8"
  }
 },
 "nbformat": 4,
 "nbformat_minor": 2
}
