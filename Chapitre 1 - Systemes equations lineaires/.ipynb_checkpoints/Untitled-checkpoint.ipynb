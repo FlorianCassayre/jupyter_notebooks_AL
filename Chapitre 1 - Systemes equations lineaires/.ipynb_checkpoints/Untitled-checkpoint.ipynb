{
 "cells": [
  {
   "cell_type": "code",
   "execution_count": 1,
   "metadata": {},
   "outputs": [
    {
     "data": {
      "text/html": [
       "        <script type=\"text/javascript\">\n",
       "        window.PlotlyConfig = {MathJaxConfig: 'local'};\n",
       "        if (window.MathJax) {MathJax.Hub.Config({SVG: {font: \"STIX-Web\"}});}\n",
       "        if (typeof require !== 'undefined') {\n",
       "        require.undef(\"plotly\");\n",
       "        requirejs.config({\n",
       "            paths: {\n",
       "                'plotly': ['https://cdn.plot.ly/plotly-latest.min']\n",
       "            }\n",
       "        });\n",
       "        require(['plotly'], function(Plotly) {\n",
       "            window._Plotly = Plotly;\n",
       "        });\n",
       "        }\n",
       "        </script>\n",
       "        "
      ]
     },
     "metadata": {},
     "output_type": "display_data"
    },
    {
     "name": "stdout",
     "output_type": "stream",
     "text": [
      "[[1. 2.]\n",
      " [2. 3.]] [[1. 2.]\n",
      " [2. 3.]]\n"
     ]
    },
    {
     "data": {
      "application/vnd.jupyter.widget-view+json": {
       "model_id": "b825d2d687434baab702fe714eda32b8",
       "version_major": 2,
       "version_minor": 0
      },
      "text/plain": [
       "interactive(children=(RadioButtons(description='Opération:', options=('Eij', 'Ei(alpha)', 'Eij(alpha)'), value…"
      ]
     },
     "metadata": {},
     "output_type": "display_data"
    },
    {
     "data": {
      "text/plain": [
       "<function __main__.f(w1, w2, w3, w4, w5)>"
      ]
     },
     "execution_count": 1,
     "metadata": {},
     "output_type": "execute_result"
    }
   ],
   "source": [
    "import ipywidgets as widgets\n",
    "import numpy as np\n",
    "from ipywidgets import interact, interactive, fixed, interact_manual\n",
    "import AL_Fct as al\n",
    "\n",
    "r=widgets.RadioButtons(\n",
    "    options=['Eij', 'Ei(alpha)', 'Eij(alpha)'],\n",
    "#     value='pineapple',\n",
    "    description='Opération:',\n",
    "    disabled=False\n",
    ")\n",
    "\n",
    "\n",
    "alpha=widgets.Text(\n",
    "    value='1',\n",
    "    description='Coeff. alpha:',\n",
    "    disabled=False\n",
    ")\n",
    "\n",
    "Matrice=[[1,2],[2,3]]\n",
    "\n",
    "Matrice=np.array(Matrice)\n",
    "Matrice=Matrice.astype(float)\n",
    "\n",
    "i=widgets.BoundedIntText(\n",
    "    value=1,\n",
    "    min=0,\n",
    "    max=len(Matrice),\n",
    "    step=1,\n",
    "    description='Ligne i:',\n",
    "    disabled=False\n",
    ")\n",
    "\n",
    "j=widgets.BoundedIntText(\n",
    "    value=1,\n",
    "    min=0,\n",
    "    max=len(Matrice),\n",
    "    step=1,\n",
    "    description='Ligne j:',\n",
    "    disabled=False\n",
    ")\n",
    "a= 1;\n",
    "a=np.copy(Matrice)\n",
    "print(a, Matrice)\n",
    "def f(w1,w2,w3,w4,w5):\n",
    "    i,j=al.python2matlab(w2,w3)\n",
    "    print(a, Matrice)\n",
    "    w4=eval(w4)\n",
    "    if w4==0:\n",
    "        print('Le coefficient alpha doit être non-nul!')\n",
    "        return\n",
    "    if w1=='Eij':\n",
    "        w5=al.Eij(w5,i,j)\n",
    "        al.printEquMatrices([Matrice,w5,a])\n",
    "        print('Opération élémentaire', w1, 'échange la ligne', w2,' avec la ligne ',w3)\n",
    "    if w1=='Ei(alpha)':\n",
    "        w5=al.Ealpha(w5,i,w4)\n",
    "        al.printEquMatrices([Matrice2,w5])\n",
    "        print('Opération élémentaire', w1, 'multiplie la ligne', w3,' par',w4 )\n",
    "    if w1=='Eij(alpha)':\n",
    "        w5=al.Eijalpha(w5,i,j,w4)\n",
    "        al.printEquMatrices([Matrice2,w5])\n",
    "        print('Opération élémentaire', w1, 'additionne', w4,' fois la ligne ',w3, 'à la ligne',w2 )\n",
    "\n",
    "\n",
    "interact_manual(f, w1=r, w2=i,w3=j,w4=alpha, w5=fixed(Matrice))\n"
   ]
  },
  {
   "cell_type": "code",
   "execution_count": 1,
   "metadata": {},
   "outputs": [
    {
     "data": {
      "text/html": [
       "        <script type=\"text/javascript\">\n",
       "        window.PlotlyConfig = {MathJaxConfig: 'local'};\n",
       "        if (window.MathJax) {MathJax.Hub.Config({SVG: {font: \"STIX-Web\"}});}\n",
       "        if (typeof require !== 'undefined') {\n",
       "        require.undef(\"plotly\");\n",
       "        requirejs.config({\n",
       "            paths: {\n",
       "                'plotly': ['https://cdn.plot.ly/plotly-latest.min']\n",
       "            }\n",
       "        });\n",
       "        require(['plotly'], function(Plotly) {\n",
       "            window._Plotly = Plotly;\n",
       "        });\n",
       "        }\n",
       "        </script>\n",
       "        "
      ]
     },
     "metadata": {},
     "output_type": "display_data"
    },
    {
     "name": "stdout",
     "output_type": "stream",
     "text": [
      "[\n",
      "(1, 2) (2, 1)\n",
      "[1 2 1]\n",
      "[2 3 1]\n"
     ]
    },
    {
     "data": {
      "text/latex": [
       "$\\begin{cases}1x_1 + 2x_2=1\\\\2x_1 + 3x_2=1\\\\\\end{cases}$"
      ],
      "text/plain": [
       "<IPython.core.display.Latex object>"
      ]
     },
     "metadata": {},
     "output_type": "display_data"
    },
    {
     "name": "stdout",
     "output_type": "stream",
     "text": [
      "True\n",
      "M <class 'list'> 2 2\n",
      "N <class 'numpy.matrix'> 2 1 (2, 2)\n",
      "P <class 'numpy.ndarray'> 2 2 [[1 2]\n",
      " [2 3]]\n"
     ]
    },
    {
     "data": {
      "text/latex": [
       "$\\left(\\begin{array}{cc| cc}  1 & 2 & 1 \\\\2 & 3 & 1  \\end{array}\\right)$"
      ],
      "text/plain": [
       "<IPython.core.display.Latex object>"
      ]
     },
     "metadata": {},
     "output_type": "display_data"
    },
    {
     "data": {
      "text/latex": [
       "$\\left(\\begin{array}{cc| cc}  1 & 2 & 1 \\\\2 & 3 & 1  \\end{array}\\right)$"
      ],
      "text/plain": [
       "<IPython.core.display.Latex object>"
      ]
     },
     "metadata": {},
     "output_type": "display_data"
    },
    {
     "data": {
      "text/latex": [
       "$\\left(\\begin{array}{cc}  1 & 2 \\\\2 & 3  \\end{array}\\right)\\quad \\sim \\quad\\left(\\begin{array}{cc}  1 & 1  \\end{array}\\right)$"
      ],
      "text/plain": [
       "<IPython.core.display.Latex object>"
      ]
     },
     "metadata": {},
     "output_type": "display_data"
    }
   ],
   "source": [
    "import numpy as np\n",
    "import AL_Fct as al\n",
    "from IPython.display import display, Latex\n",
    "\n",
    "M=[[1,2],[2,3]]\n",
    "b=[1,1]\n",
    "al.printSyst(2,2,M,b)\n",
    "B=np.matrix([]).astype(float)\n",
    "print(str(B)=='[]' or str(B)=='')\n",
    "N=np.matrix(M).astype(float)\n",
    "P=np.array(M)\n",
    "print('M',type(M), len(M), len(M[0]))\n",
    "print('N', type(N), len(N), len(N[0]), N.shape)\n",
    "print('P', type(P), len(P), len(P[0]), P[0:])\n",
    "display(Latex('$' + al.texMatrix(N,b) + '$'))\n",
    "al.printA(N,b)\n",
    "al.printEquMatrices(N,b)"
   ]
  },
  {
   "cell_type": "code",
   "execution_count": 2,
   "metadata": {},
   "outputs": [
    {
     "name": "stdout",
     "output_type": "stream",
     "text": [
      "Vous allez échelonner la matrice\n"
     ]
    },
    {
     "data": {
      "text/latex": [
       "$\\left(\\begin{array}{ccc| cccc}  1 & 2 & 3 & 1 & 0 & 0 \\\\4 & 5 & 6 & 0 & 1 & 0 \\\\7 & 8 & 9 & 0 & 0 & 1  \\end{array}\\right)$"
      ],
      "text/plain": [
       "<IPython.core.display.Latex object>"
      ]
     },
     "metadata": {},
     "output_type": "display_data"
    },
    {
     "name": "stdout",
     "output_type": "stream",
     "text": [
      "Régler les paramètres et évaluer la cellule suivante\n",
      "Répéter cela jusqu'à obtenir une forme échelonnée réduite\n"
     ]
    },
    {
     "data": {
      "application/vnd.jupyter.widget-view+json": {
       "model_id": "0f43ec17d0974d779ec58c22d001e4e2",
       "version_major": 2,
       "version_minor": 0
      },
      "text/plain": [
       "RadioButtons(description='Opération:', options=('Eij', 'Ei(alpha)', 'Eij(alpha)'), value='Eij')"
      ]
     },
     "metadata": {},
     "output_type": "display_data"
    },
    {
     "data": {
      "application/vnd.jupyter.widget-view+json": {
       "model_id": "7987cfc7a37b48bb938d4a9c003b34f2",
       "version_major": 2,
       "version_minor": 0
      },
      "text/plain": [
       "BoundedIntText(value=1, description='Ligne i:', max=3, min=1)"
      ]
     },
     "metadata": {},
     "output_type": "display_data"
    },
    {
     "data": {
      "application/vnd.jupyter.widget-view+json": {
       "model_id": "cf53d20b254c49b381504a477c4541da",
       "version_major": 2,
       "version_minor": 0
      },
      "text/plain": [
       "BoundedIntText(value=1, description='Ligne j:', max=3, min=1)"
      ]
     },
     "metadata": {},
     "output_type": "display_data"
    },
    {
     "data": {
      "application/vnd.jupyter.widget-view+json": {
       "model_id": "0f21ec6d916b4336bce92a439313659b",
       "version_major": 2,
       "version_minor": 0
      },
      "text/plain": [
       "Text(value='1', description='Coeff. alpha:')"
      ]
     },
     "metadata": {},
     "output_type": "display_data"
    }
   ],
   "source": [
    "\n",
    "import ipywidgets as widgets\n",
    "import numpy as np\n",
    "from ipywidgets import interact, interactive, fixed, interact_manual\n",
    "import AL_Fct as al\n",
    "Matrice=[[1,2,3],[4,5,6],[7,8,9]]\n",
    "b=[[1,0,0],[0,1,0], [0,0,1]]\n",
    "\n",
    "\n",
    "Matrice=np.array(Matrice).astype(float)\n",
    "b=np.array(b).astype(float)\n",
    "\n",
    "\n",
    "print('Vous allez échelonner la matrice')\n",
    "al.printAAug(Matrice,b)\n",
    "j=widgets.BoundedIntText(\n",
    "    value=1,\n",
    "    min=1,\n",
    "    max=len(Matrice),\n",
    "    step=1,\n",
    "    description='Ligne j:',\n",
    "    disabled=False\n",
    ")\n",
    "i=widgets.BoundedIntText(\n",
    "    value=1,\n",
    "    min=1,\n",
    "    max=len(Matrice),\n",
    "    step=1,\n",
    "    description='Ligne i:',\n",
    "    disabled=False\n",
    ")\n",
    "\n",
    "r=widgets.RadioButtons(\n",
    "    options=['Eij', 'Ei(alpha)', 'Eij(alpha)'],\n",
    "    description='Opération:',\n",
    "    disabled=False\n",
    ")\n",
    "\n",
    "\n",
    "alpha=widgets.Text(\n",
    "    value='1',\n",
    "    description='Coeff. alpha:',\n",
    "    disabled=False\n",
    ")\n",
    "\n",
    "print(\"Régler les paramètres et évaluer la cellule suivante\")\n",
    "print(\"Répéter cela jusqu'à obtenir une forme échelonnée réduite\")\n",
    "display(r)\n",
    "display(i)\n",
    "display(j)\n",
    "display(alpha)\n",
    "\n",
    "\n",
    "MatriceList=[Matrice]\n",
    "RhSList=[b]\n"
   ]
  },
  {
   "cell_type": "code",
   "execution_count": 1,
   "metadata": {},
   "outputs": [
    {
     "data": {
      "text/html": [
       "        <script type=\"text/javascript\">\n",
       "        window.PlotlyConfig = {MathJaxConfig: 'local'};\n",
       "        if (window.MathJax) {MathJax.Hub.Config({SVG: {font: \"STIX-Web\"}});}\n",
       "        if (typeof require !== 'undefined') {\n",
       "        require.undef(\"plotly\");\n",
       "        requirejs.config({\n",
       "            paths: {\n",
       "                'plotly': ['https://cdn.plot.ly/plotly-latest.min']\n",
       "            }\n",
       "        });\n",
       "        require(['plotly'], function(Plotly) {\n",
       "            window._Plotly = Plotly;\n",
       "        });\n",
       "        }\n",
       "        </script>\n",
       "        "
      ]
     },
     "metadata": {},
     "output_type": "display_data"
    },
    {
     "name": "stdout",
     "output_type": "stream",
     "text": [
      "Vous allez échelonner la matrice\n"
     ]
    },
    {
     "data": {
      "text/latex": [
       "$\\left(\\begin{array}{ccc| cccc}  1 & 2 & 3 & 1 & 0 & 0 \\\\4 & 5 & 6 & 0 & 1 & 0 \\\\7 & 8 & 9 & 0 & 0 & 1  \\end{array}\\right)$"
      ],
      "text/plain": [
       "<IPython.core.display.Latex object>"
      ]
     },
     "metadata": {},
     "output_type": "display_data"
    },
    {
     "name": "stdout",
     "output_type": "stream",
     "text": [
      "Régler les paramètres et évaluer la cellule suivante\n",
      "Répéter cela jusqu'à obtenir une forme échelonnée réduite\n"
     ]
    },
    {
     "data": {
      "application/vnd.jupyter.widget-view+json": {
       "model_id": "19d477db970d4e9090258b06c2a69951",
       "version_major": 2,
       "version_minor": 0
      },
      "text/plain": [
       "RadioButtons(description='Opération:', options=('Eij', 'Ei(alpha)', 'Eij(alpha)'), value='Eij')"
      ]
     },
     "metadata": {},
     "output_type": "display_data"
    },
    {
     "data": {
      "application/vnd.jupyter.widget-view+json": {
       "model_id": "17e5c86e394b41e6ab9308cc2612dcc0",
       "version_major": 2,
       "version_minor": 0
      },
      "text/plain": [
       "BoundedIntText(value=1, description='Ligne i:', max=3, min=1)"
      ]
     },
     "metadata": {},
     "output_type": "display_data"
    },
    {
     "data": {
      "application/vnd.jupyter.widget-view+json": {
       "model_id": "416d832e0e3b4a8a9e6be4fcddedc02a",
       "version_major": 2,
       "version_minor": 0
      },
      "text/plain": [
       "BoundedIntText(value=1, description='Ligne j:', max=3, min=1)"
      ]
     },
     "metadata": {},
     "output_type": "display_data"
    },
    {
     "data": {
      "application/vnd.jupyter.widget-view+json": {
       "model_id": "67815f5f6ba946438429683bf1b444d7",
       "version_major": 2,
       "version_minor": 0
      },
      "text/plain": [
       "Text(value='1', description='Coeff. alpha:')"
      ]
     },
     "metadata": {},
     "output_type": "display_data"
    }
   ],
   "source": [
    "\n",
    "import ipywidgets as widgets\n",
    "import numpy as np\n",
    "from ipywidgets import interact, interactive, fixed, interact_manual\n",
    "import AL_Fct as al\n",
    "A=[[1,2,3],[4,5,6],[7,8,9]]\n",
    "b=[[1,0,0],[0,1,0], [0,0,1]]\n",
    "print('Vous allez échelonner la matrice')\n",
    "al.printAAug(A,b)\n",
    "[i,j,r,alpha]= al.manualEch(A,b)\n",
    "m=np.concatenate((A,b), axis=1)\n",
    "MatriceList=[A]\n",
    "RhSList=[b]\n"
   ]
  },
  {
   "cell_type": "code",
   "execution_count": 2,
   "metadata": {},
   "outputs": [
    {
     "name": "stdout",
     "output_type": "stream",
     "text": [
      "[[1 2 3]]\n"
     ]
    },
    {
     "data": {
      "text/latex": [
       "$\\left(\\begin{array}{ccc| cccc}  1 & 2 & 3 & 1 & 0 & 0 \\\\4 & 5 & 6 & 0 & 1 & 0 \\\\7 & 8 & 9 & 0 & 0 & 1  \\end{array}\\right)\\quad \\sim \\quad\\left(\\begin{array}{ccc| cccc}  1 & 2 & 3 & 1 & 0 & 0 \\\\4 & 5 & 6 & 0 & 1 & 0 \\\\7 & 8 & 9 & 0 & 0 & 1  \\end{array}\\right)$"
      ],
      "text/plain": [
       "<IPython.core.display.Latex object>"
      ]
     },
     "metadata": {},
     "output_type": "display_data"
    }
   ],
   "source": [
    "if alpha.value==0:\n",
    "    print('Le coefficient alpha doit être non-nul!')\n",
    "if r.value=='Eij':\n",
    "    m=al.Eij(m,i.value-1,j.value-1)\n",
    "if r.value=='Ei(alpha)':\n",
    "    m=al.Ealpha(m,i.value-1,eval(alpha.value))\n",
    "if r.value=='Eij(alpha)':\n",
    "    m=al.Eijalpha(m,i.value-1,j.value-1,eval(alpha.value))\n",
    "A=np.asmatrix(A)    \n",
    "print(A[0])\n",
    "#MatriceList.append(m[:,0:len(A[0])])\n",
    "#RhSList.append(m[:,len(A[0]):])\n",
    "MatriceList.append(m[:,0:A.shape[1]])\n",
    "RhSList.append(m[:,A.shape[1]:])\n",
    "al.printEquMatricesAug(MatriceList,RhSList)\n"
   ]
  },
  {
   "cell_type": "code",
   "execution_count": null,
   "metadata": {},
   "outputs": [],
   "source": []
  }
 ],
 "metadata": {
  "kernelspec": {
   "display_name": "Python 3",
   "language": "python",
   "name": "python3"
  },
  "language_info": {
   "codemirror_mode": {
    "name": "ipython",
    "version": 3
   },
   "file_extension": ".py",
   "mimetype": "text/x-python",
   "name": "python",
   "nbconvert_exporter": "python",
   "pygments_lexer": "ipython3",
   "version": "3.6.8"
  }
 },
 "nbformat": 4,
 "nbformat_minor": 2
}
