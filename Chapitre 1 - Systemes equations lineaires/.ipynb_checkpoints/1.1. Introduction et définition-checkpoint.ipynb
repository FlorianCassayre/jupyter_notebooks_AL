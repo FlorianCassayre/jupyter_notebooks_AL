{
 "cells": [
  {
   "cell_type": "markdown",
   "metadata": {},
   "source": [
    "$\\bf{Concept(s)-clé(s)}$\n",
    "\n",
    "DÉFINITION 1 :\n",
    "\n",
    "Une équation linéaire aux inconnues $x_1,\\ldots,x_n$ à coefficients réels est une équation de la forme $$a_1x_1+a_2x_2+\\cdots+a_nx_n=b,$$ où $a_1,a_2,\\ldots,a_n,b\\in \\mathbb{R}.$\n",
    "\n",
    "DÉFINITION 2 :\n",
    "\n",
    "On appelle système d'équations linéaires  (ou simplement système linéaire) une famille d'équations linéaires aux inconnues $x_1,\\ldots,x_n$ à coefficients réels de la forme  \n",
    "$$S=\\left\\{\\begin{array}{ccccccc}\n",
    "a_{11}x_1 &+a_{12}x_2 & + &\\cdots &+a_{1n}x_n &= &b_1 \\\\\n",
    "a_{21}x_1 &+a_{22}x_2 & + &\\cdots &+a_{2n}x_n &= &b_2 \\\\\n",
    "\\vdots    &           &         &           &\\vdots & \\vdots &\\vdots \\\\\n",
    "a_{m1}x_1 &+a_{m2}x_2 & + &\\cdots &+a_{mn}x_n &= &b_m\n",
    "\\end{array},\\right. $$\n",
    "où $a_{ij},b_i\\in \\mathbb{R}$ pour tout $1\\leq i\\leq m$ et tout $1\\leq j\\leq n.$ Aussi, on dit qu'une suite ordonnée de $n$ nombres réels $\\alpha=(\\alpha_1,\\ldots,\\alpha_n)$ est une solution du système linéaire $S$ si toutes les égalités du système sont vérifiées lorsque l'on remplace $x_j$ par $\\alpha_j,$ ceci pout tout $1\\leq j\\leq n.$"
   ]
  },
  {
   "cell_type": "code",
   "execution_count": 2,
   "metadata": {},
   "outputs": [],
   "source": [
    "import AL_Fct as al\n",
    "import numpy as np"
   ]
  },
  {
   "cell_type": "markdown",
   "metadata": {},
   "source": [
    "EXERCICE 1:\n",
    "\n",
    "Dans ce premier exerice nous nous familiarisons avec les équations et les ensembles de solutions. \n",
    "La partie ci-dessous vous demande de rentrer équation en suivant les notations de la définition 1. \n",
    "\n",
    "Essayer, par exemple, d'entrer l'équation \n",
    "$$3x_1 + x_2=7$$\n",
    "\n",
    "Donner ensuite une solution $$ \\alpha=(\\alpha_1, \\ldots , \\alpha_n)$$ à l'équation entrée."
   ]
  },
  {
   "cell_type": "code",
   "execution_count": 3,
   "metadata": {},
   "outputs": [
    {
     "name": "stdout",
     "output_type": "stream",
     "text": [
      "Entrez le nombre de variables n=\n",
      "2\n",
      "Votre équation est de la forme\n"
     ]
    },
    {
     "data": {
      "text/latex": [
       "$a_1x_1 + a_2x_2 = b$"
      ],
      "text/plain": [
       "<IPython.core.display.Latex object>"
      ]
     },
     "metadata": {},
     "output_type": "display_data"
    },
    {
     "name": "stdout",
     "output_type": "stream",
     "text": [
      "Entrez les  3  coefficients de l'équations sous le format a1, a2, ..., b\n",
      "3,2,3\n",
      "Votre equation est\n"
     ]
    },
    {
     "data": {
      "text/latex": [
       "$3x_1 + 2x_2=3$"
      ],
      "text/plain": [
       "<IPython.core.display.Latex object>"
      ]
     },
     "metadata": {},
     "output_type": "display_data"
    }
   ],
   "source": [
    "print(\"Entrez le nombre de variables n=\") \n",
    "n=input()\n",
    "n=al.EnterInt(n)\n",
    "\n",
    "print(\"Votre équation est de la forme\")\n",
    "al.printEq(n, '')\n",
    "\n",
    "print(\"Entrez les \", n+1,\" coefficients de l'équations sous le format a1, a2, ..., b\")\n",
    "entry=input()\n",
    "coeff=al.EnterListReal(n,entry)\n",
    "\n",
    "print(\"Votre equation est\")\n",
    "al.printEq(n, coeff)\n"
   ]
  },
  {
   "cell_type": "code",
   "execution_count": 4,
   "metadata": {},
   "outputs": [
    {
     "name": "stdout",
     "output_type": "stream",
     "text": [
      "Entrez la solution sous la forme d'une suite de  2  nombres réels\n",
      "1,2\n",
      "La suite entrée n'est pas une solution de l'équation 3\n",
      "[3.0, 2.0, 3.0]\n"
     ]
    }
   ],
   "source": [
    "print(\"Entrez la solution sous la forme d'une suite de \", n,\" nombres réels\")\n",
    "entry=input()\n",
    "sol=al.EnterListReal(n-1,entry)\n",
    "\n",
    "sol=np.asarray(sol[0:len(sol)])\n",
    "isSol=[al.SolOfEq(sol, coeff,1]"
   ]
  },
  {
   "cell_type": "markdown",
   "metadata": {},
   "source": [
    "EXERCICE 2:\n",
    "\n",
    "Dans cet exercice nous nous familiarisonns avec les systèmes d'équations. La partie ci-dessous vous demande de rentrer un système d'équation en suivant les notations de la définition 1.\n",
    "\n",
    "Essayer, par exemple, d'entrer le système d'équations\n",
    "$$\\begin{cases}\n",
    "x_1 &-3 x_2 &&=4\\\\\n",
    "-x_1 & + 4 x_2&&= 5\n",
    "\\end{cases}\n",
    "$$"
   ]
  },
  {
   "cell_type": "code",
   "execution_count": null,
   "metadata": {},
   "outputs": [
    {
     "name": "stdout",
     "output_type": "stream",
     "text": [
      "Entrez le nombre de variables n=\n"
     ]
    }
   ],
   "source": [
    "print(\"Entrez le nombre de variables n=\") \n",
    "n=input()\n",
    "n=al.EnterInt(n)\n",
    "print(\"Entrez le nombre d'équations m=\") \n",
    "m=input()\n",
    "m=al.EnterInt(m)\n",
    "print(\"Votre système est de la forme\")\n",
    "al.printSyst(m,n, '')\n",
    "\n",
    "\n",
    "\n",
    "MatCoeff=[[0] * n for i in range(m) ]\n",
    "for i in range(1,m+1):\n",
    "    print(\"Entrez les \", n+1,\" coefficients de l'équation\", i)\n",
    "    entry=input()\n",
    "    MatCoeff[i-1]=al.EnterListReal(n,entry)\n",
    "MatCoeff=np.array(MatCoeff)\n",
    "print(\"Votre système est de la forme\")\n",
    "al.printSyst(m,n, MatCoeff)\n",
    "\n",
    "print(\"Entrez la solution sous la forme d'une suite de \", n,\" nombres réels\")\n",
    "entry=input()\n",
    "sol=al.EnterListReal(n-1,entry)\n",
    "\n",
    "sol=np.asarray(sol[0:len(sol)])\n",
    "isSol=[al.SolOfEq(sol, MatCoeff[i,:],i+1) for i in range(0,m)]\n",
    "if all(isSol[i]==True for i in range(len(isSol))):\n",
    "    print(\"C'est une solution du système\")\n",
    "else:\n",
    "    print(\"Ce n'est pas une solution du système\")\n",
    "\n",
    "\n"
   ]
  },
  {
   "cell_type": "code",
   "execution_count": null,
   "metadata": {},
   "outputs": [],
   "source": []
  },
  {
   "cell_type": "code",
   "execution_count": null,
   "metadata": {},
   "outputs": [],
   "source": []
  },
  {
   "cell_type": "markdown",
   "metadata": {},
   "source": []
  },
  {
   "cell_type": "code",
   "execution_count": null,
   "metadata": {},
   "outputs": [],
   "source": []
  }
 ],
 "metadata": {
  "kernelspec": {
   "display_name": "Python 3",
   "language": "python",
   "name": "python3"
  }
 },
 "nbformat": 4,
 "nbformat_minor": 2
}
