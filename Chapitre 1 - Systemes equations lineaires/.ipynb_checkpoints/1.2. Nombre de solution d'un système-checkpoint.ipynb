{
 "cells": [
  {
   "cell_type": "markdown",
   "metadata": {
    "editable": false
   },
   "source": [
    "$\\textbf{Concept(s)-clé(s) et théorie}$\n",
    "\n",
    "On considère un système d'équations linéaires aux inconnues $x_1,\\ldots,x_n$\n",
    "$$S=\\left\\{\\begin{array}{ccccccc}\n",
    "a_{11}x_1 &+a_{12}x_2 & + &\\cdots &+a_{1n}x_n &= &b_1 \\\\\n",
    "a_{21}x_1 &+a_{22}x_2 & + &\\cdots &+a_{2n}x_n &= &b_2 \\\\\n",
    "\\vdots    &           &         &           &\\vdots & \\vdots &\\vdots \\\\\n",
    "a_{m1}x_1 &+a_{m2}x_2 & + &\\cdots &+a_{mn}x_n &= &b_m\n",
    "\\end{array},\\right. $$\n",
    "\n",
    "où $a_{ij},b_i\\in \\mathbb{R}$ pour tout $1\\leq i\\leq m$ et tout $1\\leq j\\leq n.$ \n",
    "\n",
    "Un système d'équations linéaires à coefficients réels satisfait à précisément une des conditions suivantes.\n",
    "\n",
    "1.Le système ne possède aucune solution.\n",
    "\n",
    "2.Le système possède une solution unique.\n",
    "\n",
    "3.Le système possède une infinité de solutions.\n"
   ]
  },
  {
   "cell_type": "code",
   "execution_count": 1,
   "metadata": {},
   "outputs": [],
   "source": [
    "from IPython.display import HTML\n",
    "import random\n",
    "\n",
    "def hide_toggle(for_next=False):\n",
    "    this_cell = \"\"\"$('div.cell.code_cell.rendered.selected')\"\"\"\n",
    "    next_cell = this_cell + '.next()'\n",
    "\n",
    "    toggle_text = 'Toggle show/hide'  # text shown on toggle link\n",
    "    target_cell = this_cell  # target cell to control with toggle\n",
    "    js_hide_current = ''  # bit of JS to permanently hide code in current cell (only when toggling next cell)\n",
    "\n",
    "    if for_next:\n",
    "        target_cell = next_cell\n",
    "        toggle_text += ' next cell'\n",
    "        js_hide_current = this_cell + '.find(\"div.input\").hide();'\n",
    "\n",
    "    js_f_name = 'code_toggle_{}'.format(str(random.randint(1,2**64)))\n",
    "\n",
    "    html = \"\"\"\n",
    "        <script>\n",
    "            function {f_name}() {{\n",
    "                {cell_selector}.find('div.input').toggle();\n",
    "            }}\n",
    "\n",
    "            {js_hide_current}\n",
    "        </script>\n",
    "\n",
    "        <a href=\"javascript:{f_name}()\">{toggle_text}</a>\n",
    "    \"\"\".format(\n",
    "        f_name=js_f_name,\n",
    "        cell_selector=target_cell,\n",
    "        js_hide_current=js_hide_current, \n",
    "        toggle_text=toggle_text\n",
    "    )\n",
    "\n",
    "    return HTML(html)\n",
    "\n"
   ]
  },
  {
   "cell_type": "code",
   "execution_count": 1,
   "metadata": {
    "editable": false
   },
   "outputs": [
    {
     "data": {
      "text/html": [
       "        <script type=\"text/javascript\">\n",
       "        window.PlotlyConfig = {MathJaxConfig: 'local'};\n",
       "        if (window.MathJax) {MathJax.Hub.Config({SVG: {font: \"STIX-Web\"}});}\n",
       "        if (typeof require !== 'undefined') {\n",
       "        require.undef(\"plotly\");\n",
       "        requirejs.config({\n",
       "            paths: {\n",
       "                'plotly': ['https://cdn.plot.ly/plotly-latest.min']\n",
       "            }\n",
       "        });\n",
       "        require(['plotly'], function(Plotly) {\n",
       "            window._Plotly = Plotly;\n",
       "        });\n",
       "        }\n",
       "        </script>\n",
       "        "
      ]
     },
     "metadata": {},
     "output_type": "display_data"
    }
   ],
   "source": [
    "import AL_Fct as al\n",
    "import numpy as np\n",
    "import matplotlib.pyplot as plt\n",
    "\n",
    "from IPython.core.magic import register_cell_magic\n",
    "from IPython.display import HTML, display\n",
    "\n",
    "@register_cell_magic\n",
    "def bgc(color, cell=None):\n",
    "    script = (\n",
    "        \"var cell = this.closest('.jp-CodeCell');\"\n",
    "        \"var editor = cell.querySelector('.jp-Editor');\"\n",
    "        \"editor.style.background='{}';\"\n",
    "        \"this.parentNode.removeChild(this)\"\n",
    "    ).format(color)\n",
    "\n",
    "    display(HTML('<img src onerror=\"{}\">'.format(script)))"
   ]
  },
  {
   "cell_type": "markdown",
   "metadata": {},
   "source": [
    "EXEMPLE :\n",
    "\n",
    "Nous allons travailler avec un système de $2$ inconnues, $2$ équations:\n",
    "$$\n",
    "\\begin{cases}\n",
    "a_{11}x_1 + a_{12}x_2=b_1\\\\\n",
    "a_{21}x_1 + a_{22}x_2=b_2.\n",
    "\\end{cases}\n",
    "$$\n",
    "\n",
    "Entrer un système de votre choix, vous verrez les graphes (ici des droites) et pourrez proposer une solution.\n"
   ]
  },
  {
   "cell_type": "code",
   "execution_count": 3,
   "metadata": {},
   "outputs": [
    {
     "data": {
      "text/html": [
       "<img src onerror=\"var cell = this.closest('.jp-CodeCell');var editor = cell.querySelector('.jp-Editor');editor.style.background='seashell';this.parentNode.removeChild(this)\">"
      ],
      "text/plain": [
       "<IPython.core.display.HTML object>"
      ]
     },
     "metadata": {},
     "output_type": "display_data"
    }
   ],
   "source": [
    "al.bgc('seashell')\n",
    "#Par défaut, les coefficients sont fixés à 1 et n=2, m=2\n",
    "\n",
    "n = 2\n",
    "m = 2\n",
    "\n",
    "MatriceCoeff = [ [1,-2,-1] , [-1,3,3] ]\n"
   ]
  },
  {
   "cell_type": "code",
   "execution_count": 4,
   "metadata": {},
   "outputs": [
    {
     "data": {
      "text/latex": [
       "$\\begin{cases}1x_1 + -2x_2=-1\\\\-1x_1 + 3x_2=3\\\\\\end{cases}$"
      ],
      "text/plain": [
       "<IPython.core.display.Latex object>"
      ]
     },
     "metadata": {},
     "output_type": "display_data"
    },
    {
     "data": {
      "application/vnd.plotly.v1+json": {
       "config": {
        "linkText": "Export to plot.ly",
        "plotlyServerURL": "https://plot.ly",
        "responsive": true,
        "showLink": false
       },
       "data": [
        {
         "name": "Droite 1",
         "type": "scatter",
         "uid": "4366587e-10d5-45cc-b3d4-0a3dbe6ac8a0",
         "x": [
          -7,
          -6,
          -5,
          -4,
          -3,
          -2,
          -1,
          0,
          1,
          2,
          3,
          4,
          5,
          6,
          7
         ],
         "y": [
          -3,
          -2.5,
          -2,
          -1.5,
          -1,
          -0.5,
          0,
          0.5,
          1,
          1.5,
          2,
          2.5,
          3,
          3.5,
          4
         ]
        },
        {
         "name": "Droite 2",
         "type": "scatter",
         "uid": "040c96e6-8b63-4098-a131-c26a29501ee3",
         "x": [
          -7,
          -6,
          -5,
          -4,
          -3,
          -2,
          -1,
          0,
          1,
          2,
          3,
          4,
          5,
          6,
          7
         ],
         "y": [
          -1.3333333333333333,
          -1,
          -0.6666666666666666,
          -0.3333333333333333,
          0,
          0.3333333333333333,
          0.6666666666666666,
          1,
          1.3333333333333333,
          1.6666666666666667,
          2,
          2.3333333333333335,
          2.6666666666666665,
          3,
          3.3333333333333335
         ]
        }
       ],
       "layout": {
        "autosize": true,
        "dragmode": "pan",
        "xaxis": {
         "autorange": true,
         "range": [
          -8.029322984044846,
          8.029322984044846
         ],
         "type": "linear"
        },
        "yaxis": {
         "autorange": true,
         "range": [
          -3.5776699029126213,
          4.577669902912621
         ],
         "type": "linear"
        }
       }
      },
      "image/png": "[encoded data removed]",
      "text/html": [
       "<div>\n",
       "        \n",
       "        \n",
       "            <div id=\"b9fcd898-a69a-4b8d-af60-013e5293ef9e\" class=\"plotly-graph-div\" style=\"height:525px; width:100%;\"></div>\n",
       "            <script type=\"text/javascript\">\n",
       "                require([\"plotly\"], function(Plotly) {\n",
       "                    window.PLOTLYENV=window.PLOTLYENV || {};\n",
       "                    window.PLOTLYENV.BASE_URL='https://plot.ly';\n",
       "                    \n",
       "                if (document.getElementById(\"b9fcd898-a69a-4b8d-af60-013e5293ef9e\")) {\n",
       "                    Plotly.newPlot(\n",
       "                        'b9fcd898-a69a-4b8d-af60-013e5293ef9e',\n",
       "                        [{\"name\": \"Droite 1\", \"type\": \"scatter\", \"uid\": \"fac211ac-e87d-44fb-a693-3af1f70ab821\", \"x\": [-7.0, -6.0, -5.0, -4.0, -3.0, -2.0, -1.0, 0.0, 1.0, 2.0, 3.0, 4.0, 5.0, 6.0, 7.0], \"y\": [-3.0, -2.5, -2.0, -1.5, -1.0, -0.5, -0.0, 0.5, 1.0, 1.5, 2.0, 2.5, 3.0, 3.5, 4.0]}, {\"name\": \"Droite 2\", \"type\": \"scatter\", \"uid\": \"7ddc857e-2971-440a-a4d7-bdf7edb3279f\", \"x\": [-7.0, -6.0, -5.0, -4.0, -3.0, -2.0, -1.0, 0.0, 1.0, 2.0, 3.0, 4.0, 5.0, 6.0, 7.0], \"y\": [-1.3333333333333333, -1.0, -0.6666666666666666, -0.3333333333333333, 0.0, 0.3333333333333333, 0.6666666666666666, 1.0, 1.3333333333333333, 1.6666666666666667, 2.0, 2.3333333333333335, 2.6666666666666665, 3.0, 3.3333333333333335]}],\n",
       "                        {},\n",
       "                        {\"showLink\": false, \"linkText\": \"Export to plot.ly\", \"plotlyServerURL\": \"https://plot.ly\", \"responsive\": true}\n",
       "                    ).then(function(){\n",
       "                            \n",
       "var gd = document.getElementById('b9fcd898-a69a-4b8d-af60-013e5293ef9e');\n",
       "var x = new MutationObserver(function (mutations, observer) {{\n",
       "        var display = window.getComputedStyle(gd).display;\n",
       "        if (!display || display === 'none') {{\n",
       "            console.log([gd, 'removed!']);\n",
       "            Plotly.purge(gd);\n",
       "            observer.disconnect();\n",
       "        }}\n",
       "}});\n",
       "\n",
       "// Listen for the removal of the full notebook cells\n",
       "var notebookContainer = gd.closest('#notebook-container');\n",
       "if (notebookContainer) {{\n",
       "    x.observe(notebookContainer, {childList: true});\n",
       "}}\n",
       "\n",
       "// Listen for the clearing of the current output cell\n",
       "var outputEl = gd.closest('.output');\n",
       "if (outputEl) {{\n",
       "    x.observe(outputEl, {childList: true});\n",
       "}}\n",
       "\n",
       "                        })\n",
       "                };\n",
       "                });\n",
       "            </script>\n",
       "        </div>"
      ]
     },
     "metadata": {},
     "output_type": "display_data"
    }
   ],
   "source": [
    "al.printSyst(m,n, MatriceCoeff)\n",
    "\n",
    "al.Plot2DSys(-7,7,15,MatriceCoeff)\n"
   ]
  },
  {
   "cell_type": "code",
   "execution_count": 7,
   "metadata": {},
   "outputs": [
    {
     "data": {
      "text/html": [
       "<img src onerror=\"var cell = this.closest('.jp-CodeCell');var editor = cell.querySelector('.jp-Editor');editor.style.background='seashell';this.parentNode.removeChild(this)\">"
      ],
      "text/plain": [
       "<IPython.core.display.HTML object>"
      ]
     },
     "metadata": {},
     "output_type": "display_data"
    },
    {
     "name": "stdout",
     "output_type": "stream",
     "text": [
      "La suite entrée est une solution de l'équation 1\n",
      "La suite entrée est une solution de l'équation 2\n",
      "C'est une solution du système\n"
     ]
    }
   ],
   "source": [
    "al.bgc('seashell')\n",
    "\n",
    "solution=[3,2]\n",
    "al.SolOfSyst(solution, MatriceCoeff,m)"
   ]
  },
  {
   "cell_type": "markdown",
   "metadata": {},
   "source": [
    "EXERCICE 1:\n",
    "    \n",
    "    "
   ]
  },
  {
   "cell_type": "markdown",
   "metadata": {},
   "source": [
    "Pour chacun des cas ci-dessous, déterminer la/les solution(s) des systèmes. \n",
    "\n",
    " $$ \n",
    "a)\\begin{cases}\n",
    "\\dfrac{3}{2}x_1 - 2x_2&=0\\\\\n",
    "-3x_1 + 5 x_2&=3\n",
    "\\end{cases} \\hspace{1cm} b) \\begin{cases}\n",
    "x_1 - x_2&=\\phantom{-}0\\\\\n",
    "-3x_1 -  x_2&=-1\\\\\n",
    "2x_1 + 3x_2&=-2\n",
    "\\end{cases}\n",
    "$$\n"
   ]
  },
  {
   "cell_type": "code",
   "execution_count": 29,
   "metadata": {},
   "outputs": [
    {
     "data": {
      "text/html": [
       "<img src onerror=\"var cell = this.closest('.jp-CodeCell');var editor = cell.querySelector('.jp-Editor');editor.style.background='seashell';this.parentNode.removeChild(this)\">"
      ],
      "text/plain": [
       "<IPython.core.display.HTML object>"
      ]
     },
     "metadata": {},
     "output_type": "display_data"
    }
   ],
   "source": [
    "al.bgc('seashell')\n",
    "#Par défaut, les coefficients sont fixés à 1 et n=2, m=2\n",
    "\n",
    "n = 2\n",
    "m = 3\n",
    "\n",
    "MatriceCoeff = [ [1,-1,0] , [-3,-2,-5], [2,3,-5] ]\n"
   ]
  },
  {
   "cell_type": "code",
   "execution_count": 30,
   "metadata": {},
   "outputs": [
    {
     "data": {
      "text/latex": [
       "$\\begin{cases}1x_1 + -1x_2=0\\\\-3x_1 + -2x_2=-5\\\\2x_1 + 3x_2=-5\\\\\\end{cases}$"
      ],
      "text/plain": [
       "<IPython.core.display.Latex object>"
      ]
     },
     "metadata": {},
     "output_type": "display_data"
    },
    {
     "name": "stdout",
     "output_type": "stream",
     "text": [
      "La suite entrée n'est pas une solution de l'équation 1\n",
      "La suite entrée n'est pas une solution de l'équation 2\n",
      "La suite entrée n'est pas une solution de l'équation 3\n",
      "Ce n'est pas une solution du système\n"
     ]
    },
    {
     "data": {
      "application/vnd.plotly.v1+json": {
       "config": {
        "linkText": "Export to plot.ly",
        "plotlyServerURL": "https://plot.ly",
        "responsive": true,
        "showLink": false
       },
       "data": [
        {
         "name": "Droite 1",
         "type": "scatter",
         "uid": "ad4dc427-221f-4e90-98e8-b2429046eb09",
         "x": [
          -7,
          -6,
          -5,
          -4,
          -3,
          -2,
          -1,
          0,
          1,
          2,
          3,
          4,
          5,
          6,
          7
         ],
         "y": [
          -7,
          -6,
          -5,
          -4,
          -3,
          -2,
          -1,
          0,
          1,
          2,
          3,
          4,
          5,
          6,
          7
         ]
        },
        {
         "name": "Droite 2",
         "type": "scatter",
         "uid": "68b6a951-20f0-4525-8db7-365016883e4f",
         "x": [
          -7,
          -6,
          -5,
          -4,
          -3,
          -2,
          -1,
          0,
          1,
          2,
          3,
          4,
          5,
          6,
          7
         ],
         "y": [
          13,
          11.5,
          10,
          8.5,
          7,
          5.5,
          4,
          2.5,
          1,
          -0.5,
          -2,
          -3.5,
          -5,
          -6.5,
          -8
         ]
        },
        {
         "name": "Droite 3",
         "type": "scatter",
         "uid": "871dfec2-2e21-4e62-a8ff-6eea5cecda9a",
         "x": [
          -7,
          -6,
          -5,
          -4,
          -3,
          -2,
          -1,
          0,
          1,
          2,
          3,
          4,
          5,
          6,
          7
         ],
         "y": [
          3,
          2.3333333333333335,
          1.6666666666666667,
          1,
          0.3333333333333333,
          -0.3333333333333333,
          -1,
          -1.6666666666666667,
          -2.3333333333333335,
          -3,
          -3.6666666666666665,
          -4.333333333333333,
          -5,
          -5.666666666666667,
          -6.333333333333333
         ]
        }
       ],
       "layout": {
        "autosize": true,
        "xaxis": {
         "autorange": true,
         "range": [
          -8.029322984044846,
          8.029322984044846
         ],
         "showspikes": true,
         "type": "linear"
        },
        "yaxis": {
         "autorange": true,
         "range": [
          -9.733009708737864,
          14.733009708737864
         ],
         "showspikes": true,
         "type": "linear"
        }
       }
      },
      "image/png": "[encoded data removed]",
      "text/html": [
       "<div>\n",
       "        \n",
       "        \n",
       "            <div id=\"47b58dd0-a055-4e23-ad5c-e2322d287b34\" class=\"plotly-graph-div\" style=\"height:525px; width:100%;\"></div>\n",
       "            <script type=\"text/javascript\">\n",
       "                require([\"plotly\"], function(Plotly) {\n",
       "                    window.PLOTLYENV=window.PLOTLYENV || {};\n",
       "                    window.PLOTLYENV.BASE_URL='https://plot.ly';\n",
       "                    \n",
       "                if (document.getElementById(\"47b58dd0-a055-4e23-ad5c-e2322d287b34\")) {\n",
       "                    Plotly.newPlot(\n",
       "                        '47b58dd0-a055-4e23-ad5c-e2322d287b34',\n",
       "                        [{\"name\": \"Droite 1\", \"type\": \"scatter\", \"uid\": \"4c8c3c1f-21b3-444d-992d-1f5a4059826c\", \"x\": [-7.0, -6.0, -5.0, -4.0, -3.0, -2.0, -1.0, 0.0, 1.0, 2.0, 3.0, 4.0, 5.0, 6.0, 7.0], \"y\": [-7.0, -6.0, -5.0, -4.0, -3.0, -2.0, -1.0, -0.0, 1.0, 2.0, 3.0, 4.0, 5.0, 6.0, 7.0]}, {\"name\": \"Droite 2\", \"type\": \"scatter\", \"uid\": \"40899ecc-ecc4-4c13-b864-770143f5dc6d\", \"x\": [-7.0, -6.0, -5.0, -4.0, -3.0, -2.0, -1.0, 0.0, 1.0, 2.0, 3.0, 4.0, 5.0, 6.0, 7.0], \"y\": [13.0, 11.5, 10.0, 8.5, 7.0, 5.5, 4.0, 2.5, 1.0, -0.5, -2.0, -3.5, -5.0, -6.5, -8.0]}, {\"name\": \"Droite 3\", \"type\": \"scatter\", \"uid\": \"93665e7c-2bac-4fa9-a504-8786f16ffbbf\", \"x\": [-7.0, -6.0, -5.0, -4.0, -3.0, -2.0, -1.0, 0.0, 1.0, 2.0, 3.0, 4.0, 5.0, 6.0, 7.0], \"y\": [3.0, 2.3333333333333335, 1.6666666666666667, 1.0, 0.3333333333333333, -0.3333333333333333, -1.0, -1.6666666666666667, -2.3333333333333335, -3.0, -3.6666666666666665, -4.333333333333333, -5.0, -5.666666666666667, -6.333333333333333]}],\n",
       "                        {},\n",
       "                        {\"showLink\": false, \"linkText\": \"Export to plot.ly\", \"plotlyServerURL\": \"https://plot.ly\", \"responsive\": true}\n",
       "                    ).then(function(){\n",
       "                            \n",
       "var gd = document.getElementById('47b58dd0-a055-4e23-ad5c-e2322d287b34');\n",
       "var x = new MutationObserver(function (mutations, observer) {{\n",
       "        var display = window.getComputedStyle(gd).display;\n",
       "        if (!display || display === 'none') {{\n",
       "            console.log([gd, 'removed!']);\n",
       "            Plotly.purge(gd);\n",
       "            observer.disconnect();\n",
       "        }}\n",
       "}});\n",
       "\n",
       "// Listen for the removal of the full notebook cells\n",
       "var notebookContainer = gd.closest('#notebook-container');\n",
       "if (notebookContainer) {{\n",
       "    x.observe(notebookContainer, {childList: true});\n",
       "}}\n",
       "\n",
       "// Listen for the clearing of the current output cell\n",
       "var outputEl = gd.closest('.output');\n",
       "if (outputEl) {{\n",
       "    x.observe(outputEl, {childList: true});\n",
       "}}\n",
       "\n",
       "                        })\n",
       "                };\n",
       "                });\n",
       "            </script>\n",
       "        </div>"
      ]
     },
     "metadata": {},
     "output_type": "display_data"
    }
   ],
   "source": [
    "al.printSyst(m,n, MatriceCoeff)\n",
    "solution=[4,3]\n",
    "al.SolOfSyst(solution, MatriceCoeff,m)\n",
    "al.Plot2DSys(-7,7,15,MatriceCoeff)"
   ]
  },
  {
   "cell_type": "markdown",
   "metadata": {},
   "source": [
    "EXERCICE 2\n",
    "\n",
    "Pour chacun des cas ci-dessous, déterminer la/les solution(s) des systèmes. \n",
    "\n",
    " $$ \n",
    "a)\\begin{cases}\n",
    "\\dfrac{3}{2}x_1 - 2x_2&=0\\\\\n",
    "-3x_1 + 5 x_2&=3\n",
    "\\end{cases} \\hspace{1cm} b) \\begin{cases}\n",
    "x_1 - x_2&=\\phantom{-}0\\\\\n",
    "-3x_1 -  x_2&=-1\\\\\n",
    "2x_1 + 3x_2&=-2\n",
    "\\end{cases}\n",
    "$$\n"
   ]
  },
  {
   "cell_type": "code",
   "execution_count": 4,
   "metadata": {},
   "outputs": [
    {
     "data": {
      "text/latex": [
       "$\\begin{cases}1x_1 + 5x_2=-0.5\\\\-2x_1 + -10x_2=1\\\\\\end{cases}$"
      ],
      "text/plain": [
       "<IPython.core.display.Latex object>"
      ]
     },
     "metadata": {},
     "output_type": "display_data"
    },
    {
     "data": {
      "text/latex": [
       "$\\left(\\begin{array}{ccc}  1 & 5 & -0.5 \\\\-2 & -10 & 1  \\end{array}\\right)$"
      ],
      "text/plain": [
       "<IPython.core.display.Latex object>"
      ]
     },
     "metadata": {},
     "output_type": "display_data"
    },
    {
     "data": {
      "text/latex": [
       "$\\left(\\begin{array}{ccc}  1 & 5 & -0.5 \\\\0 & 0 & 0  \\end{array}\\right)$"
      ],
      "text/plain": [
       "<IPython.core.display.Latex object>"
      ]
     },
     "metadata": {},
     "output_type": "display_data"
    },
    {
     "name": "stdout",
     "output_type": "stream",
     "text": [
      "La matrice est sous la forme échelonnée\n"
     ]
    },
    {
     "data": {
      "text/latex": [
       "$\\left(\\begin{array}{ccc}  1 & 5 & -0.5 \\\\-2 & -10 & 1  \\end{array}\\right)\\quad \\sim \\quad\\left(\\begin{array}{ccc}  1 & 5 & -0.5 \\\\0 & 0 & 0  \\end{array}\\right)$"
      ],
      "text/plain": [
       "<IPython.core.display.Latex object>"
      ]
     },
     "metadata": {},
     "output_type": "display_data"
    }
   ],
   "source": [
    "n=2\n",
    "m=2\n",
    "h=-1/2\n",
    "MatCoeff=[[1, 5, h], [-2, -10, 1]]\n",
    "\n",
    "al.printSyst(m,n,MatCoeff)\n",
    "al.printA(MatCoeff)\n",
    "al.echelonMat(MatCoeff)\n",
    "en 1.3"
   ]
  },
  {
   "cell_type": "code",
   "execution_count": null,
   "metadata": {},
   "outputs": [],
   "source": []
  }
 ],
 "metadata": {
  "kernelspec": {
   "display_name": "Python 3",
   "language": "python",
   "name": "python3"
  },
  "language_info": {
   "codemirror_mode": {
    "name": "ipython",
    "version": 3
   },
   "file_extension": ".py",
   "mimetype": "text/x-python",
   "name": "python",
   "nbconvert_exporter": "python",
   "pygments_lexer": "ipython3",
   "version": "3.6.7"
  }
 },
 "nbformat": 4,
 "nbformat_minor": 2
}
