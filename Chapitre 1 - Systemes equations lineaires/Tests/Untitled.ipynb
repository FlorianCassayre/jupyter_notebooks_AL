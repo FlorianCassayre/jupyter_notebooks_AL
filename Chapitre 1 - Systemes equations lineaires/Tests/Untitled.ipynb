{
 "cells": [
  {
   "cell_type": "code",
   "execution_count": 72,
   "metadata": {},
   "outputs": [
    {
     "data": {
      "application/vnd.jupyter.widget-view+json": {
       "model_id": "c575ab1265ff4d1486bae9f516679e3f",
       "version_major": 2,
       "version_minor": 0
      },
      "text/plain": [
       "interactive(children=(RadioButtons(description='Opération:', options=('Eij', 'Ei(alpha)', 'Eij(alpha)'), value…"
      ]
     },
     "metadata": {},
     "output_type": "display_data"
    }
   ],
   "source": [
    "import ipywidgets as widgets\n",
    "import numpy as np\n",
    "from ipywidgets import interact, interactive, fixed, interact_manual\n",
    "\n",
    "r=widgets.RadioButtons(\n",
    "    options=['Eij', 'Ei(alpha)', 'Eij(alpha)'],\n",
    "#     value='pineapple',\n",
    "    description='Opération:',\n",
    "    disabled=False\n",
    ")\n",
    "i=widgets.IntText(\n",
    "    value=7,\n",
    "    min=0,\n",
    "    max=10,\n",
    "    step=1,\n",
    "    description='Ligne i:',\n",
    "    disabled=False\n",
    ")\n",
    "j=widgets.IntText(\n",
    "    value=7,\n",
    "    min=0,\n",
    "    max=10,\n",
    "    step=1,\n",
    "    description='Ligne j:',\n",
    "    disabled=False\n",
    ")\n",
    "alpha=widgets.FloatText(\n",
    "    value=0.5,\n",
    "    step=0.1,\n",
    "    description='Coeff. alpha:',\n",
    "    disabled=False\n",
    ")\n",
    "\n",
    "Matrice=2\n",
    "\n",
    "def f(w1,w2,w3,w4, w5):\n",
    "    w5+=w5\n",
    "    print(w5)\n",
    "    if w4==0:\n",
    "        print('Le coefficient alpha doit être non-nul!')\n",
    "        return\n",
    "    if w1=='Eij':\n",
    "        print('Opération élémentaire', w1, 'échange la ligne', w2,' avec la ligne ',w3)\n",
    "    if w1=='Ei(alpha)':\n",
    "        print('Opération élémentaire', w1, 'multiplie la ligne', w3,' par',w4 )\n",
    "    if w1=='Eij(alpha)':\n",
    "        print('Opération élémentaire', w1, 'additionne', w4,' fois la ligne ',w3, 'à la ligne',w2 )\n",
    "    return w1,w2,w3,w4,w5\n",
    "\n",
    "\n",
    "w = interactive(f, w1=r, w2=i,w3=j,w4=alpha, w5=fixed(Matrice))\n",
    "w"
   ]
  },
  {
   "cell_type": "raw",
   "metadata": {},
   "source": []
  },
  {
   "cell_type": "code",
   "execution_count": 14,
   "metadata": {},
   "outputs": [
    {
     "name": "stdout",
     "output_type": "stream",
     "text": [
      "IntText(value=7, description='Any:')\n"
     ]
    }
   ],
   "source": [
    "print(a)"
   ]
  },
  {
   "cell_type": "code",
   "execution_count": 33,
   "metadata": {},
   "outputs": [],
   "source": [
    "from tkinter import *  # or tkinter if you use Python3\n",
    "\n",
    "root = Tk()\n",
    "\n",
    "label_1 = Label(master=root, text='Name 1')\n",
    "label_2 = Label(master=root, text='Name 2')\n",
    "label_3 = Label(master=root, text='Name 3')\n",
    "label_4 = Label(master=root, text='Name 4')\n",
    "\n",
    "label_1.grid(row=0)\n",
    "label_2.grid(row=1)\n",
    "label_3.grid(row=2)  # this is the 2nd\n",
    "label_4.grid(row=4)  # this is the 4th\n",
    "\n",
    "root.rowconfigure(index=3, weight=1)  # add weight to the 3rd!\n",
    "root.mainloop()"
   ]
  },
  {
   "cell_type": "code",
   "execution_count": null,
   "metadata": {},
   "outputs": [],
   "source": []
  }
 ],
 "metadata": {
  "kernelspec": {
   "display_name": "Python 3",
   "language": "python",
   "name": "python3"
  },
  "language_info": {
   "codemirror_mode": {
    "name": "ipython",
    "version": 3
   },
   "file_extension": ".py",
   "mimetype": "text/x-python",
   "name": "python",
   "nbconvert_exporter": "python",
   "pygments_lexer": "ipython3",
   "version": "3.7.3"
  }
 },
 "nbformat": 4,
 "nbformat_minor": 2
}
