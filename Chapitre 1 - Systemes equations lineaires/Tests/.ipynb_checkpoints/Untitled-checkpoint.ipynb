{
 "cells": [
  {
   "cell_type": "code",
   "execution_count": 40,
   "metadata": {},
   "outputs": [
    {
     "data": {
      "application/vnd.jupyter.widget-view+json": {
       "model_id": "80864d943ac9434d845064cfb5e500a2",
       "version_major": 2,
       "version_minor": 0
      },
      "text/plain": [
       "interactive(children=(RadioButtons(description='Pizza topping:', options=('pepperoni', 'pineapple', 'anchovies…"
      ]
     },
     "metadata": {},
     "output_type": "display_data"
    }
   ],
   "source": [
    "import ipywidgets as widgets\n",
    "import numpy as np\n",
    "from ipywidgets import interact, interactive, fixed, interact_manual\n",
    "\n",
    "r=widgets.RadioButtons(\n",
    "    options=['pepperoni', 'pineapple', 'anchovies'],\n",
    "#     value='pineapple',\n",
    "    description='Pizza topping:',\n",
    "    disabled=False\n",
    ")\n",
    "i=widgets.IntText(\n",
    "    value=7,\n",
    "    min=0,\n",
    "    max=10,\n",
    "    step=1,\n",
    "    description='Any:',\n",
    "    disabled=False\n",
    ")\n",
    "j=widgets.IntText(\n",
    "    value=7,\n",
    "    min=0,\n",
    "    max=10,\n",
    "    step=1,\n",
    "    description='Any:',\n",
    "    disabled=False\n",
    ")\n",
    "alpha=widgets.FloatText(\n",
    "    value=7,\n",
    "    min=0,\n",
    "    max=10,\n",
    "    step=1,\n",
    "    description='Any:',\n",
    "    disabled=False\n",
    ")\n",
    "def f(w1,w2):\n",
    "    print(w1, w2)\n",
    "    return w1,w2\n",
    "w = interactive(f, w1=r, w2=a)\n",
    "w"
   ]
  },
  {
   "cell_type": "code",
   "execution_count": 14,
   "metadata": {},
   "outputs": [
    {
     "name": "stdout",
     "output_type": "stream",
     "text": [
      "IntText(value=7, description='Any:')\n"
     ]
    }
   ],
   "source": [
    "print(a)"
   ]
  },
  {
   "cell_type": "code",
   "execution_count": 33,
   "metadata": {},
   "outputs": [],
   "source": [
    "from tkinter import *  # or tkinter if you use Python3\n",
    "\n",
    "root = Tk()\n",
    "\n",
    "label_1 = Label(master=root, text='Name 1')\n",
    "label_2 = Label(master=root, text='Name 2')\n",
    "label_3 = Label(master=root, text='Name 3')\n",
    "label_4 = Label(master=root, text='Name 4')\n",
    "\n",
    "label_1.grid(row=0)\n",
    "label_2.grid(row=1)\n",
    "label_3.grid(row=2)  # this is the 2nd\n",
    "label_4.grid(row=4)  # this is the 4th\n",
    "\n",
    "root.rowconfigure(index=3, weight=1)  # add weight to the 3rd!\n",
    "root.mainloop()"
   ]
  },
  {
   "cell_type": "code",
   "execution_count": null,
   "metadata": {},
   "outputs": [],
   "source": []
  }
 ],
 "metadata": {
  "kernelspec": {
   "display_name": "Python 3",
   "language": "python",
   "name": "python3"
  },
  "language_info": {
   "codemirror_mode": {
    "name": "ipython",
    "version": 3
   },
   "file_extension": ".py",
   "mimetype": "text/x-python",
   "name": "python",
   "nbconvert_exporter": "python",
   "pygments_lexer": "ipython3",
   "version": "3.7.3"
  }
 },
 "nbformat": 4,
 "nbformat_minor": 2
}
