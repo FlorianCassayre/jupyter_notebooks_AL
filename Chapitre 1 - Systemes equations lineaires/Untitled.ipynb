{
 "cells": [
  {
   "cell_type": "code",
   "execution_count": 21,
   "metadata": {},
   "outputs": [
    {
     "name": "stdout",
     "output_type": "stream",
     "text": [
      "[[1. 2.]\n",
      " [2. 3.]] [[1. 2.]\n",
      " [2. 3.]]\n"
     ]
    },
    {
     "data": {
      "application/vnd.jupyter.widget-view+json": {
       "model_id": "c9e86c5fb43846df99ca8fdf750cdc63",
       "version_major": 2,
       "version_minor": 0
      },
      "text/plain": [
       "interactive(children=(RadioButtons(description='Opération:', options=('Eij', 'Ei(alpha)', 'Eij(alpha)'), value…"
      ]
     },
     "metadata": {},
     "output_type": "display_data"
    },
    {
     "data": {
      "text/plain": [
       "<function __main__.f(w1, w2, w3, w4, w5)>"
      ]
     },
     "execution_count": 21,
     "metadata": {},
     "output_type": "execute_result"
    }
   ],
   "source": [
    "import ipywidgets as widgets\n",
    "import numpy as np\n",
    "from ipywidgets import interact, interactive, fixed, interact_manual\n",
    "import AL_Fct as al\n",
    "\n",
    "r=widgets.RadioButtons(\n",
    "    options=['Eij', 'Ei(alpha)', 'Eij(alpha)'],\n",
    "#     value='pineapple',\n",
    "    description='Opération:',\n",
    "    disabled=False\n",
    ")\n",
    "\n",
    "\n",
    "alpha=widgets.Text(\n",
    "    value='1',\n",
    "    description='Coeff. alpha:',\n",
    "    disabled=False\n",
    ")\n",
    "\n",
    "Matrice=[[1,2],[2,3]]\n",
    "\n",
    "Matrice=np.array(Matrice)\n",
    "Matrice=Matrice.astype(float)\n",
    "\n",
    "i=widgets.BoundedIntText(\n",
    "    value=1,\n",
    "    min=0,\n",
    "    max=len(Matrice),\n",
    "    step=1,\n",
    "    description='Ligne i:',\n",
    "    disabled=False\n",
    ")\n",
    "\n",
    "j=widgets.BoundedIntText(\n",
    "    value=1,\n",
    "    min=0,\n",
    "    max=len(Matrice),\n",
    "    step=1,\n",
    "    description='Ligne j:',\n",
    "    disabled=False\n",
    ")\n",
    "a= 1;\n",
    "a=np.copy(Matrice)\n",
    "print(a, Matrice)\n",
    "def f(w1,w2,w3,w4,w5):\n",
    "    i,j=al.python2matlab(w2,w3)\n",
    "    print(a, Matrice)\n",
    "    w4=eval(w4)\n",
    "    if w4==0:\n",
    "        print('Le coefficient alpha doit être non-nul!')\n",
    "        return\n",
    "    if w1=='Eij':\n",
    "        w5=al.Eij(w5,i,j)\n",
    "        al.printEquMatrices([Matrice,w5,a])\n",
    "        print('Opération élémentaire', w1, 'échange la ligne', w2,' avec la ligne ',w3)\n",
    "    if w1=='Ei(alpha)':\n",
    "        w5=al.Ealpha(w5,i,w4)\n",
    "        al.printEquMatrices([Matrice2,w5])\n",
    "        print('Opération élémentaire', w1, 'multiplie la ligne', w3,' par',w4 )\n",
    "    if w1=='Eij(alpha)':\n",
    "        w5=al.Eijalpha(w5,i,j,w4)\n",
    "        al.printEquMatrices([Matrice2,w5])\n",
    "        print('Opération élémentaire', w1, 'additionne', w4,' fois la ligne ',w3, 'à la ligne',w2 )\n",
    "\n",
    "\n",
    "interact_manual(f, w1=r, w2=i,w3=j,w4=alpha, w5=fixed(Matrice))\n"
   ]
  },
  {
   "cell_type": "code",
   "execution_count": 11,
   "metadata": {},
   "outputs": [
    {
     "data": {
      "text/latex": [
       "$\\left(\\begin{array}{ccc}  1 & 2 & 3 \\\\0 & -3 & -6 \\\\0 & -6 & -12  \\end{array}\\right)$"
      ],
      "text/plain": [
       "<IPython.core.display.Latex object>"
      ]
     },
     "metadata": {},
     "output_type": "display_data"
    },
    {
     "data": {
      "text/latex": [
       "$\\left(\\begin{array}{ccc}  1 & 2 & 3 \\\\0 & 1 & 2 \\\\0 & 0 & 0  \\end{array}\\right)$"
      ],
      "text/plain": [
       "<IPython.core.display.Latex object>"
      ]
     },
     "metadata": {},
     "output_type": "display_data"
    },
    {
     "name": "stdout",
     "output_type": "stream",
     "text": [
      "La matrice est sous la forme échelonnée\n"
     ]
    },
    {
     "data": {
      "text/latex": [
       "$\\left(\\begin{array}{ccc}  1 & 2 & 3 \\\\4 & 5 & 6 \\\\7 & 8 & 9  \\end{array}\\right)\\quad \\sim \\quad\\left(\\begin{array}{ccc}  1 & 2 & 3 \\\\0 & 1 & 2 \\\\0 & 0 & 0  \\end{array}\\right)$"
      ],
      "text/plain": [
       "<IPython.core.display.Latex object>"
      ]
     },
     "metadata": {},
     "output_type": "display_data"
    },
    {
     "name": "stdout",
     "output_type": "stream",
     "text": [
      "Vous allez échelonner la matrice\n"
     ]
    },
    {
     "data": {
      "text/latex": [
       "$\\left(\\begin{array}{ccc| cccc}  1 & 2 & 3 & 1 & 0 & 0 \\\\4 & 5 & 6 & 0 & 1 & 0 \\\\7 & 8 & 9 & 0 & 0 & 1  \\end{array}\\right)$"
      ],
      "text/plain": [
       "<IPython.core.display.Latex object>"
      ]
     },
     "metadata": {},
     "output_type": "display_data"
    },
    {
     "name": "stdout",
     "output_type": "stream",
     "text": [
      "Régler les paramètres et évaluer la cellule suivante\n",
      "Répéter cela jusqu'à obtenir une forme échelonnée réduite\n"
     ]
    },
    {
     "data": {
      "application/vnd.jupyter.widget-view+json": {
       "model_id": "9f0192c852b24dd7b9070b24224aa32d",
       "version_major": 2,
       "version_minor": 0
      },
      "text/plain": [
       "RadioButtons(description='Opération:', options=('Eij', 'Ei(alpha)', 'Eij(alpha)'), value='Eij')"
      ]
     },
     "metadata": {},
     "output_type": "display_data"
    },
    {
     "data": {
      "application/vnd.jupyter.widget-view+json": {
       "model_id": "f719950679d044fdb60023ec131a8dcf",
       "version_major": 2,
       "version_minor": 0
      },
      "text/plain": [
       "BoundedIntText(value=1, description='Ligne i:', max=3, min=1)"
      ]
     },
     "metadata": {},
     "output_type": "display_data"
    },
    {
     "data": {
      "application/vnd.jupyter.widget-view+json": {
       "model_id": "89e1b66478494a0093774cbfcd1e8a11",
       "version_major": 2,
       "version_minor": 0
      },
      "text/plain": [
       "BoundedIntText(value=1, description='Ligne j:', max=3, min=1)"
      ]
     },
     "metadata": {},
     "output_type": "display_data"
    },
    {
     "data": {
      "application/vnd.jupyter.widget-view+json": {
       "model_id": "58f37420dc014bb88a2cbeaabd92ff66",
       "version_major": 2,
       "version_minor": 0
      },
      "text/plain": [
       "Text(value='1', description='Coeff. alpha:')"
      ]
     },
     "metadata": {},
     "output_type": "display_data"
    }
   ],
   "source": [
    "\n",
    "import ipywidgets as widgets\n",
    "import numpy as np\n",
    "from ipywidgets import interact, interactive, fixed, interact_manual\n",
    "import AL_Fct as al\n",
    "Matrice=[[1,2,3],[4,5,6],[7,8,9]]\n",
    "b=[[1,0,0],[0,1,0], [0,0,1]]\n",
    "\n",
    "\n",
    "Matrice=np.array(Matrice).astype(float)\n",
    "b=np.array(b).astype(float)\n",
    "\n",
    "\n",
    "print('Vous allez échelonner la matrice')\n",
    "al.printAAug(Matrice,b)\n",
    "j=widgets.BoundedIntText(\n",
    "    value=1,\n",
    "    min=1,\n",
    "    max=len(Matrice),\n",
    "    step=1,\n",
    "    description='Ligne j:',\n",
    "    disabled=False\n",
    ")\n",
    "i=widgets.BoundedIntText(\n",
    "    value=1,\n",
    "    min=1,\n",
    "    max=len(Matrice),\n",
    "    step=1,\n",
    "    description='Ligne i:',\n",
    "    disabled=False\n",
    ")\n",
    "\n",
    "r=widgets.RadioButtons(\n",
    "    options=['Eij', 'Ei(alpha)', 'Eij(alpha)'],\n",
    "    description='Opération:',\n",
    "    disabled=False\n",
    ")\n",
    "\n",
    "\n",
    "alpha=widgets.Text(\n",
    "    value='1',\n",
    "    description='Coeff. alpha:',\n",
    "    disabled=False\n",
    ")\n",
    "\n",
    "print(\"Régler les paramètres et évaluer la cellule suivante\")\n",
    "print(\"Répéter cela jusqu'à obtenir une forme échelonnée réduite\")\n",
    "display(r)\n",
    "display(i)\n",
    "display(j)\n",
    "display(alpha)\n",
    "\n",
    "m=np.concatenate((Matrice,b), axis=1)\n",
    "\n",
    "MatriceList=[Matrice]\n",
    "RhSList=[b]\n"
   ]
  },
  {
   "cell_type": "code",
   "execution_count": 8,
   "metadata": {},
   "outputs": [
    {
     "data": {
      "text/latex": [
       "$\\left(\\begin{array}{ccc| cccc}  1 & 2 & 3 & 1 & 0 & 0 \\\\4 & 5 & 6 & 0 & 1 & 0 \\\\7 & 8 & 9 & 0 & 0 & 1  \\end{array}\\right)\\quad \\sim \\quad\\left(\\begin{array}{ccc| cccc}  1 & 2 & 3 & 1 & 0 & 0 \\\\0 & -3 & -6 & -4 & 1 & 0 \\\\7 & 8 & 9 & 0 & 0 & 1  \\end{array}\\right)\\quad \\sim \\quad\\left(\\begin{array}{ccc| cccc}  1 & 2 & 3 & 1 & 0 & 0 \\\\0 & -3 & -6 & -4 & 1 & 0 \\\\0 & -6 & -12 & -7 & 0 & 1  \\end{array}\\right)\\quad \\sim \\quad\\left(\\begin{array}{ccc| cccc}  1 & 2 & 3 & 1 & 0 & 0 \\\\0 & -3 & -6 & -4 & 1 & 0 \\\\0 & 6 & 12 & 7 & 0 & -1  \\end{array}\\right)\\quad \\sim \\quad\\left(\\begin{array}{ccc| cccc}  1 & 2 & 3 & 1 & 0 & 0 \\\\0 & 3 & 6 & 4 & -1 & 0 \\\\0 & 6 & 12 & 7 & 0 & -1  \\end{array}\\right)\\quad \\sim \\quad\\left(\\begin{array}{ccc| cccc}  1 & 2 & 3 & 1 & 0 & 0 \\\\0 & 3 & 6 & 4 & -1 & 0 \\\\0 & 0 & 0 & -1 & 2 & -1  \\end{array}\\right)\\quad \\sim \\quad\\left(\\begin{array}{ccc| cccc}  1 & 2 & 3 & 1 & 0 & 0 \\\\0 & 3 & 6 & 4 & -1 & 0 \\\\0 & 0 & 0 & -0.333 & 0.667 & -0.333  \\end{array}\\right)\\quad \\sim \\quad\\left(\\begin{array}{ccc| cccc}  1 & 2 & 3 & 1 & 0 & 0 \\\\0 & 1 & 2 & 1.333 & -0.333 & 0 \\\\0 & 0 & 0 & -0.333 & 0.667 & -0.333  \\end{array}\\right)$"
      ],
      "text/plain": [
       "<IPython.core.display.Latex object>"
      ]
     },
     "metadata": {},
     "output_type": "display_data"
    }
   ],
   "source": [
    "if alpha.value==0:\n",
    "    print('Le coefficient alpha doit être non-nul!')\n",
    "if r.value=='Eij':\n",
    "    m=al.Eij(m,i.value-1,j.value-1)\n",
    "if r.value=='Ei(alpha)':\n",
    "    m=al.Ealpha(m,i.value-1,eval(alpha.value))\n",
    "if r.value=='Eij(alpha)':\n",
    "    m=al.Eijalpha(m,i.value-1,j.value-1,eval(alpha.value))\n",
    "    \n",
    "MatriceList.append(m[:,0:len(Matrice[0])])\n",
    "RhSList.append(m[:,len(Matrice[0]):])\n",
    "\n",
    "al.printEquMatricesAug(MatriceList,RhSList)\n"
   ]
  },
  {
   "cell_type": "code",
   "execution_count": 7,
   "metadata": {},
   "outputs": [
    {
     "data": {
      "text/latex": [
       "$\\left(\\begin{array}{cccc| ccc}  1 & 2 & 3 & 0 & 1 & 5 \\\\4 & 5 & 6 & 0 & 2 & 6 \\\\7 & 6 & 8 & 0 & 3 & 7  \\end{array}\\right)$"
      ],
      "text/plain": [
       "<IPython.core.display.Latex object>"
      ]
     },
     "metadata": {},
     "output_type": "display_data"
    }
   ],
   "source": []
  },
  {
   "cell_type": "code",
   "execution_count": null,
   "metadata": {},
   "outputs": [],
   "source": []
  },
  {
   "cell_type": "code",
   "execution_count": null,
   "metadata": {
    "scrolled": true
   },
   "outputs": [],
   "source": []
  }
 ],
 "metadata": {
  "kernelspec": {
   "display_name": "Python 3",
   "language": "python",
   "name": "python3"
  },
  "language_info": {
   "codemirror_mode": {
    "name": "ipython",
    "version": 3
   },
   "file_extension": ".py",
   "mimetype": "text/x-python",
   "name": "python",
   "nbconvert_exporter": "python",
   "pygments_lexer": "ipython3",
   "version": "3.7.3"
  }
 },
 "nbformat": 4,
 "nbformat_minor": 2
}
