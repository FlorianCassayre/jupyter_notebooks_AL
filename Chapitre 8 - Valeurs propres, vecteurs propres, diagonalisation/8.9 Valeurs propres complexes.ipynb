{
 "cells": [
  {
   "cell_type": "markdown",
   "metadata": {},
   "source": [
    "### Théorème fondamental de l'algèbre：\n",
    "\n",
    "Soit $p(x) \\in \\mathbb{P}(\\mathbb{C})$ un polynôme à coefficients dans $\\mathbb{C}$. Alors $p(x)$ se factorise en un produit de facteurs linéaires, i.e. il existe $\\lambda_{1}, \\ldots, \\lambda_{r} \\in \\mathbb{R}$ et\n",
    "$\\mu_{1}, \\ldots, \\mu_{2 s} \\in \\mathbb{C}$ tels que\n",
    "$$\n",
    "p(x)=\\pm\\left(x-\\lambda_{1}\\right) \\cdots\\left(x-\\lambda_{r}\\right)\\left(x-\\mu_{1}\\right) \\cdots\\left(x-\\mu_{2 s}\\right)\n",
    "$$\n",
    "\n",
    "De plus, si $v=a+i b \\in \\mathbb{C}$ est une racine de $p(x),$ alors $\\bar{\\mu}=a-i b$ est également une racine de $p(x)$\n",
    "\n",
    "### Critère de diagonalisabilité sur $\\mathbb{C}$ \n",
    "\n",
    "Une transformation linéaire $\\phi: V \\rightarrow V$ d'un $\\mathbb{C}$ -espace vectoriel de dimension finie est diagonalisable si et seulement si la multiplicité géométrique de chaque valeur propre de $\\phi$ est égale à sa multipicité algébrique."
   ]
  },
  {
   "cell_type": "code",
   "execution_count": 1,
   "metadata": {},
   "outputs": [
    {
     "data": {
      "text/html": [
       "        <script type=\"text/javascript\">\n",
       "        window.PlotlyConfig = {MathJaxConfig: 'local'};\n",
       "        if (window.MathJax) {MathJax.Hub.Config({SVG: {font: \"STIX-Web\"}});}\n",
       "        if (typeof require !== 'undefined') {\n",
       "        require.undef(\"plotly\");\n",
       "        requirejs.config({\n",
       "            paths: {\n",
       "                'plotly': ['https://cdn.plot.ly/plotly-latest.min']\n",
       "            }\n",
       "        });\n",
       "        require(['plotly'], function(Plotly) {\n",
       "            window._Plotly = Plotly;\n",
       "        });\n",
       "        }\n",
       "        </script>\n",
       "        "
      ]
     },
     "metadata": {},
     "output_type": "display_data"
    }
   ],
   "source": [
    "import sys, os\n",
    "sys.path.append('../Librairie')\n",
    "import AL_Fct as al\n",
    "import numpy as np\n",
    "import sympy as sp\n",
    "from IPython.utils import io\n",
    "from IPython.display import display, Latex, Markdown\n",
    "import plotly\n",
    "import plotly.graph_objects as go\n",
    "from Ch8_lib import *\n",
    "from sympy import I"
   ]
  },
  {
   "cell_type": "code",
   "execution_count": 290,
   "metadata": {},
   "outputs": [
    {
     "data": {
      "text/latex": [
       "$\\displaystyle \\left[\\begin{matrix}0 & -1 & 0 & 0\\\\0 & -1 & -1 & -1\\\\-1 & 0 & 0 & -1\\\\-1 & 0 & -1 & 0\\end{matrix}\\right]$"
      ],
      "text/plain": [
       "Matrix([\n",
       "[ 0, -1,  0,  0],\n",
       "[ 0, -1, -1, -1],\n",
       "[-1,  0,  0, -1],\n",
       "[-1,  0, -1,  0]])"
      ]
     },
     "metadata": {},
     "output_type": "display_data"
    }
   ],
   "source": [
    "A1 = sp.Matrix([[0, 1], [-1, 0]])\n",
    "A2 = sp.Matrix([[0, 0, 0], [0, -2, 1], [-2, -1, -2]])\n",
    "A3 = sp.Matrix([[0, -1, 0, 0], [0, -1, -1, -1], [-1, 0, 0, -1], [-1, 0, -1, 0]])\n",
    "\n",
    "display(A3)\n",
    "\n"
   ]
  },
  {
   "cell_type": "code",
   "execution_count": null,
   "metadata": {},
   "outputs": [],
   "source": [
    "D = sp.Matrix([[1-I, 0, 0], [0, 1+I, 0], [0, 0, 2]])\n",
    "\n",
    "P * D * P**-1"
   ]
  },
  {
   "cell_type": "code",
   "execution_count": 284,
   "metadata": {},
   "outputs": [
    {
     "data": {
      "text/latex": [
       "$\\displaystyle \\left[\\begin{matrix}-3 & -1 & -2 & -3\\\\0 & -3 & 2 & -2\\\\3 & 0 & 0 & 3\\\\0 & 0 & -1 & -2\\end{matrix}\\right]$"
      ],
      "text/plain": [
       "Matrix([\n",
       "[-3, -1, -2, -3],\n",
       "[ 0, -3,  2, -2],\n",
       "[ 3,  0,  0,  3],\n",
       "[ 0,  0, -1, -2]])"
      ]
     },
     "metadata": {},
     "output_type": "display_data"
    },
    {
     "data": {
      "text/plain": [
       "{-2: 1, -3: 1, -3/2 - 3*sqrt(3)*I/2: 1, -3/2 + 3*sqrt(3)*I/2: 1}"
      ]
     },
     "execution_count": 284,
     "metadata": {},
     "output_type": "execute_result"
    }
   ],
   "source": [
    "A = np.random.randint(-3, 4, (4,4))\n",
    "A = sp.Matrix(A)\n",
    "display(A)\n",
    "A.eigenvals()"
   ]
  },
  {
   "cell_type": "code",
   "execution_count": 83,
   "metadata": {},
   "outputs": [
    {
     "data": {
      "text/latex": [
       "$\\displaystyle \\left[\\begin{matrix}-1 & 0 & 1 & 1\\\\1 & 0 & 0 & -1\\\\1 & 1 & 0 & 0\\\\0 & 0 & 1 & -1\\end{matrix}\\right]$"
      ],
      "text/plain": [
       "Matrix([\n",
       "[-1, 0, 1,  1],\n",
       "[ 1, 0, 0, -1],\n",
       "[ 1, 1, 0,  0],\n",
       "[ 0, 0, 1, -1]])"
      ]
     },
     "execution_count": 83,
     "metadata": {},
     "output_type": "execute_result"
    }
   ],
   "source": [
    "A"
   ]
  },
  {
   "cell_type": "code",
   "execution_count": 68,
   "metadata": {},
   "outputs": [
    {
     "data": {
      "text/plain": [
       "{1: 1, -2: 1, -I: 1, I: 1}"
      ]
     },
     "execution_count": 68,
     "metadata": {},
     "output_type": "execute_result"
    }
   ],
   "source": [
    "A = sp.Matrix([[0, -1, 0, 0], [0, -1, -1, -1], [-1, 0, 0, -1], [-1, 0, -1, 0]])\n",
    "A.eigenvals()"
   ]
  },
  {
   "cell_type": "code",
   "execution_count": null,
   "metadata": {},
   "outputs": [],
   "source": []
  }
 ],
 "metadata": {
  "kernelspec": {
   "display_name": "Python 3",
   "language": "python",
   "name": "python3"
  },
  "language_info": {
   "codemirror_mode": {
    "name": "ipython",
    "version": 3
   },
   "file_extension": ".py",
   "mimetype": "text/x-python",
   "name": "python",
   "nbconvert_exporter": "python",
   "pygments_lexer": "ipython3",
   "version": "3.7.2"
  }
 },
 "nbformat": 4,
 "nbformat_minor": 2
}
