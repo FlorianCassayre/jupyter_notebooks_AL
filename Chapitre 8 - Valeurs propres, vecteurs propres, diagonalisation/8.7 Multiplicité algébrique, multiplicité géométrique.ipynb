{
 "cells": [
  {
   "cell_type": "markdown",
   "metadata": {},
   "source": [
    "### Définition 1:\n",
    "Soient $\\phi: V \\rightarrow V$ une transformation linéaire d'un $\\mathbb{R}$ -espace vectoriel $V$ de dimension finie $n \\in \\mathbb{N}$ et $\\lambda \\in \\mathbb{R}$ une valeur propre de $\\phi$. Comme toute valeur propre de $\\phi$ est racine de $c_{\\phi}(t),$ on peut factoriser\n",
    "$$c_{\\phi}(t)=(t-\\lambda)^{m} p(t)$$\n",
    "où $p(\\lambda) \\neq 0$ (i.e. $t-\\lambda$ ne divise pas $p(t)$). L'entier $m$ est appelée la multiplicité algébrique de $\\lambda$. Aussi, la dimension du sous-espace $E_{\\lambda}$ de $V$ est appelée la multiplicité géométrique de $\\lambda$.\n",
    "\n",
    "### Proposition 2:\n",
    "\n",
    "Soient $\\phi: V \\rightarrow V$ une transformation linéaire d'un $\\mathbb{R}$-espace vectoriel $V$ de dimension finie $n \\in \\mathbb{N}$ et $\\lambda \\in \\mathbb{R}$ une valeur propre de $\\phi$. Alors la multiplicité géométrique de $\\lambda$ est plus grande ou égale à 1. Aussi, celle-ci est toujours plus petite ou égale à la multiplicité algébrique de $\\lambda$."
   ]
  },
  {
   "cell_type": "code",
   "execution_count": null,
   "metadata": {},
   "outputs": [],
   "source": [
    "from Ch8_lib import *\n",
    "import sys, os\n",
    "sys.path.append('../Librairie')\n",
    "import AL_Fct as al\n",
    "import numpy as np\n",
    "import sympy as sp\n",
    "from IPython.utils import io\n",
    "from IPython.display import display, Latex\n",
    "import plotly\n",
    "import plotly.graph_objects as go"
   ]
  },
  {
   "cell_type": "markdown",
   "metadata": {},
   "source": [
    "### Exercice 1: Calcul des multiplicités algébriques et géométriques."
   ]
  },
  {
   "cell_type": "code",
   "execution_count": null,
   "metadata": {},
   "outputs": [],
   "source": []
  }
 ],
 "metadata": {
  "kernelspec": {
   "display_name": "Python 3",
   "language": "python",
   "name": "python3"
  },
  "language_info": {
   "codemirror_mode": {
    "name": "ipython",
    "version": 3
   },
   "file_extension": ".py",
   "mimetype": "text/x-python",
   "name": "python",
   "nbconvert_exporter": "python",
   "pygments_lexer": "ipython3",
   "version": "3.7.2"
  }
 },
 "nbformat": 4,
 "nbformat_minor": 2
}
