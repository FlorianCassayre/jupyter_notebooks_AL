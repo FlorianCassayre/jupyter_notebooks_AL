{
 "cells": [
  {
   "cell_type": "code",
   "execution_count": 138,
   "metadata": {},
   "outputs": [],
   "source": [
    "import numpy as np\n",
    "import sympy as sp\n",
    "from IPython.display import display, Latex"
   ]
  },
  {
   "cell_type": "markdown",
   "metadata": {},
   "source": [
    "### Définition 1:\n",
    "Soient $A\\in M_{n \\times n}(\\mathbb{R})$ et $t$ une indéterminée. Le polyn&ocirc;me caractéristique de $A$, noté $c_A(t)$, est le polynme défini par $$c_A(t)=\\det (A-tI)$$\n",
    "\n",
    "### Proposition 2:\n",
    "Soient $A,P\\in M_{n\\times n}(\\mathbb{R})$ et supposons que soit inversible. Alors \n",
    "$$c_A(t)=c_{PAP^{-1}}(t).$$\n",
    "\n",
    "### Définition 3:\n",
    "Soit $T:V \\to V$ une transformation linéaire d'un $\\mathbb{R}$-espace vectoriel de dimension finie $V$. On définit le polynôme caractéristique de $T$ par $c_T(t)=c_A(t),$ où $A=[T]_{\\mathscr{B}}$ pour une base ordonnée quelconque $\\mathscr{B}$ de $V$.\n",
    "\n",
    "\n"
   ]
  },
  {
   "cell_type": "markdown",
   "metadata": {},
   "source": [
    "$\\lambda \\in \\mathbb{R}$ est une valeur propre de $A\\in M_{n \\times n}(\\mathbb{R})$ si et seulement si: $$ c_A(\\lambda) = \\det (A-\\lambda I) = 0$$"
   ]
  },
  {
   "cell_type": "code",
   "execution_count": 139,
   "metadata": {},
   "outputs": [],
   "source": [
    "def red_matrix(A, i, j):\n",
    "    \"\"\" Return reduced matrix (without row i and col j)\"\"\"\n",
    "    row = [0, 1, 2]\n",
    "    col = [0, 1, 2]\n",
    "    row.remove(i-1)\n",
    "    col.remove(j-1)\n",
    "    return A[row, col]\n",
    "\n",
    "\n",
    "def pl_mi(i,j, first=False):\n",
    "    \"\"\" Return '+', '-' depending on row and col index\"\"\"\n",
    "    if (-1)**(i+j)>0:\n",
    "        if first:\n",
    "            return \"\"\n",
    "        else:\n",
    "            return \"+\"\n",
    "    else:\n",
    "        return \"-\"\n",
    "    \n",
    "def brackets(expr):\n",
    "    \"\"\"Takes a sympy expression, determine if it needs parenthesis and returns a string containing latex of expr\n",
    "    with or without the parenthesis.\"\"\"\n",
    "    expr_latex = sp.latex(expr)\n",
    "    if '+' in expr_latex or '-' in expr_latex:\n",
    "        return \"(\" + expr_latex + \")\"\n",
    "    else:\n",
    "        return expr_latex\n",
    "\n",
    "    \n",
    "def Determinant_3x3(A, step_by_step=True ,row=True, n=1):\n",
    "    \"\"\"\n",
    "    Step by step computation of the determinant of a 3x3 sympy matrix strating with given row/col number\n",
    "    :param A: 3 by 3 sympy matrix \n",
    "    :param step_by_step: Boolean, True: print step by step derivation of det, False: print only determinant \n",
    "    :param row: True to compute determinant from row n, False to compute determinant from col n\n",
    "    :param n: row or col number to compute the determinant from (int between 1 and 3)\n",
    "    :return: display step by step solution for \n",
    "    \"\"\"\n",
    "    \n",
    "    if A.shape!=(3,3):\n",
    "        raise ValueError('Dimension of matrix A should be 3x3. The input A must be a sp.Matrix of shape (3,3).')\n",
    "    if n<1 or n>3 or not isinstance(n, int):\n",
    "        raise ValueError('n should be an integer between 1 and 3.')\n",
    "    \n",
    "    # Construc string for determinant of matrix A\n",
    "    detA_s = sp.latex(A).replace('[','|').replace(']','|')\n",
    "    \n",
    "    # To print all the steps\n",
    "    if step_by_step:\n",
    "\n",
    "        # If we compute the determinant with row n \n",
    "        if row:\n",
    "            # Matrix with row i and col j removed (red_matrix(A, i, j))\n",
    "            A1 = red_matrix(A, n, 1)\n",
    "            A2 = red_matrix(A, n, 2)\n",
    "            A3 = red_matrix(A, n, 3)\n",
    "            detA1_s = sp.latex(A1).replace('[','|').replace(']','|')\n",
    "\n",
    "            detA2_s = sp.latex(A2).replace('[','|').replace(']','|')\n",
    "            detA3_s = sp.latex(A3).replace('[','|').replace(']','|')\n",
    "\n",
    "            line1 = \"$\" + detA_s + ' = ' + pl_mi(n,1, True) + sp.latex(A[n-1, 0])  + detA1_s + pl_mi(n,2) + \\\n",
    "                    sp.latex(A[n-1, 1]) + detA2_s + pl_mi(n,3) + sp.latex(A[n-1, 2]) + detA3_s + '$'\n",
    "\n",
    "            line2 = '$' + detA_s + ' = ' + pl_mi(n,1, True) + sp.latex(A[n-1, 0]) + \"\\cdot (\" + sp.latex(sp.det(A1)) \\\n",
    "                    +\")\" + pl_mi(n,2) + sp.latex(A[n-1, 1]) + \"\\cdot (\" +  sp.latex(sp.det(A2)) + \")\"+ \\\n",
    "                    pl_mi(n,3) + sp.latex(A[n-1, 2]) + \"\\cdot (\" + sp.latex(sp.det(A3)) + ')$'\n",
    "            line3 = '$' + detA_s + ' = ' + sp.latex(sp.simplify(sp.det(A))) + '$'\n",
    "\n",
    "        # If we compute the determinant with col n \n",
    "        else:\n",
    "            # Matrix with row i and col j removed (red_matrix(A, i, j))\n",
    "            A1 = red_matrix(A, 1, n)\n",
    "            A2 = red_matrix(A, 2, n)\n",
    "            A3 = red_matrix(A, 3, n)\n",
    "            detA1_s = sp.latex(A1).replace('[','|').replace(']','|')\n",
    "            detA2_s = sp.latex(A2).replace('[','|').replace(']','|')\n",
    "            detA3_s = sp.latex(A3).replace('[','|').replace(']','|')\n",
    "\n",
    "            line1 = \"$\" + detA_s + ' = ' + pl_mi(n,1, True) + brackets(A[0, n-1])  + detA1_s + pl_mi(n,2) + \\\n",
    "                    brackets(A[1, n-1]) + detA2_s + pl_mi(n,3) + brackets(A[2, n-1]) + detA3_s + '$'\n",
    "\n",
    "            line2 = '$' + detA_s + ' = ' + pl_mi(n,1, True) + brackets(A[0, n-1]) + \"\\cdot (\" + sp.latex(sp.det(A1))\\\n",
    "                    +\")\" + pl_mi(n,2) + brackets(A[1, n-1]) + \"\\cdot (\" +  sp.latex(sp.det(A2)) + \")\"+ \\\n",
    "                    pl_mi(n,3) + brackets(A[2, n-1]) + \"\\cdot (\" + sp.latex(sp.det(A3)) + ')$'\n",
    "\n",
    "            line3 = '$' + detA_s + ' = ' + sp.latex(sp.simplify(sp.det(A))) + '$'\n",
    "\n",
    "        # Display step by step computation of determinant\n",
    "        display(Latex(line1))\n",
    "        display(Latex(line2))\n",
    "        display(Latex(line3))\n",
    "    # Only print the determinant without any step\n",
    "    else:\n",
    "        display(Latex(\"$\" + detA_s + \"=\" + sp.latex(sp.det(A)) + \"$\"))\n",
    "\n"
   ]
  },
  {
   "cell_type": "code",
   "execution_count": 140,
   "metadata": {},
   "outputs": [],
   "source": [
    "def valeurs_propres(A):\n",
    "    if A.shape[0]!=A.shape[1]:\n",
    "        raise ValueError(\"A should be a square matrix\")\n",
    "        \n",
    "    l = sp.symbols('\\lambda')\n",
    "    n = A.shape[0]\n",
    "    poly = sp.det(A-l*sp.eye(n))\n",
    "    poly_exp = sp.expand(poly)\n",
    "    poly_factor = sp.factor(poly)\n",
    "\n",
    "    det_str = sp.latex(poly_exp) + \"=\" + sp.latex(poly_factor)\n",
    "    \n",
    "    display(Latex(\"On cherche les valeurs propres de la matrice $ A=\" + sp.latex(A) + \"$.\"))\n",
    "    display(Latex(\"Le polynome caractéristique de $A$ est: $$\\det(A- \\lambda I)= \" + det_str + \"$$\"))\n",
    "        \n",
    "    eq = sp.Eq(poly, 0)\n",
    "    sol = sp.solve(eq, l)\n",
    "    if len(sol)>1:\n",
    "        display(Latex(\"Les racines du polynôme caractéristique sont $\" + sp.latex(sol) + \"$.\"))\n",
    "        display(Latex(\"Ces racines sont les valeurs propres de la matrice $A$.\"))\n",
    "    else: \n",
    "        display(Latex(\"L'unique racine du polynôme caractéristique est\" + str(sol[0])))\n",
    "    "
   ]
  },
  {
   "cell_type": "markdown",
   "metadata": {},
   "source": [
    "### Exemple 1\n",
    "Méthode pour calculer les valeurs propres d'une matrice $3 \\times 3$.\n"
   ]
  },
  {
   "cell_type": "code",
   "execution_count": 141,
   "metadata": {},
   "outputs": [
    {
     "data": {
      "text/latex": [
       "$\\left|\\begin{matrix}1 - \\lambda & 1 & 1\\\\1 & 1 - \\lambda & 1\\\\1 & 1 & 1 - \\lambda\\end{matrix}\\right| = (1 - \\lambda)\\left|\\begin{matrix}1 - \\lambda & 1\\\\1 & 1 - \\lambda\\end{matrix}\\right|-1\\left|\\begin{matrix}1 & 1\\\\1 & 1 - \\lambda\\end{matrix}\\right|+1\\left|\\begin{matrix}1 & 1\\\\1 - \\lambda & 1\\end{matrix}\\right|$"
      ],
      "text/plain": [
       "<IPython.core.display.Latex object>"
      ]
     },
     "metadata": {},
     "output_type": "display_data"
    },
    {
     "data": {
      "text/latex": [
       "$\\left|\\begin{matrix}1 - \\lambda & 1 & 1\\\\1 & 1 - \\lambda & 1\\\\1 & 1 & 1 - \\lambda\\end{matrix}\\right| = (1 - \\lambda)\\cdot (\\left(1 - \\lambda\\right)^{2} - 1)-1\\cdot (- \\lambda)+1\\cdot (\\lambda)$"
      ],
      "text/plain": [
       "<IPython.core.display.Latex object>"
      ]
     },
     "metadata": {},
     "output_type": "display_data"
    },
    {
     "data": {
      "text/latex": [
       "$\\left|\\begin{matrix}1 - \\lambda & 1 & 1\\\\1 & 1 - \\lambda & 1\\\\1 & 1 & 1 - \\lambda\\end{matrix}\\right| = \\lambda^{2} \\left(3 - \\lambda\\right)$"
      ],
      "text/plain": [
       "<IPython.core.display.Latex object>"
      ]
     },
     "metadata": {},
     "output_type": "display_data"
    }
   ],
   "source": [
    "# Définition de la matrice (Par défaut, les coefficients sont fixés à 1)\n",
    "A = sp.Matrix([[1,1,1],[1,1,1],[1,1,1]])\n",
    "\n",
    "l = sp.symbols('\\lambda')\n",
    "I = sp.eye(3)\n",
    "\n",
    "# Calcul étape par étape du polynome caractéristique (degré 3 ici).\n",
    "Determinant_3x3(A-l*I, True, False, 1)"
   ]
  },
  {
   "cell_type": "markdown",
   "metadata": {},
   "source": [
    "On a donc le polynome caractéristique de la matrice A, les valeurs propres sont les racines de ce polynôme.\n",
    "On résout $$\\det (A- \\lambda I) = 0$$"
   ]
  },
  {
   "cell_type": "code",
   "execution_count": 142,
   "metadata": {},
   "outputs": [
    {
     "data": {
      "text/latex": [
       "Les racines du polynôme caractéristiques (les valeurs propres de A) sont: $\\left[ 0, \\  3\\right]$."
      ],
      "text/plain": [
       "<IPython.core.display.Latex object>"
      ]
     },
     "metadata": {},
     "output_type": "display_data"
    }
   ],
   "source": [
    "# Résolution de l'équation avec sympy\n",
    "eq = sp.Eq(sp.det(A-l*I),0)\n",
    "sol = sp.solve(eq, l)\n",
    "\n",
    "display(Latex(\"Les racines du polynôme caractéristiques (les valeurs propres de A) sont: $\" + sp.latex(sol) + \"$.\"))"
   ]
  },
  {
   "cell_type": "markdown",
   "metadata": {},
   "source": [
    "### Exercice 1\n",
    "Trouver les valeurs propres des matrices données ci-dessous en trouvant les racines du polynôme caractéristique.\n",
    "\n",
    "*Pour trouver les racines des polynômes caractéristiques de degré 3 ou 4, factorisez à l'aide de racines évidentes $\\in [-2, -1, 0, 1, 2]$*"
   ]
  },
  {
   "cell_type": "code",
   "execution_count": 92,
   "metadata": {},
   "outputs": [
    {
     "data": {
      "text/latex": [
       "$\\left[\\begin{matrix}-2 & 4\\\\5 & -1\\end{matrix}\\right]$"
      ],
      "text/plain": [
       "<IPython.core.display.Latex object>"
      ]
     },
     "metadata": {},
     "output_type": "display_data"
    }
   ],
   "source": [
    "# Trouver les valeurs propres des matrices suivantes\n",
    "A_1 = sp.Matrix([[-2, 4], [5, -1]])\n",
    "A_2 = sp.Matrix([[1, 2], [3, 1]])\n",
    "A_3 = sp.Matrix([[1, 0, 4], [1, 3, 1], [2, 4, -1]])\n",
    "A_4 = sp.Matrix([[4, 0, 1], [-2, 1, 0], [-2, 0, 1]])\n",
    "A_5 = sp.Matrix([[1, 2, 0, 0], [2, 1, 0, 0], [-4, 2, 2, -1], [-8, 5, 0, 1]])\n",
    "A_6 = sp.Matrix([[4, 0, 0, 0], [7, -11, 0, 0], [-0.5, 2.3, sp.sqrt(2), 0], [-8, 5, 2, 11]])\n",
    "\n",
    "# Matrice à afficher\n",
    "A = A_1\n",
    "display(Latex(\"$\" + sp.latex(A) + \"$\"))"
   ]
  },
  {
   "cell_type": "code",
   "execution_count": 143,
   "metadata": {},
   "outputs": [
    {
     "data": {
      "text/latex": [
       "On cherche les valeurs propres de la matrice $ A=\\left[\\begin{matrix}-2 & 4\\\\5 & -1\\end{matrix}\\right]$."
      ],
      "text/plain": [
       "<IPython.core.display.Latex object>"
      ]
     },
     "metadata": {},
     "output_type": "display_data"
    },
    {
     "data": {
      "text/latex": [
       "Le polynome caractéristique de $A$ est: $$\\det(A- \\lambda I)= \\lambda^{2} + 3 \\lambda - 18=\\left(\\lambda - 3\\right) \\left(\\lambda + 6\\right)$$"
      ],
      "text/plain": [
       "<IPython.core.display.Latex object>"
      ]
     },
     "metadata": {},
     "output_type": "display_data"
    },
    {
     "data": {
      "text/latex": [
       "Les racines du polynôme caractéristique sont $\\left[ -6, \\  3\\right]$."
      ],
      "text/plain": [
       "<IPython.core.display.Latex object>"
      ]
     },
     "metadata": {},
     "output_type": "display_data"
    },
    {
     "data": {
      "text/latex": [
       "Ces racines sont les valeurs propres de la matrice $A$."
      ],
      "text/plain": [
       "<IPython.core.display.Latex object>"
      ]
     },
     "metadata": {},
     "output_type": "display_data"
    }
   ],
   "source": [
    "# Affiche la solution pour la matrice spécifiée comme argument de la fontion valeurs_propres\n",
    "valeurs_propres(A_1)"
   ]
  }
 ],
 "metadata": {
  "kernelspec": {
   "display_name": "Python 3",
   "language": "python",
   "name": "python3"
  },
  "language_info": {
   "codemirror_mode": {
    "name": "ipython",
    "version": 3
   },
   "file_extension": ".py",
   "mimetype": "text/x-python",
   "name": "python",
   "nbconvert_exporter": "python",
   "pygments_lexer": "ipython3",
   "version": "3.7.2"
  }
 },
 "nbformat": 4,
 "nbformat_minor": 2
}
