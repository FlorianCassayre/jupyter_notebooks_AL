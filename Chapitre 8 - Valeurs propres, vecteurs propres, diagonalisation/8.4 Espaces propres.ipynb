{
 "cells": [
  {
   "cell_type": "markdown",
   "metadata": {},
   "source": [
    "### Définition 1\n",
    "Soient $\\phi:V\t\\to V$ une transformation linéaire d'un espace vectoriel $V$ et $\\lambda \\in \\mathbb{R}$ une valeur propre de $\\phi.$ Alors l'espace propre de $\\phi$ associé à $\\lambda$ est le sous-ensemble de $V$ défini par $E_{\\lambda}=\\{v\\in V: \\phi(v)=\\lambda v\\}$.\n",
    "\n",
    "De mani&egrave;re similaire, si $\\lambda\\in \\mathbb{R}$ est une valeur propre de la matrice $A\\in M_{n \\times n}(\\mathbb{R}),$ alors l'espace propre de $A$ associé à $\\lambda$ est le sous-ensemble de $M_{n \\times 1}(\\mathbb{R})$ défini par $E_{\\lambda}=\\{X\\in M_{n \\times 1}(\\mathbb{R}) : AX=\\lambda X\\}$.\n",
    "\n",
    "### Proposition 2\n",
    "Le sous-ensemble $E_\\lambda$ est un sous-espace vectoriel."
   ]
  },
  {
   "cell_type": "code",
   "execution_count": null,
   "metadata": {},
   "outputs": [],
   "source": [
    "import numpy as np\n",
    "import plotly\n",
    "import plotly.graph_objects as go\n",
    "import sympy as sp\n",
    "import sys, os \n",
    "sys.path.append('../Librairie')\n",
    "import AL_Fct as al\n",
    "from IPython.utils import io\n",
    "from IPython.display import display, Latex\n",
    "from Ch8_lib import *"
   ]
  },
  {
   "cell_type": "code",
   "execution_count": null,
   "metadata": {},
   "outputs": [],
   "source": [
    "#A_sp = sp.Matrix([[0, -4, -1], [0, -8, 8], [0, -4, -4]])\n",
    "#display(A_sp.rref())\n",
    "#A_np = np.array([[0, -4, -1], [0, -8, 8], [0, -4, -4]])\n",
    "#b = np.zeros(3)\n",
    "#display(al.echelonMat('ER', A))\n",
    "#A = np.array([[4, -1, 6],[2, 1, 6], [2, -1, 8]])\n",
    "\n",
    "#A = np.random.randint(-5,5, (3,3))\n",
    "#A = np.eye(3)\n",
    "A = sp.Matrix([[3, -4, -1], [0, -5, 8], [0, -1, -4]])\n",
    "A_sp = sp.Matrix(A)\n",
    "\n",
    "eig = A_sp.eigenvects()\n",
    "eig_list = np.array(eig[0][2]).astype(np.float64)\n",
    "\n",
    "for sp_mat in eig_list:\n",
    "    sp_mat = np.array(sp_mat)\n",
    "    \n",
    "basis, basic_idx, free_idx = eigen_basis_sp(A_sp, float(eig[0][0]), eig_list, disp=True)\n",
    "\n"
   ]
  },
  {
   "cell_type": "code",
   "execution_count": null,
   "metadata": {},
   "outputs": [],
   "source": [
    "A = np.array([[1, 1, 1],[1, 1, 1], [1, 1, 2]])\n",
    "\n",
    "A_sp = sp.Matrix(A)\n",
    "\n",
    "plot3x3_eigspace(A_sp, plot_vector=False)\n"
   ]
  },
  {
   "cell_type": "code",
   "execution_count": null,
   "metadata": {},
   "outputs": [],
   "source": [
    "A = sp.Matrix([[4, -1, 6],[2, 1, 6], [2, -1, 8]])\n",
    "\n"
   ]
  },
  {
   "cell_type": "code",
   "execution_count": null,
   "metadata": {
    "scrolled": true
   },
   "outputs": [],
   "source": [
    "A = sp.Matrix([[1, 1], [-1, 3]])\n",
    "\n",
    "plot2x2_eigspace(A)"
   ]
  },
  {
   "cell_type": "code",
   "execution_count": null,
   "metadata": {},
   "outputs": [],
   "source": []
  }
 ],
 "metadata": {
  "kernelspec": {
   "display_name": "Python 3",
   "language": "python",
   "name": "python3"
  },
  "language_info": {
   "codemirror_mode": {
    "name": "ipython",
    "version": 3
   },
   "file_extension": ".py",
   "mimetype": "text/x-python",
   "name": "python",
   "nbconvert_exporter": "python",
   "pygments_lexer": "ipython3",
   "version": "3.7.2"
  }
 },
 "nbformat": 4,
 "nbformat_minor": 2
}
