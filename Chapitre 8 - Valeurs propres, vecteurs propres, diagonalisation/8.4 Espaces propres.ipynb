{
 "cells": [
  {
   "cell_type": "markdown",
   "metadata": {},
   "source": [
    "### Définition 1\n",
    "Soient $\\phi:V\t\\to V$ une transformation linéaire d'un espace vectoriel $V$ et $\\lambda \\in \\mathbb{R}$ une valeur propre de $\\phi.$ Alors l'espace propre de $\\phi$ associé à $\\lambda$ est le sous-ensemble de $V$ défini par $E_{\\lambda}=\\{v\\in V: \\phi(v)=\\lambda v\\}$.\n",
    "\n",
    "De mani&egrave;re similaire, si $\\lambda\\in \\mathbb{R}$ est une valeur propre de la matrice $A\\in M_{n \\times n}(\\mathbb{R}),$ alors l'espace propre de $A$ associé à $\\lambda$ est le sous-ensemble de $M_{n \\times 1}(\\mathbb{R})$ défini par $E_{\\lambda}=\\{X\\in M_{n \\times 1}(\\mathbb{R}) : AX=\\lambda X\\}$.\n",
    "\n",
    "### Proposition 2\n",
    "Le sous-ensemble $E_\\lambda$ est un sous-espace vectoriel."
   ]
  },
  {
   "cell_type": "code",
   "execution_count": null,
   "metadata": {},
   "outputs": [],
   "source": [
    "import numpy as np\n",
    "import plotly\n",
    "import plotly.graph_objects as go\n",
    "import sympy as sp\n",
    "import sys, os \n",
    "sys.path.append('../Librairie')\n",
    "import AL_Fct as al\n",
    "from IPython.utils import io\n",
    "from IPython.display import display, Latex\n",
    "from Ch8_lib import *"
   ]
  },
  {
   "cell_type": "markdown",
   "metadata": {},
   "source": [
    "### Exercice 1\n",
    "**Trouvez les valeurs propres des matrices suivantes puis pour chacune des valeurs propres, trouvez une base de l'espace propre correspondant.**\n",
    "\n",
    "\n",
    "La fonction `eigen_basis` détaille étape par étape comment obtenir une base de l'espace propre associé à une valeur propre donnée d'une matrice. Elle vérifie également que la base de l'espace propre rentrée est correcte.\n",
    "Cette fonction prend 3 arguments: \n",
    "* La matrice (définie comme `A = sp.Matrix([[1, 0], [0, 2]])` par exemple)\n",
    "* La valeur propre pour laquelle on souhaite calculer l'espace propre (définie comme `l = 2` par exemple)\n",
    "* Une base de l'espace propre à vérifier. La base doit être exprimée comme une liste de vecteurs de base:  \n",
    "    * Exemples:\n",
    "    * `base = [[v11, v12, v13], [v21, v22, v23]]` si la base contient deux vecteurs de dimension 3\n",
    "    * `base = [[v11, v12]]` si la base n'a qu'un seul vecteur de dimension 2\n",
    "\n",
    "Pour appeler la fonction, on execute simplement:\n",
    "`eigen_basis(A, l, base)`\n",
    "\n",
    "Si vous ne trouvez pas de base pour l'espace propre, vous pouvez simplement afficher la solution en exécutant `eigen_basis(A, l)`. \n"
   ]
  },
  {
   "cell_type": "code",
   "execution_count": null,
   "metadata": {},
   "outputs": [],
   "source": [
    "A1 = sp.Matrix([[-1, 3], [-1, 3]])\n",
    "A2 = sp.Matrix([[4, 4], [3, 0]])\n",
    "\n",
    "# Simplement pour lambda = 3 (les autres valeurs propores sont complexes)\n",
    "A3 = sp.Matrix([[3, -4, -1], [0, -5, 8], [0, -1, -4]])\n",
    "\n",
    "# Trouver les valeurs propres en utilisant les racines évidentes du polynôme caractéristique\n",
    "A4 = sp.Matrix([[4, -1, 6],[2, 1, 6], [2, -1, 8]])"
   ]
  },
  {
   "cell_type": "code",
   "execution_count": null,
   "metadata": {},
   "outputs": [],
   "source": [
    "# Matrice (A1, A2, A3 ou A4)\n",
    "A = A1\n",
    "display(A)\n",
    "\n",
    "# Rentrer une valeur propre que vous avez calculé\n",
    "l = 0\n",
    "\n",
    "# Base que vous avez calculé associé à la valeur propre ci-dessus\n",
    "base = [[1, 1], [1, 2]]"
   ]
  },
  {
   "cell_type": "code",
   "execution_count": null,
   "metadata": {},
   "outputs": [],
   "source": [
    "# Solution étape par étape et vérification de la base calculée\n",
    "eigen_basis(A1, l, base)"
   ]
  },
  {
   "cell_type": "markdown",
   "metadata": {},
   "source": [
    "### Visualisation des espaces propres\n",
    "Les espaces propres des matrices $2\\times2$ et $3\\times3$ peuvent être représenté graphiquement.\n",
    "\n",
    "La fonction `plot_eigspace` permet de visualiser les espaces propres associer à chaque valeurs propres d'une matrice $2\\times2$ ou $3\\times3$. Pour utiliser cette function, il suffit de donner comme argument une matrice. Les valeurs propres et leur espace propre associé sont calculés par la fonction et ensuite affichés.\n",
    "\n",
    "Utilisez les matrices de l'**Exercice 1** afin de visualiser les espaces propres dont vous avez calculé les bases."
   ]
  },
  {
   "cell_type": "code",
   "execution_count": null,
   "metadata": {},
   "outputs": [],
   "source": [
    "A_sp = sp.Matrix([[1,0,0], [0,2,0], [0, 0, 2]])\n",
    "plot_eigspace(A_sp)\n"
   ]
  },
  {
   "cell_type": "markdown",
   "metadata": {},
   "source": [
    "### Observations (MOOC 8.5)\n",
    "* On voit que l'origine est toujours compris dans n'importe quel espace propre. Un espace propre étant un espace sous-vectoriel, il contient forcément le vecteur nul (l'origine).\n",
    "\n",
    "* Deux espaces propres associé à deux valeurs propres distinctes de la même matrice n'ont en commun que le vecteur nul (l'origine).\n",
    "\n",
    "* Deux vecteurs propres associés à des valeurs propres distinctes sont linéairement indépendants."
   ]
  },
  {
   "cell_type": "code",
   "execution_count": null,
   "metadata": {},
   "outputs": [],
   "source": []
  }
 ],
 "metadata": {
  "kernelspec": {
   "display_name": "Python 3",
   "language": "python",
   "name": "python3"
  },
  "language_info": {
   "codemirror_mode": {
    "name": "ipython",
    "version": 3
   },
   "file_extension": ".py",
   "mimetype": "text/x-python",
   "name": "python",
   "nbconvert_exporter": "python",
   "pygments_lexer": "ipython3",
   "version": "3.7.2"
  }
 },
 "nbformat": 4,
 "nbformat_minor": 2
}
