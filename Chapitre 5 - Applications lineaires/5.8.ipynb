{
 "cells": [
  {
   "cell_type": "code",
   "execution_count": null,
   "metadata": {
    "jupyter": {
     "source_hidden": true
    }
   },
   "outputs": [],
   "source": [
    "from Fonctions.chapitre5 import *\n",
    "\n",
    "import sys\n",
    "sys.path.insert(0, './../')\n",
    "import Librairie.AL_Fct as al\n",
    "\n",
    "import numpy as np\n",
    "from IPython.display import display, Markdown, Latex\n",
    "import plotly.graph_objs as go\n",
    "import plotly\n",
    "import ipywidgets as widgets\n",
    "from ipywidgets import interact, interactive, fixed, interact_manual, Layout, HBox, VBox, Label\n",
    "import matplotlib\n",
    "import plotly.express as px\n",
    "import sympy as sp\n"
   ]
  },
  {
   "cell_type": "markdown",
   "metadata": {},
   "source": [
    "# Concept(s)-cl&eacute;(s)\n",
    "\n",
    "### COROLLAIRE DU TH&Eacute;OR&Egrave;ME DU RANG :\n",
    "\n",
    "Soient $V,W$ deux $\\\\\\mathbb{R}$-espaces vectoriels de dimension finie et $T:V\\to W$ une application lin&eacute;aire. Alors les affirmations suivantes sont v&eacute;rifi&eacute;es.\n",
    "\n",
    "1. Si $T$ est bijective, alors $\\mbox{dim} V= \\mbox{dim} W$.\n",
    "2. Si $\\mbox{dim} V=\\mbox{dim} W$ et $T$ est injective, alors $T$ est bijective.\n",
    "3. Si $\\mbox{dim} V=\\mbox{dim} W$ et $T$ est surjective, alors $T$ est bijective."
   ]
  },
  {
   "cell_type": "markdown",
   "metadata": {},
   "source": [
    "# Exercice 1 \n",
    "Soit $T:V\\to W$ une application linéaire bijective, que peut-on dire de $V$ et $W$ ?\n"
   ]
  },
  {
   "cell_type": "code",
   "execution_count": null,
   "metadata": {
    "jupyter": {
     "source_hidden": true
    }
   },
   "outputs": [],
   "source": [
    "def Ex1Chapitre5_1():\n",
    "    radio = widgets.RadioButtons(\n",
    "        options=['dim𝑉<dim𝑊', 'dim𝑉=dim𝑊', 'dim𝑉>dim𝑊'],\n",
    "        description='Réponse:',\n",
    "        disabled=False\n",
    "    )\n",
    "    \n",
    "    button = widgets.Button(description='Vérifier')\n",
    "    out = widgets.Output()\n",
    "\n",
    "    def callback(e):\n",
    "        out.clear_output()\n",
    "        with out:\n",
    "            if(radio.value == 'dim𝑉=dim𝑊'):\n",
    "                print('Correct !')\n",
    "            else: \n",
    "                print('Faux, veuillez revoir le corollaire du théorème du rang')\n",
    "    \n",
    "\n",
    "                      \n",
    "    button.on_click(callback)   \n",
    "    display(radio)\n",
    "    display(button)\n",
    "    display(out)\n",
    "    \n",
    "    \n",
    "Ex1Chapitre5_1()"
   ]
  },
  {
   "cell_type": "markdown",
   "metadata": {},
   "source": [
    "# Exercice 2\n",
    "Soit $T: M_{4\\times 4}(\\mathbb{R}) \\to \\mathbb{P}_{3}(\\mathbb{R})$,\n",
    "\n",
    "$T\\Big(\\begin{pmatrix} a & b \\\\ c & d \\end{pmatrix}\\Big) = a+b+c + ax + bx^2 + cx^3 $\n",
    "\n",
    "Trouvez le noyeau de T puis déterminez si T est bijective."
   ]
  },
  {
   "cell_type": "code",
   "execution_count": null,
   "metadata": {
    "jupyter": {
     "source_hidden": true
    }
   },
   "outputs": [],
   "source": [
    "def Ex1Chapitre5_2():\n",
    "    radio = widgets.RadioButtons(\n",
    "        options=['T est injective mais pas surjective', 'T est surjective mais pas injective', 'T est bijective'],\n",
    "        layout={'width': 'max-content'}, # If the items' names are long\n",
    "        description='Réponse:',\n",
    "        disabled=False\n",
    "    )\n",
    "    \n",
    "\n",
    "    button = widgets.Button(description='Vérifier')\n",
    "    button2 = widgets.Button(description='Solution', disabled=True)\n",
    "    box = HBox(children=[button,button2])\n",
    "    out = widgets.Output()\n",
    "\n",
    "    def callback(e):\n",
    "        out.clear_output()\n",
    "        button2.disabled = False\n",
    "        with out:\n",
    "            if(radio.value == 'T est bijective'):\n",
    "                print('Correct !')\n",
    "            else: \n",
    "                print('Faux, essayez encore ou regardez la solution')\n",
    "    \n",
    "    def solution(e):\n",
    "        out.clear_output()\n",
    "        with out:\n",
    "            display(Markdown(\"Le noyau de $T$ est définit par : $$ ker(T) = \\\\Bigg\\{ \\\\begin{pmatrix}a & b \\\\\\ c& d \\\\end{pmatrix} \\\\Bigg|\\\\ a+b+c + (a+d)x + (b+d)x^2 + cx^3 \\ = 0 \\\\Bigg\\}$$\"))\n",
    "            display(Markdown(\"Il correspond au système suivant: $\\\\begin{equation}\\left\\{\\\\begin{aligned} a+b+c = 0 \\\\\\ a+d = 0 \\\\\\ b+d = 0 \\\\\\ c = 0 \\end{aligned}\\\\right.\\end{equation}$ dont la solution est $a=b=c=d=0$\")) \n",
    "            display(Markdown(\"Ainsi, $ ker(T) = 0$ donc T est injective.\"))\n",
    "            display(Markdown(\"T est injective et $dim(M_{4\\\\times 4}(\\mathbb{R})) = dim( \\mathbb{P}_{3}(\\mathbb{R}))$, d'après le corollaire du théorème du rang, T est également bijective\"))\n",
    "            \n",
    "                      \n",
    "    button.on_click(callback)\n",
    "    button2.on_click(solution)\n",
    "    \n",
    "    display(radio)\n",
    "    display(box)\n",
    "    display(out)\n",
    "    \n",
    "    \n",
    "Ex1Chapitre5_2()"
   ]
  }
 ],
 "metadata": {
  "kernelspec": {
   "display_name": "Python 3",
   "language": "python",
   "name": "python3"
  },
  "language_info": {
   "codemirror_mode": {
    "name": "ipython",
    "version": 3
   },
   "file_extension": ".py",
   "mimetype": "text/x-python",
   "name": "python",
   "nbconvert_exporter": "python",
   "pygments_lexer": "ipython3",
   "version": "3.7.4"
  }
 },
 "nbformat": 4,
 "nbformat_minor": 4
}
