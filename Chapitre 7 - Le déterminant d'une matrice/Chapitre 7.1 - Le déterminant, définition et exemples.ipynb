{
 "cells": [
  {
   "cell_type": "code",
   "execution_count": null,
   "metadata": {},
   "outputs": [],
   "source": [
    "import numpy as np\n",
    "import sympy as sp\n",
    "import sys, os \n",
    "from Ch7Functions import *\n",
    "from IPython.display import display, Latex\n",
    "from sympy import S"
   ]
  },
  {
   "cell_type": "markdown",
   "metadata": {},
   "source": [
    "### Définition du déterminant\n",
    "Soit $A=(a_{ij})\\in M_{n \\times n}(\\mathbb{R})$ une matrice de taille $n \\times n$ à coefficients réels. Pour $1\\leq i,j\\leq n,$ on définit $\\hat{A}_{ij}$ comme étant la matrice de taille $(n-1) \\times (n-1)$ obtenue en supprimant dans $A$ la $i$-ème ligne et la $j$-ème colonne. Le déterminant de $A$ est le nombre réel défini récursivement par  \n",
    "$$\\det A = a_{11} \\det \\hat{A}_{11} - a_{12}\\det \\hat{A}_{12} + \\cdots + (-1)^{n+1} a_{1n}\\det \\hat{A}_{1n} $$\n",
    "où $\\det (a)=a$ pour tout $(a)\\in M_{1 \\times 1}(\\mathbb{R}).$"
   ]
  },
  {
   "cell_type": "markdown",
   "metadata": {},
   "source": [
    "### Exemple 1: Application de la définition à une matrice 2x2\n",
    "\n",
    "Soit $A= \\begin{pmatrix}a & b\\\\ c & d \\end{pmatrix}$\n",
    "\n",
    "On utilise la définition ci-dessus pour trouver le determinant:\n",
    "\n",
    "$$ \\det A = a_{11} \\det \\hat{A}_{11} - a_{12}\\det \\hat{A}_{12} =a  \\cdot \\det \\left[\\begin{matrix} d \\end{matrix}\\right] - b \\cdot \\det \\left[\\begin{matrix} c \\end{matrix}\\right] = ad - bc$$ \n"
   ]
  },
  {
   "cell_type": "markdown",
   "metadata": {},
   "source": [
    "### Exercice 1:  Calcul de déterminant en utilisant la définition\n",
    "\n",
    "$$ A = \\begin{pmatrix} 1 & x & 3/4\\\\0.5 & 2.0 & 4\\\\1 & x & 43\\end{pmatrix} $$"
   ]
  },
  {
   "cell_type": "code",
   "execution_count": null,
   "metadata": {},
   "outputs": [],
   "source": [
    "x = sp.symbols('x', positive=True)\n",
    "A = sp.Matrix([[1,x,S('3/4')], [0.5,20/10,4], [1,x**2/x,43]])\n",
    "\n",
    "ch7ex1(A)"
   ]
  },
  {
   "cell_type": "markdown",
   "metadata": {},
   "source": [
    "### Règle de Sarrus\n",
    "Soit $A=(a_{ij})\\in M_{3\\times 3}(\\mathbb{R})$. Alors\n",
    "\n",
    "$$\\det A=a_{11}a_{22}a_{33}+a_{12}a_{23}a_{31}+a_{13}a_{21}a_{32}-a_{13}a_{22}a_{31}-a_{11}a_{23}a_{32}-a_{12}a_{21}a_{33}$$\n",
    "\n",
    "Également\n",
    "$$\\det A=a_{11}a_{22}a_{33}+a_{12}a_{23}a_{31}+a_{13}a_{21}a_{32}- (a_{13}a_{22}a_{31} + a_{11}a_{23}a_{32} + a_{12}a_{21}a_{33})$$\n",
    "\n",
    "NB: cette règle ne peut pas être généraliser aux matrices de tailles 4x4 ou plus grands.  "
   ]
  },
  {
   "cell_type": "markdown",
   "metadata": {},
   "source": [
    "### Exercice 2: Calculs de déterminants en utilisant la règle de Sarrus\n",
    "Avec l'aide de la règle de Sarrus, calculez les determinants des matrices suivantes:\n",
    "\n",
    "$$ \\mbox{a)} \\hspace{3mm} \\begin{pmatrix}1 & x & 3/4\\\\0.5 & 2.0 & 4\\\\1 & x & 43\\end{pmatrix} \\hspace{20mm} \\mbox{b)} \\hspace{3mm} \\begin{pmatrix}1 & -2 & x\\\\-1/2 & 8.0 & -4\\\\x & -23 & 6\\end{pmatrix} \\hspace{20mm} \\mbox{c)} \\hspace{3mm} \\begin{pmatrix}-x & 2.1 & x\\\\3 & -2.7 & -11.2\\\\x & -4.5 & -3.6\\end{pmatrix}$$\n",
    "\n",
    "\n",
    "Faites les exemples à la main et vérifiez avec les boutons de solution ci-dessous"
   ]
  },
  {
   "cell_type": "code",
   "execution_count": null,
   "metadata": {},
   "outputs": [],
   "source": [
    "A = sp.Matrix([[1,x,S('3/4')], [S('1/2'),2.0,4], [1,x,43]])\n",
    "\n",
    "\n",
    "\n",
    "ch7ex2(A)"
   ]
  },
  {
   "cell_type": "code",
   "execution_count": null,
   "metadata": {},
   "outputs": [],
   "source": [
    "B = sp.Matrix([[1,-2,x], [S('-1/2'),8.0,-4], [x,-23,6]])\n",
    "\n",
    "ch7ex2(B)"
   ]
  },
  {
   "cell_type": "code",
   "execution_count": null,
   "metadata": {},
   "outputs": [],
   "source": [
    "C = sp.Matrix([[-x,2.1,x], [3,-2.7,-11.2], [x,-4.5,-3.6]])\n",
    "\n",
    "ch7ex2(C)"
   ]
  },
  {
   "cell_type": "code",
   "execution_count": null,
   "metadata": {},
   "outputs": [],
   "source": []
  },
  {
   "cell_type": "code",
   "execution_count": 4,
   "metadata": {},
   "outputs": [
    {
     "ename": "SyntaxError",
     "evalue": "invalid syntax (<ipython-input-4-fbcf6f9289bc>, line 1)",
     "output_type": "error",
     "traceback": [
      "\u001b[1;36m  File \u001b[1;32m\"<ipython-input-4-fbcf6f9289bc>\"\u001b[1;36m, line \u001b[1;32m1\u001b[0m\n\u001b[1;33m    [Passez au notebook du chapitre 2.2: Multiplication de matrices](./2.2%20Multiplication%20de%20matrices.ipynb)\u001b[0m\n\u001b[1;37m             ^\u001b[0m\n\u001b[1;31mSyntaxError\u001b[0m\u001b[1;31m:\u001b[0m invalid syntax\n"
     ]
    }
   ],
   "source": [
    "[Passez au notebook du chapitre 2.2: Multiplication de matrices](./2.2%20Multiplication%20de%20matrices.ipynb)"
   ]
  },
  {
   "cell_type": "code",
   "execution_count": null,
   "metadata": {},
   "outputs": [],
   "source": []
  }
 ],
 "metadata": {
  "kernelspec": {
   "display_name": "Python 3",
   "language": "python",
   "name": "python3"
  },
  "language_info": {
   "codemirror_mode": {
    "name": "ipython",
    "version": 3
   },
   "file_extension": ".py",
   "mimetype": "text/x-python",
   "name": "python",
   "nbconvert_exporter": "python",
   "pygments_lexer": "ipython3",
   "version": "3.7.6"
  }
 },
 "nbformat": 4,
 "nbformat_minor": 4
}
