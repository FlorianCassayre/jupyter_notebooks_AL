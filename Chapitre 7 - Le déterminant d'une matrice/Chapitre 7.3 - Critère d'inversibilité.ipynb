{
 "cells": [
  {
   "cell_type": "code",
   "execution_count": null,
   "metadata": {},
   "outputs": [],
   "source": [
    "import numpy as np\n",
    "import sympy as sp\n",
    "import sys, os \n",
    "from Ch7Functions import *\n",
    "from IPython.display import display, Latex"
   ]
  },
  {
   "cell_type": "markdown",
   "metadata": {},
   "source": [
    "### PROPOSITION :\n",
    "\n",
    "#### Si $A=(a_{ij})\\in M_{n\\times n}(\\mathbb{R})$. Alors $A$ est inversible si et seulement si $\\det A \\neq 0$.\n",
    "\n",
    "Ce théorème ajoute à la déclaration “$\\det A \\neq 0$” au théorème de la matrice inversible. C'est aussi utile de savoir que si \n",
    "$\\det A = 0$, ça veut dire que les colonnes de $A$ sont dépandantes linéairement. Ainsi que quand $\\det A = 0$, les rangées de $A$ sont dépandantes linéairement. (Les rangées de $A$ sont les colonnes de $A^T$, et des colonnes dépandantes linéairement cause $A^T$ d'être singulièreé\n",
    "\n",
    "On peut dire que quand $A^T$ est singulière, $A$ est singulière aussi grace au théorème de la matrice inversible.\n",
    "\n",
    "\n",
    "\n",
    " \n"
   ]
  },
  {
   "cell_type": "markdown",
   "metadata": {},
   "source": [
    "#### Exemple :  Calculez $det A$, quand $A = \\begin{pmatrix}\n",
    "3 & -1 &  2  & -5\\\\\n",
    "0 & 5 &-3 & -6\\\\\n",
    "-6 & 7 & -7 & 4\\\\\n",
    "-5 & -8 & 0 & 9\n",
    "\\end{pmatrix}$\n",
    "\n",
    "\n",
    "**SOLUTION** Ajoutez deux fois la rangée 1 à la rangée 3\n",
    "\n",
    "\n",
    "\n",
    "$$ \\det A = \\det \\begin{pmatrix}\n",
    "3 & -1 &  2  & -5\\\\\n",
    "0 & 5 &-3 & -6\\\\\n",
    "0 & 5 &-3 & -6\\\\\n",
    "-5 & -8 & 0 & 9\n",
    "\\end{pmatrix} = 0 $$ \n",
    "\n",
    "$\\det A = 0$ alors la matrice $A$ est singulière, parce que la deuxième rangée et la troisième rangée sont égales.\n"
   ]
  },
  {
   "cell_type": "markdown",
   "metadata": {},
   "source": [
    "\n",
    "#### Exercise :  Jugez si la matrice A est inversible par calculer son déterminant.\n",
    "Exécuter la cellule suivante après avoir faites les calculations sur papier.\n",
    "\n",
    "$$ \\det A = \\det \\begin{pmatrix}\n",
    "1 & 2 & 3/4 \\\\\n",
    "1/2 & 2 & 4 \\\\\n",
    "1 & 6 & 43 \\\\\n",
    "\\end{pmatrix}$$ \n"
   ]
  },
  {
   "cell_type": "code",
   "execution_count": null,
   "metadata": {},
   "outputs": [],
   "source": [
    "A = sp.Matrix([[1,2,3/4], [0.5,20/10,4], [1,6,43]])\n",
    "\n",
    "whether_invertibleA(A)\n"
   ]
  },
  {
   "cell_type": "markdown",
   "metadata": {},
   "source": [
    "#### Exercise : Jugez si la matrice B est inversible par calculer son déterminant.\n",
    "\n",
    "Exécuter la cellule suivante après avoir faites les calculations sur papier.\n",
    "$$ \\det B = \\det \\begin{pmatrix}\n",
    "4 & -3 & -1 \\\\\n",
    "-7 & 5 &-3 \\\\\n",
    "8 & 1 & 2 \\\\\n",
    "\\end{pmatrix} $$ \n"
   ]
  },
  {
   "cell_type": "code",
   "execution_count": null,
   "metadata": {},
   "outputs": [],
   "source": [
    "B = sp.Matrix([[4,-3,-1], [-7,5,-3], [8,1,2]])\n",
    "\n",
    "whether_invertibleB(B)"
   ]
  },
  {
   "cell_type": "markdown",
   "metadata": {},
   "source": [
    "#### Exercise : Jugez si la matrice C est inversible par calculer son déterminant.\n",
    "\n",
    "Exécuter la cellule suivante après avoir faites les calculations sur papier.\n",
    "$$ \\det C = \\det \\begin{pmatrix}\n",
    "3 & 1 & -1 \\\\\n",
    "-6 & -2 & 2 \\\\\n",
    "4 & 10 & 7 \\\\\n",
    "\\end{pmatrix} $$ \n"
   ]
  },
  {
   "cell_type": "code",
   "execution_count": null,
   "metadata": {},
   "outputs": [],
   "source": [
    "C = sp.Matrix([[3,1,-1], [-6,-2, 2], [4,10,7]])\n",
    "\n",
    "whether_invertibleC(C)"
   ]
  },
  {
   "cell_type": "code",
   "execution_count": null,
   "metadata": {},
   "outputs": [],
   "source": []
  }
 ],
 "metadata": {
  "kernelspec": {
   "display_name": "Python 3",
   "language": "python",
   "name": "python3"
  },
  "language_info": {
   "codemirror_mode": {
    "name": "ipython",
    "version": 3
   },
   "file_extension": ".py",
   "mimetype": "text/x-python",
   "name": "python",
   "nbconvert_exporter": "python",
   "pygments_lexer": "ipython3",
   "version": "3.7.6"
  }
 },
 "nbformat": 4,
 "nbformat_minor": 2
}
