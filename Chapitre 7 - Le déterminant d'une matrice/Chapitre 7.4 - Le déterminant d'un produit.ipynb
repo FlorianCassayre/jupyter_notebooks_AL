{
 "cells": [
  {
   "cell_type": "code",
   "execution_count": 1,
   "metadata": {},
   "outputs": [
    {
     "data": {
      "text/html": [
       "        <script type=\"text/javascript\">\n",
       "        window.PlotlyConfig = {MathJaxConfig: 'local'};\n",
       "        if (window.MathJax) {MathJax.Hub.Config({SVG: {font: \"STIX-Web\"}});}\n",
       "        if (typeof require !== 'undefined') {\n",
       "        require.undef(\"plotly\");\n",
       "        requirejs.config({\n",
       "            paths: {\n",
       "                'plotly': ['https://cdn.plot.ly/plotly-latest.min']\n",
       "            }\n",
       "        });\n",
       "        require(['plotly'], function(Plotly) {\n",
       "            window._Plotly = Plotly;\n",
       "        });\n",
       "        }\n",
       "        </script>\n",
       "        "
      ]
     },
     "metadata": {},
     "output_type": "display_data"
    }
   ],
   "source": [
    "import numpy as np\n",
    "import sympy as sp\n",
    "import sys, os \n",
    "from Ch7Functions import *\n",
    "from IPython.display import display, Latex"
   ]
  },
  {
   "cell_type": "markdown",
   "metadata": {},
   "source": [
    "# Le déterminant d'un produit\n",
    "\n",
    "Soit $A$ et $B$ sont deux matrices carrées de taille $ n  \\times n$, le déterminant de $AB$ est le produit des déterminants de $A$ et $B$.\n",
    "$$\\det AB = (\\det A)(\\det B) $$\n",
    "\n",
    "Cependant, ceci n'est pas le cas pour l'addition ou la soustraction de matrices. En générale, $$ \\det (A \\pm B) \\neq \\det A \\pm \\det B $$\n",
    "\n"
   ]
  },
  {
   "cell_type": "markdown",
   "metadata": {},
   "source": [
    "Soit $A$ est une matrice de taille $n \\times n$ et $A$ est inversible, le déterminant de $A^-1$ est:\n",
    "$$\\det A^{-1} = \\frac{1}{\\det A} $$"
   ]
  },
  {
   "cell_type": "markdown",
   "metadata": {},
   "source": [
    "Soit $A$ et $B$ sont deux matrices semblables de taille $n \\times n$. Le déterminant de $A$ est égal au déterminant de $B$.\n",
    "$$\\det A = \\det B$$"
   ]
  },
  {
   "cell_type": "markdown",
   "metadata": {},
   "source": [
    "---\n",
    "## Exemple 1\n",
    "\n",
    "En utilisant ces régles ci en haut, trouvez le déterminant de $C$.\n",
    "$$C = B A^{-1}$$\n",
    "\n",
    "$$ A = \\begin{pmatrix} \n",
    "        -3 & 2 & 7   \\\\\n",
    "        1 & -1 & 4   \\\\\n",
    "        2 & 5  & -6  \\\\\n",
    "       \\end{pmatrix}$$\n",
    "       \n",
    "$$B = \\begin{pmatrix} \n",
    "           -4 & 3 & 0 \\\\\n",
    "           9 & -4 & -1 \\\\\n",
    "           -7 & 1 & 1 \\\\\n",
    "       \\end{pmatrix}$$"
   ]
  },
  {
   "cell_type": "code",
   "execution_count": 2,
   "metadata": {},
   "outputs": [
    {
     "data": {
      "application/vnd.jupyter.widget-view+json": {
       "model_id": "3d05ca1bc9eb46d481809cac939ccc03",
       "version_major": 2,
       "version_minor": 0
      },
      "text/plain": [
       "HBox(children=(Button(description='Solution', style=ButtonStyle()),))"
      ]
     },
     "metadata": {},
     "output_type": "display_data"
    },
    {
     "data": {
      "application/vnd.jupyter.widget-view+json": {
       "model_id": "e8f0ed88177d4d47a23bf1c2a26b5312",
       "version_major": 2,
       "version_minor": 0
      },
      "text/plain": [
       "Output()"
      ]
     },
     "metadata": {},
     "output_type": "display_data"
    }
   ],
   "source": [
    "# Écrivez votre réponse ici avec 3 décimales;\n",
    "reponse = 0\n",
    "\n",
    "\n",
    "question7_4a_solution(reponse)"
   ]
  },
  {
   "cell_type": "markdown",
   "metadata": {},
   "source": [
    "## Exemple 2\n",
    "\n",
    "En utilisant ces régles ci en haut, vérifiez sur papier que $$\\det(A+B) \\neq \\det(A) + \\det(B) $$\n",
    "\n",
    "$$ A = \\begin{pmatrix} \n",
    "        1 & 3 & -6   \\\\\n",
    "        5 & 2 & 2   \\\\\n",
    "        -2 & -4 & 9  \\\\\n",
    "       \\end{pmatrix}$$\n",
    "       \n",
    "$$B = \\begin{pmatrix} \n",
    "           5 & 0 & -2 \\\\\n",
    "           10 & -3 & 7 \\\\\n",
    "           -1 & 4 & 1 \\\\\n",
    "       \\end{pmatrix}$$"
   ]
  },
  {
   "cell_type": "code",
   "execution_count": 3,
   "metadata": {
    "scrolled": true
   },
   "outputs": [
    {
     "data": {
      "text/markdown": [
       "Correct! $\\det(A+B)$ n'est pas égale à $\\det A + \\det B $"
      ],
      "text/plain": [
       "<IPython.core.display.Markdown object>"
      ]
     },
     "metadata": {},
     "output_type": "display_data"
    }
   ],
   "source": [
    "# det(A+B):\n",
    "detAB = 0\n",
    "\n",
    "# det(A) + det(B)\n",
    "somme = 0\n",
    "\n",
    "\n",
    "question7_4b_solution(detAB, somme)"
   ]
  },
  {
   "cell_type": "code",
   "execution_count": null,
   "metadata": {},
   "outputs": [],
   "source": []
  },
  {
   "cell_type": "code",
   "execution_count": null,
   "metadata": {},
   "outputs": [],
   "source": []
  }
 ],
 "metadata": {
  "kernelspec": {
   "display_name": "Python 3",
   "language": "python",
   "name": "python3"
  },
  "language_info": {
   "codemirror_mode": {
    "name": "ipython",
    "version": 3
   },
   "file_extension": ".py",
   "mimetype": "text/x-python",
   "name": "python",
   "nbconvert_exporter": "python",
   "pygments_lexer": "ipython3",
   "version": "3.7.6"
  }
 },
 "nbformat": 4,
 "nbformat_minor": 4
}
