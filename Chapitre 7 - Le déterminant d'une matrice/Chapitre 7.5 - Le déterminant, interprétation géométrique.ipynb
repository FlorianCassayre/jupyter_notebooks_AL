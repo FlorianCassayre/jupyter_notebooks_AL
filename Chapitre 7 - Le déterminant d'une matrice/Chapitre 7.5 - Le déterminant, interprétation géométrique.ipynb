{
 "cells": [
  {
   "cell_type": "code",
   "execution_count": null,
   "metadata": {},
   "outputs": [],
   "source": [
    "import numpy as np\n",
    "import matplotlib.pylab as plt\n",
    "from matplotlib.patches import Polygon\n",
    "from matplotlib.collections import PolyCollection\n",
    "import plotly.offline as pyo\n",
    "import plotly.graph_objs as go\n",
    "from Ch7Functions import *\n",
    "from IPython.display import display, Latex\n",
    "import sympy as sp\n",
    "pyo.init_notebook_mode(connected = True)"
   ]
  },
  {
   "cell_type": "markdown",
   "metadata": {},
   "source": [
    "## Chapitre 7.5 – Représentations géométriques des déterminants\n",
    "\n",
    "Soit $A=(a_{ij})\\in M_{2 \\times 2}(\\mathbb{R})$, la valeur absolue du déterminant de $A$ est l'aire du parallélogramme crée par les deux vecteurs de $A$.\n",
    "\n",
    "Dans la prochaine partie, vous pouvez changer les paramètres de $A$ et voir comment le parallélogramme va changer. "
   ]
  },
  {
   "cell_type": "code",
   "execution_count": null,
   "metadata": {},
   "outputs": [],
   "source": [
    "# Vous pouvez changer les valeurs ci-dessous\n",
    "A = [[4.5, -1.5], \n",
    "     [3.3, 6.4]]\n",
    "\n",
    "plotDeterminant2D(A)"
   ]
  },
  {
   "cell_type": "markdown",
   "metadata": {},
   "source": [
    "Soit $A=(a_{ij})\\in M_{3 \\times 3}(\\mathbb{R})$, la valeur absolue du déterminant de $A$ est le volume du parallélépipède crée par les trois vecteurs de $A$."
   ]
  },
  {
   "cell_type": "code",
   "execution_count": null,
   "metadata": {},
   "outputs": [],
   "source": [
    "# Vous pouvez changer les valeurs ci-dessous\n",
    "A = [[-3, 1, 5],\n",
    "    [2, -1, 3],\n",
    "    [1, -5, -1]]\n",
    "\n",
    "plotDeterminant3D(A)"
   ]
  },
  {
   "cell_type": "code",
   "execution_count": null,
   "metadata": {},
   "outputs": [],
   "source": [
    "# Pour comparer, le déterminant de la matrice A est aussi calculé ci-dessous\n",
    "a = sp.Matrix(A)\n",
    "Determinant_3x3_abs(a, step_by_step = True)"
   ]
  },
  {
   "cell_type": "markdown",
   "metadata": {},
   "source": [
    "## Exemple\n",
    "Dessine sur un papier le paraléllogramme qui correspond à la matrice \n",
    "$$ B = \\begin{pmatrix} \n",
    "        1 & 3    \\\\\n",
    "        5 & 2  \\\\\n",
    "       \\end{pmatrix}$$"
   ]
  },
  {
   "cell_type": "code",
   "execution_count": null,
   "metadata": {},
   "outputs": [],
   "source": [
    "problem7_5()"
   ]
  },
  {
   "cell_type": "code",
   "execution_count": null,
   "metadata": {},
   "outputs": [],
   "source": []
  }
 ],
 "metadata": {
  "kernelspec": {
   "display_name": "Python 3",
   "language": "python",
   "name": "python3"
  },
  "language_info": {
   "codemirror_mode": {
    "name": "ipython",
    "version": 3
   },
   "file_extension": ".py",
   "mimetype": "text/x-python",
   "name": "python",
   "nbconvert_exporter": "python",
   "pygments_lexer": "ipython3",
   "version": "3.6.9"
  }
 },
 "nbformat": 4,
 "nbformat_minor": 4
}
