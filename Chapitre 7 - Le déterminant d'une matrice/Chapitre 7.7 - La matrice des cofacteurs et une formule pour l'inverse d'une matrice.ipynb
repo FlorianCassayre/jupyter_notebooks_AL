{
 "cells": [
  {
   "cell_type": "code",
   "execution_count": 1,
   "metadata": {},
   "outputs": [
    {
     "data": {
      "text/html": [
       "        <script type=\"text/javascript\">\n",
       "        window.PlotlyConfig = {MathJaxConfig: 'local'};\n",
       "        if (window.MathJax) {MathJax.Hub.Config({SVG: {font: \"STIX-Web\"}});}\n",
       "        if (typeof require !== 'undefined') {\n",
       "        require.undef(\"plotly\");\n",
       "        requirejs.config({\n",
       "            paths: {\n",
       "                'plotly': ['https://cdn.plot.ly/plotly-latest.min']\n",
       "            }\n",
       "        });\n",
       "        require(['plotly'], function(Plotly) {\n",
       "            window._Plotly = Plotly;\n",
       "        });\n",
       "        }\n",
       "        </script>\n",
       "        "
      ]
     },
     "metadata": {},
     "output_type": "display_data"
    }
   ],
   "source": [
    "import numpy as np\n",
    "import sympy as sp\n",
    "from IPython.display import display, Latex\n",
    "from Ch7Functions import *"
   ]
  },
  {
   "cell_type": "markdown",
   "metadata": {},
   "source": [
    "### RAPPEL:\n",
    "Soit $A=(a_{ij})\\in M_{n\\times n}(\\mathbb{R})$ une matrice de taille $n\\times n$ à coefficients réels. Pour $1\\leq i,j\\leq n,$ on définit $\\hat{A}_{ij}$ comme étant la matrice de taille $(n-1)\\times (n-1)$ obtenue en supprimant dans $A$ la $i$-ème ligne et la $j$-ème colonne. \n",
    "\n",
    "### DÉFINITION:\n",
    "Soit $A=(a_{ij})\\in M_{n\\times n}(\\mathbb{R})$ une matrice de taille $n\\times n$ à coefficients réels. La matrice des cofacteurs de $A$  est la matrice $\\mbox{cof} A\\in M_{n \\times n}(\\mathbb{R})$ de taille $(n-1)\\times (n-1)$ définie par\n",
    "$$(\\mbox{cof}A)_{ij}=(-1)^{i+j}\\mbox{det}\\hat{A}_{ij}=C_{ij}$$\n",
    "\n",
    "\n",
    "### THÉORÈME:\n",
    "Soit $A=(a_{ij})\\in M_{n\\times n}(\\mathbb{R})$ une matrice inversible. Alors\n",
    "$$A^{-1} = \\dfrac{1}{\\mbox{det}A}\\cdot (\\mbox{cof}A)^T$$\n",
    "\n"
   ]
  },
  {
   "cell_type": "markdown",
   "metadata": {},
   "source": [
    "\n",
    "### Exercise \n",
    "Trouver sur papier la matrice inverse de  $ A_{3 \\times 3} $.\n",
    "\n",
    "$$ A = \\begin{pmatrix}2 & 1 & 1\\\\1 & -1 & 1\\\\ -1 & 1 & 2\\end{pmatrix} $$\n"
   ]
  },
  {
   "cell_type": "code",
   "execution_count": 2,
   "metadata": {},
   "outputs": [
    {
     "data": {
      "text/markdown": [
       "Cliquez en sous pour la solution"
      ],
      "text/plain": [
       "<IPython.core.display.Markdown object>"
      ]
     },
     "metadata": {},
     "output_type": "display_data"
    },
    {
     "data": {
      "application/vnd.jupyter.widget-view+json": {
       "model_id": "5cb0fe975db744fe8662f861d8c7fd10",
       "version_major": 2,
       "version_minor": 0
      },
      "text/plain": [
       "HBox(children=(Button(description='Solution', style=ButtonStyle()),))"
      ]
     },
     "metadata": {},
     "output_type": "display_data"
    },
    {
     "data": {
      "application/vnd.jupyter.widget-view+json": {
       "model_id": "5a354679b0d94c8b9909b60d0b5aeaa7",
       "version_major": 2,
       "version_minor": 0
      },
      "text/plain": [
       "Output()"
      ]
     },
     "metadata": {},
     "output_type": "display_data"
    }
   ],
   "source": [
    "A = sp.Matrix([[2,1,1],[1,-1,1],[-1,1,-2]])\n",
    "find_inverse_3x3(A)"
   ]
  },
  {
   "cell_type": "markdown",
   "metadata": {},
   "source": [
    "#### Exercise \n",
    "Trouver sur papier la matrice inverse de  $ B_{4 \\times 4} $. \n",
    "\n",
    "$$ B = \\begin{pmatrix}\n",
    "3  & -1 & 0  & 2\\\\\n",
    "0  &  2 & -4 & 2\\\\ \n",
    "1  & -3 & 1  & 0\\\\\n",
    "-1 &  0 & 1  & 1 \n",
    "\\end{pmatrix}$$\n"
   ]
  },
  {
   "cell_type": "code",
   "execution_count": 3,
   "metadata": {},
   "outputs": [
    {
     "data": {
      "text/markdown": [
       "Cliquez en sous pour la solution"
      ],
      "text/plain": [
       "<IPython.core.display.Markdown object>"
      ]
     },
     "metadata": {},
     "output_type": "display_data"
    },
    {
     "data": {
      "application/vnd.jupyter.widget-view+json": {
       "model_id": "ffea93b636814640a6a63f868a871229",
       "version_major": 2,
       "version_minor": 0
      },
      "text/plain": [
       "HBox(children=(Button(description='Solution', style=ButtonStyle()),))"
      ]
     },
     "metadata": {},
     "output_type": "display_data"
    },
    {
     "data": {
      "application/vnd.jupyter.widget-view+json": {
       "model_id": "a85ef03c256743e1a411a74474934c89",
       "version_major": 2,
       "version_minor": 0
      },
      "text/plain": [
       "Output()"
      ]
     },
     "metadata": {},
     "output_type": "display_data"
    }
   ],
   "source": [
    "B = sp.Matrix([[3,-1,0,-2],[0,2,-4,2],[1,-3,1,0],[-1,0,1,1]])\n",
    "find_inverse_4x4(B)"
   ]
  }
 ],
 "metadata": {
  "kernelspec": {
   "display_name": "Python 3",
   "language": "python",
   "name": "python3"
  },
  "language_info": {
   "codemirror_mode": {
    "name": "ipython",
    "version": 3
   },
   "file_extension": ".py",
   "mimetype": "text/x-python",
   "name": "python",
   "nbconvert_exporter": "python",
   "pygments_lexer": "ipython3",
   "version": "3.6.9"
  }
 },
 "nbformat": 4,
 "nbformat_minor": 4
}
