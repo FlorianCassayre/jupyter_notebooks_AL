{
 "cells": [
  {
   "cell_type": "markdown",
   "metadata": {},
   "source": [
    "# Concept(s)-clé(s) et théorie\n",
    "\n",
    "### DÉFINITION 1\n",
    "\n",
    "Soient $V$ un $\\mathbb{R}$-espace vectoriel et $S\\subset V$ une collection de vecteurs dans $V.$ On dit que $S$ est linéairement dépendante (ou liée) s'il existe des vecteurs distincts $v_1,\\ldots,v_r\\in S$ et des scalaires $\\lambda_1,\\ldots,\\lambda_r\\in \\mathbb{R}$ non tous nuls tels que $\\lambda_1v_1+\\cdots+\\lambda_rv_r=0.$ (Autrement dit, s'il existe une combinaison linéaire (non triviale) de vecteurs de $S$ qui se réduit au vecteur nul.) S'il n'existe pas de tels vecteurs dans $S,$ alors on dit que $S$ est linéairement indépendante (ou libre).\n",
    "\n",
    "### PROPOSITION 1\n",
    "\n",
    "Soient $V$ un $\\mathbb{R}$-espace vectoriel et $v_1,\\ldots,v_r\\in V$ des vecteurs de $V.$ Alors ces derniers sont linéairement dépendants si et seulement s'il existe $1\\leq i\\leq r$ tels que $v_i\\in \\mbox{Vect}(\\{v_1,\\ldots,v_{i-1},v_{i+1},\\ldots,v_r\\}),$ c'est-à-dire si et seulement si l'on peut exprimer un des vecteurs de la liste comme une combinaison linéaire des autres.\n",
    "\n",
    "### PROPOSITION 2\n",
    "\n",
    "Soient $V$ un $\\mathbb{R}$-espace vectoriel et $S\\subset V$ une famille libre de vecteurs dans $V.$ Alors tout sous-ensemble $T\\subset S$ est aussi libre.\n",
    "\n",
    "### PROPOSITION 3\n",
    "\n",
    "Soient $V$ un $\\mathbb{R}$-espace vectoriel et $S\\subset V$ une famille liée de vecteurs dans $V.$ Alors toute collection de vecteurs $T$ contenant $S$ est également liée."
   ]
  },
  {
   "cell_type": "code",
   "execution_count": null,
   "metadata": {
    "jupyter": {
     "source_hidden": true
    }
   },
   "outputs": [],
   "source": [
    "import numpy as np\n",
    "from IPython.display import display, Markdown, Latex\n",
    "import plotly.graph_objs as go\n",
    "import plotly\n",
    "import ipywidgets as widgets\n",
    "from ipywidgets import interact, interactive, fixed, interact_manual, Layout\n",
    "import plotly.express as px"
   ]
  },
  {
   "cell_type": "markdown",
   "metadata": {},
   "source": [
    "### EXERCICE 1\n",
    "\n",
    "Soient:\n",
    "\n",
    "$$v_1 = \\begin{pmatrix} 1 \\\\ 0 \\\\ 2 \\end{pmatrix} \\ \\ v_2 = \\begin{pmatrix} 0 \\\\ 1 \\\\ 0 \\end{pmatrix} \\ \\ v_3 = \\begin{pmatrix} 1 \\\\ 1 \\\\ 1 \\end{pmatrix}$$\n",
    "\n",
    "Trouver une combinaison linéaire telle que:\n",
    "\n",
    "$$\\lambda_1 v_1 + \\lambda_2 v_2 + \\lambda_3 v_3 = \\begin{pmatrix} 3 \\\\ 5 \\\\ 4 \\end{pmatrix}$$\n",
    "\n",
    "Entrez les coefficients $\\lambda_i$ dans le vecteur ci-dessous puis exécutez les deux cellules pour vérifier votre réponse."
   ]
  },
  {
   "cell_type": "code",
   "execution_count": null,
   "metadata": {
    "jupyter": {
     "source_hidden": true
    }
   },
   "outputs": [],
   "source": [
    "def verification_1():\n",
    "    v = np.array([[1, 0, 2], [0, 1, 0], [1, 1, 1]]).transpose()\n",
    "    e = np.array([3, 5, 4])\n",
    "    s = np.array(solution)\n",
    "    r = v @ s\n",
    "    if np.allclose(e, r):\n",
    "        display(Markdown(\"**Correction:** C'est correct!\"))\n",
    "    else:\n",
    "        display(Markdown(\"**Correction:** C'est incorrect car: $\\lambda_1 v_1 + \\lambda_2 v_2 + \\lambda_3 v_3 = \\\\begin{pmatrix} %s \\\\\\\\ %s \\\\\\\\ %s \\end{pmatrix} \\\\neq \\\\begin{pmatrix} %s \\\\\\\\ %s \\\\\\\\ %s \\end{pmatrix}$\" % (r[0], r[1], r[2], e[0], e[1], e[2])))\n",
    "\n",
    "    w = s * v\n",
    "    \n",
    "    cumsum = np.cumsum(np.insert(w, 0, 0, axis=1), axis=1).transpose()\n",
    "    \n",
    "    colors = px.colors.qualitative.Plotly\n",
    "    global color_index\n",
    "    color_index = 0\n",
    "    \n",
    "    data = []\n",
    "    def addVector(start, v):\n",
    "        global color_index\n",
    "        \n",
    "        color = colors[color_index]\n",
    "        color_index = (color_index + 1) % len(colors)\n",
    "        \n",
    "        end = start + v\n",
    "        trace = go.Scatter3d(\n",
    "            x=[start[0], end[0], None],\n",
    "            y=[start[1], end[1], None],\n",
    "            z=[start[2], end[2], None],\n",
    "            mode='lines',\n",
    "            name=str(v),\n",
    "            line=dict(color=color, width=4)\n",
    "        )\n",
    "        norm = np.sqrt(np.sum(v * v))\n",
    "        n = v if norm == 0 else v / norm\n",
    "        n = 1.5 * n\n",
    "        c_end = end - 0.37 * n\n",
    "        cone = go.Cone(x=[c_end[0]], y=[c_end[1]], z=[c_end[2]], u=[n[0]], v=[n[1]], w=[n[2]], name=str(v), colorscale=[[0, color], [1, color]], hoverinfo=\"none\", showscale=False)\n",
    "        \n",
    "        data.append(trace)\n",
    "        data.append(cone)\n",
    "        \n",
    "    addVector(np.zeros(3), e)\n",
    "\n",
    "    for i in range(len(cumsum) - 1):\n",
    "        start = cumsum[i]\n",
    "        v = cumsum[i + 1] - start\n",
    "        addVector(start, v)\n",
    "\n",
    "    fig = go.Figure(data=data)\n",
    "\n",
    "    fig.show()"
   ]
  },
  {
   "cell_type": "code",
   "execution_count": null,
   "metadata": {},
   "outputs": [],
   "source": [
    "solution = [1, 0, 2]  # Réponse à compléter\n",
    "\n",
    "verification_1()"
   ]
  },
  {
   "cell_type": "markdown",
   "metadata": {},
   "source": [
    "### EXERCICE 2\n",
    "\n",
    "D'après les mêmes données que l'exercice 1, la collection des vecteurs $v_1$, $v_2$, $v_3$ et $\\begin{pmatrix} 3 \\\\ 0 \\\\ 4 \\end{pmatrix}$ est-elle liée ?"
   ]
  },
  {
   "cell_type": "code",
   "execution_count": null,
   "metadata": {
    "jupyter": {
     "source_hidden": true
    }
   },
   "outputs": [],
   "source": [
    "radio = widgets.RadioButtons(\n",
    "    options=['Oui, les vecteurs sont dépendants', 'Non, les vecteurs sont indépendants'],\n",
    "    layout={'width': 'max-content'},\n",
    "    value=None,\n",
    "    description='Réponse:',\n",
    ")\n",
    "\n",
    "button = widgets.Button(description='Vérifier')\n",
    "\n",
    "out = widgets.Output()\n",
    "\n",
    "display(radio)\n",
    "display(button)\n",
    "display(out)\n",
    "\n",
    "def verification_2(e):\n",
    "    if radio.value is not None:\n",
    "        out.clear_output()\n",
    "        with out:\n",
    "            if radio.value.startswith('Oui'):\n",
    "                display(Markdown(\"C'est incorrect, il existe $\\lambda_1$, $\\lambda_2$ et $\\lambda_3$ tels que $\\lambda_1 v_1 + \\lambda_2 v_2 + \\lambda_3 v_3 - \\\\begin{pmatrix} 3 \\\\\\\\ 0 \\\\\\\\ 4 \\end{pmatrix} = 0$.\"))\n",
    "            else:\n",
    "                display(Markdown(\"C'est correct!\"))\n",
    "\n",
    "button.on_click(verification_2)"
   ]
  },
  {
   "cell_type": "markdown",
   "metadata": {},
   "source": [
    "### EXERCICE 3\n",
    "\n",
    "Les collections de vecteurs suivantes sont-elles liées ?"
   ]
  },
  {
   "cell_type": "code",
   "execution_count": null,
   "metadata": {
    "jupyter": {
     "source_hidden": true
    }
   },
   "outputs": [],
   "source": [
    "def exercice_3(answer):\n",
    "    radio = widgets.RadioButtons(\n",
    "        options=['Oui, les vecteurs sont dépendants', 'Non, les vecteurs sont indépendants'],\n",
    "        layout={'width': 'max-content'},\n",
    "        value=None,\n",
    "        description='Réponse:',\n",
    "    )\n",
    "\n",
    "    button = widgets.Button(description='Vérifier')\n",
    "\n",
    "    out = widgets.Output()\n",
    "\n",
    "    display(radio)\n",
    "    display(button)\n",
    "    display(out)\n",
    "\n",
    "    def verification_3(e):\n",
    "        if radio.value is not None:\n",
    "            out.clear_output()\n",
    "            with out:\n",
    "                if radio.value.startswith('Oui') == answer:\n",
    "                    display(Markdown(\"C'est correct!\"))\n",
    "                else:\n",
    "                    display(Markdown(\"C'est incorrect!\"))\n",
    "\n",
    "    button.on_click(verification_3)"
   ]
  },
  {
   "cell_type": "markdown",
   "metadata": {},
   "source": [
    "#### (a)\n",
    "\n",
    "$$v_1 = \\begin{pmatrix} 1 \\\\ 1 \\\\ 1 \\end{pmatrix} \\ \\ v_2 = \\begin{pmatrix} 1 \\\\ 2 \\\\ 1 \\end{pmatrix} \\ \\ v_3 = \\begin{pmatrix} 0 \\\\ 1 \\\\ 0 \\end{pmatrix}$$"
   ]
  },
  {
   "cell_type": "code",
   "execution_count": null,
   "metadata": {
    "jupyter": {
     "source_hidden": true
    }
   },
   "outputs": [],
   "source": [
    "exercice_3(True)"
   ]
  },
  {
   "cell_type": "markdown",
   "metadata": {},
   "source": [
    "#### (b)\n",
    "\n",
    "$$v_1 = \\begin{pmatrix} 1 \\\\ 0 \\\\ 4 \\end{pmatrix} \\ \\ v_2 = \\begin{pmatrix} 6 \\\\ 12 \\\\ 7 \\end{pmatrix} \\ \\ v_3 = \\begin{pmatrix} 0 \\\\ 9 \\\\ 7 \\end{pmatrix} \\ \\ v_4 = \\begin{pmatrix} 1 \\\\ 1 \\\\ 1 \\end{pmatrix}$$"
   ]
  },
  {
   "cell_type": "code",
   "execution_count": null,
   "metadata": {
    "jupyter": {
     "source_hidden": true
    }
   },
   "outputs": [],
   "source": [
    "exercice_3(True)"
   ]
  },
  {
   "cell_type": "markdown",
   "metadata": {},
   "source": [
    "#### (c)\n",
    "\n",
    "$$v_1 = \\begin{pmatrix} 1 \\\\ 0 \\\\ -1 \\end{pmatrix} \\ \\ v_2 = \\begin{pmatrix} 1 \\\\ 1 \\\\ 0 \\end{pmatrix} \\ \\ v_3 = \\begin{pmatrix} 0 \\\\ 1 \\\\ -1 \\end{pmatrix}$$"
   ]
  },
  {
   "cell_type": "code",
   "execution_count": null,
   "metadata": {
    "jupyter": {
     "source_hidden": true
    }
   },
   "outputs": [],
   "source": [
    "exercice_3(False)"
   ]
  }
 ],
 "metadata": {
  "kernelspec": {
   "display_name": "Python 3",
   "language": "python",
   "name": "python3"
  },
  "language_info": {
   "codemirror_mode": {
    "name": "ipython",
    "version": 3
   },
   "file_extension": ".py",
   "mimetype": "text/x-python",
   "name": "python",
   "nbconvert_exporter": "python",
   "pygments_lexer": "ipython3",
   "version": "3.6.8"
  }
 },
 "nbformat": 4,
 "nbformat_minor": 4
}
