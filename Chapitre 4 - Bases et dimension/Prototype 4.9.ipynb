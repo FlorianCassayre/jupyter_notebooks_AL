{
 "cells": [
  {
   "cell_type": "code",
   "execution_count": null,
   "metadata": {
    "jupyter": {
     "source_hidden": true
    }
   },
   "outputs": [],
   "source": [
    "%cd ..\n",
    "import Librairie.AL_Fct as al\n",
    "%cd \"Chapitre 4 - Bases et dimension\"\n",
    "\n",
    "import numpy as np\n",
    "from IPython.display import display, Markdown, Latex\n",
    "import plotly.graph_objs as go\n",
    "import plotly\n",
    "import ipywidgets as widgets\n",
    "from ipywidgets import interact, interactive, fixed, interact_manual, Layout, HBox, VBox"
   ]
  },
  {
   "cell_type": "markdown",
   "metadata": {},
   "source": [
    "# Concept(s)-cl&eacute;(s)\n",
    "\n",
    "\n",
    "\n",
    "### D&Eacute;FINITION 1 :\n",
    "\n",
    "Soit $A\\in M_{m\\times n}(\\mathbb{R})$ une matrice de taille $m\\times n$ &agrave; coefficients r&eacute;els.\n",
    "\n",
    "\n",
    "\n",
    "1. Le *rang ligne* de $A$ est la dimension de l'espace ligne de $A.$\n",
    "\n",
    "2. Le *rang colonne* de $A$ est la dimension de l'espace colonne de $A.$\n",
    "\n",
    "\n",
    "\n",
    "### REMARQUES 2 :\n",
    "\n",
    "\n",
    "\n",
    "1. Le rang ligne de $A$ est plus petit ou &eacute;gal &agrave; $n,$ car c'est un sous-espace vectoriel de $\\mathbb{R}^n.$\n",
    "\n",
    "2. Le rang ligne de $A$ est plus petit ou &eacute;gal &agrave; $m,$ car engendr&eacute; par $m$ vecteurs.\n",
    "\n",
    "3. Le rang colonne de $A$ est plus petit ou &eacute;gal &agrave; $m$ et $n,$ par le m&ecirc;me raisonnement.\n",
    "\n",
    "4. Le rang colonne de $A$ est &eacute;gal au rang ligne de $A^T.$\n",
    "\n",
    "5. Le rang ligne de $A$ est &eacute;gal au rang colonne de $A^T.$\n",
    "\n",
    "\n",
    "\n",
    "### PROPOSITION 3 :\n",
    "\n",
    "Soient $A,B\\in M_{m\\times n}(\\mathbb{R})$ des matrices ligne &eacute;quivalentes. Alors l'espace ligne de $A$ est &eacute;gal &agrave; l'espace ligne de $B.$ Par cons&eacute;quent, le rang ligne de $A$ est &eacute;gal au rang ligne de $B.$\n",
    "\n",
    "### PROPOSITION 4 :\n",
    "\n",
    "Soit $A$ une matrice &eacute;chelonn&eacute;e. Alors le rang ligne de $A$ est &eacute;gal au nombre de pivots. Aussi, une base de l'espace ligne de $A$ est donn&eacute;e par les lignes contenant un pivots."
   ]
  },
  {
   "cell_type": "markdown",
   "metadata": {},
   "source": [
    "### EXERCICE 1\n",
    "\n",
    "Soit la matrice A :\n",
    "\n",
    "$$A = \\begin{pmatrix} 1 & 2 & 3 \\\\ 4 & 5 & 6  \\end{pmatrix}$$\n",
    "\n",
    "Sélectionnez les propositions correctes\n",
    "(maintenez CTRL pour sélectionner plusieurs cellules à la fois)"
   ]
  },
  {
   "cell_type": "code",
   "execution_count": null,
   "metadata": {
    "jupyter": {
     "source_hidden": true
    }
   },
   "outputs": [],
   "source": [
    "def exercise_1():\n",
    "    r1 = 'Le rang ligne de 𝐴 est plus petit ou égal à 2, car c\\'est un sous-espace vectoriel de ℝ2.'\n",
    "    r2 = 'Le rang ligne de 𝐴 est plus petit ou égal à 3, car c\\'est un sous-espace vectoriel de ℝ3.'\n",
    "    r3 = 'Le rang ligne de 𝐴 est plus petit ou égal à 3, car engendré par 3 vecteurs.'\n",
    "    r4 = 'Le rang ligne de 𝐴 est plus petit ou égal à 2, car engendré par 2 vecteurs.'\n",
    "    r5 = 'Le rang colonne de A est plus petit ou égal à 2.'\n",
    "\n",
    "    select = widgets.SelectMultiple(\n",
    "        options=[(r1, 1), (r2, 2), (r3, 3), (r4, 4), (r5, 5)],\n",
    "        description='Sélection :',\n",
    "        disabled=False,\n",
    "        layout=Layout(width='auto', height='100px')\n",
    "    )\n",
    "\n",
    "    button = widgets.Button(description='Vérifier')\n",
    "    out = widgets.Output()\n",
    "\n",
    "    def callback(e):\n",
    "        out.clear_output()\n",
    "        with out:\n",
    "            if (1 in select.value or 3 in select.value):\n",
    "                    print('Mauvaise réponse. \\nAttention à ne pas confondre les espaces des lignes et colonnes')\n",
    "            elif (2 not in select.value or 4 not in select.value or 5 not in select.value):\n",
    "                print('Il manque au moins une réponse.')\n",
    "            elif (2 in select.value and 4 in select.value and 5 in select.value):\n",
    "                print('Correct !')\n",
    "                     \n",
    "    button.on_click(callback)\n",
    "\n",
    "    display(select)\n",
    "    display(button)\n",
    "    display(out)\n",
    "    \n",
    "exercise_1()"
   ]
  },
  {
   "cell_type": "markdown",
   "metadata": {},
   "source": [
    "### EXERCICE 2\n",
    "#### 2.1\n",
    "Soit la matrice $A$ :\n",
    "\n",
    "$$A = \\begin{pmatrix} 1 & 2 & 3 \\\\ 0 & 1 & 2  \\end{pmatrix}$$\n",
    "\n",
    "Donnez le rang ligne de $A$."
   ]
  },
  {
   "cell_type": "code",
   "execution_count": null,
   "metadata": {
    "jupyter": {
     "source_hidden": true
    }
   },
   "outputs": [],
   "source": [
    "def exercice_2_1():\n",
    "    text = widgets.IntText(\n",
    "        description='Réponse :',\n",
    "        disabled=False\n",
    "    )\n",
    "    button = widgets.Button(description='Vérifier')\n",
    "    out = widgets.Output()\n",
    "    \n",
    "    def callback(e):\n",
    "        out.clear_output()\n",
    "        r = text.value\n",
    "        \n",
    "        with out:\n",
    "            if r == 2:\n",
    "                display(Markdown(\"Par la proposition 4 c'est  correct!\"))\n",
    "            elif r > 2:\n",
    "                display(Markdown(\"Faux, c'est trop grand\"))\n",
    "            else:\n",
    "                display(Markdown(\"Faux, c'est trop petit\"))\n",
    "        \n",
    "    button.on_click(callback)\n",
    "    \n",
    "    display(text)\n",
    "    display(button)\n",
    "    display(out)\n",
    "exercice_2_1()"
   ]
  },
  {
   "cell_type": "markdown",
   "metadata": {},
   "source": [
    "#### 2.2\n",
    "Parmi les ensembles suivants, séléctionnez l'ensemble générant l'espace ligne de $A$\n",
    "\n",
    "$E_1 = \\begin{Bmatrix}\\begin{pmatrix} 1 \\\\ 2 \\\\ 3 \\end{pmatrix}, \\begin{pmatrix} 0 \\\\ 1 \\\\ 2 \\end{pmatrix}\\end{Bmatrix}$ $E_2 = \\begin{Bmatrix}\\begin{pmatrix} 1 \\\\ 2 \\\\ 3 \\end{pmatrix}, \\begin{pmatrix} 0 \\\\ 1 \\\\ 2 \\end{pmatrix}, \\begin{pmatrix} 0 \\\\ 0 \\\\ 1 \\end{pmatrix}\\end{Bmatrix}$ \n",
    "$E_3 = \\begin{Bmatrix}\\begin{pmatrix} 1 \\\\ 0\\end{pmatrix}, \\begin{pmatrix} 2 \\\\ 1 \\end{pmatrix}, \\begin{pmatrix} 3 \\\\ 2 \\end{pmatrix}\\end{Bmatrix}$\n",
    "$E_4 = \\begin{Bmatrix}\\begin{pmatrix} 1 \\\\ 0\\end{pmatrix}, \\begin{pmatrix} 2 \\\\ 1 \\end{pmatrix}\\end{Bmatrix}$"
   ]
  },
  {
   "cell_type": "code",
   "execution_count": null,
   "metadata": {
    "jupyter": {
     "source_hidden": true
    }
   },
   "outputs": [],
   "source": [
    "def exercise_2_2():\n",
    "    select = widgets.SelectMultiple(\n",
    "        options=['E1', 'E2', 'E3', 'E4'],\n",
    "        description='Sélection :',\n",
    "        disabled=False,\n",
    "        layout=Layout(width='auto', height='auto')\n",
    "    )\n",
    "\n",
    "    button = widgets.Button(description='Vérifier')\n",
    "\n",
    "    out = widgets.Output()\n",
    "\n",
    "    def callback(e):\n",
    "        \n",
    "        out.clear_output()\n",
    "        with out:\n",
    "            if len(select.value) <= 0: # Empty\n",
    "                pass\n",
    "            elif len(select.value) > 1:\n",
    "                display(Markdown(\"Un seul de ces ensembles génère exactement l'espace ligne de A\"))\n",
    "            elif 'E1' not in select.value:\n",
    "                display(Markdown(\"Faux\"))\n",
    "            else:\n",
    "                display(Markdown(\"Correct !\"))\n",
    "    button.on_click(callback)\n",
    "    display(select)\n",
    "    display(button)\n",
    "    display(out)\n",
    "    \n",
    "exercise_2_2()"
   ]
  },
  {
   "cell_type": "markdown",
   "metadata": {},
   "source": [
    "#### 2.3\n",
    "Utilizez la remarque 2 ainsi que les propositions 3 et 4 pour trouver le rang colonne de $A$"
   ]
  },
  {
   "cell_type": "code",
   "execution_count": null,
   "metadata": {
    "jupyter": {
     "source_hidden": true
    }
   },
   "outputs": [],
   "source": [
    "\n",
    "\n",
    "def exercise_2_3():\n",
    "    text = widgets.IntText(description='Réponse :', disabled=False)\n",
    "\n",
    "    button = widgets.Button(description='Vérifier')\n",
    "    button2 = widgets.Button(description='Solution', disabled=True)\n",
    "    box = HBox(children=[button,button2])\n",
    "    out = widgets.Output()\n",
    "\n",
    "    def callback(e):\n",
    "        out.clear_output()\n",
    "        button2.disabled = False\n",
    "        with out:\n",
    "            if(text.value == 2):\n",
    "                print('Correct !')\n",
    "            else: \n",
    "                print('False, try again or check the solution')\n",
    "    \n",
    "    def solution(e):\n",
    "        out.clear_output()\n",
    "        with out:\n",
    "            A = np.array([[1, 2, 3], [0, 1, 2]])\n",
    "            A_t = A.transpose()\n",
    "            display(Markdown('Pour trouver le rang colonne de $A$, nous utilisons la remarque 2 et trouvous le rang ligne de la transposée de $A$.'))\n",
    "            display(Markdown('Par les propositions 3 et 4, nous échelonnons la matrice transposée et observont le nombre de lignes qui contiennent des pivots'))\n",
    "            M = al.echelonMat('E', A_t)\n",
    "            display(Markdown('Ainsi le rang colonne de $A$ est 2'))\n",
    "                      \n",
    "    button.on_click(callback)\n",
    "    button2.on_click(solution)\n",
    "    \n",
    "    display(text)\n",
    "    display(box)\n",
    "    display(out)\n",
    "    \n",
    "exercise_2_3()\n"
   ]
  }
 ],
 "metadata": {
  "kernelspec": {
   "display_name": "Python 3",
   "language": "python",
   "name": "python3"
  },
  "language_info": {
   "codemirror_mode": {
    "name": "ipython",
    "version": 3
   },
   "file_extension": ".py",
   "mimetype": "text/x-python",
   "name": "python",
   "nbconvert_exporter": "python",
   "pygments_lexer": "ipython3",
   "version": "3.7.4"
  }
 },
 "nbformat": 4,
 "nbformat_minor": 4
}
