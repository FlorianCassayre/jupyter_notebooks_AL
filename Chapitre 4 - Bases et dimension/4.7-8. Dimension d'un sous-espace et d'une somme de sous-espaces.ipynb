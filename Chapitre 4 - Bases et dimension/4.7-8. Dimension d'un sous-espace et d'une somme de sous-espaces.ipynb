{
 "cells": [
  {
   "cell_type": "code",
   "execution_count": null,
   "metadata": {
    "jupyter": {
     "source_hidden": true
    }
   },
   "outputs": [],
   "source": [
    "import numpy as np\n",
    "from IPython.display import display, Markdown, Latex\n",
    "import plotly.graph_objs as go\n",
    "import plotly\n",
    "import ipywidgets as widgets\n",
    "from ipywidgets import interact, interactive, fixed, interact_manual, Layout\n",
    "import matplotlib\n",
    "import plotly.express as px\n",
    "import sympy as sp"
   ]
  },
  {
   "cell_type": "markdown",
   "metadata": {},
   "source": [
    "# Concept(s)-cl&eacute;(S)\n",
    "\n",
    "\n",
    "\n",
    "### TH&Eacute;OR&Egrave;ME 1 :\n",
    "\n",
    "Soient $V$ un $\\mathbb{R}$-espace vectoriel de dimension finie et $W$ un sous-espace vectoriel de $V.$ Alors les affirmations suivantes sont v&eacute;rifi&eacute;es.\n",
    "\n",
    "\n",
    "\n",
    "1. Le sous-espace vectoriel $W$ est de dimension finie.\n",
    "\n",
    "2. La dimension de $W$ satisfait $\\dim W\\leq \\dim V$.\n",
    "\n",
    "3. Si $\\dim W=\\dim V,$ alors $W=V$."
   ]
  },
  {
   "cell_type": "markdown",
   "metadata": {},
   "source": [
    "### EXERCICE 1\n",
    "\n",
    "Soit un système de $3$ équations à $5$ inconnues.\n",
    "\n",
    "Quelle est la dimension de l'espace des solutions ? Cochez toutes les réponses valides (maintenez <kbd>CTRL</kbd> pour en sélectionner plusieurs)."
   ]
  },
  {
   "cell_type": "code",
   "execution_count": null,
   "metadata": {
    "jupyter": {
     "source_hidden": true
    }
   },
   "outputs": [],
   "source": [
    "def exercice_1():\n",
    "    select = widgets.SelectMultiple(\n",
    "        options=['0', '1', '2', '3', '4', '5'],\n",
    "        description='Réponse :',\n",
    "        disabled=False\n",
    "    )\n",
    "    \n",
    "    button = widgets.Button(description='Vérifier')\n",
    "\n",
    "    out = widgets.Output()\n",
    "\n",
    "    display(select)\n",
    "    display(button)\n",
    "    display(out)\n",
    "\n",
    "    def verification(e):\n",
    "        if len(select.value) > 0:\n",
    "            out.clear_output()\n",
    "            with out:\n",
    "                other = \"<br>La dimension de l'espace des solutions dépend du nombre de variables libres : dans ce système celle-ci peut être au plus $5-3=2$.\"\n",
    "                if select.value != ('0', '1', '2'):\n",
    "                    display(Markdown(\"C'est incorrect!\" + other))\n",
    "                else:\n",
    "                    display(Markdown(\"C'est correct.\" + other))\n",
    "\n",
    "    button.on_click(verification)\n",
    "    \n",
    "exercice_1()"
   ]
  },
  {
   "cell_type": "markdown",
   "metadata": {},
   "source": [
    "### EXERCICE 2\n",
    "\n",
    "Soit $S_1$ un système de $2$ équations à $3$ inconnues et dont l'espace de solution forme un plan.\n",
    "\n",
    "On définit $S_2$ comme étant le système $S_1$ privé d'une équation.\n",
    "\n",
    "Quelle est la dimension de l'espace des solutions de $S_2$ ?"
   ]
  },
  {
   "cell_type": "code",
   "execution_count": null,
   "metadata": {
    "jupyter": {
     "source_hidden": true
    }
   },
   "outputs": [],
   "source": [
    "def exercice_2():\n",
    "    text = widgets.IntText(description='Réponse :')\n",
    "    button = widgets.Button(description='Vérifier')\n",
    "    out = widgets.Output()\n",
    "    \n",
    "    def callback(e):\n",
    "        out.clear_output()\n",
    "        r = text.value\n",
    "        \n",
    "        with out:\n",
    "            other = \"<br />En effet, comme la solution de $S_1$ est un plan les deux équations sont dépendantes. La solution de $S_2$ est donc aussi un plan, donc sa dimension est $2$.\"\n",
    "            if r == 2:\n",
    "                display(Markdown(\"C'est correct!\" + other))\n",
    "            else:\n",
    "                display(Markdown(\"C'est incorrect.\" + other))\n",
    "        \n",
    "    button.on_click(callback)\n",
    "    \n",
    "    display(text)\n",
    "    display(button)\n",
    "    display(out)\n",
    "exercice_2()"
   ]
  },
  {
   "cell_type": "markdown",
   "metadata": {},
   "source": [
    "### EXERCICE 3\n",
    "\n"
   ]
  },
  {
   "cell_type": "code",
   "execution_count": null,
   "metadata": {
    "jupyter": {
     "source_hidden": true
    }
   },
   "outputs": [],
   "source": [
    "def exercice_3(answer, explanation):\n",
    "    text = widgets.IntText(description='Réponse :')\n",
    "    button = widgets.Button(description='Vérifier')\n",
    "    out = widgets.Output()\n",
    "    \n",
    "    def callback(e):\n",
    "        out.clear_output()\n",
    "        r = text.value\n",
    "        \n",
    "        with out:\n",
    "            other = \"<br />\" + explanation\n",
    "            if r == answer:\n",
    "                display(Markdown(\"C'est correct!\" + other))\n",
    "            else:\n",
    "                display(Markdown(\"C'est incorrect.\" + other))\n",
    "        \n",
    "    button.on_click(callback)\n",
    "    \n",
    "    display(text)\n",
    "    display(button)\n",
    "    display(out)"
   ]
  },
  {
   "cell_type": "markdown",
   "metadata": {},
   "source": [
    "Donner dans chaque cas la dimension de la somme des deux espaces vectoriels :"
   ]
  },
  {
   "cell_type": "markdown",
   "metadata": {},
   "source": [
    "(a) $\\dim (W + V)$ avec $W$ un plan et $V$ une droite coplanaire à ce plan ; les deux passant par l'origine."
   ]
  },
  {
   "cell_type": "code",
   "execution_count": null,
   "metadata": {
    "jupyter": {
     "source_hidden": true
    }
   },
   "outputs": [],
   "source": [
    "exercice_3(2, \"$V$ est un sous-ensemble de $W$, donc $\\dim (W + V) = \\dim W = 2$.\")"
   ]
  },
  {
   "cell_type": "markdown",
   "metadata": {},
   "source": [
    "(b) $\\dim (W + V)$ avec $W$ un plan et $V$ une droite non coplanaire à ce plan ; les deux passant par l'origine."
   ]
  },
  {
   "cell_type": "code",
   "execution_count": null,
   "metadata": {
    "jupyter": {
     "source_hidden": true
    }
   },
   "outputs": [],
   "source": [
    "exercice_3(3, \"$W$ et $V$ sont deux espaces indépendants, donc $\\dim (W + V) = \\dim W + \\dim V = 2 + 1 = 3$.\")"
   ]
  },
  {
   "cell_type": "markdown",
   "metadata": {},
   "source": [
    "(c) $\\dim (V + V)$ avec $V$ une droite passant par l'origine."
   ]
  },
  {
   "cell_type": "code",
   "execution_count": null,
   "metadata": {
    "jupyter": {
     "source_hidden": true
    }
   },
   "outputs": [],
   "source": [
    "exercice_3(1, \"La somme d'un même espace n'a pas d'effet : $\\dim (V + V) = \\dim V = 1$.\")"
   ]
  },
  {
   "cell_type": "markdown",
   "metadata": {},
   "source": [
    "(d) $\\dim (V_1 + V_2)$ avec $V_1$ et $V_2$ deux droites distinctes passant par l'origine."
   ]
  },
  {
   "cell_type": "code",
   "execution_count": null,
   "metadata": {
    "jupyter": {
     "source_hidden": true
    }
   },
   "outputs": [],
   "source": [
    "exercice_3(2, \"$V_1$ et $V_2$ sont deux espaces indépendants, donc $\\dim (V_1 + V_2) = \\dim V_1 + \\dim V_2 = 1 + 1 = 2$.\")"
   ]
  },
  {
   "cell_type": "markdown",
   "metadata": {},
   "source": [
    "(e) $\\dim (W_1 + W_2)$ avec $W_1$ et $W_2$ deux plans distincts passant par l'origine."
   ]
  },
  {
   "cell_type": "code",
   "execution_count": null,
   "metadata": {
    "jupyter": {
     "source_hidden": true
    }
   },
   "outputs": [],
   "source": [
    "exercice_3(3, \"$\\dim (W_1 + W_2) = 2 + 2 - 1 = 3$.\")"
   ]
  },
  {
   "cell_type": "markdown",
   "metadata": {},
   "source": [
    "(f) $\\dim (U + X)$ avec $U$ l'origine et $X$ l'espace tridimensionel."
   ]
  },
  {
   "cell_type": "code",
   "execution_count": null,
   "metadata": {
    "jupyter": {
     "source_hidden": true
    }
   },
   "outputs": [],
   "source": [
    "exercice_3(3, \"$\\dim (U + X) = 0 + 3 - 0 = 3$.\")"
   ]
  }
 ],
 "metadata": {
  "kernelspec": {
   "display_name": "Python 3",
   "language": "python",
   "name": "python3"
  },
  "language_info": {
   "codemirror_mode": {
    "name": "ipython",
    "version": 3
   },
   "file_extension": ".py",
   "mimetype": "text/x-python",
   "name": "python",
   "nbconvert_exporter": "python",
   "pygments_lexer": "ipython3",
   "version": "3.6.9"
  }
 },
 "nbformat": 4,
 "nbformat_minor": 4
}
