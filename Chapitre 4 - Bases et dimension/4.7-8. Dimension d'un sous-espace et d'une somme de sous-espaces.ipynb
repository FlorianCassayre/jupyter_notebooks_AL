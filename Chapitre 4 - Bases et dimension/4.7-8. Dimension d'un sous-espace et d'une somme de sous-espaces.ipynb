{
 "cells": [
  {
   "cell_type": "code",
   "execution_count": null,
   "metadata": {
    "jupyter": {
     "source_hidden": true
    }
   },
   "outputs": [],
   "source": [
    "from Fonctions.chapitre4 import *"
   ]
  },
  {
   "cell_type": "markdown",
   "metadata": {},
   "source": [
    "# Concept(s)-cl&eacute;(S)\n",
    "\n",
    "\n",
    "\n",
    "### TH&Eacute;OR&Egrave;ME 1 :\n",
    "\n",
    "Soient $V$ un $\\mathbb{R}$-espace vectoriel de dimension finie et $W$ un sous-espace vectoriel de $V.$ Alors les affirmations suivantes sont v&eacute;rifi&eacute;es.\n",
    "\n",
    "\n",
    "\n",
    "1. Le sous-espace vectoriel $W$ est de dimension finie.\n",
    "\n",
    "2. La dimension de $W$ satisfait $\\dim W\\leq \\dim V$.\n",
    "\n",
    "3. Si $\\dim W=\\dim V,$ alors $W=V$."
   ]
  },
  {
   "cell_type": "markdown",
   "metadata": {},
   "source": [
    "### EXERCICE 1\n",
    "\n",
    "Soit un système de $3$ équations à $5$ inconnues.\n",
    "\n",
    "Quelle est la dimension de l'espace des solutions ? Cochez toutes les réponses valides (maintenez <kbd>CTRL</kbd> pour en sélectionner plusieurs)."
   ]
  },
  {
   "cell_type": "code",
   "execution_count": null,
   "metadata": {
    "jupyter": {
     "source_hidden": true
    }
   },
   "outputs": [],
   "source": [
    "Ex1Chapitre4_7()"
   ]
  },
  {
   "cell_type": "markdown",
   "metadata": {},
   "source": [
    "### EXERCICE 2\n",
    "\n",
    "Soit $S_1$ un système de $2$ équations à $3$ inconnues et dont l'espace de solution forme un plan.\n",
    "\n",
    "On définit $S_2$ comme étant le système $S_1$ privé d'une équation.\n",
    "\n",
    "Quelle est la dimension de l'espace des solutions de $S_2$ ?"
   ]
  },
  {
   "cell_type": "code",
   "execution_count": null,
   "metadata": {
    "jupyter": {
     "source_hidden": true
    }
   },
   "outputs": [],
   "source": [
    "Ex2Chapitre4_7()"
   ]
  },
  {
   "cell_type": "markdown",
   "metadata": {},
   "source": [
    "### EXERCICE 3\n",
    "\n"
   ]
  },
  {
   "cell_type": "markdown",
   "metadata": {},
   "source": [
    "Donner dans chaque cas la dimension de la somme des deux espaces vectoriels :"
   ]
  },
  {
   "cell_type": "markdown",
   "metadata": {},
   "source": [
    "(a) $\\dim (W + V)$ avec $W$ un plan et $V$ une droite coplanaire à ce plan ; les deux passant par l'origine."
   ]
  },
  {
   "cell_type": "code",
   "execution_count": null,
   "metadata": {
    "jupyter": {
     "source_hidden": true
    }
   },
   "outputs": [],
   "source": [
    "Ex3Chapitre4_7(2, \"$V$ est un sous-ensemble de $W$, donc $\\dim (W + V) = \\dim W = 2$.\")"
   ]
  },
  {
   "cell_type": "markdown",
   "metadata": {},
   "source": [
    "(b) $\\dim (W + V)$ avec $W$ un plan et $V$ une droite non coplanaire à ce plan ; les deux passant par l'origine."
   ]
  },
  {
   "cell_type": "code",
   "execution_count": null,
   "metadata": {
    "jupyter": {
     "source_hidden": true
    }
   },
   "outputs": [],
   "source": [
    "Ex3Chapitre4_7(3, \"$W$ et $V$ sont deux espaces indépendants, donc $\\dim (W + V) = \\dim W + \\dim V = 2 + 1 = 3$.\")"
   ]
  },
  {
   "cell_type": "markdown",
   "metadata": {},
   "source": [
    "(c) $\\dim (V + V)$ avec $V$ une droite passant par l'origine."
   ]
  },
  {
   "cell_type": "code",
   "execution_count": null,
   "metadata": {
    "jupyter": {
     "source_hidden": true
    }
   },
   "outputs": [],
   "source": [
    "Ex3Chapitre4_7(1, \"La somme d'un même espace n'a pas d'effet : $\\dim (V + V) = \\dim V = 1$.\")"
   ]
  },
  {
   "cell_type": "markdown",
   "metadata": {},
   "source": [
    "(d) $\\dim (V_1 + V_2)$ avec $V_1$ et $V_2$ deux droites distinctes passant par l'origine."
   ]
  },
  {
   "cell_type": "code",
   "execution_count": null,
   "metadata": {
    "jupyter": {
     "source_hidden": true
    }
   },
   "outputs": [],
   "source": [
    "Ex3Chapitre4_7(2, \"$V_1$ et $V_2$ sont deux espaces indépendants, donc $\\dim (V_1 + V_2) = \\dim V_1 + \\dim V_2 = 1 + 1 = 2$.\")"
   ]
  },
  {
   "cell_type": "markdown",
   "metadata": {},
   "source": [
    "(e) $\\dim (W_1 + W_2)$ avec $W_1$ et $W_2$ deux plans distincts passant par l'origine."
   ]
  },
  {
   "cell_type": "code",
   "execution_count": null,
   "metadata": {
    "jupyter": {
     "source_hidden": true
    }
   },
   "outputs": [],
   "source": [
    "Ex3Chapitre4_7(3, \"$\\dim (W_1 + W_2) = 2 + 2 - 1 = 3$.\")"
   ]
  },
  {
   "cell_type": "markdown",
   "metadata": {},
   "source": [
    "(f) $\\dim (U + X)$ avec $U$ l'origine et $X$ l'espace tridimensionel."
   ]
  },
  {
   "cell_type": "code",
   "execution_count": null,
   "metadata": {
    "jupyter": {
     "source_hidden": true
    }
   },
   "outputs": [],
   "source": [
    "Ex3Chapitre4_7(3, \"$\\dim (U + X) = 0 + 3 - 0 = 3$.\")"
   ]
  }
 ],
 "metadata": {
  "kernelspec": {
   "display_name": "Python 3",
   "language": "python",
   "name": "python3"
  },
  "language_info": {
   "codemirror_mode": {
    "name": "ipython",
    "version": 3
   },
   "file_extension": ".py",
   "mimetype": "text/x-python",
   "name": "python",
   "nbconvert_exporter": "python",
   "pygments_lexer": "ipython3",
   "version": "3.7.4"
  }
 },
 "nbformat": 4,
 "nbformat_minor": 4
}
