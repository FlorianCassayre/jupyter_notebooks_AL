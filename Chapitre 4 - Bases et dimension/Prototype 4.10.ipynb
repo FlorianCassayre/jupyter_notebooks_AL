{
 "cells": [
  {
   "cell_type": "code",
   "execution_count": null,
   "metadata": {},
   "outputs": [],
   "source": [
    "from Fonctions.chapitre4 import *"
   ]
  },
  {
   "cell_type": "markdown",
   "metadata": {},
   "source": [
    "# Concept(s)-cl&eacute;(s)\n",
    "\n",
    "\n",
    "\n",
    "### LEMME:\n",
    "\n",
    "Soit $S$ un syst&egrave;me de $m$ &eacute;quations lin&eacute;aires &agrave; $n$ inconnues, $A$ la matrice des coefficients de $S$ et $\\hat{A}$ sa matrice augment&eacute;e. Alors $S$ poss&egrave;de une solution si et seulement si le rang colonne de $A$ est &eacute;gal au rang colonne de $\\hat{A}$."
   ]
  },
  {
   "cell_type": "markdown",
   "metadata": {},
   "source": [
    "### EXERCICE 1.1\n",
    "\n",
    "Soit 𝑆 un système de 𝑚 équations linéaires à 𝑛 inconnues:\n",
    "\n",
    "$\\begin{equation}\n",
    "  \\left\\{\n",
    "      \\begin{aligned}\n",
    "        x_1 + 4x_2 + 3x_3 + 4x_4 = 1 \\\\ \n",
    "        2x_1 + 6x_2 + 5x_3 + 8x_4 = 1 \\\\\n",
    "        x_1  + x_3 + 4x_4 = 1\n",
    "      \\end{aligned}\n",
    "    \\right.\n",
    "\\end{equation}$\n",
    "\n",
    "Cette quation peut se repréenseter sous la forme  $AX =b$.\n",
    "Ecrivez $A$ la matrice et le vecteur $b$ dans la cellule suivante en respectant le format suivant pour les matrices et les vecteurs\n",
    "\n",
    "$[[ a, b], [c, d]] = \\begin{pmatrix} a & b \\\\ c & d \\end{pmatrix}$\n",
    "\n",
    "$[[e], [f]] = \\begin{pmatrix} e \\\\ f \\end{pmatrix}$"
   ]
  },
  {
   "cell_type": "code",
   "execution_count": null,
   "metadata": {},
   "outputs": [],
   "source": [
    "# n'oubliez pas d'executer la cellule\n",
    "A = [[],[],[]]\n",
    "b = [[],[],[]]\n",
    "\n",
    "Ex1_1Chapitre4_10(A,b) # ne pas toucher cette ligne"
   ]
  },
  {
   "cell_type": "markdown",
   "metadata": {},
   "source": [
    "### EXERCICE 1.2\n",
    "Pour calculer le rang colonne de $A$  nous échelonnons sa matrice transposée. Si et seulement si le rang colonne de $A$  est égal au rang colonne de $\\hat{A}$.\n",
    "À partir de cette matrice, donnez le rang colonne de $A$  et trouvez une base de l'espace colonne de $A$ ."
   ]
  },
  {
   "cell_type": "code",
   "execution_count": null,
   "metadata": {},
   "outputs": [],
   "source": [
    "Ex1_2_ech_Chapitre_4_10()"
   ]
  },
  {
   "cell_type": "code",
   "execution_count": null,
   "metadata": {
    "jupyter": {
     "source_hidden": true
    }
   },
   "outputs": [],
   "source": [
    "Ex1_2_1Chapitre_4_10()"
   ]
  },
  {
   "cell_type": "code",
   "execution_count": null,
   "metadata": {},
   "outputs": [],
   "source": [
    "# [vect1,vect2,...] avec vect = [a, b, c] n'oubliez pas d'executer la cellule\n",
    "base = [[1,2,1],[0,1,2]]\n",
    "\n",
    "Ex1_2_2Chapitre_4_10(base)"
   ]
  },
  {
   "cell_type": "markdown",
   "metadata": {},
   "source": [
    "### EXERCICE 1.3 \n",
    "Le système possède-t-il une solution ? (utilisez le lemme)\n",
    "\n",
    "Maintenant nous allons utiliser le lemme affin de déterminer si le système possède une solution.\n",
    "\n",
    "L'énoncé du lemme est équivalent à dire que les dimmensions des espaces des colonnes de $A$ et de $\\hat{A}$.\n",
    "Comme nous connaissons une base de l'espace des colonnes de $A$, nous pouvons l'utiliser pour trouver le rang colonne de $\\hat{A}$\n",
    "\n",
    "Ainsi, au lieu de trouver le rang colonne de \n",
    "\n",
    "$ \\hat{A} = \\begin{pmatrix} 1 & 4 & 3 & 4 & 1 \\\\ 2 & 6 & 5 & 8 & 1 \\\\   1 & 0 & 1 & 4 & 1\\end{pmatrix}$\n",
    "\n",
    "nous pouvons chercher le rang colonne de \n",
    "\n",
    "$\\begin{pmatrix} 1 & 0 & 1 \\\\ 2 & 1 & 1 \\\\   1 & 2 & 1\\end{pmatrix}$\n",
    "\n",
    "pour ceci il faut donc échelonner ça matrice transposée\n",
    "\n",
    "$\\begin{pmatrix} 1 & 2 & 1 \\\\ 0 & 1 & 2 \\\\   1 & 1 & 1\\end{pmatrix}$\n",
    "\n"
   ]
  },
  {
   "cell_type": "code",
   "execution_count": null,
   "metadata": {},
   "outputs": [],
   "source": [
    "def Ex1_3_ech_Chapitre_4_10():\n",
    "    global m\n",
    "    A= [[1, 2, 1],[0, 1, 2],[1, 1, 1]]\n",
    "    al.printA(A)\n",
    "    [i,j,r,alpha]= al.manualEch(A)\n",
    "    MatriceList=[np.array(A)]\n",
    "    m2=A\n",
    "    button = widgets.Button(description='Appliquer')\n",
    "    out = widgets.Output()\n",
    "\n",
    "    def callback(e):\n",
    "        global m2\n",
    "        out.clear_output()\n",
    "        with out:\n",
    "            m2=al.echelonnage(i, j, r, alpha, A, m2, MatriceList)\n",
    "\n",
    "    button.on_click(callback)\n",
    "    display(button)\n",
    "    display(out)\n",
    "    \n",
    "Ex1_3_ech_Chapitre_4_10()"
   ]
  },
  {
   "cell_type": "code",
   "execution_count": null,
   "metadata": {},
   "outputs": [],
   "source": [
    "Ex1_3Chapitre_4_10()"
   ]
  },
  {
   "cell_type": "markdown",
   "metadata": {},
   "source": []
  },
  {
   "cell_type": "code",
   "execution_count": null,
   "metadata": {},
   "outputs": [],
   "source": []
  }
 ],
 "metadata": {
  "kernelspec": {
   "display_name": "Python 3",
   "language": "python",
   "name": "python3"
  },
  "language_info": {
   "codemirror_mode": {
    "name": "ipython",
    "version": 3
   },
   "file_extension": ".py",
   "mimetype": "text/x-python",
   "name": "python",
   "nbconvert_exporter": "python",
   "pygments_lexer": "ipython3",
   "version": "3.7.4"
  }
 },
 "nbformat": 4,
 "nbformat_minor": 4
}
