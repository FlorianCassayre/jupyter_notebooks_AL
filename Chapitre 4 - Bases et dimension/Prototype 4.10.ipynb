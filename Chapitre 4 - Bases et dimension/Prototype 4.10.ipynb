{
 "cells": [
  {
   "cell_type": "code",
   "execution_count": null,
   "metadata": {
    "jupyter": {
     "source_hidden": true
    }
   },
   "outputs": [],
   "source": [
    "%cd ..\n",
    "import Librairie.AL_Fct as al\n",
    "%cd \"Chapitre 4 - Bases et dimension\"\n",
    "\n",
    "import numpy as np\n",
    "from IPython.display import display, Markdown, Latex\n",
    "import plotly.graph_objs as go\n",
    "import plotly\n",
    "import ipywidgets as widgets\n",
    "from ipywidgets import interact, interactive, fixed, interact_manual\n",
    "from ipywidgets import Layout, HBox, VBox, Label\n",
    "#import matplotlib\n",
    "#import plotly.express as px"
   ]
  },
  {
   "cell_type": "markdown",
   "metadata": {},
   "source": [
    "# Concept(s)-cl&eacute;(s)\n",
    "\n",
    "\n",
    "\n",
    "### LEMME 5 :\n",
    "\n",
    "Soit $S$ un syst&egrave;me de $m$ &eacute;quations lin&eacute;aires &agrave; $n$ inconnues, $A$ la matrice des coefficients de $S$ et $\\hat{A}$ sa matrice augment&eacute;e. Alors $S$ poss&egrave;de une solution si et seulement si le rang colonne de $A$ est &eacute;gal au rang colonne de $\\hat{A}.$"
   ]
  },
  {
   "cell_type": "markdown",
   "metadata": {},
   "source": [
    "### EXERCICE 1.1\n",
    "\n",
    "Soit 𝑆 un système de 𝑚 équations linéaires à 𝑛 inconnues:\n",
    "\n",
    "$\\begin{equation}\n",
    "  \\left\\{\n",
    "      \\begin{aligned}\n",
    "        x_1 + 4x_2 + 3x_3 + 4x_4 = 1 \\\\ \n",
    "        2x_1 + 6x_2 + 5x_3 + 8x_4 = 1 \\\\\n",
    "        x_1  + x_3 + 4x_4 = 1\n",
    "      \\end{aligned}\n",
    "    \\right.\n",
    "\\end{equation}$\n",
    "\n",
    "Cette quation peut se repréenseter sous la forme  $AX =b$.\n",
    "Ecrivez A la matrice et le vecteur b dans la cellule suivante en respectant\n",
    "\n",
    "$[[ a, b], [c, d]] = \\begin{pmatrix} a & b \\\\ c & d \\end{pmatrix}$\n",
    "\n",
    "et b en suivant le format \n",
    "\n",
    "$[e, f] = \\begin{pmatrix} e \\\\ f \\end{pmatrix}$"
   ]
  },
  {
   "cell_type": "code",
   "execution_count": null,
   "metadata": {
    "jupyter": {
     "source_hidden": true
    }
   },
   "outputs": [],
   "source": [
    "def exercice1_1():\n",
    "    A_sol = [[1, 4, 3, 4],[2, 6, 5, 8],[1, 0, 1, 4]]\n",
    "    b_sol = [1, 1, 1]\n",
    "    if A == [] or b == []:\n",
    "        print(\"Au moins une des deux entrée est vide\")\n",
    "    elif not (len(A) == len(b)):\n",
    "        print(\"Les tailles de la matrice et du vecteur ne correspondent pas\")\n",
    "    else:\n",
    "        if A == A_sol:\n",
    "            if b == b_sol:\n",
    "                print(\"Correct !\")\n",
    "            else:\n",
    "                print(\"Le vecteur b est faux, votre reponse correspond au système suivant:\")\n",
    "                al.printSyst(A, b)\n",
    "        elif b == b_sol:\n",
    "            print(\"La Matrice A est fausse, votre reponse correspond au système suivant:\")\n",
    "            al.printSyst(A, b)\n",
    "        else:\n",
    "            print(\"Faux, votre reponse correspond au système suivant:\")\n",
    "            al.printSyst(A, b)"
   ]
  },
  {
   "cell_type": "code",
   "execution_count": null,
   "metadata": {},
   "outputs": [],
   "source": [
    "# n'oubliez pas d'executer la cellule\n",
    "A = []\n",
    "b = []\n",
    "\n",
    "exercice1_1() # ne pas toucher cette ligne"
   ]
  },
  {
   "cell_type": "markdown",
   "metadata": {},
   "source": [
    "### EXERCICE 1.2\n",
    "Pour calculer le rang colonne de $A$  nous échelonnons sa matrice transposée. Si et seulement si le rang colonne de $A$  est égal au rang colonne de $\\hat{A}$.\n",
    "À partir de cette matrice, donnez le rang colonne de $A$  et trouvez une base de l'espace colonne de $A$ ."
   ]
  },
  {
   "cell_type": "code",
   "execution_count": null,
   "metadata": {
    "jupyter": {
     "source_hidden": true
    }
   },
   "outputs": [],
   "source": [
    "A_sol = np.array([[1, 4, 3, 4],[2, 6, 5, 8],[1, 0, 1, 4]])\n",
    "A_sol_t = A_sol.transpose()\n",
    "M = al.echelonMat('E', A_sol_t)\n",
    "                     "
   ]
  },
  {
   "cell_type": "code",
   "execution_count": null,
   "metadata": {
    "jupyter": {
     "source_hidden": true
    }
   },
   "outputs": [],
   "source": [
    "def exercice1_2_1():\n",
    "    \n",
    "    text_rang = widgets.IntText()\n",
    "    box = VBox([Label('Rang colonne de A:'), text_rang])\n",
    "    button = widgets.Button(description='Vérifier')\n",
    "    out = widgets.Output()\n",
    "    \n",
    "    def callback(e):\n",
    "        out.clear_output()\n",
    "        with out:\n",
    "            if(text_rang.value == 2):\n",
    "                print('Correct !')\n",
    "            else: \n",
    "                print('False, try again or check the solution')\n",
    "                     \n",
    "    button.on_click(callback)\n",
    "    display(box)\n",
    "    display(button)\n",
    "    display(out)\n",
    "\n",
    "exercice1_2_1()"
   ]
  },
  {
   "cell_type": "code",
   "execution_count": null,
   "metadata": {
    "jupyter": {
     "source_hidden": true
    }
   },
   "outputs": [],
   "source": [
    "def exercice1_2_2():\n",
    "  \n",
    "    base_sol = [[1,2,1],[0,1,2]]\n",
    "    \n",
    "    if base_sol == []:\n",
    "        print(\"L'entrée est vide\")\n",
    "    else:\n",
    "        if base == base_sol:\n",
    "            print(\"Correct !\")\n",
    "        else:\n",
    "            print(\"Faux\")\n",
    "    "
   ]
  },
  {
   "cell_type": "code",
   "execution_count": null,
   "metadata": {},
   "outputs": [],
   "source": [
    "# [vect1,vect2,...] avec vect = [a, b, c] n'oubliez pas d'executer la cellule\n",
    "base = [[1,2,1],[0,1,2]]\n",
    "exercice1_2_2()"
   ]
  },
  {
   "cell_type": "markdown",
   "metadata": {},
   "source": [
    "### EXERCICE 1.3 \n",
    "Le système possède-t-il une solution ? (utilisez le lemme 5)\n"
   ]
  },
  {
   "cell_type": "code",
   "execution_count": null,
   "metadata": {
    "jupyter": {
     "source_hidden": true
    }
   },
   "outputs": [],
   "source": [
    "def exercise_1_3():\n",
    " \n",
    "    radio = widgets.RadioButtons(\n",
    "        options=['Yes', 'No'],\n",
    "        description='Answer:',\n",
    "        disabled=False\n",
    "    )\n",
    "\n",
    "    button = widgets.Button(description='Vérifier')\n",
    "    out = widgets.Output()\n",
    "\n",
    "    def callback(e):\n",
    "        out.clear_output()\n",
    "        with out:\n",
    "            if (radio.value == \"Yes\"):\n",
    "                    print('Mauvaise réponse.')\n",
    "            else: \n",
    "                print('Correct !')\n",
    "                     \n",
    "    button.on_click(callback)\n",
    "    display(radio)\n",
    "    display(button)\n",
    "    display(out)\n",
    "    \n",
    "exercise_1_3()\n",
    "\n",
    "\n",
    "\n"
   ]
  }
 ],
 "metadata": {
  "kernelspec": {
   "display_name": "Python 3",
   "language": "python",
   "name": "python3"
  },
  "language_info": {
   "codemirror_mode": {
    "name": "ipython",
    "version": 3
   },
   "file_extension": ".py",
   "mimetype": "text/x-python",
   "name": "python",
   "nbconvert_exporter": "python",
   "pygments_lexer": "ipython3",
   "version": "3.7.4"
  }
 },
 "nbformat": 4,
 "nbformat_minor": 4
}
