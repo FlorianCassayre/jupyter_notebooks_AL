{
 "cells": [
  {
   "cell_type": "code",
   "execution_count": null,
   "metadata": {},
   "outputs": [],
   "source": [
    "from Ch4Functions import *"
   ]
  },
  {
   "cell_type": "markdown",
   "metadata": {},
   "source": [
    "# Concept(s)-cl&eacute;(s)\n",
    "\n",
    "\n",
    "### D&Eacute;FINITION 1 :\n",
    "\n",
    "Soit $A\\in M_{m\\times n}(\\mathbb{R})$ une matrice de taille $m\\times n$ &agrave; coefficients r&eacute;els.\n",
    "\n",
    "\n",
    "\n",
    "1. Le *rang ligne* de $A$ est la dimension de l'espace ligne de $A.$\n",
    "\n",
    "2. Le *rang colonne* de $A$ est la dimension de l'espace colonne de $A.$\n",
    "\n",
    "\n",
    "\n",
    "### REMARQUES 2 :\n",
    "\n",
    "\n",
    "\n",
    "1. Le rang ligne de $A$ est plus petit ou &eacute;gal &agrave; $n,$ car c'est un sous-espace vectoriel de $\\mathbb{R}^n.$\n",
    "\n",
    "2. Le rang ligne de $A$ est plus petit ou &eacute;gal &agrave; $m,$ car engendr&eacute; par $m$ vecteurs.\n",
    "\n",
    "3. Le rang colonne de $A$ est plus petit ou &eacute;gal &agrave; $m$ et $n,$ par le m&ecirc;me raisonnement.\n",
    "\n",
    "4. Le rang colonne de $A$ est &eacute;gal au rang ligne de $A^T.$\n",
    "\n",
    "5. Le rang ligne de $A$ est &eacute;gal au rang colonne de $A^T.$\n",
    "\n",
    "\n",
    "\n",
    "### PROPOSITION 3 :\n",
    "\n",
    "Soient $A,B\\in M_{m\\times n}(\\mathbb{R})$ des matrices ligne &eacute;quivalentes. Alors l'espace ligne de $A$ est &eacute;gal &agrave; l'espace ligne de $B.$ Par cons&eacute;quent, le rang ligne de $A$ est &eacute;gal au rang ligne de $B.$\n",
    "\n",
    "### PROPOSITION 4 :\n",
    "\n",
    "Soit $A$ une matrice &eacute;chelonn&eacute;e. Alors le rang ligne de $A$ est &eacute;gal au nombre de pivots. Aussi, une base de l'espace ligne de $A$ est donn&eacute;e par les lignes contenant un pivots."
   ]
  },
  {
   "cell_type": "markdown",
   "metadata": {},
   "source": [
    "### EXERCICE 1\n",
    "\n",
    "Soit la matrice A :\n",
    "\n",
    "$$A = \\begin{pmatrix} 1 & 2 & 3 \\\\ 4 & 5 & 6  \\end{pmatrix}$$\n",
    "\n",
    "Sélectionnez les propositions correctes\n",
    "(maintenez CTRL pour sélectionner plusieurs cellules à la fois)"
   ]
  },
  {
   "cell_type": "code",
   "execution_count": null,
   "metadata": {},
   "outputs": [],
   "source": [
    "ch4_9ex1()"
   ]
  },
  {
   "cell_type": "markdown",
   "metadata": {},
   "source": [
    "### EXERCICE 2\n",
    "#### 2.1\n",
    "Soit la matrice $A$ :\n",
    "\n",
    "$$A = \\begin{pmatrix} 1 & 2 & 3 \\\\ 0 & 1 & 2  \\end{pmatrix}$$\n",
    "\n",
    "Donnez le rang ligne de $A$."
   ]
  },
  {
   "cell_type": "code",
   "execution_count": null,
   "metadata": {},
   "outputs": [],
   "source": [
    "ch4_9ex2_1()"
   ]
  },
  {
   "cell_type": "markdown",
   "metadata": {},
   "source": [
    "#### 2.2\n",
    "Parmi les ensembles suivants, séléctionnez l'ensemble générant l'espace ligne de $A$\n",
    "\n",
    "$E_1 = \\begin{Bmatrix}\\begin{pmatrix} 1 \\\\ 2 \\\\ 3 \\end{pmatrix}, \\begin{pmatrix} 0 \\\\ 1 \\\\ 2 \\end{pmatrix}\\end{Bmatrix}$ $E_2 = \\begin{Bmatrix}\\begin{pmatrix} 1 \\\\ 2 \\\\ 3 \\end{pmatrix}, \\begin{pmatrix} 0 \\\\ 1 \\\\ 2 \\end{pmatrix}, \\begin{pmatrix} 0 \\\\ 0 \\\\ 1 \\end{pmatrix}\\end{Bmatrix}$ \n",
    "$E_3 = \\begin{Bmatrix}\\begin{pmatrix} 1 \\\\ 0\\end{pmatrix}, \\begin{pmatrix} 2 \\\\ 1 \\end{pmatrix}, \\begin{pmatrix} 3 \\\\ 2 \\end{pmatrix}\\end{Bmatrix}$\n",
    "$E_4 = \\begin{Bmatrix}\\begin{pmatrix} 1 \\\\ 0\\end{pmatrix}, \\begin{pmatrix} 2 \\\\ 1 \\end{pmatrix}\\end{Bmatrix}$"
   ]
  },
  {
   "cell_type": "code",
   "execution_count": null,
   "metadata": {},
   "outputs": [],
   "source": [
    "ch4_9ex2_2()"
   ]
  },
  {
   "cell_type": "markdown",
   "metadata": {},
   "source": [
    "#### 2.3\n",
    "Utilizez la remarque 2 ainsi que les propositions 3 et 4 pour trouver le rang colonne de $A$"
   ]
  },
  {
   "cell_type": "code",
   "execution_count": null,
   "metadata": {},
   "outputs": [],
   "source": [
    "ch4_9ex2_3()"
   ]
  }
 ],
 "metadata": {
  "kernelspec": {
   "display_name": "Python 3",
   "language": "python",
   "name": "python3"
  },
  "language_info": {
   "codemirror_mode": {
    "name": "ipython",
    "version": 3
   },
   "file_extension": ".py",
   "mimetype": "text/x-python",
   "name": "python",
   "nbconvert_exporter": "python",
   "pygments_lexer": "ipython3",
   "version": "3.6.8"
  }
 },
 "nbformat": 4,
 "nbformat_minor": 4
}
