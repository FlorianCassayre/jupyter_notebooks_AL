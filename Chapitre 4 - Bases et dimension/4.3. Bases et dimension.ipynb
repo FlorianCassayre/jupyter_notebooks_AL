{
 "cells": [
  {
   "cell_type": "code",
   "execution_count": null,
   "metadata": {
    "jupyter": {
     "source_hidden": true
    }
   },
   "outputs": [],
   "source": [
    "import numpy as np\n",
    "from IPython.display import display, Markdown, Latex\n",
    "import plotly.graph_objs as go\n",
    "import plotly\n",
    "import ipywidgets as widgets\n",
    "from ipywidgets import interact, interactive, fixed, interact_manual, Layout\n",
    "import matplotlib\n",
    "import plotly.express as px"
   ]
  },
  {
   "cell_type": "markdown",
   "metadata": {},
   "source": [
    "\n",
    "# Concepts-clés et théorie\n",
    "\n",
    "### DÉFINITION 1 :\n",
    "\n",
    "Soient $V$ un $\\mathbb{R}$-espace vectoriel et $\\mathscr{B}\\subset V$ un ensemble de vecteurs de $V.$ On dit que $\\mathscr{B}$ est une *base* $V$ si les deux conditions suivantes sont vérifiées.\n",
    "\n",
    "1. Tout $v\\in V$ est une combinaison linaire de vecteurs de $\\mathscr{B},$ i.e. $\\mbox{Vect}\\mathscr{B}=V$ \n",
    "\n",
    "2. Le sous-ensemble $\\mathscr{B}$ est linéairement indépendant.\n",
    "\n"
   ]
  },
  {
   "cell_type": "markdown",
   "metadata": {},
   "source": [
    "### EXERCICE 1\n",
    "\n",
    "Cochez la bonne réponse puis cliquez sur \"Vérifier\"."
   ]
  },
  {
   "cell_type": "code",
   "execution_count": null,
   "metadata": {
    "jupyter": {
     "source_hidden": true
    }
   },
   "outputs": [],
   "source": [
    "def exercice_1(answer, reason, callback, options=['Oui, les vecteurs forment une base', 'Non, les vecteurs ne forment pas une base']):\n",
    "    radio = widgets.RadioButtons(\n",
    "        options=options,\n",
    "        layout={'width': 'max-content'},\n",
    "        value=None,\n",
    "        description='Réponse:',\n",
    "    )\n",
    "\n",
    "    button = widgets.Button(description='Vérifier')\n",
    "\n",
    "    out = widgets.Output()\n",
    "\n",
    "    display(radio)\n",
    "    display(button)\n",
    "    display(out)\n",
    "\n",
    "    def verification(e):\n",
    "        if radio.value is not None:\n",
    "            out.clear_output()\n",
    "            with out:\n",
    "                if options.index(radio.value) == answer:\n",
    "                    display(Markdown(\"C'est correct!<br />%s\" % reason))\n",
    "                else:\n",
    "                    display(Markdown(\"C'est incorrect!<br />%s\" % reason))\n",
    "                callback()\n",
    "\n",
    "    button.on_click(verification)"
   ]
  },
  {
   "cell_type": "markdown",
   "metadata": {},
   "source": [
    "1. L'ensemble $\\begin{Bmatrix}\\begin{pmatrix} 1 \\\\ 0 \\\\ 1 \\end{pmatrix}, \\begin{pmatrix} 0 \\\\ 2 \\\\ 0 \\end{pmatrix}, \\begin{pmatrix} 0 \\\\ 0 \\\\ 3 \\end{pmatrix}, \\begin{pmatrix} 1 \\\\ 1 \\\\ 1 \\end{pmatrix}\\end{Bmatrix}$ est une base de $\\mathbb{R}^3$ :"
   ]
  },
  {
   "cell_type": "code",
   "execution_count": null,
   "metadata": {
    "jupyter": {
     "source_hidden": true
    }
   },
   "outputs": [],
   "source": [
    "def plot_1(vectors, selected, solution):\n",
    "    v = np.array(vectors).transpose()\n",
    "    e = np.array(selected)\n",
    "    s = np.array(solution)\n",
    "    r = v @ s\n",
    "    w = s * v\n",
    "    \n",
    "    cumsum = np.cumsum(np.insert(w, 0, 0, axis=1), axis=1).transpose()\n",
    "    \n",
    "    colors = px.colors.qualitative.Plotly\n",
    "    global color_index\n",
    "    color_index = 0\n",
    "    \n",
    "    data = []\n",
    "    def addVector(start, v):\n",
    "        global color_index\n",
    "        \n",
    "        color = colors[color_index]\n",
    "        color_index = (color_index + 1) % len(colors)\n",
    "        \n",
    "        end = start + v\n",
    "        trace = go.Scatter3d(\n",
    "            x=[start[0], end[0], None],\n",
    "            y=[start[1], end[1], None],\n",
    "            z=[start[2], end[2], None],\n",
    "            mode='lines',\n",
    "            name=str(v),\n",
    "            line=dict(color=color, width=4)\n",
    "        )\n",
    "        norm = np.sqrt(np.sum(v * v))\n",
    "        n = v if norm == 0 else v / norm\n",
    "        n = 0.5 * n\n",
    "        c_end = end - 0.37 * n\n",
    "        cone = go.Cone(x=[c_end[0]], y=[c_end[1]], z=[c_end[2]], u=[n[0]], v=[n[1]], w=[n[2]], name=str(v), colorscale=[[0, color], [1, color]], hoverinfo=\"none\", showscale=False)\n",
    "        \n",
    "        data.append(trace)\n",
    "        data.append(cone)\n",
    "        \n",
    "    addVector(np.zeros(3), e)\n",
    "\n",
    "    for i in range(len(cumsum) - 1):\n",
    "        start = cumsum[i]\n",
    "        v = cumsum[i + 1] - start\n",
    "        addVector(start, v)\n",
    "\n",
    "    fig = go.Figure(data=data)\n",
    "\n",
    "    fig.show()\n",
    "    \n",
    "exercice_1(1, \"\"\"\n",
    "\n",
    "En effet, les quatres vecteurs ne sont pas linéairement indépendants (Déf. 1-2) car il est possible d'exprimer l'un en fonction d'une combinaison des autres. Par exemple :\n",
    "$$\\\\begin{pmatrix} 1 \\\\\\\\ 1 \\\\\\\\ 1 \\end{pmatrix} = \\\\begin{pmatrix} 1 \\\\\\\\ 0 \\\\\\\\ 1 \\end{pmatrix} + \\\\frac{1}{2} \\\\begin{pmatrix} 0 \\\\\\\\ 2 \\\\\\\\ 0 \\end{pmatrix} + 0 \\\\begin{pmatrix} 0 \\\\\\\\ 0 \\\\\\\\ 3 \\end{pmatrix}$$\n",
    "Comme tous les vecteurs sont issus de $\\mathbb{R}^3$ on peut facilement représenter la combinaison dans l'espace :\n",
    "\"\"\", lambda: plot_1([[1, 0, 1], [0, 2, 0], [0, 0, 3]], [1, 1, 1], [1, 0.5, 0]))"
   ]
  },
  {
   "cell_type": "markdown",
   "metadata": {},
   "source": [
    "2. L'ensemble $\\begin{Bmatrix}\\begin{pmatrix} 1 \\\\ 0 \\\\ 0 \\end{pmatrix}, \\begin{pmatrix} 0 \\\\ 1 \\\\ 0 \\end{pmatrix}\\end{Bmatrix}$ est une base de $\\mathbb{R}^3$ :"
   ]
  },
  {
   "cell_type": "code",
   "execution_count": null,
   "metadata": {
    "jupyter": {
     "source_hidden": true
    }
   },
   "outputs": [],
   "source": [
    "exercice_1(1, \"\"\"On ne peut pas générer $\\mathbb{R}^3$ à partir de cet ensemble. En effet, on ne peut par exemple pas représenter le vecteur $\\\\begin{pmatrix} 0 \\\\\\\\ 0 \\\\\\\\ 1 \\end{pmatrix} \\\\in \\mathbb{R}^3$ comme combinaison linéaire de $\\\\begin{pmatrix} 1 \\\\\\\\ 0 \\\\\\\\ 0 \\end{pmatrix}$ et $\\\\begin{pmatrix} 0 \\\\\\\\ 1 \\\\\\\\ 0 \\end{pmatrix}$.\n",
    "\n",
    "Graphiquement les deux vecteurs ne peuvent engendrer qu'un plan - et non un espace :\n",
    "\"\"\", lambda: plot_1([[1, 0, 0]], [0, 1, 0], [1]))"
   ]
  },
  {
   "cell_type": "markdown",
   "metadata": {},
   "source": [
    "### DÉFINITION 2 :\n",
    "\n",
    "On dit d'un $\\mathbb{R}$-espace vectoriel $V$ qu'il est *de dimension finie* s'il possède une base finie. Sinon, on dit que $V$ est *de dimension infinie*.\n",
    "\n",
    "\n",
    "### THÉORÈME 3 :\n",
    "Soit $V$ un $\\mathbb{R}$-espace vectoriel de dimension finie. Alors toutes les bases de $V$ sont finies et possèdent le mème nombre d'éléments."
   ]
  },
  {
   "cell_type": "markdown",
   "metadata": {},
   "source": [
    "### EXERCICE 2\n",
    "\n",
    "Sélectionnez un ensemble de vecteurs parmi la liste suivante tel que cet ensemble forme une base de $\\mathbb{R}^3$ :\n",
    "\n",
    "$$v_1 = \\begin{pmatrix} 1 \\\\ 1 \\\\ 1 \\end{pmatrix},\\ v_2 = \\begin{pmatrix} 0 \\\\ 1 \\\\ 2 \\end{pmatrix},\\ v_3 = \\begin{pmatrix} 2 \\\\ 1 \\\\ 4 \\end{pmatrix},\\ v_4 = \\begin{pmatrix} 2 \\\\ 1 \\\\ 0 \\end{pmatrix},\\ v_5 = \\begin{pmatrix} 1 \\\\ 0 \\\\ -1 \\end{pmatrix}$$\n",
    "\n",
    "(maintenez CTRL pour sélectionner plusieurs cellules à la fois)"
   ]
  },
  {
   "cell_type": "code",
   "execution_count": null,
   "metadata": {
    "jupyter": {
     "source_hidden": true
    }
   },
   "outputs": [],
   "source": [
    "def exercise_2():\n",
    "    vecs = np.array([[1, 1, 1], [0, 1, 2], [2, 1, 4], [2, 1, 0], [1, 0, -1]])\n",
    "    \n",
    "    select = widgets.SelectMultiple(\n",
    "        options=['v1', 'v2', 'v3', 'v4', 'v5'],\n",
    "        description='Sélection :',\n",
    "        disabled=False\n",
    "    )\n",
    "\n",
    "    button = widgets.Button(description='Vérifier')\n",
    "\n",
    "    out = widgets.Output()\n",
    "\n",
    "    def callback(e):\n",
    "        answer = [int(v[1:])-1 for v in select.value]\n",
    "        out.clear_output()\n",
    "        with out:\n",
    "            if len(answer) == 0: # Empty\n",
    "                pass\n",
    "            elif len(answer) < 3:\n",
    "                display(Markdown(\"C'est incorrect!<br />La solution entrée ne permet pas d'engendrer R^3.\"))\n",
    "            elif len(answer) > 3:\n",
    "                display(Markdown(\"C'est incorrect!<br />La solution entrée contient des vecteurs qui sont dépendants.\"))\n",
    "            else:\n",
    "                mat = np.array([vecs[answer[0]], vecs[answer[1]], vecs[answer[2]]]).transpose()\n",
    "                det = np.linalg.det(mat)\n",
    "                if det == 0:\n",
    "                    display(Markdown(\"C'est incorrect!<br />La solution entrée contient des vecteurs qui sont dépendants.\"))\n",
    "                else: # Correct\n",
    "                    display(Markdown(\"C'est correct!<br />Il s'agit d'_une_ base.\"))\n",
    "\n",
    "    button.on_click(callback)\n",
    "\n",
    "    display(select)\n",
    "    display(button)\n",
    "    display(out)\n",
    "    \n",
    "exercise_2()"
   ]
  },
  {
   "cell_type": "markdown",
   "metadata": {},
   "source": [
    "### EXERCICE 3\n",
    "\n",
    "Soit $\\mathbb{P}(\\mathbb{R})$ l'ensemble des polynômes à coefficients réels.\n",
    "\n",
    "- L'ensemble $\\{1, x, x^2\\}$ est-il une base de $\\mathbb{P}(\\mathbb{R})$ ?"
   ]
  },
  {
   "cell_type": "code",
   "execution_count": null,
   "metadata": {
    "jupyter": {
     "source_hidden": true
    }
   },
   "outputs": [],
   "source": [
    "exercice_1(1, \"\"\"\n",
    "\n",
    "$\\mathbb{P}(\\mathbb{R})$ est un espace infini, il ne peut être généré que par des bases infinies (par exemple, $\\{1, x, x^2, x^3, ...\\}$).\n",
    "\n",
    "Cet ensemble ne forme donc pas une base pour $\\mathbb{P}(\\mathbb{R})$.\n",
    "\"\"\", lambda: None)"
   ]
  },
  {
   "cell_type": "markdown",
   "metadata": {},
   "source": [
    "### EXERCICE 4\n",
    "\n",
    "Quelle est la dimension de l'espace engendré par l'ensemble de vecteurs suivant :\n",
    "\n",
    "$$\\begin{Bmatrix}\\begin{pmatrix} 1 & 1 \\\\ 0 & 0 \\end{pmatrix},\\ \\begin{pmatrix} 1 & 0 \\\\ 1 & 0 \\end{pmatrix},\\ \\begin{pmatrix} 0 & 0 \\\\ 1 & 1 \\end{pmatrix},\\ \\begin{pmatrix} 0 & 1 \\\\ 0 & 1 \\end{pmatrix},\\ \\begin{pmatrix} 1 & 0 \\\\ 0 & 1 \\end{pmatrix}\\end{Bmatrix}$$"
   ]
  },
  {
   "cell_type": "code",
   "execution_count": null,
   "metadata": {
    "jupyter": {
     "source_hidden": true
    }
   },
   "outputs": [],
   "source": [
    "exercice_1(2, \"\"\"\n",
    "\n",
    "L'espace engendré par cet ensemble est $\\mathbb{R}^{2 \\\\times 2}$ et donc sa dimension est $4$.\n",
    "\n",
    "Attention cet ensemble n'est pas une base de $\\mathbb{R}^{2 \\\\times 2}$ car ses éléments sont linéairement dépendants !\n",
    "\n",
    "\"\"\", lambda: None, ['2', '3', '4', '5'])"
   ]
  }
 ],
 "metadata": {
  "kernelspec": {
   "display_name": "Python 3",
   "language": "python",
   "name": "python3"
  },
  "language_info": {
   "codemirror_mode": {
    "name": "ipython",
    "version": 3
   },
   "file_extension": ".py",
   "mimetype": "text/x-python",
   "name": "python",
   "nbconvert_exporter": "python",
   "pygments_lexer": "ipython3",
   "version": "3.6.8"
  }
 },
 "nbformat": 4,
 "nbformat_minor": 4
}
