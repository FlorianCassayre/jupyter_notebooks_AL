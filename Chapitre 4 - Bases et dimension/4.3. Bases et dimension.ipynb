{
 "cells": [
  {
   "cell_type": "code",
   "execution_count": null,
   "metadata": {
    "jupyter": {
     "source_hidden": true
    }
   },
   "outputs": [],
   "source": [
    "from Fonctions.chapitre4 import *"
   ]
  },
  {
   "cell_type": "markdown",
   "metadata": {},
   "source": [
    "\n",
    "# Concepts-clés et théorie\n",
    "\n",
    "### DÉFINITION 1 :\n",
    "\n",
    "Soient $V$ un $\\mathbb{R}$-espace vectoriel et $\\mathscr{B}\\subset V$ un ensemble de vecteurs de $V.$ On dit que $\\mathscr{B}$ est une *base* $V$ si les deux conditions suivantes sont vérifiées.\n",
    "\n",
    "1. Tout $v\\in V$ est une combinaison linaire de vecteurs de $\\mathscr{B},$ i.e. $\\mbox{Vect}\\mathscr{B}=V$ \n",
    "\n",
    "2. Le sous-ensemble $\\mathscr{B}$ est linéairement indépendant.\n",
    "\n"
   ]
  },
  {
   "cell_type": "markdown",
   "metadata": {},
   "source": [
    "### EXERCICE 1\n",
    "\n",
    "Cochez la bonne réponse puis cliquez sur \"Vérifier\"."
   ]
  },
  {
   "cell_type": "markdown",
   "metadata": {},
   "source": [
    "1. L'ensemble $\\begin{Bmatrix}\\begin{pmatrix} 1 \\\\ 0 \\\\ 1 \\end{pmatrix}, \\begin{pmatrix} 0 \\\\ 2 \\\\ 0 \\end{pmatrix}, \\begin{pmatrix} 0 \\\\ 0 \\\\ 3 \\end{pmatrix}, \\begin{pmatrix} 1 \\\\ 1 \\\\ 1 \\end{pmatrix}\\end{Bmatrix}$ est une base de $\\mathbb{R}^3$ :"
   ]
  },
  {
   "cell_type": "code",
   "execution_count": null,
   "metadata": {
    "jupyter": {
     "source_hidden": true
    }
   },
   "outputs": [],
   "source": [
    "Ex1Chapitre4_3(1, \"\"\"\n",
    "\n",
    "En effet, les quatres vecteurs ne sont pas linéairement indépendants (Déf. 1-2) car il est possible d'exprimer l'un en fonction d'une combinaison des autres. Par exemple :\n",
    "$$\\\\begin{pmatrix} 1 \\\\\\\\ 1 \\\\\\\\ 1 \\end{pmatrix} = \\\\begin{pmatrix} 1 \\\\\\\\ 0 \\\\\\\\ 1 \\end{pmatrix} + \\\\frac{1}{2} \\\\begin{pmatrix} 0 \\\\\\\\ 2 \\\\\\\\ 0 \\end{pmatrix} + 0 \\\\begin{pmatrix} 0 \\\\\\\\ 0 \\\\\\\\ 3 \\end{pmatrix}$$\n",
    "Comme tous les vecteurs sont issus de $\\mathbb{R}^3$ on peut facilement représenter la combinaison dans l'espace :\n",
    "\"\"\", lambda: plot_1([[1, 0, 1], [0, 2, 0], [0, 0, 3]], [1, 1, 1], [1, 0.5, 0]))"
   ]
  },
  {
   "cell_type": "markdown",
   "metadata": {},
   "source": [
    "2. L'ensemble $\\begin{Bmatrix}\\begin{pmatrix} 1 \\\\ 0 \\\\ 0 \\end{pmatrix}, \\begin{pmatrix} 0 \\\\ 1 \\\\ 0 \\end{pmatrix}\\end{Bmatrix}$ est une base de $\\mathbb{R}^3$ :"
   ]
  },
  {
   "cell_type": "code",
   "execution_count": null,
   "metadata": {
    "jupyter": {
     "source_hidden": true
    }
   },
   "outputs": [],
   "source": [
    "Ex1Chapitre4_3(1, \"\"\"On ne peut pas générer $\\mathbb{R}^3$ à partir de cet ensemble. En effet, on ne peut par exemple pas représenter le vecteur $\\\\begin{pmatrix} 0 \\\\\\\\ 0 \\\\\\\\ 1 \\end{pmatrix} \\\\in \\mathbb{R}^3$ comme combinaison linéaire de $\\\\begin{pmatrix} 1 \\\\\\\\ 0 \\\\\\\\ 0 \\end{pmatrix}$ et $\\\\begin{pmatrix} 0 \\\\\\\\ 1 \\\\\\\\ 0 \\end{pmatrix}$.\n",
    "\n",
    "Graphiquement les deux vecteurs ne peuvent engendrer qu'un plan - et non un espace :\n",
    "\"\"\", lambda: plot_1([[1, 0, 0]], [0, 1, 0], [1]))"
   ]
  },
  {
   "cell_type": "markdown",
   "metadata": {},
   "source": [
    "### DÉFINITION 2 :\n",
    "\n",
    "On dit d'un $\\mathbb{R}$-espace vectoriel $V$ qu'il est *de dimension finie* s'il possède une base finie. Sinon, on dit que $V$ est *de dimension infinie*.\n",
    "\n",
    "\n",
    "### THÉORÈME 3 :\n",
    "Soit $V$ un $\\mathbb{R}$-espace vectoriel de dimension finie. Alors toutes les bases de $V$ sont finies et possèdent le mème nombre d'éléments."
   ]
  },
  {
   "cell_type": "markdown",
   "metadata": {},
   "source": [
    "### EXERCICE 2\n",
    "\n",
    "Sélectionnez un ensemble de vecteurs parmi la liste suivante tel que cet ensemble forme une base de $\\mathbb{R}^3$ :\n",
    "\n",
    "$$v_1 = \\begin{pmatrix} 1 \\\\ 1 \\\\ 1 \\end{pmatrix},\\ v_2 = \\begin{pmatrix} 0 \\\\ 1 \\\\ 2 \\end{pmatrix},\\ v_3 = \\begin{pmatrix} 2 \\\\ 1 \\\\ 4 \\end{pmatrix},\\ v_4 = \\begin{pmatrix} 2 \\\\ 1 \\\\ 0 \\end{pmatrix},\\ v_5 = \\begin{pmatrix} 1 \\\\ 0 \\\\ -1 \\end{pmatrix}$$\n",
    "\n",
    "(maintenez CTRL pour sélectionner plusieurs cellules à la fois)"
   ]
  },
  {
   "cell_type": "code",
   "execution_count": null,
   "metadata": {
    "jupyter": {
     "source_hidden": true
    }
   },
   "outputs": [],
   "source": [
    "Ex2Chapitre4_3()"
   ]
  },
  {
   "cell_type": "markdown",
   "metadata": {},
   "source": [
    "### EXERCICE 3\n",
    "\n",
    "Soit $\\mathbb{P}(\\mathbb{R})$ l'ensemble des polynômes à coefficients réels.\n",
    "\n",
    "- L'ensemble $\\{1, x, x^2\\}$ est-il une base de $\\mathbb{P}(\\mathbb{R})$ ?"
   ]
  },
  {
   "cell_type": "code",
   "execution_count": null,
   "metadata": {
    "jupyter": {
     "source_hidden": true
    }
   },
   "outputs": [],
   "source": [
    "Ex1Chapitre4_3(1, \"\"\"\n",
    "\n",
    "$\\mathbb{P}(\\mathbb{R})$ est un espace infini, il ne peut être généré que par des bases infinies (par exemple, $\\{1, x, x^2, x^3, ...\\}$).\n",
    "\n",
    "Cet ensemble ne forme donc pas une base pour $\\mathbb{P}(\\mathbb{R})$.\n",
    "\"\"\", lambda: None)"
   ]
  },
  {
   "cell_type": "markdown",
   "metadata": {},
   "source": [
    "### EXERCICE 4\n",
    "\n",
    "Quelle est la dimension de l'espace engendré par l'ensemble de vecteurs suivant :\n",
    "\n",
    "$$\\begin{Bmatrix}\\begin{pmatrix} 1 & 1 \\\\ 0 & 0 \\end{pmatrix},\\ \\begin{pmatrix} 1 & 0 \\\\ 1 & 0 \\end{pmatrix},\\ \\begin{pmatrix} 0 & 0 \\\\ 1 & 1 \\end{pmatrix},\\ \\begin{pmatrix} 0 & 1 \\\\ 0 & 1 \\end{pmatrix},\\ \\begin{pmatrix} 1 & 0 \\\\ 0 & 1 \\end{pmatrix}\\end{Bmatrix}$$"
   ]
  },
  {
   "cell_type": "code",
   "execution_count": null,
   "metadata": {
    "jupyter": {
     "source_hidden": true
    }
   },
   "outputs": [],
   "source": [
    "Ex1Chapitre4_3(2, \"\"\"\n",
    "\n",
    "L'espace engendré par cet ensemble est $\\mathbb{R}^{2 \\\\times 2}$ et donc sa dimension est $4$.\n",
    "\n",
    "Attention cet ensemble n'est pas une base de $\\mathbb{R}^{2 \\\\times 2}$ car ses éléments sont linéairement dépendants !\n",
    "\n",
    "\"\"\", lambda: None, ['2', '3', '4', '5'])"
   ]
  }
 ],
 "metadata": {
  "kernelspec": {
   "display_name": "Python 3",
   "language": "python",
   "name": "python3"
  },
  "language_info": {
   "codemirror_mode": {
    "name": "ipython",
    "version": 3
   },
   "file_extension": ".py",
   "mimetype": "text/x-python",
   "name": "python",
   "nbconvert_exporter": "python",
   "pygments_lexer": "ipython3",
   "version": "3.7.4"
  }
 },
 "nbformat": 4,
 "nbformat_minor": 4
}
