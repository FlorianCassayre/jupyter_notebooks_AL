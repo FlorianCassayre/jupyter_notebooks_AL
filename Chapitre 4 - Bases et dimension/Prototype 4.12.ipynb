{
 "cells": [
  {
   "cell_type": "code",
   "execution_count": 91,
   "metadata": {},
   "outputs": [],
   "source": [
    "import numpy as np\n",
    "from IPython.display import display, Markdown, Latex\n",
    "import plotly.graph_objs as go\n",
    "import plotly\n",
    "import ipywidgets as widgets\n",
    "from ipywidgets import interact, interactive, fixed, interact_manual, Layout\n",
    "import matplotlib\n",
    "import plotly.express as px\n",
    "import sympy as sp"
   ]
  },
  {
   "cell_type": "markdown",
   "metadata": {},
   "source": [
    "# Concept(s)-cl&eacute;(s)\n",
    "\n",
    "\n",
    "\n",
    "### M&Eacute;THODE POUR TROUVER UNE BASE &Agrave; PARTIR D'UN SYST&Egrave;ME DE G&Eacute;N&Eacute;RATEURS :\n",
    "\n",
    "Soient $V$ un $\\mathbb{R}$-espace vectoriel de dimension finie $n,$ $\\mathscr{B}=(v_1,\\ldots,v_n)$ une base de $V,$ $S\\subset V$ une partie finie et $W=\\mbox{Vect}(S).$ Pour trouver une base de $W$ et la compl&eacute;ter en une base de $V,$ on proc&egrave;de comme suit.\n",
    "\n",
    "\n",
    "\n",
    "1. Pour chaque $v\\in S,$ on &eacute;crit $[v]_{\\mathscr{B}} = \\begin{pmatrix} \\alpha_1 \\ \\alpha_2 \\ \\cdots \\ \\alpha_n \\end{pmatrix}^T.$\n",
    "\n",
    "2. On d&eacute;finit la matrice $A$ dont les lignes sont les vecteurs $[v]_{\\mathscr{B}}^T$ ($v\\in S$).\n",
    "\n",
    "3. On &eacute;chelonne la matrice $A$ : les lignes non-nulles ainsi obtenues forment une base de l'espace ligne de cette matrice. De plus, les vecteurs de $W$ correspondants forment une base de $W.$\n",
    "\n",
    "4. On remplace les lignes nulles de la matrice &eacute;chelonn&eacute;e par des lignes non-nulles de mani&egrave;re &agrave; ce que celle-ci contienne $n$ pivots. Les vecteurs de $V$ associ&eacute;s aux lignes de cette nouvelle matrice forment une base de $V.$"
   ]
  },
  {
   "cell_type": "markdown",
   "metadata": {},
   "source": [
    "### Exercice 1\n",
    "\n",
    "Soit $S = (v_1,v_2,v_3,v_4,v_5) \\in \\mathbb{R}^6$ et $W=Vect(S)$. Selon la méthode vue en cours, quelles sont les dimensions de la matrice $A$?"
   ]
  },
  {
   "cell_type": "code",
   "execution_count": 92,
   "metadata": {
    "jupyter": {
     "source_hidden": true
    }
   },
   "outputs": [
    {
     "data": {
      "application/vnd.jupyter.widget-view+json": {
       "model_id": "55d262fd0d9b4bb2bd66bff949b93591",
       "version_major": 2,
       "version_minor": 0
      },
      "text/plain": [
       "IntText(value=0, description='Nombre de lignes : \\n')"
      ]
     },
     "metadata": {},
     "output_type": "display_data"
    },
    {
     "data": {
      "application/vnd.jupyter.widget-view+json": {
       "model_id": "990af7f3e9704c648cb800181c78ec83",
       "version_major": 2,
       "version_minor": 0
      },
      "text/plain": [
       "IntText(value=0, description='Nombre de colonne : \\n')"
      ]
     },
     "metadata": {},
     "output_type": "display_data"
    },
    {
     "data": {
      "application/vnd.jupyter.widget-view+json": {
       "model_id": "d89fc1bc22ab413b8cfae9f01ce53c62",
       "version_major": 2,
       "version_minor": 0
      },
      "text/plain": [
       "Button(description='Vérifier', style=ButtonStyle())"
      ]
     },
     "metadata": {},
     "output_type": "display_data"
    },
    {
     "data": {
      "application/vnd.jupyter.widget-view+json": {
       "model_id": "c009cef7b6aa448f9d94067df1acb58c",
       "version_major": 2,
       "version_minor": 0
      },
      "text/plain": [
       "Output()"
      ]
     },
     "metadata": {},
     "output_type": "display_data"
    }
   ],
   "source": [
    "def exercice_1():\n",
    "    nbr_ligne = widgets.IntText(\n",
    "        description='Nombre de lignes : \\n',\n",
    "        disabled=False\n",
    "    )\n",
    "    nbr_colonne = widgets.IntText(\n",
    "        description='Nombre de colonne : \\n',\n",
    "        disabled=False\n",
    "    )\n",
    "    \n",
    "    button = widgets.Button(description='Vérifier')\n",
    "    out = widgets.Output()\n",
    "    \n",
    "    def callback(e):\n",
    "        out.clear_output()\n",
    "        r_l = nbr_ligne.value\n",
    "        r_c = nbr_colonne.value\n",
    "        with out:\n",
    "            if r_l == 5 and r_c == 6:\n",
    "                display(Markdown(\"C'est correct!\"))\n",
    "            else:\n",
    "                display(Markdown(\"C'est incorrect.\"))\n",
    "        \n",
    "    button.on_click(callback)\n",
    "    \n",
    "    display(nbr_ligne)\n",
    "    display(nbr_colonne)\n",
    "    display(button)\n",
    "    display(out)\n",
    "exercice_1()"
   ]
  },
  {
   "cell_type": "markdown",
   "metadata": {},
   "source": [
    "### Exercice 2\n",
    "\n",
    "Sachant que $v_2 = 2v_3+3v_5$, combien faut-il rajouter, au minimum, de lignes non-nulles à la matrice $A$, dans sa forme échelonnée, pour que les vecteurs associés aux lignes de celle-ci forment une base de $\\mathbb{R}^6$?"
   ]
  },
  {
   "cell_type": "code",
   "execution_count": 93,
   "metadata": {},
   "outputs": [
    {
     "data": {
      "application/vnd.jupyter.widget-view+json": {
       "model_id": "4076b26f75744445b3cf5896f179cedf",
       "version_major": 2,
       "version_minor": 0
      },
      "text/plain": [
       "IntText(value=0, description='Réponse :')"
      ]
     },
     "metadata": {},
     "output_type": "display_data"
    },
    {
     "data": {
      "application/vnd.jupyter.widget-view+json": {
       "model_id": "b58405ced7a145488354c4aaf861e6b8",
       "version_major": 2,
       "version_minor": 0
      },
      "text/plain": [
       "Button(description='Vérifier', style=ButtonStyle())"
      ]
     },
     "metadata": {},
     "output_type": "display_data"
    },
    {
     "data": {
      "application/vnd.jupyter.widget-view+json": {
       "model_id": "a0ba4e3933dc45a58b89e6690f045109",
       "version_major": 2,
       "version_minor": 0
      },
      "text/plain": [
       "Output()"
      ]
     },
     "metadata": {},
     "output_type": "display_data"
    }
   ],
   "source": [
    "def exercice_2():\n",
    "    text = widgets.IntText(\n",
    "        description='Réponse :',\n",
    "        disabled=False\n",
    "    )\n",
    "    button = widgets.Button(description='Vérifier')\n",
    "    out = widgets.Output()\n",
    "    \n",
    "    def callback(e):\n",
    "        out.clear_output()\n",
    "        r = text.value\n",
    "        \n",
    "        with out:\n",
    "            if r == 2:\n",
    "                display(Markdown(\"C'est correct!\"))\n",
    "            else:\n",
    "                display(Markdown(\"C'est incorrect.\"))\n",
    "        \n",
    "    button.on_click(callback)\n",
    "    \n",
    "    display(text)\n",
    "    display(button)\n",
    "    display(out)\n",
    "exercice_2()"
   ]
  },
  {
   "cell_type": "markdown",
   "metadata": {},
   "source": [
    "### Exercice 3\n",
    "\n",
    "Voici la matrice $A$ échelonnée, nommée $B$:\n",
    "\n",
    "$$B = \\begin{pmatrix} 1 & 4 & 0 & 2 & 0 & 1 \\\\ 0 & 0 & 0 & 0 & 0 & 0 \\\\ 0 & 1 & 1 & 2 & 1 & 0 \\\\ 0 & 0 & 1 & 3 & 3 & 2 \\\\ 0 & 0 & 0 & 0 & 0 & 0\\end{pmatrix}$$\n",
    "\n",
    "a) Combien de vecteurs doivent être ajoutés aux lignes non-nulles de $B$ pour que celles-co soient une base de $\\mathbb{R}^6$ ?"
   ]
  },
  {
   "cell_type": "code",
   "execution_count": 94,
   "metadata": {
    "jupyter": {
     "source_hidden": true
    }
   },
   "outputs": [
    {
     "data": {
      "application/vnd.jupyter.widget-view+json": {
       "model_id": "ae4d71b36c1e47eb856deba820c5246c",
       "version_major": 2,
       "version_minor": 0
      },
      "text/plain": [
       "IntText(value=0, description='Réponse :')"
      ]
     },
     "metadata": {},
     "output_type": "display_data"
    },
    {
     "data": {
      "application/vnd.jupyter.widget-view+json": {
       "model_id": "c740a93affe6485781db2b9791ff7988",
       "version_major": 2,
       "version_minor": 0
      },
      "text/plain": [
       "Button(description='Vérifier', style=ButtonStyle())"
      ]
     },
     "metadata": {},
     "output_type": "display_data"
    },
    {
     "data": {
      "application/vnd.jupyter.widget-view+json": {
       "model_id": "b421f8f2260e44388ecd9b0e667cbe74",
       "version_major": 2,
       "version_minor": 0
      },
      "text/plain": [
       "Output()"
      ]
     },
     "metadata": {},
     "output_type": "display_data"
    }
   ],
   "source": [
    "def exercice_3_a():\n",
    "    text = widgets.IntText(\n",
    "        description='Réponse :',\n",
    "        disabled=False\n",
    "    )\n",
    "    button = widgets.Button(description='Vérifier')\n",
    "    out = widgets.Output()\n",
    "    \n",
    "    def callback(e):\n",
    "        out.clear_output()\n",
    "        r = text.value\n",
    "        \n",
    "        with out:\n",
    "            if r == 3:\n",
    "                display(Markdown(\"C'est correct!\"))\n",
    "            else:\n",
    "                display(Markdown(\"C'est incorrect.\"))\n",
    "        \n",
    "    button.on_click(callback)\n",
    "    \n",
    "    display(text)\n",
    "    display(button)\n",
    "    display(out)\n",
    "exercice_3_a()"
   ]
  },
  {
   "cell_type": "code",
   "execution_count": 95,
   "metadata": {},
   "outputs": [],
   "source": [
    "def exercice_3_b(base):\n",
    "    base = base + [[1,4,0,2,0,1],[0,1,1,2,1,0],[0,0,1,3,3,2]]\n",
    "    base = np.array(base)\n",
    "    out = widgets.Output()\n",
    "    display(out)\n",
    "\n",
    "    with out:\n",
    "        out.clear_output()\n",
    "\n",
    "        feedback = \"\"\n",
    "        is_correct = False\n",
    "        \n",
    "        s = base.shape\n",
    "        \n",
    "\n",
    "        if len(base) == 0:\n",
    "            feedback = \"Les vecteurs nuls ne peuvent pas .\"\n",
    "        elif len(s) != 2 or s[1] != 6:\n",
    "            feedback = \"Le format des vecteurs n'est pas bon.\"\n",
    "        elif s[0] < 6:\n",
    "            feedback = \"L'ensemble entré ne contient pas assez de vecteurs pour engendrer toutes les solutions du système.\"\n",
    "        elif s[0] > 6:\n",
    "            feedback = \"L'ensemble entré contient trop de vecteurs pour être une famille libre.\"\n",
    "        else:\n",
    "            expected = np.array(sp.Matrix([[1,0,0,0,0,0],[0,1,0,0,0,0],[0,0,1,0,0,0],[0, 0, 0, 1, 0, 0], [0, 0, 0, 0, 1, 0],[0, 0, 0, 0, 0, 1]]).rref()[0])\n",
    "            actual = np.array(sp.Matrix(base).rref()[0])\n",
    "            \n",
    "            if not np.array_equal(actual, expected):\n",
    "                feedback = \"L'ensemble entré n'engendre pas l'espace solution du système.\"\n",
    "            else:\n",
    "                is_correct = True\n",
    "            \n",
    "        correct_text = \"C'est correct!<br />\"\n",
    "        incorrect_text = \"C'est incorrect.<br />\"\n",
    "            \n",
    "        display(Markdown((correct_text if is_correct else incorrect_text) + feedback))"
   ]
  },
  {
   "cell_type": "markdown",
   "metadata": {},
   "source": [
    "b) Donner une collection de vecteurs qui complètent les lignes non-nulles de $B$ en une base de $\\mathbb{R}^6$."
   ]
  },
  {
   "cell_type": "code",
   "execution_count": 96,
   "metadata": {},
   "outputs": [
    {
     "data": {
      "application/vnd.jupyter.widget-view+json": {
       "model_id": "43e5ba33de834853a4c7de5910599ba0",
       "version_major": 2,
       "version_minor": 0
      },
      "text/plain": [
       "Output()"
      ]
     },
     "metadata": {},
     "output_type": "display_data"
    }
   ],
   "source": [
    "# Entrez les vecteurs qui complètent les lignes non-nulles de B en une base de R^6\n",
    "# Par exemple : [[1, 2], [3, 4]]\n",
    "vecteurs_manquants = [[0,0,0,1,0,0],[0,0,0,0,1,0],[0,0,0,0,0,1]]\n",
    "\n",
    "exercice_3_b(vecteurs_manquants)"
   ]
  },
  {
   "cell_type": "code",
   "execution_count": null,
   "metadata": {},
   "outputs": [],
   "source": []
  }
 ],
 "metadata": {
  "kernelspec": {
   "display_name": "Python 3",
   "language": "python",
   "name": "python3"
  },
  "language_info": {
   "codemirror_mode": {
    "name": "ipython",
    "version": 3
   },
   "file_extension": ".py",
   "mimetype": "text/x-python",
   "name": "python",
   "nbconvert_exporter": "python",
   "pygments_lexer": "ipython3",
   "version": "3.6.9"
  }
 },
 "nbformat": 4,
 "nbformat_minor": 4
}
