{
 "cells": [
  {
   "cell_type": "code",
   "execution_count": null,
   "metadata": {
    "jupyter": {
     "source_hidden": true
    }
   },
   "outputs": [],
   "source": [
    "from Fonctions.chapitre4 import *"
   ]
  },
  {
   "cell_type": "markdown",
   "metadata": {},
   "source": [
    "# Concept(s)-cl&eacute;(S)\n",
    "\n",
    "\n",
    "\n",
    "### D&Eacute;FINITION 1 :\n",
    "\n",
    "Soit $V$ un $\\mathbb{R}$-espace vectoriel de dimension finie. Le nombre d'&eacute;l&eacute;ments dans une base s'appelle la *dimension* de $V$ et on le d&eacute;signe par $\\mbox{dim} V.$\n",
    "\n",
    "### PROPOSITION 2 :\n",
    "\n",
    "Soit $V$ un $\\mathbb{R}$-espace vectoriel de dimension finie. Alors les deux affirmations suivantes sont v&eacute;rifi&eacute;es.\n",
    "\n",
    "\n",
    "\n",
    "1. Si $\\{v_1,\\ldots,v_r\\}$ est un ensemble g&eacute;n&eacute;rateur de $V,$ alors il existe une base $\\mathscr{B}$ de $V$ telle que $\\mathscr{B}\\subset \\{v_1,\\ldots,v_r\\}.$ On parle d'*extraction de base*.\n",
    "\n",
    "2. Si $\\{v_1,\\ldots,v_r\\}$ est une partie libre de $V,$ alors il existe une base $\\mathscr{B}$ de $V$ telle que $\\{v_1,\\ldots,v_r\\}\\subset \\mathscr{B}.$ On parle de *compl&eacute;tion en une base*."
   ]
  },
  {
   "cell_type": "markdown",
   "metadata": {},
   "source": [
    "### EXERCICE 1\n",
    "\n",
    "Extraire une base $\\mathscr{B}$ de $\\mathbb{R}^3$ à partir des vecteurs suivants :\n",
    "\n",
    "$$v_1 = \\begin{pmatrix} 1 \\\\ 1 \\\\ 1 \\end{pmatrix},\\ v_2 = \\begin{pmatrix} 2 \\\\ 0 \\\\ 3 \\end{pmatrix},\\ v_3 = \\begin{pmatrix} 4 \\\\ 0 \\\\ 0 \\end{pmatrix},\\ v_4 = \\begin{pmatrix} 1 \\\\ 0 \\\\ 0 \\end{pmatrix}$$"
   ]
  },
  {
   "cell_type": "code",
   "execution_count": null,
   "metadata": {
    "jupyter": {
     "source_hidden": true
    }
   },
   "outputs": [],
   "source": [
    "Ex1Chapitre4_4()"
   ]
  },
  {
   "cell_type": "markdown",
   "metadata": {},
   "source": [
    "### EXERCICE 2\n",
    "\n",
    "Ajouter un vecteur à la liste suivante afin de former une base $\\mathscr{B}$ de $M^{2 \\times 2}$ :\n",
    "\n",
    "$$\\begin{Bmatrix}\\begin{pmatrix} 1 & 4 \\\\ 3 & 0 \\end{pmatrix}, \\begin{pmatrix} 1 & 0 \\\\ 0 & 1 \\end{pmatrix}, \\begin{pmatrix} 0 & 1 \\\\ 1 & 0 \\end{pmatrix}\\end{Bmatrix}$$"
   ]
  },
  {
   "cell_type": "code",
   "execution_count": null,
   "metadata": {},
   "outputs": [],
   "source": [
    "# Complétez les valeurs puis exécutez la cellule\n",
    "v = [[0, 0], [0, 0]]\n",
    "\n",
    "Ex2Chapitre4_4(v)"
   ]
  }
 ],
 "metadata": {
  "kernelspec": {
   "display_name": "Python 3",
   "language": "python",
   "name": "python3"
  },
  "language_info": {
   "codemirror_mode": {
    "name": "ipython",
    "version": 3
   },
   "file_extension": ".py",
   "mimetype": "text/x-python",
   "name": "python",
   "nbconvert_exporter": "python",
   "pygments_lexer": "ipython3",
   "version": "3.7.4"
  }
 },
 "nbformat": 4,
 "nbformat_minor": 4
}
