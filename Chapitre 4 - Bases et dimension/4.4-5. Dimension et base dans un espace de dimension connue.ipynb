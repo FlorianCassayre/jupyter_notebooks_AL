{
 "cells": [
  {
   "cell_type": "code",
   "execution_count": null,
   "metadata": {},
   "outputs": [],
   "source": [
    "import numpy as np\n",
    "from IPython.display import display, Markdown, Latex\n",
    "import plotly.graph_objs as go\n",
    "import plotly\n",
    "import ipywidgets as widgets\n",
    "from ipywidgets import interact, interactive, fixed, interact_manual, Layout\n",
    "import matplotlib\n",
    "import plotly.express as px"
   ]
  },
  {
   "cell_type": "markdown",
   "metadata": {},
   "source": [
    "# Concept(s)-cl&eacute;(S)\n",
    "\n",
    "\n",
    "\n",
    "### D&Eacute;FINITION 1 :\n",
    "\n",
    "Soit $V$ un $\\mathbb{R}$-espace vectoriel de dimension finie. Le nombre d'&eacute;l&eacute;ments dans une base s'appelle la *dimension* de $V$ et on le d&eacute;signe par $\\mbox{dim} V.$\n",
    "\n",
    "### PROPOSITION 2 :\n",
    "\n",
    "Soit $V$ un $\\mathbb{R}$-espace vectoriel de dimension finie. Alors les deux affirmations suivantes sont v&eacute;rifi&eacute;es.\n",
    "\n",
    "\n",
    "\n",
    "1. Si $\\{v_1,\\ldots,v_r\\}$ est un ensemble g&eacute;n&eacute;rateur de $V,$ alors il existe une base $\\mathscr{B}$ de $V$ telle que $\\mathscr{B}\\subset \\{v_1,\\ldots,v_r\\}.$ On parle d'*extraction de base*.\n",
    "\n",
    "2. Si $\\{v_1,\\ldots,v_r\\}$ est une partie libre de $V,$ alors il existe une base $\\mathscr{B}$ de $V$ telle que $\\{v_1,\\ldots,v_r\\}\\subset \\mathscr{B}.$ On parle de *compl&eacute;tion en une base*."
   ]
  },
  {
   "cell_type": "markdown",
   "metadata": {},
   "source": [
    "### EXERCICE 1\n",
    "\n",
    "Extraire une base $\\mathscr{B}$ de $\\mathbb{R}^3$ à partir des vecteurs suivants :\n",
    "\n",
    "$$v_1 = \\begin{pmatrix} 1 \\\\ 1 \\\\ 1 \\end{pmatrix},\\ v_2 = \\begin{pmatrix} 2 \\\\ 0 \\\\ 3 \\end{pmatrix},\\ v_3 = \\begin{pmatrix} 4 \\\\ 0 \\\\ 0 \\end{pmatrix},\\ v_4 = \\begin{pmatrix} 1 \\\\ 0 \\\\ 0 \\end{pmatrix}$$"
   ]
  },
  {
   "cell_type": "code",
   "execution_count": null,
   "metadata": {
    "jupyter": {
     "source_hidden": true
    }
   },
   "outputs": [],
   "source": [
    "def exercice_1():\n",
    "    vs = np.array([[1, 1, 1], [2, 0, 3], [4, 0, 0], [1, 0, 0]])\n",
    "    \n",
    "    select = widgets.SelectMultiple(\n",
    "        options=['v1', 'v2', 'v3', 'v4'],\n",
    "        description='Sélection :',\n",
    "        disabled=False\n",
    "    )\n",
    "    button = widgets.Button(description='Vérifier')\n",
    "    out = widgets.Output()\n",
    "    \n",
    "    def callback(e):\n",
    "        answer = [int(v[1:])-1 for v in select.value]\n",
    "        out.clear_output()\n",
    "        with out:\n",
    "            if len(answer) == 0: # Empty\n",
    "                pass\n",
    "            elif len(answer) < 3:\n",
    "                display(Markdown(\"C'est incorrect!<br />La solution entrée ne permet pas d'engendrer $\\\\mathbb{R}^3$, et n'est donc pas une base.\"))\n",
    "            elif len(answer) > 3:\n",
    "                display(Markdown(\"C'est incorrect!<br />La solution entrée engendre $\\\\mathbb{R}^3$ mais n'est pas une base.\"))\n",
    "            else:\n",
    "                mat = np.array([vs[answer[0]], vs[answer[1]], vs[answer[2]]]).transpose()\n",
    "                if np.linalg.matrix_rank(mat) != len(mat):\n",
    "                    display(Markdown(\"C'est incorrect!<br />La solution entrée ne permet pas d'engendrer $\\\\mathbb{R}^3$, et n'est donc pas une base.\"))\n",
    "                else: # Correct\n",
    "                    display(Markdown(\"C'est correct!<br />Il s'agit d'_une_ base de $\\\\mathbb{R}^3$.\"))\n",
    "\n",
    "    button.on_click(callback)\n",
    "\n",
    "    display(select)\n",
    "    display(button)\n",
    "    display(out)\n",
    "\n",
    "exercice_1()"
   ]
  },
  {
   "cell_type": "markdown",
   "metadata": {},
   "source": [
    "### EXERCICE 2\n",
    "\n",
    "Ajouter un vecteur à la liste suivante afin de former une base $\\mathscr{B}$ de $M^{2 \\times 2}$ :\n",
    "\n",
    "$$\\begin{Bmatrix}\\begin{pmatrix} 1 & 4 \\\\ 3 & 0 \\end{pmatrix}, \\begin{pmatrix} 1 & 0 \\\\ 0 & 1 \\end{pmatrix}, \\begin{pmatrix} 0 & 1 \\\\ 1 & 0 \\end{pmatrix}\\end{Bmatrix}$$"
   ]
  },
  {
   "cell_type": "code",
   "execution_count": null,
   "metadata": {
    "jupyter": {
     "source_hidden": true
    }
   },
   "outputs": [],
   "source": [
    "def exercice_2(v):\n",
    "    v = np.array(v)\n",
    "    vs = np.array([[1, 4, 3, 0], [1, 0, 0, 1], [0, 1, 1, 0], v.flatten()])\n",
    "    is_base = np.linalg.matrix_rank(vs) == len(vs)\n",
    "    \n",
    "    out = widgets.Output()\n",
    "    display(out)\n",
    "    \n",
    "    with out:\n",
    "        if is_base:\n",
    "            display(Markdown(\"C'est correct!\"))\n",
    "        else:\n",
    "            display(Markdown(\"C'est incorrect, ce vecteur ne permet pas de former une base.\"))"
   ]
  },
  {
   "cell_type": "code",
   "execution_count": null,
   "metadata": {},
   "outputs": [],
   "source": [
    "# Complétez les valeurs puis exécutez la cellule\n",
    "v = [[0, 0], [0, 0]]\n",
    "\n",
    "exercice_2(v)"
   ]
  }
 ],
 "metadata": {
  "kernelspec": {
   "display_name": "Python 3",
   "language": "python",
   "name": "python3"
  },
  "language_info": {
   "codemirror_mode": {
    "name": "ipython",
    "version": 3
   },
   "file_extension": ".py",
   "mimetype": "text/x-python",
   "name": "python",
   "nbconvert_exporter": "python",
   "pygments_lexer": "ipython3",
   "version": "3.6.9"
  }
 },
 "nbformat": 4,
 "nbformat_minor": 4
}
