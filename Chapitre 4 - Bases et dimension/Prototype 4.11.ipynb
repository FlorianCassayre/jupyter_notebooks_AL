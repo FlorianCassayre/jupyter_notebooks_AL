{
 "cells": [
  {
   "cell_type": "code",
   "execution_count": 1,
   "metadata": {},
   "outputs": [],
   "source": [
    "import numpy as np\n",
    "from IPython.display import display, Markdown, Latex\n",
    "import plotly.graph_objs as go\n",
    "import plotly\n",
    "import ipywidgets as widgets\n",
    "from ipywidgets import interact, interactive, fixed, interact_manual, Layout\n",
    "import matplotlib\n",
    "import plotly.express as px\n",
    "import sympy as sp"
   ]
  },
  {
   "cell_type": "markdown",
   "metadata": {},
   "source": [
    "# Concept(s)-cl&eacute;(s)\n",
    "\n",
    "### D&eacute;finition 1 :\n",
    "Soient $V$ un $\\mathbb{R}$-espace vectoriel de dimension finie $n$, $\\mathscr{B} =\\{v_1,\\ldots,v_n\\}$ une base ordon&eacute; de $V$ et $v \\in V$. Comme $\\mathscr{B}$ est une base de $V$, il existe des uniques scalaires $\\alpha_1,\\ldots,\\alpha_n \\in \\mathbb{R}$ tels que $v = \\alpha_1v_1 + \\ldots + \\alpha_nv_n$. On appelle  $\\alpha_1,\\ldots,\\alpha_n$ les coordonn&eacute;es de $v$ par rapport à la base $\\mathscr{B}$ et on écrit\n",
    "\n",
    "\n",
    "$$[v]_{\\mathscr{B}} = \\begin{pmatrix} \\alpha_1 \\\\ \\alpha_2 \\\\ \\vdots \\\\ \\alpha_n \\end{pmatrix}.$$\n",
    "\n",
    "### Proposition 2 :\n",
    "Soient $V$ un $\\mathbb{R}$-espace vectoriel de dimension finie $n$ et $\\mathscr{B} = (v_1,\\ldots,v_n)$ une base ordonnée de $V$. Alors les deux affirmations suivantes sont v&eacute;rifi&eacute;es.\n",
    "\n",
    "1. Pour tous $v_1,v_2 \\in V$, on a $[v_1 + v_2 ]_{\\mathscr{B}} = [v_1]_{\\mathscr{B}}+[v_2]_{\\mathscr{B}}.$\n",
    "\n",
    "2. Pour tout $v \\in V$ et tout $\\lambda \\in \\mathbb{R}$, on a $[\\lambda v]_{\\mathscr{B}} = \\lambda[v]_{\\mathscr{B}}$"
   ]
  },
  {
   "cell_type": "markdown",
   "metadata": {},
   "source": [
    "### Exercice 1:\n",
    "\n",
    "Soit $\\mathbb{R}^2$ l'espace du plan. La base la plus évidnte de cet espace vectoriel est la base orthonormée $\\mathscr{B} = ((1,0),(0,1))$. Cette base est représentée dans le graphique suivant."
   ]
  },
  {
   "cell_type": "code",
   "execution_count": 2,
   "metadata": {},
   "outputs": [],
   "source": [
    "#ici un graph pas distordu (graph 1)"
   ]
  },
  {
   "cell_type": "markdown",
   "metadata": {},
   "source": [
    "Quelle base de $\\mathbb{R}^2$ est représentée ci-dessous?"
   ]
  },
  {
   "cell_type": "code",
   "execution_count": 3,
   "metadata": {},
   "outputs": [],
   "source": [
    "def exercice_1(base):\n",
    "    base_solution = [[1,2],[3,2]]\n",
    "    is_correct = all(item in base_solution for item in base)\n",
    "    if is_correct:\n",
    "        is_correct = all(item in base for item in base_solution)\n",
    "    \n",
    "    correct_text = \"C'est correct!\"\n",
    "    incorrect_text = \"C'est incorrect.\"\n",
    "    \n",
    "    display(correct_text if is_correct else incorrect_text)"
   ]
  },
  {
   "cell_type": "code",
   "execution_count": 4,
   "metadata": {},
   "outputs": [],
   "source": [
    "#ici un graph avec grille distordue (graph 2)"
   ]
  },
  {
   "cell_type": "code",
   "execution_count": 5,
   "metadata": {},
   "outputs": [
    {
     "data": {
      "text/plain": [
       "\"C'est incorrect.\""
      ]
     },
     "metadata": {},
     "output_type": "display_data"
    }
   ],
   "source": [
    "# Entrez les vecteurs qui forment la base réprésentée ci-dessus\n",
    "# Par exemple : [[1, 2], [3, 4]]\n",
    "base = [[-2,1],[4,1]]\n",
    "\n",
    "exercice_1(base)"
   ]
  },
  {
   "cell_type": "code",
   "execution_count": 6,
   "metadata": {
    "jupyter": {
     "source_hidden": true
    }
   },
   "outputs": [],
   "source": [
    "def exercice_2aB1(vB1):\n",
    "    v = [5,6]\n",
    "     \n",
    "    if vB1==v:\n",
    "        is_correct = 1\n",
    "    else:\n",
    "        is_correct = 0\n",
    "    \n",
    "    correct_text = \"C'est correct!\"\n",
    "    incorrect_text = \"C'est incorrect.\"\n",
    "    \n",
    "    display(correct_text if is_correct else incorrect_text)\n",
    "\n",
    "def exercice_2aB2(vB2):\n",
    "    v = [2,1]\n",
    "     \n",
    "    if vB2==v:\n",
    "        is_correct = 1\n",
    "    else:\n",
    "        is_correct = 0\n",
    "    \n",
    "    correct_text = \"C'est correct!\"\n",
    "    incorrect_text = \"C'est incorrect.\"\n",
    "    \n",
    "    display(correct_text if is_correct else incorrect_text)\n",
    "\n",
    "def exercice_2bB1(uB1):\n",
    "    u = [8,4]\n",
    "     \n",
    "    if uB1==u:\n",
    "        is_correct = 1\n",
    "    else:\n",
    "        is_correct = 0\n",
    "    \n",
    "    correct_text = \"C'est correct!\"\n",
    "    incorrect_text = \"C'est incorrect.\"\n",
    "    \n",
    "    display(correct_text if is_correct else incorrect_text)\n",
    "\n",
    "def exercice_2bB2(uB2):\n",
    "    u = [-1,3]\n",
    "     \n",
    "    if uB2==u:\n",
    "        is_correct = 1\n",
    "    else:\n",
    "        is_correct = 0\n",
    "    \n",
    "    correct_text = \"C'est correct!\"\n",
    "    incorrect_text = \"C'est incorrect.\"\n",
    "    \n",
    "    display(correct_text if is_correct else incorrect_text)\n",
    "    \n",
    "def exercice_2cB1(wB1):\n",
    "    w = [5,4]\n",
    "     \n",
    "    if wB1==w:\n",
    "        is_correct = 1\n",
    "    else:\n",
    "        is_correct = 0\n",
    "    \n",
    "    correct_text = \"C'est correct!\"\n",
    "    incorrect_text = \"C'est incorrect.\"\n",
    "    \n",
    "    display(correct_text if is_correct else incorrect_text)\n",
    "    \n",
    "def exercice_2cB2(wB2):\n",
    "    w = [0.5,1.5]\n",
    "     \n",
    "    if wB2==w:\n",
    "        is_correct = 1\n",
    "    else:\n",
    "        is_correct = 0\n",
    "    \n",
    "    correct_text = \"C'est correct!\"\n",
    "    incorrect_text = \"C'est incorrect.\"\n",
    "    \n",
    "    display(correct_text if is_correct else incorrect_text)"
   ]
  },
  {
   "cell_type": "markdown",
   "metadata": {},
   "source": [
    "### Exercice 2\n",
    "\n",
    "a) Soit le vecteur $\\textbf{v}$ représenté dans le graph suivant, $\\mathscr{B}_1$ la base orthonormée de $\\mathbb{R}^2$ et $\\mathscr{B}_2 = ((1,2),(3,2))$. Quelles sont les coordonnées de de $\\textbf{v}$ dans $\\mathscr{B}_1$? "
   ]
  },
  {
   "cell_type": "code",
   "execution_count": null,
   "metadata": {},
   "outputs": [],
   "source": [
    "#ici graph avec v desssus (graph 3)"
   ]
  },
  {
   "cell_type": "code",
   "execution_count": 7,
   "metadata": {},
   "outputs": [
    {
     "data": {
      "text/plain": [
       "\"C'est correct!\""
      ]
     },
     "metadata": {},
     "output_type": "display_data"
    }
   ],
   "source": [
    "# Entrez les coordonnées du vecteur v dans la base B1\n",
    "# Par exemple : [1,2]\n",
    "vB1 = [5,6]\n",
    "\n",
    "exercice_2aB1(vB1)"
   ]
  },
  {
   "cell_type": "markdown",
   "metadata": {},
   "source": [
    "Et dans $\\mathscr{B}_2$?"
   ]
  },
  {
   "cell_type": "code",
   "execution_count": 8,
   "metadata": {},
   "outputs": [
    {
     "data": {
      "text/plain": [
       "\"C'est correct!\""
      ]
     },
     "metadata": {},
     "output_type": "display_data"
    }
   ],
   "source": [
    "# Entrez les coordonnées du vecteur v dans la base B2\n",
    "# Par exemple : [1,2]\n",
    "vB2 = [2,1]\n",
    "\n",
    "exercice_2aB2(vB2)"
   ]
  },
  {
   "cell_type": "markdown",
   "metadata": {},
   "source": [
    "b) Avec les mêmes bases, quelles sont les coordonnées du vecteur $\\textbf{u}$ dans $\\mathscr{B}_1$?"
   ]
  },
  {
   "cell_type": "code",
   "execution_count": null,
   "metadata": {},
   "outputs": [],
   "source": [
    "#ici graph avec u desssus (graph 4)"
   ]
  },
  {
   "cell_type": "code",
   "execution_count": 9,
   "metadata": {},
   "outputs": [
    {
     "data": {
      "text/plain": [
       "\"C'est correct!\""
      ]
     },
     "metadata": {},
     "output_type": "display_data"
    }
   ],
   "source": [
    "# Entrez les coordonnées du vecteur u dans la base B1\n",
    "# Par exemple : [1,2]\n",
    "uB1 = [8,4]\n",
    "\n",
    "exercice_2bB1(uB1)"
   ]
  },
  {
   "cell_type": "markdown",
   "metadata": {},
   "source": [
    "Et dans $\\mathscr{B}_2$?"
   ]
  },
  {
   "cell_type": "code",
   "execution_count": 10,
   "metadata": {},
   "outputs": [
    {
     "data": {
      "text/plain": [
       "\"C'est correct!\""
      ]
     },
     "metadata": {},
     "output_type": "display_data"
    }
   ],
   "source": [
    "# Entrez les coordonnées du vecteur u dans la base B2\n",
    "# Par exemple : [1,2]\n",
    "uB2 = [-1,3]\n",
    "\n",
    "exercice_2bB2(uB2)"
   ]
  },
  {
   "cell_type": "markdown",
   "metadata": {},
   "source": [
    "c) Toujours avec les mêmes bases, quelles sont les coordonnées du vecteur $\\textbf{w}$ dans $\\mathscr{B}_1$?"
   ]
  },
  {
   "cell_type": "code",
   "execution_count": null,
   "metadata": {},
   "outputs": [],
   "source": [
    "#ici graph avec w desssus (graph 5)"
   ]
  },
  {
   "cell_type": "code",
   "execution_count": 11,
   "metadata": {},
   "outputs": [
    {
     "data": {
      "text/plain": [
       "\"C'est correct!\""
      ]
     },
     "metadata": {},
     "output_type": "display_data"
    }
   ],
   "source": [
    "# Entrez les coordonnées du vecteur w dans la base B1\n",
    "# Par exemple : [1,2]\n",
    "wB1 = [5,4]\n",
    "\n",
    "exercice_2cB1(wB1)"
   ]
  },
  {
   "cell_type": "markdown",
   "metadata": {},
   "source": [
    "Et dans $\\mathscr{B}_2$?"
   ]
  },
  {
   "cell_type": "code",
   "execution_count": 12,
   "metadata": {},
   "outputs": [
    {
     "data": {
      "text/plain": [
       "\"C'est correct!\""
      ]
     },
     "metadata": {},
     "output_type": "display_data"
    }
   ],
   "source": [
    "# Entrez les coordonnées du vecteur w dans la base B2\n",
    "# Par exemple : [1,2]\n",
    "wB2 = [.5,1.5]\n",
    "\n",
    "exercice_2cB2(wB2)"
   ]
  },
  {
   "cell_type": "code",
   "execution_count": 14,
   "metadata": {
    "jupyter": {
     "source_hidden": true
    }
   },
   "outputs": [],
   "source": [
    "def exercice_3_B1(sB1):\n",
    "    s = [13,10]\n",
    "     \n",
    "    if sB1==s:\n",
    "        is_correct = 1\n",
    "    else:\n",
    "        is_correct = 0\n",
    "    \n",
    "    correct_text = \"C'est correct!\"\n",
    "    incorrect_text = \"C'est incorrect.\"\n",
    "    \n",
    "    display(correct_text if is_correct else incorrect_text)\n",
    "\n",
    "def exercice_3_B2(sB2):\n",
    "    s = [1,4]\n",
    "     \n",
    "    if sB2==s:\n",
    "        is_correct = 1\n",
    "    else:\n",
    "        is_correct = 0\n",
    "    \n",
    "    correct_text = \"C'est correct!\"\n",
    "    incorrect_text = \"C'est incorrect.\"\n",
    "    \n",
    "    display(correct_text if is_correct else incorrect_text)"
   ]
  },
  {
   "cell_type": "markdown",
   "metadata": {},
   "source": [
    "### Exercice 3\n",
    "\n",
    "Considérons maintenant le vecteur $\\textbf{s}$ tel que $\\textbf{s} = \\textbf{v}+\\textbf{u}$. A l'aide de la proposition 2 et de l'exerciceprécédent, déduire les coordonnées de $\\textbf{s}$ dans $\\mathscr{B}_1$."
   ]
  },
  {
   "cell_type": "code",
   "execution_count": 17,
   "metadata": {},
   "outputs": [
    {
     "data": {
      "text/plain": [
       "\"C'est correct!\""
      ]
     },
     "metadata": {},
     "output_type": "display_data"
    }
   ],
   "source": [
    "# Entrez les coordonnées du vecteur s dans la base B1\n",
    "# Par exemple : [1,2]\n",
    "sB1 = [13,10]\n",
    "\n",
    "exercice_3_B1(sB1)"
   ]
  },
  {
   "cell_type": "markdown",
   "metadata": {},
   "source": [
    "Et dans $\\mathscr{B}_2$?"
   ]
  },
  {
   "cell_type": "code",
   "execution_count": 18,
   "metadata": {},
   "outputs": [
    {
     "data": {
      "text/plain": [
       "\"C'est correct!\""
      ]
     },
     "metadata": {},
     "output_type": "display_data"
    }
   ],
   "source": [
    "# Entrez les coordonnées du vecteur s dans la base B2\n",
    "# Par exemple : [1,2]\n",
    "sB2 = [1,4]\n",
    "\n",
    "exercice_3_B2(sB2)"
   ]
  }
 ],
 "metadata": {
  "kernelspec": {
   "display_name": "Python 3",
   "language": "python",
   "name": "python3"
  },
  "language_info": {
   "codemirror_mode": {
    "name": "ipython",
    "version": 3
   },
   "file_extension": ".py",
   "mimetype": "text/x-python",
   "name": "python",
   "nbconvert_exporter": "python",
   "pygments_lexer": "ipython3",
   "version": "3.6.9"
  }
 },
 "nbformat": 4,
 "nbformat_minor": 4
}
