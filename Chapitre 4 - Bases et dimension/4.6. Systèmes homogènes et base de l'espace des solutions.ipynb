{
 "cells": [
  {
   "cell_type": "code",
   "execution_count": null,
   "metadata": {},
   "outputs": [],
   "source": [
    "import numpy as np\n",
    "from IPython.display import display, Markdown, Latex\n",
    "import plotly.graph_objs as go\n",
    "import plotly\n",
    "import ipywidgets as widgets\n",
    "from ipywidgets import interact, interactive, fixed, interact_manual, Layout\n",
    "import matplotlib\n",
    "import plotly.express as px\n",
    "import sympy as sp"
   ]
  },
  {
   "cell_type": "markdown",
   "metadata": {},
   "source": [
    "# Concept(s)-cl&eacute;(S)\n",
    "\n",
    "\n",
    "\n",
    "### RAPPEL 1 :\n",
    "\n",
    "Soient $A\\in M_{m\times n}(\\mathbb{R})$ et $X = \\begin{pmatrix} x_1 \\; x_2 \\;\\cdots \\; x_n\\end{pmatrix}^T,$ o&ugrave; $x_1,\\ldots,x_n$ sont des inconnues. Alors l'ensemble des solutions du syst&egrave;me lin&eacute;aire $AX=0$ est un sous-espace vectoriel de $\\mathbb{R}^n.$\n",
    "\n",
    "### PROPOSITION 1 :\n",
    "\n",
    "Soient&nbsp; $A$ et $X$ comme ci-dessus. Alors la dimension de l'espace des solutions du syst&egrave;me $AX=0$ est &eacute;gale au nombre de variable(s) libre(s) dans une forme &eacute;chelonn&eacute;e de $A.$\n",
    "\n",
    "\n",
    "\n",
    "### PROPOSITION 2 :\n",
    "\n",
    "Soient&nbsp; $A$ et $X$ comme ci-dessus. Pour trouver une base de l'espace des solutions du syst&egrave;me $AX=b,$ on pose successivement une des variables libre &eacute;gale &agrave; $1$ et toutes les autres &eacute;gales &agrave; $0.$"
   ]
  },
  {
   "cell_type": "markdown",
   "metadata": {},
   "source": [
    "### EXERCICE 1\n",
    "\n",
    "_Dimension maximale de l'espace des solutions_\n",
    "\n",
    "Soit une matrice $A$ à $4$ lignes et $6$ colonnes non nulles. Quelle est la dimension maximale de l'espace des solutions du système $AX = 0$ ?"
   ]
  },
  {
   "cell_type": "code",
   "execution_count": null,
   "metadata": {
    "jupyter": {
     "source_hidden": true
    }
   },
   "outputs": [],
   "source": [
    "def exercice_1():\n",
    "    text = widgets.IntText(\n",
    "        description='Réponse :',\n",
    "        disabled=False\n",
    "    )\n",
    "    button = widgets.Button(description='Vérifier')\n",
    "    out = widgets.Output()\n",
    "    \n",
    "    def callback(e):\n",
    "        out.clear_output()\n",
    "        r = text.value\n",
    "        feedback = \"\"\n",
    "        is_correct = False\n",
    "        if r == 6:\n",
    "            feeback = \"Comme la matrice n'est pas nulle, au moins une variable n'est pas libre.\"\n",
    "        elif r >= 7:\n",
    "            feedback = \"La dimension de l'espace des solutions ne peut excéder la dimension de l'espace des variables.\"\n",
    "        elif r == 5:\n",
    "            is_correct = True\n",
    "            feedback = \"Le nombre maximal de variables libres dans ce système est $5$. Par la proposition 1 on en déduit la dimension maximale de l'espace des solutions du système homogène $AX = 0$.\"\n",
    "        elif r >= 2 and r <= 4:\n",
    "            feedback = \"Ce n'est pas le nombre maximal de variables libres dans ce système.\"\n",
    "        elif r <= 1:\n",
    "            feedback = \"Le nombre maximal de variables libres dans ce système ne peut être inférieur à $2$ ($\\\\text{nb. colonnes} - \\\\text{nb. lignes}$).\"\n",
    "            \n",
    "        correct_text = \"C'est correct!<br />\"\n",
    "        incorrect_text = \"C'est incorrect.<br />\"\n",
    "        \n",
    "        with out:\n",
    "            display(Markdown((correct_text if is_correct else incorrect_text) + feedback))\n",
    "        \n",
    "    button.on_click(callback)\n",
    "    \n",
    "    display(text)\n",
    "    display(button)\n",
    "    display(out)\n",
    "exercice_1()"
   ]
  },
  {
   "cell_type": "markdown",
   "metadata": {},
   "source": [
    "### EXERCICE 2\n",
    "\n",
    "Soit la matrice $A$ avec les coefficients suivants :\n",
    "\n",
    "$$A = \\begin{pmatrix} 1 & 3 & 5 & 1 & 1 \\\\ -3 & -8 & -13 & 1 & 0 \\\\ 0 & -1 & -1 & -1 & -1 \\\\ 2 & 6 & 12 & 8 & 6 \\end{pmatrix}$$\n",
    "\n",
    "A l'aide de sa forme échelonnée (donnée ci-dessous), indiquer la dimension de l'espace des solutions du système homogène $AX = 0$.\n",
    "\n",
    "$$A' = \\begin{pmatrix} 1 & 3 & 5 & 1 & 1 \\\\ 0 & 1 & 2 & 4 & 3 \\\\ 0 & 0 & 1 & 3 & 2 \\\\ 0 & 0 & 0 & 0 & 0 \\end{pmatrix}$$"
   ]
  },
  {
   "cell_type": "code",
   "execution_count": null,
   "metadata": {
    "jupyter": {
     "source_hidden": true
    }
   },
   "outputs": [],
   "source": [
    "def exercice_2():\n",
    "    text = widgets.IntText(\n",
    "        description='Réponse :',\n",
    "        disabled=False\n",
    "    )\n",
    "    button = widgets.Button(description='Vérifier')\n",
    "    out = widgets.Output()\n",
    "    \n",
    "    def callback(e):\n",
    "        out.clear_output()\n",
    "        r = text.value\n",
    "        \n",
    "        with out:\n",
    "            if r == 2:\n",
    "                display(Markdown(\"C'est correct!<br />Le nombre de variables libres est $3$, par la proposition 1 on trouve la dimension de l'espace des solutions.\"))\n",
    "            else:\n",
    "                display(Markdown(\"C'est incorrect.\"))\n",
    "        \n",
    "    button.on_click(callback)\n",
    "    \n",
    "    display(text)\n",
    "    display(button)\n",
    "    display(out)\n",
    "exercice_2()"
   ]
  },
  {
   "cell_type": "markdown",
   "metadata": {},
   "source": [
    "### EXERCICE 3\n",
    "\n",
    "_Base de l'espace des solutions_\n",
    "\n",
    "A l'aide de la forme échelonnée et de la réponse obtenues dans l'exercice 2 et de la proposition 2, donner une base de l'espace des solutions du système homogène $AX = 0$."
   ]
  },
  {
   "cell_type": "code",
   "execution_count": null,
   "metadata": {
    "jupyter": {
     "source_hidden": true
    }
   },
   "outputs": [],
   "source": [
    "def exercice_3(base):\n",
    "    base = np.array(base)\n",
    "    \n",
    "    out = widgets.Output()\n",
    "    display(out)\n",
    "\n",
    "    with out:\n",
    "        out.clear_output()\n",
    "\n",
    "        feedback = \"\"\n",
    "        is_correct = False\n",
    "        \n",
    "        s = base.shape\n",
    "\n",
    "        if len(base) == 0:\n",
    "            feedback = \"L'ensemble ne peut pas être vide.\"\n",
    "        elif len(s) != 2 or s[1] != 5:\n",
    "            feedback = \"Le format des vecteurs n'est pas bon.\"\n",
    "        elif s[0] < 2:\n",
    "            feedback = \"L'ensemble entré ne contient pas assez de vecteurs pour engendrer toutes les solutions du système.\"\n",
    "        elif s[0] > 2:\n",
    "            feedback = \"L'ensemble entré n'est pas une base.\"\n",
    "        else:\n",
    "            expected = np.array(sp.Matrix([[6, 1, -2, 0, 1], [8, 2, -3, 1, 0]]).rref()[0])\n",
    "            actual = np.array(sp.Matrix(base).rref()[0])\n",
    "            \n",
    "            if not np.array_equal(actual, expected):\n",
    "                feedback = \"L'ensemble entré n'engendre pas l'espace solution du système.\"\n",
    "            else:\n",
    "                is_correct = True\n",
    "            \n",
    "        correct_text = \"C'est correct!<br />\"\n",
    "        incorrect_text = \"C'est incorrect.<br />\"\n",
    "            \n",
    "        display(Markdown((correct_text if is_correct else incorrect_text) + feedback))"
   ]
  },
  {
   "cell_type": "code",
   "execution_count": null,
   "metadata": {},
   "outputs": [],
   "source": [
    "# Entrez les vecteurs qui formeront une base de la solution\n",
    "# Par exemple : [[1, 2], [3, 4]]\n",
    "base = []\n",
    "\n",
    "exercice_3(base)"
   ]
  }
 ],
 "metadata": {
  "kernelspec": {
   "display_name": "Python 3",
   "language": "python",
   "name": "python3"
  },
  "language_info": {
   "codemirror_mode": {
    "name": "ipython",
    "version": 3
   },
   "file_extension": ".py",
   "mimetype": "text/x-python",
   "name": "python",
   "nbconvert_exporter": "python",
   "pygments_lexer": "ipython3",
   "version": "3.6.9"
  }
 },
 "nbformat": 4,
 "nbformat_minor": 4
}
