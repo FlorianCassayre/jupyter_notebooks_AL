{
 "cells": [
  {
   "cell_type": "code",
   "execution_count": null,
   "metadata": {},
   "outputs": [],
   "source": [
    "from Ch4Functions import *"
   ]
  },
  {
   "cell_type": "markdown",
   "metadata": {},
   "source": [
    "# Concepts-cl&eacute;s et théorie\n",
    "\n",
    "\n",
    "\n",
    "### RAPPEL 1 :\n",
    "\n",
    "Soient $A\\in M_{m\times n}(\\mathbb{R})$ et $X = \\begin{pmatrix} x_1 \\; x_2 \\;\\cdots \\; x_n\\end{pmatrix}^T,$ o&ugrave; $x_1,\\ldots,x_n$ sont des inconnues réelles. Alors l'ensemble des solutions du syst&egrave;me lin&eacute;aire $AX=0$ est un sous-espace vectoriel de $\\mathbb{R}^n.$\n",
    "\n",
    "### PROPOSITION 1 :\n",
    "\n",
    "Soient&nbsp; $A$ et $X$ comme ci-dessus. Alors la dimension de l'espace des solutions du syst&egrave;me $AX=0$ est &eacute;gale au nombre de variable(s) libre(s) dans une forme &eacute;chelonn&eacute;e de $A.$\n",
    "\n",
    "\n",
    "\n",
    "### PROPOSITION 2 :\n",
    "\n",
    "Soient&nbsp; $A$ et $X$ comme ci-dessus. Pour trouver une base de l'espace des solutions du syst&egrave;me $AX=b,$ on pose successivement une des variables libre &eacute;gale &agrave; $1$ et toutes les autres &eacute;gales &agrave; $0.$"
   ]
  },
  {
   "cell_type": "markdown",
   "metadata": {},
   "source": [
    "### EXERCICE 1\n",
    "\n",
    "_Dimension maximale de l'espace des solutions_\n",
    "\n",
    "Soit une matrice $A$ à $4$ lignes et $6$ colonnes non nulles. Quelle est la dimension maximale de l'espace des solutions du système $AX = 0$ ?"
   ]
  },
  {
   "cell_type": "code",
   "execution_count": null,
   "metadata": {},
   "outputs": [],
   "source": [
    "ch4_6ex1()"
   ]
  },
  {
   "cell_type": "markdown",
   "metadata": {},
   "source": [
    "### EXERCICE 2\n",
    "\n",
    "Soit la matrice $A$ avec les coefficients suivants :\n",
    "\n",
    "$$A = \\begin{pmatrix} 1 & 3 & 5 & 1 & 1 \\\\ -3 & -8 & -13 & 1 & 0 \\\\ 0 & -1 & -1 & -1 & -1 \\\\ 2 & 6 & 12 & 8 & 6 \\end{pmatrix}$$\n",
    "\n",
    "A l'aide de sa forme échelonnée (donnée ci-dessous), indiquer la dimension de l'espace des solutions du système homogène $AX = 0$.\n",
    "\n",
    "$$A' = \\begin{pmatrix} 1 & 3 & 5 & 1 & 1 \\\\ 0 & 1 & 2 & 4 & 3 \\\\ 0 & 0 & 1 & 3 & 2 \\\\ 0 & 0 & 0 & 0 & 0 \\end{pmatrix}$$"
   ]
  },
  {
   "cell_type": "code",
   "execution_count": null,
   "metadata": {},
   "outputs": [],
   "source": [
    "ch4_6ex2()"
   ]
  },
  {
   "cell_type": "markdown",
   "metadata": {},
   "source": [
    "### EXERCICE 3\n",
    "\n",
    "_Base de l'espace des solutions_\n",
    "\n",
    "A l'aide de la forme échelonnée et de la réponse obtenues dans l'exercice 2 et de la proposition 2, donner une base de l'espace des solutions du système homogène $AX = 0$."
   ]
  },
  {
   "cell_type": "code",
   "execution_count": null,
   "metadata": {},
   "outputs": [],
   "source": [
    "# Entrez les vecteurs qui formeront une base de la solution\n",
    "# Par exemple : [[1, 2], [3, 4]]\n",
    "base = []\n",
    "\n",
    "ch4_6ex3(base)"
   ]
  },
  {
   "cell_type": "code",
   "execution_count": null,
   "metadata": {},
   "outputs": [],
   "source": []
  }
 ],
 "metadata": {
  "kernelspec": {
   "display_name": "Python 3",
   "language": "python",
   "name": "python3"
  },
  "language_info": {
   "codemirror_mode": {
    "name": "ipython",
    "version": 3
   },
   "file_extension": ".py",
   "mimetype": "text/x-python",
   "name": "python",
   "nbconvert_exporter": "python",
   "pygments_lexer": "ipython3",
   "version": "3.6.8"
  }
 },
 "nbformat": 4,
 "nbformat_minor": 4
}
